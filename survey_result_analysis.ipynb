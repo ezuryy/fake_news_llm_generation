{
 "cells": [
  {
   "cell_type": "markdown",
   "metadata": {},
   "source": [
    "# Analysis of survey results"
   ]
  },
  {
   "cell_type": "code",
   "execution_count": 5,
   "metadata": {},
   "outputs": [
    {
     "name": "stdout",
     "output_type": "stream",
     "text": [
      "(514, 8)\n"
     ]
    },
    {
     "data": {
      "text/html": [
       "<div>\n",
       "<style scoped>\n",
       "    .dataframe tbody tr th:only-of-type {\n",
       "        vertical-align: middle;\n",
       "    }\n",
       "\n",
       "    .dataframe tbody tr th {\n",
       "        vertical-align: top;\n",
       "    }\n",
       "\n",
       "    .dataframe thead th {\n",
       "        text-align: right;\n",
       "    }\n",
       "</style>\n",
       "<table border=\"1\" class=\"dataframe\">\n",
       "  <thead>\n",
       "    <tr style=\"text-align: right;\">\n",
       "      <th></th>\n",
       "      <th>user_id</th>\n",
       "      <th>question_num</th>\n",
       "      <th>cleaned_index</th>\n",
       "      <th>gen_index</th>\n",
       "      <th>gen_column</th>\n",
       "      <th>user_choice</th>\n",
       "      <th>is_correct</th>\n",
       "      <th>timestamp</th>\n",
       "    </tr>\n",
       "  </thead>\n",
       "  <tbody>\n",
       "    <tr>\n",
       "      <th>0</th>\n",
       "      <td>524858799</td>\n",
       "      <td>1</td>\n",
       "      <td>135</td>\n",
       "      <td>23</td>\n",
       "      <td>gen_yagpt_8b</td>\n",
       "      <td>2</td>\n",
       "      <td>1</td>\n",
       "      <td>2025-04-27 13:23:09</td>\n",
       "    </tr>\n",
       "    <tr>\n",
       "      <th>1</th>\n",
       "      <td>524858799</td>\n",
       "      <td>2</td>\n",
       "      <td>71</td>\n",
       "      <td>197</td>\n",
       "      <td>gen_rugpt_13b</td>\n",
       "      <td>1</td>\n",
       "      <td>0</td>\n",
       "      <td>2025-04-27 13:23:22</td>\n",
       "    </tr>\n",
       "    <tr>\n",
       "      <th>2</th>\n",
       "      <td>524858799</td>\n",
       "      <td>3</td>\n",
       "      <td>5</td>\n",
       "      <td>112</td>\n",
       "      <td>gen_tliteit_7b</td>\n",
       "      <td>2</td>\n",
       "      <td>1</td>\n",
       "      <td>2025-04-27 13:23:25</td>\n",
       "    </tr>\n",
       "    <tr>\n",
       "      <th>3</th>\n",
       "      <td>524858799</td>\n",
       "      <td>4</td>\n",
       "      <td>166</td>\n",
       "      <td>42</td>\n",
       "      <td>gen_llama3_8b_lora</td>\n",
       "      <td>2</td>\n",
       "      <td>0</td>\n",
       "      <td>2025-04-27 13:23:29</td>\n",
       "    </tr>\n",
       "    <tr>\n",
       "      <th>4</th>\n",
       "      <td>524858799</td>\n",
       "      <td>5</td>\n",
       "      <td>45</td>\n",
       "      <td>76</td>\n",
       "      <td>gen_mistral_7b_lora</td>\n",
       "      <td>1</td>\n",
       "      <td>0</td>\n",
       "      <td>2025-04-27 13:23:31</td>\n",
       "    </tr>\n",
       "  </tbody>\n",
       "</table>\n",
       "</div>"
      ],
      "text/plain": [
       "     user_id  question_num  cleaned_index  gen_index           gen_column  \\\n",
       "0  524858799             1            135         23         gen_yagpt_8b   \n",
       "1  524858799             2             71        197        gen_rugpt_13b   \n",
       "2  524858799             3              5        112       gen_tliteit_7b   \n",
       "3  524858799             4            166         42   gen_llama3_8b_lora   \n",
       "4  524858799             5             45         76  gen_mistral_7b_lora   \n",
       "\n",
       "   user_choice  is_correct            timestamp  \n",
       "0            2           1  2025-04-27 13:23:09  \n",
       "1            1           0  2025-04-27 13:23:22  \n",
       "2            2           1  2025-04-27 13:23:25  \n",
       "3            2           0  2025-04-27 13:23:29  \n",
       "4            1           0  2025-04-27 13:23:31  "
      ]
     },
     "execution_count": 5,
     "metadata": {},
     "output_type": "execute_result"
    }
   ],
   "source": [
    "import sqlite3\n",
    "import pandas as pd\n",
    "\n",
    "conn = sqlite3.connect('survey.db', check_same_thread=False)\n",
    "\n",
    "df_new = pd.read_sql_query(\"SELECT * FROM responses\", conn)\n",
    "print(df_new.shape)\n",
    "df_new.head()"
   ]
  },
  {
   "cell_type": "markdown",
   "metadata": {},
   "source": [
    "fraction of correct answers"
   ]
  },
  {
   "cell_type": "code",
   "execution_count": 7,
   "metadata": {},
   "outputs": [
    {
     "data": {
      "text/plain": [
       "0.603112840466926"
      ]
     },
     "execution_count": 7,
     "metadata": {},
     "output_type": "execute_result"
    }
   ],
   "source": [
    "df_new[\"is_correct\"].sum() / df_new.shape[0]"
   ]
  },
  {
   "cell_type": "markdown",
   "metadata": {},
   "source": [
    "count of people"
   ]
  },
  {
   "cell_type": "code",
   "execution_count": 15,
   "metadata": {},
   "outputs": [
    {
     "data": {
      "text/plain": [
       "73.42857142857143"
      ]
     },
     "execution_count": 15,
     "metadata": {},
     "output_type": "execute_result"
    }
   ],
   "source": [
    "questions_count = 7\n",
    "df_new.shape[0] / questions_count"
   ]
  },
  {
   "cell_type": "code",
   "execution_count": 9,
   "metadata": {},
   "outputs": [],
   "source": [
    "import numpy as np\n",
    "\n",
    "sub_df = df_new.groupby('gen_column').agg({\n",
    "                         'is_correct': [np.sum, 'count'],\n",
    "                         })\n",
    "sub_df[('is_correct',   'frac_found')] = sub_df[('is_correct',   'sum')] / sub_df[('is_correct',   'count')]\n",
    "sub_df.columns = [col[0] + \"_\" + col[1] for col in sub_df.columns.values]\n",
    "sub_df = sub_df.reset_index()"
   ]
  },
  {
   "cell_type": "code",
   "execution_count": 10,
   "metadata": {},
   "outputs": [
    {
     "data": {
      "text/html": [
       "<div>\n",
       "<style scoped>\n",
       "    .dataframe tbody tr th:only-of-type {\n",
       "        vertical-align: middle;\n",
       "    }\n",
       "\n",
       "    .dataframe tbody tr th {\n",
       "        vertical-align: top;\n",
       "    }\n",
       "\n",
       "    .dataframe thead th {\n",
       "        text-align: right;\n",
       "    }\n",
       "</style>\n",
       "<table border=\"1\" class=\"dataframe\">\n",
       "  <thead>\n",
       "    <tr style=\"text-align: right;\">\n",
       "      <th></th>\n",
       "      <th>gen_column</th>\n",
       "      <th>is_correct_sum</th>\n",
       "      <th>is_correct_count</th>\n",
       "      <th>is_correct_frac_found</th>\n",
       "    </tr>\n",
       "  </thead>\n",
       "  <tbody>\n",
       "    <tr>\n",
       "      <th>0</th>\n",
       "      <td>gen_llama3_8b_lora</td>\n",
       "      <td>39</td>\n",
       "      <td>73</td>\n",
       "      <td>0.534247</td>\n",
       "    </tr>\n",
       "    <tr>\n",
       "      <th>1</th>\n",
       "      <td>gen_mistral_7b_lora</td>\n",
       "      <td>37</td>\n",
       "      <td>71</td>\n",
       "      <td>0.521127</td>\n",
       "    </tr>\n",
       "    <tr>\n",
       "      <th>2</th>\n",
       "      <td>gen_qwen_7b</td>\n",
       "      <td>50</td>\n",
       "      <td>69</td>\n",
       "      <td>0.724638</td>\n",
       "    </tr>\n",
       "    <tr>\n",
       "      <th>3</th>\n",
       "      <td>gen_qwen_7b_lora</td>\n",
       "      <td>44</td>\n",
       "      <td>69</td>\n",
       "      <td>0.637681</td>\n",
       "    </tr>\n",
       "    <tr>\n",
       "      <th>4</th>\n",
       "      <td>gen_rugpt_13b</td>\n",
       "      <td>43</td>\n",
       "      <td>77</td>\n",
       "      <td>0.558442</td>\n",
       "    </tr>\n",
       "    <tr>\n",
       "      <th>5</th>\n",
       "      <td>gen_tliteit_7b</td>\n",
       "      <td>50</td>\n",
       "      <td>75</td>\n",
       "      <td>0.666667</td>\n",
       "    </tr>\n",
       "    <tr>\n",
       "      <th>6</th>\n",
       "      <td>gen_yagpt_8b</td>\n",
       "      <td>47</td>\n",
       "      <td>80</td>\n",
       "      <td>0.587500</td>\n",
       "    </tr>\n",
       "  </tbody>\n",
       "</table>\n",
       "</div>"
      ],
      "text/plain": [
       "            gen_column  is_correct_sum  is_correct_count  \\\n",
       "0   gen_llama3_8b_lora              39                73   \n",
       "1  gen_mistral_7b_lora              37                71   \n",
       "2          gen_qwen_7b              50                69   \n",
       "3     gen_qwen_7b_lora              44                69   \n",
       "4        gen_rugpt_13b              43                77   \n",
       "5       gen_tliteit_7b              50                75   \n",
       "6         gen_yagpt_8b              47                80   \n",
       "\n",
       "   is_correct_frac_found  \n",
       "0               0.534247  \n",
       "1               0.521127  \n",
       "2               0.724638  \n",
       "3               0.637681  \n",
       "4               0.558442  \n",
       "5               0.666667  \n",
       "6               0.587500  "
      ]
     },
     "execution_count": 10,
     "metadata": {},
     "output_type": "execute_result"
    }
   ],
   "source": [
    "sub_df"
   ]
  },
  {
   "cell_type": "code",
   "execution_count": 11,
   "metadata": {},
   "outputs": [
    {
     "data": {
      "text/plain": [
       "[0.63997, 0.81259, 0.00024, 0.02949, 0.36203, 0.00523, 0.14564]"
      ]
     },
     "execution_count": 11,
     "metadata": {},
     "output_type": "execute_result"
    }
   ],
   "source": [
    "from scipy.stats import binomtest\n",
    "\n",
    "pvals = []\n",
    "for row in range(sub_df.shape[0]):\n",
    "    k, n = sub_df.iloc[row][\"is_correct_sum\"], sub_df.iloc[row][\"is_correct_count\"]\n",
    "    res = binomtest(k=k, n=n)\n",
    "    pvals.append(np.round(res.pvalue, 5))\n",
    "\n",
    "pvals"
   ]
  },
  {
   "cell_type": "code",
   "execution_count": 12,
   "metadata": {},
   "outputs": [],
   "source": [
    "sub_df[\"p-value\"] = pvals"
   ]
  },
  {
   "cell_type": "code",
   "execution_count": 14,
   "metadata": {},
   "outputs": [
    {
     "data": {
      "text/html": [
       "<div>\n",
       "<style scoped>\n",
       "    .dataframe tbody tr th:only-of-type {\n",
       "        vertical-align: middle;\n",
       "    }\n",
       "\n",
       "    .dataframe tbody tr th {\n",
       "        vertical-align: top;\n",
       "    }\n",
       "\n",
       "    .dataframe thead th {\n",
       "        text-align: right;\n",
       "    }\n",
       "</style>\n",
       "<table border=\"1\" class=\"dataframe\">\n",
       "  <thead>\n",
       "    <tr style=\"text-align: right;\">\n",
       "      <th></th>\n",
       "      <th>модель</th>\n",
       "      <th>кол-во правильных</th>\n",
       "      <th>кол-во оценок</th>\n",
       "      <th>доля правильных</th>\n",
       "      <th>p-value</th>\n",
       "    </tr>\n",
       "  </thead>\n",
       "  <tbody>\n",
       "    <tr>\n",
       "      <th>0</th>\n",
       "      <td>gen_llama3_8b_lora</td>\n",
       "      <td>39</td>\n",
       "      <td>73</td>\n",
       "      <td>0.534247</td>\n",
       "      <td>0.63997</td>\n",
       "    </tr>\n",
       "    <tr>\n",
       "      <th>1</th>\n",
       "      <td>gen_mistral_7b_lora</td>\n",
       "      <td>37</td>\n",
       "      <td>71</td>\n",
       "      <td>0.521127</td>\n",
       "      <td>0.81259</td>\n",
       "    </tr>\n",
       "    <tr>\n",
       "      <th>2</th>\n",
       "      <td>gen_qwen_7b</td>\n",
       "      <td>50</td>\n",
       "      <td>69</td>\n",
       "      <td>0.724638</td>\n",
       "      <td>0.00024</td>\n",
       "    </tr>\n",
       "    <tr>\n",
       "      <th>3</th>\n",
       "      <td>gen_qwen_7b_lora</td>\n",
       "      <td>44</td>\n",
       "      <td>69</td>\n",
       "      <td>0.637681</td>\n",
       "      <td>0.02949</td>\n",
       "    </tr>\n",
       "    <tr>\n",
       "      <th>4</th>\n",
       "      <td>gen_rugpt_13b</td>\n",
       "      <td>43</td>\n",
       "      <td>77</td>\n",
       "      <td>0.558442</td>\n",
       "      <td>0.36203</td>\n",
       "    </tr>\n",
       "    <tr>\n",
       "      <th>5</th>\n",
       "      <td>gen_tliteit_7b</td>\n",
       "      <td>50</td>\n",
       "      <td>75</td>\n",
       "      <td>0.666667</td>\n",
       "      <td>0.00523</td>\n",
       "    </tr>\n",
       "    <tr>\n",
       "      <th>6</th>\n",
       "      <td>gen_yagpt_8b</td>\n",
       "      <td>47</td>\n",
       "      <td>80</td>\n",
       "      <td>0.587500</td>\n",
       "      <td>0.14564</td>\n",
       "    </tr>\n",
       "  </tbody>\n",
       "</table>\n",
       "</div>"
      ],
      "text/plain": [
       "                модель  кол-во правильных  кол-во оценок  доля правильных  \\\n",
       "0   gen_llama3_8b_lora                 39             73         0.534247   \n",
       "1  gen_mistral_7b_lora                 37             71         0.521127   \n",
       "2          gen_qwen_7b                 50             69         0.724638   \n",
       "3     gen_qwen_7b_lora                 44             69         0.637681   \n",
       "4        gen_rugpt_13b                 43             77         0.558442   \n",
       "5       gen_tliteit_7b                 50             75         0.666667   \n",
       "6         gen_yagpt_8b                 47             80         0.587500   \n",
       "\n",
       "   p-value  \n",
       "0  0.63997  \n",
       "1  0.81259  \n",
       "2  0.00024  \n",
       "3  0.02949  \n",
       "4  0.36203  \n",
       "5  0.00523  \n",
       "6  0.14564  "
      ]
     },
     "execution_count": 14,
     "metadata": {},
     "output_type": "execute_result"
    }
   ],
   "source": [
    "renamed_df = sub_df.rename(columns={\n",
    "    \"gen_column\": \"модель\", \n",
    "    \"is_correct_sum\": \"кол-во правильных\", \n",
    "    \"is_correct_count\": \"кол-во оценок\",\n",
    "    \"is_correct_frac_found\": \"доля правильных\"\n",
    "    })\n",
    "renamed_df"
   ]
  },
  {
   "cell_type": "code",
   "execution_count": null,
   "metadata": {},
   "outputs": [],
   "source": [
    "renamed_df.to_csv(\"result.csv\", index=False)\n",
    "renamed_df.to_excel(\"result.xlsx\", index=False)"
   ]
  }
 ],
 "metadata": {
  "kernelspec": {
   "display_name": "myenv",
   "language": "python",
   "name": "python3"
  },
  "language_info": {
   "codemirror_mode": {
    "name": "ipython",
    "version": 3
   },
   "file_extension": ".py",
   "mimetype": "text/x-python",
   "name": "python",
   "nbconvert_exporter": "python",
   "pygments_lexer": "ipython3",
   "version": "3.8.10"
  }
 },
 "nbformat": 4,
 "nbformat_minor": 2
}
