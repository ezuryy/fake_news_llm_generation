{
 "cells": [
  {
   "cell_type": "markdown",
   "id": "585cb096-d973-4fad-8b9e-1d5d9374e1b9",
   "metadata": {},
   "source": [
    "# Models inference"
   ]
  },
  {
   "cell_type": "code",
   "execution_count": 1,
   "id": "7d1acc32-2890-47a6-b596-9eddec2f622f",
   "metadata": {},
   "outputs": [],
   "source": [
    "AVAILABLE_MODELS = [\n",
    "    \"unsloth/Meta-Llama-3.1-8B-Instruct-bnb-4bit\",\n",
    "    \"unsloth/mistral-7b-instruct-v0.3\",\n",
    "    \"unsloth/Qwen2.5-7B-Instruct-bnb-4bit\"\n",
    "]\n",
    "\n",
    "AVAILABLE_LORA_PATHS = [\n",
    "    \"llama3_8b_instruct/checkpoint-37500\",\n",
    "    \"mistral_7b_instruct/checkpoint-8500\",\n",
    "    \"qwen_7b_instruct/checkpoint-10000\",\n",
    "]\n",
    "CSV_FILE = \"inference_result/df_test_1.csv\""
   ]
  },
  {
   "cell_type": "markdown",
   "id": "015746d3-773f-43e5-a5af-0319853f08ac",
   "metadata": {},
   "source": [
    "Check following params for inference"
   ]
  },
  {
   "cell_type": "code",
   "execution_count": 2,
   "id": "fd560cbf-617b-4859-906b-27cff80b5326",
   "metadata": {},
   "outputs": [],
   "source": [
    "import torch\n",
    "\n",
    "MAX_NEW_TOKENS = 500\n",
    "DEVICE = torch.device(\"cuda\" if torch.cuda.is_available() else \"cpu\")"
   ]
  },
  {
   "cell_type": "markdown",
   "id": "c4bab04a-cc34-484b-91af-cd03c8185904",
   "metadata": {},
   "source": [
    "Llama"
   ]
  },
  {
   "cell_type": "code",
   "execution_count": 4,
   "id": "d323169f-4b47-4581-81c5-f696bea198da",
   "metadata": {},
   "outputs": [],
   "source": [
    "use_lora_model = True\n",
    "MODEL_NAME = \"unsloth/Meta-Llama-3.1-8B-Instruct-bnb-4bit\"\n",
    "OUTPUT_DIR = \"llama3_8b_instruct/checkpoint-37500\"\n",
    "COLUMN_NAME = \"gen_llama_8b_instruct_lora\""
   ]
  },
  {
   "cell_type": "code",
   "execution_count": 6,
   "id": "e7fc6243-6a6f-4ddb-8220-1ed30dd1e360",
   "metadata": {},
   "outputs": [],
   "source": [
    "# use_lora_model = False\n",
    "# MODEL_NAME = \"unsloth/Meta-Llama-3.1-8B-Instruct-bnb-4bit\"\n",
    "# COLUMN_NAME = \"gen_llama_8b_instruct\""
   ]
  },
  {
   "cell_type": "markdown",
   "id": "c4a4ada6-72e5-463c-9223-b31db1c0aaa9",
   "metadata": {},
   "source": [
    "Qwen"
   ]
  },
  {
   "cell_type": "code",
   "execution_count": 7,
   "id": "b867c136-d12b-4012-8a6c-3871cb828ad8",
   "metadata": {},
   "outputs": [],
   "source": [
    "# use_lora_model = True\n",
    "# MODEL_NAME = \"unsloth/Qwen2.5-7B-Instruct-bnb-4bit\"\n",
    "# OUTPUT_DIR = \"qwen_7b_instruct/checkpoint-10000\"\n",
    "# COLUMN_NAME = \"gen_qwen_7b_instruct_lora\""
   ]
  },
  {
   "cell_type": "code",
   "execution_count": 8,
   "id": "3dbdaa69-09f7-4b14-9029-4656c828589e",
   "metadata": {},
   "outputs": [],
   "source": [
    "# use_lora_model = False\n",
    "# MODEL_NAME = \"unsloth/Qwen2.5-7B-Instruct-bnb-4bit\"\n",
    "# OUTPUT_DIR = None\n",
    "# COLUMN_NAME = \"gen_qwen_7b_instruct\""
   ]
  },
  {
   "cell_type": "markdown",
   "id": "643523b7-5c52-4c55-af95-337c3905d285",
   "metadata": {},
   "source": [
    "Mistral"
   ]
  },
  {
   "cell_type": "code",
   "execution_count": 9,
   "id": "a035e492-5ebe-496a-a689-ac59623d1a18",
   "metadata": {},
   "outputs": [],
   "source": [
    "# use_lora_model = True\n",
    "# MODEL_NAME = \"unsloth/mistral-7b-instruct-v0.3\"\n",
    "# OUTPUT_DIR = \"mistral_7b_instruct/checkpoint-8500\"\n",
    "# COLUMN_NAME = \"gen_mistral_7b_instruct_lora\""
   ]
  },
  {
   "cell_type": "code",
   "execution_count": 10,
   "id": "2f9b9aa2-ebde-45aa-a37f-57ae4c161208",
   "metadata": {},
   "outputs": [],
   "source": [
    "# use_lora_model = False\n",
    "# MODEL_NAME = \"unsloth/mistral-7b-instruct-v0.3\"\n",
    "# COLUMN_NAME = \"gen_mistral_7b_instruct\""
   ]
  },
  {
   "cell_type": "code",
   "execution_count": 5,
   "id": "b5882a59-8b2c-4b51-a86b-4da010f18d56",
   "metadata": {},
   "outputs": [],
   "source": [
    "llama_instuct_prompt = \"\"\"Ты профессиональный грамотный редактор новостных статей. Пожалуйста, сохраняй факты из заголовка статьи. Напиши только статью и ничего больше.\n",
    "Напиши небольшую захватывающую новостную статью, заголовком которой мог бы быть:\n",
    "\n",
    "{}\n",
    "\n",
    "Текст статьи:\n",
    "\"\"\"\n",
    "\n",
    "llama_instuct_lora_prompt = \"\"\"Напиши новостную статью, заголовком которой мог бы быть:\n",
    "{}\n",
    "\n",
    "Текст статьи:\n",
    "\"\"\"\n",
    "\n",
    "mistral_instruct_prompt = \"\"\"Ты русскоязычный редактор новостных статей. Используй только русский язык! Пожалуйста, сохраняй факты из заголовка статьи.\n",
    "Напиши захватывающую новостную статью, заголовком которой мог бы быть:\n",
    "\n",
    "{}\n",
    "\n",
    "Текст статьи:\n",
    "\"\"\"\n",
    "\n",
    "qwen_instruct_prompt = \"\"\"Ты русскоязычный редактор новостных статей. Используй только русский язык! Пожалуйста, сохраняй факты из заголовка статьи.\n",
    "Напиши захватывающую новостную статью, заголовком которой мог бы быть:\n",
    "\n",
    "{}\n",
    "\n",
    "Текст статьи:\n",
    "\"\"\"\n",
    "\n",
    "prompt_dict = {\n",
    "    \"unsloth/Meta-Llama-3.1-8B-Instruct-bnb-4bit\": llama_instuct_lora_prompt if use_lora_model else llama_instuct_prompt,\n",
    "    \"unsloth/mistral-7b-instruct-v0.3\": mistral_instruct_prompt,\n",
    "    \"unsloth/Qwen2.5-7B-Instruct-bnb-4bit\": qwen_instruct_prompt,\n",
    "}"
   ]
  },
  {
   "cell_type": "code",
   "execution_count": 11,
   "id": "3aa9c77c-7ffd-4f41-92ad-72c0c9c26764",
   "metadata": {},
   "outputs": [],
   "source": [
    "PROMPT = prompt_dict[MODEL_NAME]"
   ]
  },
  {
   "cell_type": "code",
   "execution_count": 12,
   "id": "cff7065f-ddc3-4a02-a12a-f48526c9c11e",
   "metadata": {
    "scrolled": true
   },
   "outputs": [],
   "source": [
    "assert MODEL_NAME in AVAILABLE_MODELS\n",
    "assert OUTPUT_DIR in AVAILABLE_LORA_PATHS"
   ]
  },
  {
   "cell_type": "markdown",
   "id": "723d374c-7735-4148-987e-9ba0c911e8c5",
   "metadata": {},
   "source": [
    "# Functions to load and delete model"
   ]
  },
  {
   "cell_type": "markdown",
   "id": "d0d2a32e-8dae-42ec-bc38-794f0c5890a1",
   "metadata": {},
   "source": [
    "load `model`, `tokenizer`"
   ]
  },
  {
   "cell_type": "code",
   "execution_count": 13,
   "id": "161b157a-5df4-4375-a4a8-9b56ab3daf08",
   "metadata": {},
   "outputs": [
    {
     "name": "stdout",
     "output_type": "stream",
     "text": [
      "🦥 Unsloth: Will patch your computer to enable 2x faster free finetuning.\n",
      "🦥 Unsloth Zoo will now patch everything to make training faster!\n"
     ]
    }
   ],
   "source": [
    "import unsloth\n",
    "import torch\n",
    "\n",
    "from unsloth import FastLanguageModel\n",
    "\n",
    "def load_model(use_lora_model=False):\n",
    "    if use_lora_model:\n",
    "        model_name = OUTPUT_DIR\n",
    "        assert model_name in AVAILABLE_LORA_PATHS\n",
    "    else:\n",
    "        model_name = MODEL_NAME\n",
    "        assert model_name in AVAILABLE_MODELS\n",
    "\n",
    "    max_seq_length = 2048\n",
    "    load_in_4bit = True\n",
    "    \n",
    "    model, tokenizer = FastLanguageModel.from_pretrained(\n",
    "        model_name = model_name, \n",
    "        max_seq_length = max_seq_length,\n",
    "        dtype = None,\n",
    "        load_in_4bit = load_in_4bit,\n",
    "    )\n",
    "    FastLanguageModel.for_inference(model)\n",
    "    return model, tokenizer"
   ]
  },
  {
   "cell_type": "code",
   "execution_count": 14,
   "id": "369d95b6-2465-443e-b951-9f3cdf7abf92",
   "metadata": {},
   "outputs": [],
   "source": [
    "import gc\n",
    "\n",
    "def free_gpu():\n",
    "    global model\n",
    "    \n",
    "    print(\"Memory before del model: \", torch.cuda.memory_allocated() // (1024 ** 3) )\n",
    "    \n",
    "    del model\n",
    "    \n",
    "    gc.collect()\n",
    "    torch.cuda.empty_cache()\n",
    "\n",
    "    print(\"Memory after del model: \", torch.cuda.memory_allocated() // (1024 ** 3) )"
   ]
  },
  {
   "cell_type": "markdown",
   "id": "887fba78-6ab8-4de0-99a9-e49762d5a926",
   "metadata": {},
   "source": [
    "# Functions for batch inference\n",
    "\n",
    "Works for models from `AVAILABLE_MODELS`"
   ]
  },
  {
   "cell_type": "code",
   "execution_count": 15,
   "id": "a011cb19-b0eb-4621-bc40-596afa4d4157",
   "metadata": {
    "scrolled": true
   },
   "outputs": [],
   "source": [
    "import pandas as pd\n",
    "import torch\n",
    "from torch.utils.data import Dataset, DataLoader\n",
    "from transformers import AutoTokenizer, AutoModelForCausalLM, GenerationConfig\n",
    "from tqdm import tqdm as tqdm_a\n",
    "\n",
    "BATCH_SIZE = 8\n",
    "MAX_LENGTH = 2048\n",
    "MAX_NEW_TOKENS = 2048\n",
    "\n",
    "\n",
    "class PromptDataset(Dataset):\n",
    "    def __init__(self, tokenizer, prompt, csv_path):\n",
    "        self.data = pd.read_csv(csv_path)\n",
    "        self.tokenizer = tokenizer\n",
    "        self.prompt = prompt\n",
    "        \n",
    "    def __len__(self):\n",
    "        return len(self.data)\n",
    "    \n",
    "    def __getitem__(self, idx):\n",
    "        return self.prompt.format(self.data.iloc[idx]['cleaned_title'])\n",
    "\n",
    "def collate_fn(batch, tokenizer):\n",
    "    return tokenizer(\n",
    "        batch,\n",
    "        padding=True,\n",
    "        truncation=True,\n",
    "        max_length=MAX_LENGTH,\n",
    "        return_tensors=\"pt\",\n",
    "        padding_side=\"left\",\n",
    "    )\n",
    "\n",
    "\n",
    "def batch_inference(model, tokenizer, dataloader, generation_config):\n",
    "    all_responses = []\n",
    "    with torch.no_grad():\n",
    "        for batch in tqdm_a(dataloader):\n",
    "            input_ids = batch['input_ids'].to(DEVICE)\n",
    "            attention_mask = batch['attention_mask'].to(DEVICE)\n",
    "            \n",
    "            outputs = model.generate(\n",
    "                input_ids=input_ids,\n",
    "                attention_mask=attention_mask,\n",
    "                generation_config=generation_config\n",
    "            )\n",
    "            \n",
    "            responses = tokenizer.batch_decode(\n",
    "                outputs[:, input_ids.shape[1]:], \n",
    "                skip_special_tokens=True\n",
    "            )\n",
    "            all_responses.extend(responses)\n",
    "    return all_responses"
   ]
  },
  {
   "cell_type": "markdown",
   "id": "59503085-2738-467d-8482-cc40cef394ca",
   "metadata": {},
   "source": [
    "# Multilingual models and LoRA"
   ]
  },
  {
   "cell_type": "markdown",
   "id": "81d79200-09bf-4e62-838c-aa982d9f936b",
   "metadata": {},
   "source": [
    "## Batch inference\n",
    "\n",
    "Uses `MODEL_NAME`, `OUTPUT_DIR` and `use_lora_model` params to load specific model"
   ]
  },
  {
   "cell_type": "code",
   "execution_count": 16,
   "id": "a6f4c163-487a-4db6-a6b8-f5d45a0f8714",
   "metadata": {},
   "outputs": [
    {
     "name": "stdout",
     "output_type": "stream",
     "text": [
      "==((====))==  Unsloth 2025.3.14: Fast Llama patching. Transformers: 4.49.0.\n",
      "   \\\\   /|    NVIDIA GeForce RTX 4090. Num GPUs = 1. Max memory: 23.621 GB. Platform: Linux.\n",
      "O^O/ \\_/ \\    Torch: 2.6.0+cu124. CUDA: 8.9. CUDA Toolkit: 12.4. Triton: 3.2.0\n",
      "\\        /    Bfloat16 = TRUE. FA [Xformers = 0.0.29.post3. FA2 = False]\n",
      " \"-____-\"     Free license: http://github.com/unslothai/unsloth\n",
      "Unsloth: Fast downloading is enabled - ignore downloading bars which are red colored!\n"
     ]
    },
    {
     "name": "stderr",
     "output_type": "stream",
     "text": [
      "Unsloth 2025.3.14 patched 32 layers with 32 QKV layers, 32 O layers and 32 MLP layers.\n"
     ]
    }
   ],
   "source": [
    "model, tokenizer = load_model(use_lora_model)"
   ]
  },
  {
   "cell_type": "code",
   "execution_count": 17,
   "id": "50632dfa-d5b6-4d80-80ad-f9e4cd7ba6f8",
   "metadata": {
    "scrolled": true
   },
   "outputs": [
    {
     "name": "stderr",
     "output_type": "stream",
     "text": [
      "100%|████████████████████████████████████████████████████████████████████████████████████████████████████████| 25/25 [05:00<00:00, 12.03s/it]\n"
     ]
    }
   ],
   "source": [
    "generation_config = GenerationConfig(\n",
    "    temperature=0.6,            # Контроль случайности (0.0-1.0, больше - креативнее)\n",
    "    repetition_penalty=1.2,     # Штраф за повторения (1.0 - нет штрафа, >1.0 - меньше повторов)\n",
    "    top_p=0.95,                 # Фильтрация ядра (nucleus sampling)\n",
    "    do_sample=True,             # Включить стохастическое семплирование\n",
    "    max_new_tokens=MAX_NEW_TOKENS,        # Максимальное количество новых токенов\n",
    "    pad_token_id=tokenizer.eos_token_id \n",
    ")\n",
    "\n",
    "dataset = PromptDataset(tokenizer, PROMPT, CSV_FILE)\n",
    "dataloader = DataLoader(\n",
    "    dataset,\n",
    "    batch_size=BATCH_SIZE,\n",
    "    shuffle=False,\n",
    "    collate_fn=lambda b: collate_fn(b, tokenizer)\n",
    ")\n",
    "\n",
    "all_responses = batch_inference(model, tokenizer, dataloader, generation_config)"
   ]
  },
  {
   "cell_type": "code",
   "execution_count": 114,
   "id": "c7cbde5a-d490-4bc5-be79-dac7e6bbffbb",
   "metadata": {},
   "outputs": [
    {
     "name": "stdout",
     "output_type": "stream",
     "text": [
      "В Петербурге тушили пожар в гаражах. На месте работали 4 единицы техники и 15 человек личного состава.\n",
      "Как сообщает ГУ МЧС по городу, информация о возгорании поступила на пульт дежурного службы \"01\" около полудня 14 августа от дома No10/1 по Звездной улице. Огнем были охвачены шесть металлических гаражей, в которых находились два автомобиля \"Мерседес\", три ВАЗ-2105, двухместный мотоцикл \"Ямаха\", а также различные строительные материалы.\n",
      "Пожару присвоили повышенный номер сложности 1-бис, из-за чего было задействовано дополнительное подразделение, которое направилось к месту происшествия с другого участка города.\n"
     ]
    }
   ],
   "source": [
    "print(all_responses[0])"
   ]
  },
  {
   "cell_type": "markdown",
   "id": "9f7716a5-4534-4d8d-a9d5-1dd09eb40354",
   "metadata": {},
   "source": [
    "## Save generated texts"
   ]
  },
  {
   "cell_type": "code",
   "execution_count": 116,
   "id": "1068ea9f-6e2a-419e-ae55-7959483ea381",
   "metadata": {},
   "outputs": [
    {
     "data": {
      "text/html": [
       "<div>\n",
       "<style scoped>\n",
       "    .dataframe tbody tr th:only-of-type {\n",
       "        vertical-align: middle;\n",
       "    }\n",
       "\n",
       "    .dataframe tbody tr th {\n",
       "        vertical-align: top;\n",
       "    }\n",
       "\n",
       "    .dataframe thead th {\n",
       "        text-align: right;\n",
       "    }\n",
       "</style>\n",
       "<table border=\"1\" class=\"dataframe\">\n",
       "  <thead>\n",
       "    <tr style=\"text-align: right;\">\n",
       "      <th></th>\n",
       "      <th>url</th>\n",
       "      <th>text</th>\n",
       "      <th>title</th>\n",
       "      <th>source</th>\n",
       "      <th>timestamp</th>\n",
       "      <th>cleaned_title</th>\n",
       "      <th>cleaned_text</th>\n",
       "      <th>len_cleaned_text</th>\n",
       "    </tr>\n",
       "  </thead>\n",
       "  <tbody>\n",
       "    <tr>\n",
       "      <th>0</th>\n",
       "      <td>http://www.fontanka.ru/2013/10/16/017/</td>\n",
       "      <td>Пожар произошел минувшей ночью в Московском ра...</td>\n",
       "      <td>На стоянке на Звездной обгорело семь машин</td>\n",
       "      <td>taiga_fontanka</td>\n",
       "      <td>1381911180</td>\n",
       "      <td>На стоянке на Звездной обгорело семь машин</td>\n",
       "      <td>Пожар произошел минувшей ночью в Московском ра...</td>\n",
       "      <td>476</td>\n",
       "    </tr>\n",
       "    <tr>\n",
       "      <th>1</th>\n",
       "      <td>https://tass.ru/sport/3866330</td>\n",
       "      <td>МОСКВА, 13 декабря. /ТАСС/. Олимпийская чемпио...</td>\n",
       "      <td>Олимпийская чемпионка Елена Веснина стала поче...</td>\n",
       "      <td>ods_tass</td>\n",
       "      <td>1481617927</td>\n",
       "      <td>Олимпийская чемпионка Елена Веснина стала поче...</td>\n",
       "      <td>Олимпийская чемпионка по теннису россиянка Еле...</td>\n",
       "      <td>851</td>\n",
       "    </tr>\n",
       "    <tr>\n",
       "      <th>2</th>\n",
       "      <td>http://rusplt.ru/region-news/barnaul/v-altaysk...</td>\n",
       "      <td>С начала ноября четыре жителя Алтайского края ...</td>\n",
       "      <td>В Алтайском крае под лед провалились четыре че...</td>\n",
       "      <td>buriy</td>\n",
       "      <td>1447147996</td>\n",
       "      <td>В Алтайском крае под лед провалились четыре че...</td>\n",
       "      <td>С начала ноября четыре жителя Алтайского края ...</td>\n",
       "      <td>744</td>\n",
       "    </tr>\n",
       "    <tr>\n",
       "      <th>3</th>\n",
       "      <td>https://lenta.ru/news/2002/08/06/chisinau/</td>\n",
       "      <td>Президент Молдавии Владимир Воронин своим указ...</td>\n",
       "      <td>Президент Молдавии уволил главу своей службы о...</td>\n",
       "      <td>lenta</td>\n",
       "      <td>1028592000</td>\n",
       "      <td>Президент Молдавии уволил главу своей службы о...</td>\n",
       "      <td>Президент Молдавии Владимир Воронин своим указ...</td>\n",
       "      <td>697</td>\n",
       "    </tr>\n",
       "    <tr>\n",
       "      <th>4</th>\n",
       "      <td>https://lenta.ru/news/2017/08/21/annabel/</td>\n",
       "      <td>Посетительнице кинотеатра в Бразилии стало пло...</td>\n",
       "      <td>Бразильянке вызвали скорую после просмотра хор...</td>\n",
       "      <td>lenta</td>\n",
       "      <td>1503273600</td>\n",
       "      <td>Бразильянке вызвали скорую после просмотра хор...</td>\n",
       "      <td>Посетительнице кинотеатра в Бразилии стало пло...</td>\n",
       "      <td>655</td>\n",
       "    </tr>\n",
       "  </tbody>\n",
       "</table>\n",
       "</div>"
      ],
      "text/plain": [
       "                                                 url  \\\n",
       "0             http://www.fontanka.ru/2013/10/16/017/   \n",
       "1                      https://tass.ru/sport/3866330   \n",
       "2  http://rusplt.ru/region-news/barnaul/v-altaysk...   \n",
       "3         https://lenta.ru/news/2002/08/06/chisinau/   \n",
       "4          https://lenta.ru/news/2017/08/21/annabel/   \n",
       "\n",
       "                                                text  \\\n",
       "0  Пожар произошел минувшей ночью в Московском ра...   \n",
       "1  МОСКВА, 13 декабря. /ТАСС/. Олимпийская чемпио...   \n",
       "2  С начала ноября четыре жителя Алтайского края ...   \n",
       "3  Президент Молдавии Владимир Воронин своим указ...   \n",
       "4  Посетительнице кинотеатра в Бразилии стало пло...   \n",
       "\n",
       "                                               title          source  \\\n",
       "0         На стоянке на Звездной обгорело семь машин  taiga_fontanka   \n",
       "1  Олимпийская чемпионка Елена Веснина стала поче...        ods_tass   \n",
       "2  В Алтайском крае под лед провалились четыре че...           buriy   \n",
       "3  Президент Молдавии уволил главу своей службы о...           lenta   \n",
       "4  Бразильянке вызвали скорую после просмотра хор...           lenta   \n",
       "\n",
       "    timestamp                                      cleaned_title  \\\n",
       "0  1381911180         На стоянке на Звездной обгорело семь машин   \n",
       "1  1481617927  Олимпийская чемпионка Елена Веснина стала поче...   \n",
       "2  1447147996  В Алтайском крае под лед провалились четыре че...   \n",
       "3  1028592000  Президент Молдавии уволил главу своей службы о...   \n",
       "4  1503273600  Бразильянке вызвали скорую после просмотра хор...   \n",
       "\n",
       "                                        cleaned_text  len_cleaned_text  \n",
       "0  Пожар произошел минувшей ночью в Московском ра...               476  \n",
       "1  Олимпийская чемпионка по теннису россиянка Еле...               851  \n",
       "2  С начала ноября четыре жителя Алтайского края ...               744  \n",
       "3  Президент Молдавии Владимир Воронин своим указ...               697  \n",
       "4  Посетительнице кинотеатра в Бразилии стало пло...               655  "
      ]
     },
     "execution_count": 116,
     "metadata": {},
     "output_type": "execute_result"
    }
   ],
   "source": [
    "df_test = pd.read_csv(CSV_FILE)\n",
    "df_test.head()"
   ]
  },
  {
   "cell_type": "code",
   "execution_count": 117,
   "id": "ef633106-58fb-46cd-bcb8-13aa719d380f",
   "metadata": {},
   "outputs": [],
   "source": [
    "df_test[COLUMN_NAME] = all_responses\n",
    "df_test.to_csv(CSV_FILE, index=False)"
   ]
  },
  {
   "cell_type": "markdown",
   "id": "36bd7db5-3bbf-4635-b68c-e6fc9fc38533",
   "metadata": {},
   "source": [
    "free_gpu()"
   ]
  },
  {
   "cell_type": "markdown",
   "id": "0e5739e0-6486-4a69-bdbb-df4e894f6b51",
   "metadata": {},
   "source": [
    "# Ru language models"
   ]
  },
  {
   "cell_type": "markdown",
   "id": "ed240c9a-5758-450c-8678-b648f880bc24",
   "metadata": {},
   "source": [
    "## YandexGPT inference\n",
    "\n",
    "https://huggingface.co/yandex/YandexGPT-5-Lite-8B-instruct"
   ]
  },
  {
   "cell_type": "code",
   "execution_count": 15,
   "id": "6639c723-e128-4131-a885-b74e1f44a1fc",
   "metadata": {},
   "outputs": [
    {
     "data": {
      "application/vnd.jupyter.widget-view+json": {
       "model_id": "1080424f39da4876bf2f5c8564fff30a",
       "version_major": 2,
       "version_minor": 0
      },
      "text/plain": [
       "Loading checkpoint shards:   0%|          | 0/4 [00:00<?, ?it/s]"
      ]
     },
     "metadata": {},
     "output_type": "display_data"
    }
   ],
   "source": [
    "from transformers import AutoModelForCausalLM, AutoTokenizer\n",
    "\n",
    "MODEL_NAME = \"yandex/YandexGPT-5-Lite-8B-instruct\"\n",
    "COLUMN_NAME = \"gen_yagpt_8b\"\n",
    "PROMPT = \"\"\"Напиши захватывающую новостную статью, заголовком которой мог бы быть:\n",
    "\n",
    "{}\n",
    "\n",
    "Текст статьи:\n",
    "\"\"\"\n",
    "\n",
    "tokenizer = AutoTokenizer.from_pretrained(MODEL_NAME)\n",
    "model = AutoModelForCausalLM.from_pretrained(\n",
    "    MODEL_NAME,\n",
    "    device_map=\"cuda\",\n",
    "    torch_dtype=\"auto\",\n",
    ")\n",
    "tokenizer.pad_token = tokenizer.eos_token"
   ]
  },
  {
   "cell_type": "code",
   "execution_count": 16,
   "id": "9cdc4fb8-1a9b-46e3-b0ba-0759b0c40782",
   "metadata": {},
   "outputs": [],
   "source": [
    "BATCH_SIZE = 4\n",
    "\n",
    "dataset = PromptDataset(tokenizer, PROMPT, CSV_FILE)\n",
    "dataloader = DataLoader(\n",
    "    dataset,\n",
    "    batch_size=BATCH_SIZE,\n",
    "    shuffle=False,\n",
    "    collate_fn=lambda b: collate_fn(b, tokenizer)\n",
    ")\n",
    "\n",
    "generation_config = GenerationConfig(\n",
    "    temperature=0.6,           # Контроль случайности (0.0-1.0, больше - креативнее)\n",
    "    repetition_penalty=1.2,    # Штраф за повторения (1.0 - нет штрафа, >1.0 - меньше повторов)\n",
    "    top_p=0.9,                 # Фильтрация ядра (nucleus sampling)\n",
    "    do_sample=True,            # Включить стохастическое семплирование\n",
    "    max_new_tokens=MAX_NEW_TOKENS,        # Максимальное количество новых токенов\n",
    ")"
   ]
  },
  {
   "cell_type": "code",
   "execution_count": 18,
   "id": "aeaca567-8962-4152-9139-22d92c5b8485",
   "metadata": {},
   "outputs": [
    {
     "name": "stderr",
     "output_type": "stream",
     "text": [
      "100%|████████████████████████████████████████████████████████████████████████████████████████████████████████| 50/50 [05:21<00:00,  6.44s/it]\n"
     ]
    }
   ],
   "source": [
    "dataset = PromptDataset(tokenizer, PROMPT, CSV_FILE)\n",
    "dataloader = DataLoader(\n",
    "    dataset,\n",
    "    batch_size=BATCH_SIZE,\n",
    "    shuffle=False,\n",
    "    collate_fn=lambda b: collate_fn(b, tokenizer)\n",
    ")\n",
    "\n",
    "all_responses = batch_inference(model, tokenizer, dataloader, generation_config)"
   ]
  },
  {
   "cell_type": "code",
   "execution_count": 21,
   "id": "9c90f22b-ed65-4278-9993-4c2e3fa1b5a6",
   "metadata": {},
   "outputs": [
    {
     "name": "stdout",
     "output_type": "stream",
     "text": [
      "\n",
      "Елена Веснина – знаменитая российская теннисистка и олимпийская чемпионка. Она была удостоена высокого звания «Почетный гражданин города-курорта Сочи». Это признание заслуг спортсменки перед городом и всей страной в целом. \n",
      "\n",
      "Веснину знают во всем мире благодаря ее выдающимся достижениям на Олимпийских играх. В составе российской сборной она завоевала золото в парном разряде по теннису. Этот успех стал настоящим праздником для всех поклонников спорта и гордостью для страны.\n",
      "\n",
      "На торжественной церемонии вручения награды Елене Весниной были вручены символы этого почётного статуса - лента с гербом города и удостоверение Почётного гражданина. Глава города отметил, что выбор пал именно на Елену неслучайно: её спортивные успехи стали символом силы воли и настойчивости, которые помогают достигать самых высоких целей.\n",
      "\n",
      "Сама же Елена выразила глубокую благодарность за оказанное ей доверие и подчеркнула важность поддержки со стороны общества для спортсменов. \"Это большая честь для меня — стать Почетным гражданином Сочи\", — сказала она. \"Я всегда буду стремиться делать всё возможное для развития спорта в городе и поддерживать молодых талантливых ребят\".\n"
     ]
    }
   ],
   "source": [
    "print(all_responses[1])"
   ]
  },
  {
   "cell_type": "code",
   "execution_count": 23,
   "id": "dcb66077-e7ea-4d03-9e24-6dcc3e38a81e",
   "metadata": {},
   "outputs": [],
   "source": [
    "df_test = pd.read_csv(CSV_FILE)\n",
    "df_test[COLUMN_NAME] = all_responses\n",
    "df_test.to_csv(CSV_FILE, index=False)"
   ]
  },
  {
   "cell_type": "code",
   "execution_count": 24,
   "id": "55d1d42a-e9b1-4c24-aec0-f385a1fb513a",
   "metadata": {},
   "outputs": [
    {
     "name": "stdout",
     "output_type": "stream",
     "text": [
      "Memory before del model:  14\n",
      "Memory after del model:  0\n"
     ]
    }
   ],
   "source": [
    "free_gpu()"
   ]
  },
  {
   "cell_type": "markdown",
   "id": "bc5beb8d-7047-4e90-94c4-6d5a241c69d1",
   "metadata": {},
   "source": [
    "## Sber model inference\n",
    "\n",
    "https://huggingface.co/ai-forever/ruGPT-3.5-13B\n"
   ]
  },
  {
   "cell_type": "code",
   "execution_count": 10,
   "id": "109755c3-5bd9-48ff-bef9-655db4af4b5a",
   "metadata": {},
   "outputs": [
    {
     "name": "stderr",
     "output_type": "stream",
     "text": [
      "The `load_in_4bit` and `load_in_8bit` arguments are deprecated and will be removed in the future versions. Please, pass a `BitsAndBytesConfig` object in `quantization_config` argument instead.\n",
      "`low_cpu_mem_usage` was None, now default to True since model is quantized.\n"
     ]
    },
    {
     "data": {
      "application/vnd.jupyter.widget-view+json": {
       "model_id": "dac917b414af44b7a223c3fc7c084a9a",
       "version_major": 2,
       "version_minor": 0
      },
      "text/plain": [
       "Loading checkpoint shards:   0%|          | 0/6 [00:00<?, ?it/s]"
      ]
     },
     "metadata": {},
     "output_type": "display_data"
    }
   ],
   "source": [
    "from transformers import AutoModelForCausalLM, AutoTokenizer\n",
    "\n",
    "MODEL_NAME = \"ai-forever/ruGPT-3.5-13B\"\n",
    "COLUMN_NAME = \"gen_rugpt_13b\"\n",
    "PROMPT = \"\"\"Заголовок захватывающей подробной длинной новостной статьи:\n",
    "{}\n",
    "\n",
    "Текст статьи:\n",
    "\"\"\"\n",
    "tokenizer = AutoTokenizer.from_pretrained(MODEL_NAME)\n",
    "model = AutoModelForCausalLM.from_pretrained(MODEL_NAME, trust_remote_code=True, load_in_8bit=True)"
   ]
  },
  {
   "cell_type": "code",
   "execution_count": 13,
   "id": "83821b61-1414-49e3-8a53-d1bb9e67f67c",
   "metadata": {},
   "outputs": [],
   "source": [
    "generation_config = GenerationConfig(\n",
    "    temperature=0.6, \n",
    "    repetition_penalty=1.2, \n",
    "    top_p=0.9, \n",
    "    do_sample=True, \n",
    "    max_new_tokens=500, \n",
    ")"
   ]
  },
  {
   "cell_type": "code",
   "execution_count": 16,
   "id": "2448c2ce-8519-48a0-8ed8-d18a89b02b24",
   "metadata": {
    "scrolled": true
   },
   "outputs": [
    {
     "name": "stderr",
     "output_type": "stream",
     "text": [
      "  0%|▌                                                                                                       | 1/200 [00:16<55:26, 16.72s/it]"
     ]
    },
    {
     "name": "stdout",
     "output_type": "stream",
     "text": [
      "Title:\n",
      "На стоянке на Звездной обгорело семь машин\n",
      "Text:\n",
      "Сегодня ночью, около 2 часов, в районе дома №5 по улице Звездная произошло возгорание семи автомобилей. На месте происшествия работают сотрудники МЧС и полиции...\n",
      "\n",
      "--------------------------------------------------\n",
      "\n"
     ]
    },
    {
     "name": "stderr",
     "output_type": "stream",
     "text": [
      "  1%|█                                                                                                       | 2/200 [00:33<54:59, 16.67s/it]"
     ]
    },
    {
     "name": "stdout",
     "output_type": "stream",
     "text": [
      "Title:\n",
      "Олимпийская чемпионка Елена Веснина стала почетным гражданином Сочи\n",
      "Text:\n",
      "В Сочи состоялось торжественное вручение паспортов граждан России четырнадцати юным сочинцам, в том числе и Елене Весниной. Олимпийская чемпионка по теннису получила паспорт вместе с золотой медалью за победу на Олимпиаде-2014, а также дипломом Почетного гражданина города-курорта Сочи. Вместе со спортсменкой паспорта получили ее родители – заслуженный тренер СССР Александр Волков и олимпийский призер Светлана Кузнецова. Также удостоверения были выданы другим известным жителям Сочи - президенту Федерации спортивной борьбы Михаилу Мамиашвили и актеру Владимиру Машкову. \n",
      "\n",
      "--------------------------------------------------\n",
      "\n"
     ]
    },
    {
     "name": "stderr",
     "output_type": "stream",
     "text": [
      "  2%|█▌                                                                                                      | 3/200 [00:50<54:46, 16.68s/it]"
     ]
    },
    {
     "name": "stdout",
     "output_type": "stream",
     "text": [
      "Title:\n",
      "В Алтайском крае под лед провалились четыре человека\n",
      "Text:\n",
      "На реке Обь в районе поселка Калманка Алтайского края произошло ЧП - двое мужчин и две женщины, катавшиеся на снегоходе по льду реки, попали в полынью. \n",
      "\n",
      "--------------------------------------------------\n",
      "\n"
     ]
    },
    {
     "name": "stderr",
     "output_type": "stream",
     "text": [
      "  2%|██                                                                                                      | 4/200 [01:06<54:23, 16.65s/it]"
     ]
    },
    {
     "name": "stdout",
     "output_type": "stream",
     "text": [
      "Title:\n",
      "Президент Молдавии уволил главу своей службы охраны\n",
      "Text:\n",
      "\"В среду, 14 октября президент Молдовы Игорь Додон подписал указ об увольнении главы Службы государственной безопасности Валерия Пасат. Об этом сообщает пресс-служба президента.\"Я принял решение освободить от занимаемой должности руководителя Службы госбезопасности Валерия Пасата в связи с тем, что он не обеспечил должной защиты государственных интересов и является источником распространения информации о деятельности органов власти\", - сказал глава государства на брифинге после подписания указа.Додон добавил, что за время работы Пасата Служба госбезопасности \"не смогла предотвратить ни одно преступление\". В качестве примера президент привел дело об убийстве бывшего депутата парламента республики Мариана Лупу.Как сообщалось ранее, Пасат был задержан 12 мая по обвинению в превышении должностных полномочий при продаже самолетов МиГ-29 в США через компанию Airfix Aviation. На следующий день суд Кишинева постановил арестовать его до 30 июня 2012 года. 13 июля Генпрокуратура предъявила ему обвинения еще по двум статьям Уголовного кодекса (злоупотребление служебными полномочиями и мошенничество).Пасату инкриминируют незаконную продажу двух истребителей румынским посредникам во второй половине 1990-х годов. По данным следствия, стоимость проданных машин составляла примерно 800 миллионов долларов вместо предусмотренных соглашением 385 миллионов. Самолеты были доставлены из России транзитом через Украину без обязательного таможенного досмотра.По словам адвоката экс-главы СГБ Сергея Антонова, в ходе обыска у него дома следователи изъяли около 1 миллиона долларов наличными и документы, подтверждающие право собственности на две квартиры в Москве стоимостью 500 тысяч евро каждая.Сам Пасат свою вину отрицает и утверждает, что уголовное преследование инициировано властями РФ с целью устранить неудобных политиков, которые могли помешать заключению договора между РМ и НАТО. Он также заявил о намерении обжаловать свой домашний арест как меру пресечения.Уголовное дело против Пасата было возбуждено весной 2011 года. Первоначально следствие подозревало его в нанесении ущерба государству путем продажи самолетов Минобороны по заниженной цене компании Somerton Holding, контролируемой бизнесменом Иланом Шором. Однако затем обвинение было переквалифицировано на статью \"Злоупотребления властью или служебным положением, повлекшие тяжкие последствия\".22 сентября Верховный суд РМ снял депутатскую неприкосновенность с Пасата, а 28 ноября парламент лишил его иммунитета.\n",
      "\n",
      "--------------------------------------------------\n",
      "\n"
     ]
    },
    {
     "name": "stderr",
     "output_type": "stream",
     "text": [
      "  2%|██▌                                                                                                     | 5/200 [01:23<54:12, 16.68s/it]"
     ]
    },
    {
     "name": "stdout",
     "output_type": "stream",
     "text": [
      "Title:\n",
      "Бразильянке вызвали скорую после просмотра хоррора «Проклятие Аннабель»\n",
      "Text:\n",
      "На YouTube-канале «Свежее кино» появился ролик, который напугал пользователей сети. В нем показана женщина в больнице и врачи вокруг нее с обеспокоенными лицами. На вопрос одного из них о том, как она себя чувствует, героиня ролика отвечает дрожащим голосом: «Мне кажется, что кто-то проклял меня». \n",
      "\n",
      "--------------------------------------------------\n",
      "\n"
     ]
    },
    {
     "name": "stderr",
     "output_type": "stream",
     "text": [
      "  3%|███                                                                                                     | 6/200 [01:40<53:58, 16.69s/it]"
     ]
    },
    {
     "name": "stdout",
     "output_type": "stream",
     "text": [
      "Title:\n",
      "В Подмосковье травмирована решившая покататься на крыше поезда девочка\n",
      "Text:\n",
      "Девочка упала с крыши электрички в Московской области, ее госпитализировали. \n",
      "\n",
      "--------------------------------------------------\n",
      "\n"
     ]
    },
    {
     "name": "stderr",
     "output_type": "stream",
     "text": [
      "  4%|███▋                                                                                                    | 7/200 [01:56<53:39, 16.68s/it]"
     ]
    },
    {
     "name": "stdout",
     "output_type": "stream",
     "text": [
      "Title:\n",
      "Глава Ростеха заявил, что не считает себя влиятельным человеком в России\n",
      "Text:\n",
      "\"Санкции США против \"Ростеха\", введенные за поддержку режима президента Сирии Башара Асада и якобы связанные с поставками оружия режиму, никаким образом не отразятся на работе госкорпорации. Об этом сообщил глава корпорации Сергей Чемезов.\"Никаких санкций мы из-за этого [ситуаций вокруг поставок С-300 Ирану] не ощущаем, у нас все нормально идет\", сказал он журналистам во вторник (цитата по ТАСС).Как ранее писал РБК, американские санкции предусматривают запрет американским компаниям предоставлять российским предприятиям услуги по страхованию экспорта продукции военного назначения стоимостью более $10 млн, а также оказывать помощь при проведении таких сделок. Кроме того, ограничения распространяются на поставку товаров и технологий двойного назначения, которые могут быть использованы как для военных целей, так и для гражданской промышленности. В начале мая стало известно о том, что министерство финансов США расширило санкционный список российских компаний и физических лиц.В новый перечень попали дочерние структуры Внешэкономбанка Промсвязьбанк, Газпромбанк и Россельхозбанк, банк ВТБ 24, Объединенная двигателестроительная корпорация, производитель вооружений холдинг \"Калашников\". Также под действие американских ограничений подпали Российский национальный коммерческий банк (\"РНКБ\"), Евразийский союз молодежи, ООО \"Евро Полис\", АО \"Сириус\", ОАО \"Станкоинструмент\", ассоциация \"Станкоинструмент\", ПАО \"Объединённая авиастроительная корпорация\", компания \"Химкомпозит\", научно-производственная корпорация \"Тактическое ракетное вооружение\", концерн радиостроения \"Вега\", Конструкторское бюро приборостроения имени академика А. Г. Шипунова, Долгопрудненское конструкторское бюро автоматики, Машиностроительный завод им М. И. Калинина, Мытищинский машиностроительный завод, Морской научно-исследовательский институт радиоэлектроники \"Альтаир\".\n",
      "\n",
      "--------------------------------------------------\n",
      "\n"
     ]
    },
    {
     "name": "stderr",
     "output_type": "stream",
     "text": [
      "  4%|████▏                                                                                                   | 8/200 [02:13<53:22, 16.68s/it]"
     ]
    },
    {
     "name": "stdout",
     "output_type": "stream",
     "text": [
      "Title:\n",
      "Шварценеггер встретил Медведева\n",
      "Text:\n",
      "Губернатор Калифорнии встретился с президентом России на форуме в Санкт-Петербурге. Это был первый визит Шварценеггера за границу после его избрания губернатором штата и первая зарубежная поездка президента России со времени начала украинского кризиса, который привел к санкциям Запада против Москвы из-за ее роли в конфликте между пророссийскими сепаратистами востока Украины и киевским правительством.\n",
      "\n",
      "--------------------------------------------------\n",
      "\n"
     ]
    },
    {
     "name": "stderr",
     "output_type": "stream",
     "text": [
      "  4%|████▋                                                                                                   | 9/200 [02:30<53:06, 16.68s/it]"
     ]
    },
    {
     "name": "stdout",
     "output_type": "stream",
     "text": [
      "Title:\n",
      "Правозащитники попросили СК оценить действия медперсонала ярославской колонии №1\n",
      "Text:\n",
      "Ярославские правозащитники направили в Следственный комитет России заявление с просьбой провести проверку действий сотрудников исправительной колонии (ИК-1) номер 1. Поводом для обращения стали фотографии, на которых видно как медсестра избивает осужденного Евгения Макарова за то, что тот отказался есть кашу. По словам адвоката Дмитрия Аграновского, снимки были сделаны еще 18 марта этого года и опубликованы не только \"Новой газетой\", но и другими изданиями. Правозащитник рассказал, что направил запрос руководству ФСИН о проведении проверки по этому факту. В свою очередь, адвокат Евгений Архипов сообщил радиостанции \"Эхо Москвы\" что намерен подать иск к ИК-1 об оскорблении чести и достоинства своего подзащитного Макаровым.\n",
      "\n",
      "--------------------------------------------------\n",
      "\n"
     ]
    },
    {
     "name": "stderr",
     "output_type": "stream",
     "text": [
      "  5%|█████▏                                                                                                 | 10/200 [02:46<52:48, 16.68s/it]"
     ]
    },
    {
     "name": "stdout",
     "output_type": "stream",
     "text": [
      "Title:\n",
      "Спасатели обнаружили в море тела пассажиров самолёта AirAsia\n",
      "Text:\n",
      "Малайзийские спасатели сегодня утром извлекли из моря два больших фрагмента самолета авиакомпании AirAsia, который потерпел крушение 28 декабря. Обломки были обнаружены к западу от острова Борнео примерно в 200 км от побережья штата Сабах на глубине 32-35 м. \"На данный момент мы не можем сказать точно, принадлежат ли найденные фрагменты пропавшему самолету\", - заявил глава Национального поисково-спасательного управления (Basarnas) Индонезии Хенри Бамбанг Сулистьо. По его словам, обломки очень большие и могут принадлежать только лайнеру А320. На одном из них виден большой логотип Malaysian Airlines, а другой имеет бортовой номер 9M-MAK. В районе обнаружения обломков работают четыре судна индонезийских ВМС. Спасателям удалось обнаружить несколько тел погибших при катастрофе. Тем временем поиски пропавшего авиалайнера продолжаются уже почти неделю. За это время они обследовали около 3 тыс кв.км акватории Индийского океана и более 2 тыс кв.км воздушного пространства над ним, однако следов упавшего самолета найти пока так и не смогли.\n",
      "\n",
      "--------------------------------------------------\n",
      "\n"
     ]
    },
    {
     "name": "stderr",
     "output_type": "stream",
     "text": [
      "  6%|█████▋                                                                                                 | 11/200 [03:03<52:34, 16.69s/it]"
     ]
    },
    {
     "name": "stdout",
     "output_type": "stream",
     "text": [
      "Title:\n",
      "Предприниматель совершил мошенничество с бюджетными средствами\n",
      "Text:\n",
      "\"В США бывший бизнесмен, который был обвинен в хищении более $200 млн из бюджета и отмывании денег, предстанет перед судом. Об этом сообщает Reuters со ссылкой на прокуратуру округа Колумбия (США). По данным следствия, 41-летний Марк Филлипс обманул Министерство обороны США, подделав документы по сделке о покупке двух самолетов Airbus A380.\"\n",
      "\n",
      "--------------------------------------------------\n",
      "\n"
     ]
    },
    {
     "name": "stderr",
     "output_type": "stream",
     "text": [
      "  6%|██████▏                                                                                                | 12/200 [03:20<52:20, 16.70s/it]"
     ]
    },
    {
     "name": "stdout",
     "output_type": "stream",
     "text": [
      "Title:\n",
      "В Нидерландах изобрели летающий гамак\n",
      "Text:\n",
      "\"Голландская компания Lilium Aviation разработала первый в мире летательный аппарат, который может летать как вертолет и при этом парить над землей. \n",
      "\n",
      "--------------------------------------------------\n",
      "\n"
     ]
    },
    {
     "name": "stderr",
     "output_type": "stream",
     "text": [
      "  6%|██████▋                                                                                                | 13/200 [03:36<51:57, 16.67s/it]"
     ]
    },
    {
     "name": "stdout",
     "output_type": "stream",
     "text": [
      "Title:\n",
      "На гей-параде в Москве православные активисты скандировали \"Христос Воскресе\"\n",
      "Text:\n",
      "В субботу, 8 мая 2015 года, на территории московского парка «Сокольники» прошел ежегодный ЛГБТ-фестиваль GayRussia.ru — крупнейший российский парад сексменьшинств за пределами Москвы и Санкт-Петербурга. Мероприятие собрало десятки тысяч человек из России, стран СНГ и Европы. Парад был организован общественным движением Московского гей-прайда (МГП) при поддержке нескольких международных организаций. Как сообщает корреспондент Радио Свобода Наталья Голицына, многие участники парада были задержаны полицией задолго до его начала. Среди задержанных оказались члены движения МГП Алексей Давыдов, Николай Алексеев, а также представители других правозащитных ЛГБТ-организаций.\n",
      "\n",
      "--------------------------------------------------\n",
      "\n"
     ]
    },
    {
     "name": "stderr",
     "output_type": "stream",
     "text": [
      "  7%|███████▏                                                                                               | 14/200 [03:53<51:42, 16.68s/it]"
     ]
    },
    {
     "name": "stdout",
     "output_type": "stream",
     "text": [
      "Title:\n",
      "Сель сошел на федеральной трассе в Забайкалье\n",
      "Text:\n",
      "На федеральной дороге А-350 Чита – Хабаровск из-за сильных дождей произошел сход селевого потока. В результате происшествия никто не пострадал, однако движение по автодороге приостановлено до устранения последствий сошедшей стихии. \n",
      "\n",
      "--------------------------------------------------\n",
      "\n"
     ]
    },
    {
     "name": "stderr",
     "output_type": "stream",
     "text": [
      "  8%|███████▋                                                                                               | 15/200 [04:10<51:28, 16.70s/it]"
     ]
    },
    {
     "name": "stdout",
     "output_type": "stream",
     "text": [
      "Title:\n",
      "Испанские СМИ сообщили об отставке главного тренера \"Реала\"\n",
      "Text:\n",
      "Наставник мадридского Реал Мадрида Хулен Лопетеги покинул свой пост.\n",
      "\n",
      "--------------------------------------------------\n",
      "\n"
     ]
    },
    {
     "name": "stderr",
     "output_type": "stream",
     "text": [
      "  8%|████████▏                                                                                              | 16/200 [04:27<51:15, 16.72s/it]"
     ]
    },
    {
     "name": "stdout",
     "output_type": "stream",
     "text": [
      "Title:\n",
      "Роспотребнадзор  утверждает, что нашел ресторанах Mcdonald's кишечную палочку\n",
      "Text:\n",
      "В России в ресторане сети McDonald’s выявлены нарушения санитарных норм. Об этом сообщает пресс-служба Роспотребнадзора по Московской области. В ходе проверки в одном из ресторанов быстрого питания были обнаружены бактерии группы кишечной палочки и листерии. \"По результатам лабораторного исследования отобранных проб биоматериала установлено несоответствие требованиям технических регламентов Таможенного союза по микробиологическим показателям\", - говорится в сообщении ведомства.\n",
      "\n",
      "--------------------------------------------------\n",
      "\n"
     ]
    },
    {
     "name": "stderr",
     "output_type": "stream",
     "text": [
      "  8%|████████▊                                                                                              | 17/200 [04:43<50:57, 16.71s/it]"
     ]
    },
    {
     "name": "stdout",
     "output_type": "stream",
     "text": [
      "Title:\n",
      "В 2014 году производство электроэнергии в России увеличилось на 0,5%\n",
      "Text:\n",
      "На конец ноября 2013 года общая установленная мощность электростанций России составляла 7382 МВт. По сравнению с аналогичным периодом прошлого года этот показатель вырос всего на 2%. В то же время объем выработки электроэнергии увеличился лишь на 0,5%, что стало самым низким показателем за последние десять лет.\n",
      "\n",
      "--------------------------------------------------\n",
      "\n"
     ]
    },
    {
     "name": "stderr",
     "output_type": "stream",
     "text": [
      "  9%|█████████▎                                                                                             | 18/200 [05:00<50:39, 16.70s/it]"
     ]
    },
    {
     "name": "stdout",
     "output_type": "stream",
     "text": [
      "Title:\n",
      "Введением паспортов нового поколения займется Нургалиев\n",
      "Text:\n",
      "\"Паспорта будут выдаваться с 1 января 2009 года, а к 2011 году все граждане страны получат биометрические паспорта. Как сообщил на заседании правительственной комиссии по миграционной политике глава МВД Рашид Нургалиев, уже в этом году начнется пилотный проект внедрения новых документов.\"\n",
      "\n",
      "--------------------------------------------------\n",
      "\n"
     ]
    },
    {
     "name": "stderr",
     "output_type": "stream",
     "text": [
      " 10%|█████████▊                                                                                             | 19/200 [05:17<50:22, 16.70s/it]"
     ]
    },
    {
     "name": "stdout",
     "output_type": "stream",
     "text": [
      "Title:\n",
      "Главу поселка в Зауралье привлекут к ответственности за многочисленные свалки отходов\n",
      "Text:\n",
      "В Шумихинском районе Курганской области главу одного из поселков будут судить за несанкционированные свалки. В отношении него возбуждено уголовное дело по статье «Нарушение правил охраны окружающей среды при производстве работ». Как рассказали Накануне.RU в пресс-службе регионального следственного управления СКР, обвиняемый допустил нарушения на территории поселения Кетовского района. \n",
      "\n",
      "--------------------------------------------------\n",
      "\n"
     ]
    },
    {
     "name": "stderr",
     "output_type": "stream",
     "text": [
      " 10%|██████████▎                                                                                            | 20/200 [05:33<50:07, 16.71s/it]"
     ]
    },
    {
     "name": "stdout",
     "output_type": "stream",
     "text": [
      "Title:\n",
      "На Новгородской улице задержан автомобиль с &quot;нелегальным&quot; грузом пива\n",
      "Text:\n",
      "В ходе проверки, проведенной сотрудниками ОБЭП УВД по ЦАО ГУ МВД России по г. Москве на территории рынка \"Таганский ряд\" (Новгородская улица), расположенного в доме № 29, стр 1., был выявлен факт перевозки и реализации продукции без лицензии. В результате проведения оперативно-розыскных мероприятий сотрудники полиции задержали грузовой автомобиль марки MAN, принадлежащий одному из столичных предпринимателей. Из полуприцепа было изъято более 20 тысяч бутылок алкогольной продукции различных наименований общим объемом около 100 литров. Вся продукция была направлена для исследования экспертам Центральной акцизной таможни. По результатам экспертизы установлено, что данная партия контрафактного алкоголя является пивом и относится к категории крепкого спиртного напитка – пиво крепкое, алкогольное. Данный товар изъят и помещен на склад временного хранения. Возбуждено уголовное дело по ст. 171 УК РФ «Незаконная предпринимательская деятельность».\n",
      "\n",
      "--------------------------------------------------\n",
      "\n"
     ]
    },
    {
     "name": "stderr",
     "output_type": "stream",
     "text": [
      " 10%|██████████▊                                                                                            | 21/200 [05:50<49:55, 16.73s/it]"
     ]
    },
    {
     "name": "stdout",
     "output_type": "stream",
     "text": [
      "Title:\n",
      "Китай ограничит иностранные инвестиции своих компаний\n",
      "Text:\n",
      "Правительство Китая намерено ограничить иностранных инвесторов в компаниях, которые оно планирует приватизировать. По данным источников Bloomberg News и Reuters, Пекин уже начал переговоры с иностранными инвесторами о том, как они могут обойти новые правила.\n",
      "\n",
      "--------------------------------------------------\n",
      "\n"
     ]
    },
    {
     "name": "stderr",
     "output_type": "stream",
     "text": [
      " 11%|███████████▎                                                                                           | 22/200 [06:07<49:39, 16.74s/it]"
     ]
    },
    {
     "name": "stdout",
     "output_type": "stream",
     "text": [
      "Title:\n",
      "Из плена боевиков освободили украинского разведчика, - Порошенко\n",
      "Text:\n",
      "\"Президент Украины Петр Порошенко сообщил об освобождении из плена на Донбассе военного-разведчика. Об этом глава государства написал в своем микроблоге Twitter.\"Сегодня утром мы получили информацию о том, что из плена освобожден наш боец, военный-разведчик\", - говорится в сообщении.По его словам, это первый случай освобождения военнослужащего за последние месяцы.Ранее сообщалось, что украинские военные продолжают удерживать около 100 человек пленных.Обмен пленными между Украиной и ДНР/ЛНР был приостановлен до 26 декабря по инициативе Киева.\n",
      "\n",
      "--------------------------------------------------\n",
      "\n"
     ]
    },
    {
     "name": "stderr",
     "output_type": "stream",
     "text": [
      " 12%|███████████▊                                                                                           | 23/200 [06:24<49:24, 16.75s/it]"
     ]
    },
    {
     "name": "stdout",
     "output_type": "stream",
     "text": [
      "Title:\n",
      "Легкомоторный самолет совершил жесткую посадку под Москвой\n",
      "Text:\n",
      "В Подмосковье легкомоторному самолету Cessna не хватило топлива для аварийной посадки. Инцидент произошел в субботу, 27 ноября, около 18 часов на поле вблизи деревни Дьяково городского округа Домодедово. По предварительным данным, пилот самолета принял решение совершить экстренную посадку из-за того, что закончилось топливо. Самолет приземлился с большим перелетом и выкатился за пределы взлетно-посадочной полосы, сообщили ТАСС в правоохранительных органах Московской области. В результате жесткой посадки никто не пострадал.\n",
      "\n",
      "--------------------------------------------------\n",
      "\n"
     ]
    },
    {
     "name": "stderr",
     "output_type": "stream",
     "text": [
      " 12%|████████████▎                                                                                          | 24/200 [06:40<49:03, 16.72s/it]"
     ]
    },
    {
     "name": "stdout",
     "output_type": "stream",
     "text": [
      "Title:\n",
      "На Алтае строят две сельские дороги за 125 млн рублей\n",
      "Text:\n",
      "Строительство дорог на селе - одна из приоритетных задач властей. В Алтайском крае активно идет реализация программы \"Устойчивое развитие сельских территорий\". За последние годы в регионе построено и реконструировано более 100 км автодорог, возведено 18 фельдшерско-акушерских пунктов и три модульных амбулатории общей площадью почти 6 тыс. кв м. На эти цели направлено около 250 миллионов бюджетных средств. \n",
      "\n",
      "--------------------------------------------------\n",
      "\n"
     ]
    },
    {
     "name": "stderr",
     "output_type": "stream",
     "text": [
      " 12%|████████████▉                                                                                          | 25/200 [06:57<48:45, 16.72s/it]"
     ]
    },
    {
     "name": "stdout",
     "output_type": "stream",
     "text": [
      "Title:\n",
      "В Госдуме предложили заморозить ОСАГО до 2017 года\n",
      "Text:\n",
      "Государственная Дума России приняла в первом чтении законопроект о продлении срока действия полисов обязательного страхования автогражданской ответственности (ОСАГО) еще на один год - до 1 января 2017-го. По мнению депутатов, это позволит стабилизировать ситуацию с выплатами пострадавшим от ДТП и не допустить роста цен на полисы автострахования. Однако эксперты полагают, что этот шаг вряд ли изменит отношение автомобилистов к обязательной страховке.\n",
      "\n",
      "--------------------------------------------------\n",
      "\n"
     ]
    },
    {
     "name": "stderr",
     "output_type": "stream",
     "text": [
      " 13%|█████████████▍                                                                                         | 26/200 [07:14<48:26, 16.71s/it]"
     ]
    },
    {
     "name": "stdout",
     "output_type": "stream",
     "text": [
      "Title:\n",
      "Патриарха Алексия II выпишут через неделю-две\n",
      "Text:\n",
      "Врачи констатируют, что состояние патриарха Московского и всея Руси Алексий Второго улучшается. Об этом сообщил в понедельник \"Интерфаксу\" источник в медицинских кругах столицы. По его словам, патриарх был госпитализирован во вторник вечером с диагнозом инсульт на фоне атеросклероза сосудов сердца и гипертонической болезни.\n",
      "\n",
      "--------------------------------------------------\n",
      "\n"
     ]
    },
    {
     "name": "stderr",
     "output_type": "stream",
     "text": [
      " 14%|█████████████▉                                                                                         | 27/200 [07:30<48:06, 16.69s/it]"
     ]
    },
    {
     "name": "stdout",
     "output_type": "stream",
     "text": [
      "Title:\n",
      "Погранслужба: Киев не контролирует 400 км границы с Россией\n",
      "Text:\n",
      "На российско-украинской границе на территории Ростовской области существует около 40 километров незащищенных участков, где незаконные вооруженные формирования могут пересечь границу и вторгнуться в Россию. Об этом сообщил заместитель начальника пограничного управления ФСБ России по Южному федеральному округу Андрей Орлов в ходе пресс-конференции во вторник, 2 февраля.\"В прошлом году мы зафиксировали порядка 400 таких мест\", - цитирует его слова РИА \"Новости\".По словам Орлова, из этих 400 точек более 200 находятся вдоль участка государственной границы протяженностью примерно 100 километров между российским городом Миллерово (Ростовская область) и украинским населенным пунктом Тарасовка (Луганская область).Замначальника погрануправления отметил, что это самая большая проблема для сотрудников ведомства. Он добавил, что украинские силовики также используют эти участки как место отдыха или скрытного перехода.Орлов подчеркнул, что пограничники принимают меры к усилению охраны данных территорий. В частности, они проводят инженерное оборудование местности, устанавливают средства наблюдения за границей и оборудуют дополнительные контрольно-пропускные пункты.Он рассказал о задержании группы лиц, пытавшихся проникнуть через границу под видом беженцев. По данным российской стороны, задержанные оказались гражданами Украины. Они сообщили сотрудникам правоохранительных органов РФ, что намеревались попасть в Ростовскую область, чтобы вступить там в ряды ополчения самопровозглашенной Донецкой народной республики.Ранее сообщалось, что глава Госпогранслужбы Украины Виктор Назаренко заявил, что ведомство может создать спецподразделение быстрого реагирования численностью до тысячи человек. Такое решение было принято после обострения обстановки на юго-востоке страны, где продолжаются столкновения украинских военных и ополченцев.\n",
      "\n",
      "--------------------------------------------------\n",
      "\n"
     ]
    },
    {
     "name": "stderr",
     "output_type": "stream",
     "text": [
      " 14%|██████████████▍                                                                                        | 28/200 [07:47<47:47, 16.67s/it]"
     ]
    },
    {
     "name": "stdout",
     "output_type": "stream",
     "text": [
      "Title:\n",
      "Футболист сборной Бразилии Рональдиньо намерен выступить за страну на Олимпиаде-2012 в Лондоне\n",
      "Text:\n",
      "Роналдиньо, который сейчас играет за «Барселону», может вернуться к национальной команде после чемпионата мира. В конце июня он был вызван для подготовки к Кубку Америки и рассчитывает сыграть там против Парагвая (17 июля), Перу (19 июля) и Венесуэлы (21 июля). Кроме того, 32-летний полузащитник примет участие во встрече с Эквадором (27 августа). \n",
      "\n",
      "--------------------------------------------------\n",
      "\n"
     ]
    },
    {
     "name": "stderr",
     "output_type": "stream",
     "text": [
      " 14%|██████████████▉                                                                                        | 29/200 [08:04<47:29, 16.66s/it]"
     ]
    },
    {
     "name": "stdout",
     "output_type": "stream",
     "text": [
      "Title:\n",
      "Пропал самолет Минобороны с артистами – возможно, упал в Черное море\n",
      "Text:\n",
      "Самолет пропал с радаров вчера вечером. На борту находились артисты ансамбля имени Александрова и девять журналистов Первого канала, «Звезды» и НТВ… Предположительно, все они погибли при крушении самолета Ан-148 над Ростовской областью недалеко от деревни Аргуново. \n",
      "\n",
      "--------------------------------------------------\n",
      "\n"
     ]
    },
    {
     "name": "stderr",
     "output_type": "stream",
     "text": [
      " 15%|███████████████▍                                                                                       | 30/200 [08:20<47:14, 16.68s/it]"
     ]
    },
    {
     "name": "stdout",
     "output_type": "stream",
     "text": [
      "Title:\n",
      "\"Щенок-единорог\" с хвостом на лбу стал звездой соцсетей\n",
      "Text:\n",
      "На прошлой неделе щенок по кличке Вуди из Калифорнии, известный как \"щенок-единорог\", был замечен в городе Санта Кларита. Он бегал со своим хозяином и его семьей. Щенку около двух месяцев, но у него уже есть хвост длиной 15 см и пушистая морда, напоминающая морду единорога. Хвост он потерял вскоре после рождения. Хозяева щенка рассказали, что они нашли его возле дороги несколько недель назад и принесли домой.\n",
      "\n",
      "--------------------------------------------------\n",
      "\n"
     ]
    },
    {
     "name": "stderr",
     "output_type": "stream",
     "text": [
      " 16%|███████████████▉                                                                                       | 31/200 [08:37<47:00, 16.69s/it]"
     ]
    },
    {
     "name": "stdout",
     "output_type": "stream",
     "text": [
      "Title:\n",
      "Полиция ищет бомбы во всех McDonald's Киева\n",
      "Text:\n",
      "Правоохранительные органы Украины проводят рейды в ресторанах быстрого питания McDonald’s. Полиция обыскивает рестораны, а также проверяет подозрительные автомобили и здания. \n",
      "\n",
      "--------------------------------------------------\n",
      "\n"
     ]
    },
    {
     "name": "stderr",
     "output_type": "stream",
     "text": [
      " 16%|████████████████▍                                                                                      | 32/200 [08:54<46:47, 16.71s/it]"
     ]
    },
    {
     "name": "stdout",
     "output_type": "stream",
     "text": [
      "Title:\n",
      "В колонию в Форносово пытались перебросить четыре телефона\n",
      "Text:\n",
      "Сотрудники ИК-6 задержали двух граждан, пытавшихся пронести на территорию исправительного учреждения четыре мобильных телефона. Как сообщили «Фонтанке» в УФСИН по Петербургу и Ленобласти, попытка передачи сотовых телефонов была пресечена сотрудниками колонии при досмотре вещей осужденных. \n",
      "\n",
      "--------------------------------------------------\n",
      "\n"
     ]
    },
    {
     "name": "stderr",
     "output_type": "stream",
     "text": [
      " 16%|████████████████▉                                                                                      | 33/200 [09:11<46:30, 16.71s/it]"
     ]
    },
    {
     "name": "stdout",
     "output_type": "stream",
     "text": [
      "Title:\n",
      "Генсек РФС об оскорблявших Дзюбу фанатах: «Кучка псевдоболельщиков попыталась испортить нам праздник»\n",
      "Text:\n",
      "«В воскресенье в Москве состоялся матч за Суперкубок России между ЦСКА и \"Зенитом\". Встречу посетили около 60 тысяч зрителей. На трибунах присутствовали президент Российской футбольной Премьер-Лиги Сергей Прядкин, генеральный директор оргкомитета Объединенного чемпионата Валерий Газзаев, главный тренер сборной страны Фабио Капелло, министр спорта Виталий Мутко, а также футболисты обеих команд — Игорь Акинфеев, Юрий Жирков, Александр Кокорин, Алан Дзагоев и Артем Дзюба».\n",
      "\n",
      "--------------------------------------------------\n",
      "\n"
     ]
    },
    {
     "name": "stderr",
     "output_type": "stream",
     "text": [
      " 17%|█████████████████▌                                                                                     | 34/200 [09:27<46:13, 16.71s/it]"
     ]
    },
    {
     "name": "stdout",
     "output_type": "stream",
     "text": [
      "Title:\n",
      "Виталий Миколенко: \"Это не фантастика, мы много над этим работали\"\n",
      "Text:\n",
      "Ученые из МФТИ и Института физики твердого тела РАН создали сверхпроводниковый лазер на основе оксида иттрия-бария-меди (ITOBC). Новый материал может найти применение в медицине для создания эффективных лекарственных препаратов. Об этом сообщил один из авторов исследования Виталий Миколенко, заведующий лабораторией спектроскопии поверхности материалов НИТУ «МИСиС». Он рассказал ТАСС о перспективах применения ITOBC при создании медицинских приборов нового поколения. \n",
      "\n",
      "--------------------------------------------------\n",
      "\n"
     ]
    },
    {
     "name": "stderr",
     "output_type": "stream",
     "text": [
      " 18%|██████████████████                                                                                     | 35/200 [09:44<45:53, 16.69s/it]"
     ]
    },
    {
     "name": "stdout",
     "output_type": "stream",
     "text": [
      "Title:\n",
      "Пожар на нефтеперерабатывающем заводе в Казахстане потушили\n",
      "Text:\n",
      "В четверг, 2 октября 2018 года, около 17.30 часов по местному времени (14.30 мск), пожарно-спасательные подразделения МЧС Казахстана ликвидировали возгорание резервуара с нефтью объемом 800 кубических метров и газгольдера емкостью 200 кубометров на территории завода «Эмбамунайгаз» города Актау Мангистауской области республики Казахстан. \n",
      "\n",
      "--------------------------------------------------\n",
      "\n"
     ]
    },
    {
     "name": "stderr",
     "output_type": "stream",
     "text": [
      " 18%|██████████████████▌                                                                                    | 36/200 [10:01<45:36, 16.69s/it]"
     ]
    },
    {
     "name": "stdout",
     "output_type": "stream",
     "text": [
      "Title:\n",
      "Водку и воспитателя в детской кроватке нашли в детсаду Петербурга\n",
      "Text:\n",
      "В детском саду на Васильевском острове (Санкт-Петербург) полицейские обнаружили водку, а также тело женщины. По данным следствия, алкоголь был найден при досмотре вещей одной из воспитательниц детского сада. Кроме того, по предварительным сведениям, женщина была мертва уже несколько дней. Как сообщили \"Росбалту\" в пресс-службе ГУ МВД России по Санкт-Петербургу и Ленинградской области, в ходе обыска у нее дома были найдены еще три бутылки водки, одна из которых пустая. Также сотрудники полиции обнаружили в квартире погибшей следы крови. В настоящее время возбуждено уголовное дело по ст.105 УК РФ (\"Убийство\"). Ведется расследование.\n",
      "\n",
      "--------------------------------------------------\n",
      "\n"
     ]
    },
    {
     "name": "stderr",
     "output_type": "stream",
     "text": [
      " 18%|███████████████████                                                                                    | 37/200 [10:17<45:20, 16.69s/it]"
     ]
    },
    {
     "name": "stdout",
     "output_type": "stream",
     "text": [
      "Title:\n",
      "Песков подтвердил готовность Путина встретиться с Обамой\n",
      "Text:\n",
      "В Кремле подтвердили, что Путин готов к встрече со своим американским коллегой Бараком Обамой. В интервью американскому телеканалу CBS пресс-секретарь президента России Дмитрий Песков сообщил, что встреча может состояться во время Генассамблеи ООН в Нью-Йорке. При этом он отметил, что о конкретных сроках говорить пока рано. \"Мы никогда не исключаем никакие варианты\", заявил представитель Кремля.\n",
      "\n",
      "--------------------------------------------------\n",
      "\n"
     ]
    },
    {
     "name": "stderr",
     "output_type": "stream",
     "text": [
      " 19%|███████████████████▌                                                                                   | 38/200 [10:34<45:04, 16.69s/it]"
     ]
    },
    {
     "name": "stdout",
     "output_type": "stream",
     "text": [
      "Title:\n",
      "ЦБ: Чистый отток капитала из России за год сократился в пять раз\n",
      "Text:\n",
      "Чистый вывоз частного капитала частным сектором РФ по итогам 2016 года составил $15,7 млрд (в 2015 году - $49,2 млрд). Такие данные приводит Банк России. По сравнению с предыдущим годом этот показатель снизился более чем на 50%. В то же время ЦБ отмечает сокращение чистого ввоза капитала частным сектором страны до уровня ниже $10 млрд впервые за последние четыре года ($14,3 млрд), что также свидетельствует об укреплении позиций национальной валюты.\n",
      "\n",
      "--------------------------------------------------\n",
      "\n"
     ]
    },
    {
     "name": "stderr",
     "output_type": "stream",
     "text": [
      " 20%|████████████████████                                                                                   | 39/200 [10:51<44:47, 16.70s/it]"
     ]
    },
    {
     "name": "stdout",
     "output_type": "stream",
     "text": [
      "Title:\n",
      "Жириновский на встрече с Путиным предложил выплачивать пособия на лечение от бесплодия\n",
      "Text:\n",
      "Владимир Жириновский, лидер ЛДПР и депутат Госдумы РФ, в ходе встречи президента России Владимира Путина со своими сторонниками высказал предложение о выплате пособий по лечению бесплодия. \n",
      "\n",
      "--------------------------------------------------\n",
      "\n"
     ]
    },
    {
     "name": "stderr",
     "output_type": "stream",
     "text": [
      " 20%|████████████████████▌                                                                                  | 40/200 [11:07<44:31, 16.70s/it]"
     ]
    },
    {
     "name": "stdout",
     "output_type": "stream",
     "text": [
      "Title:\n",
      "Пропал сигнал с российского спутника связи &quot;Ямал-201&quot;\n",
      "Text:\n",
      "В пятницу, 13 января 2013 года в 10 часов по московскому времени был потерян контроль над российским спутником связи «Ямал-201». Аппарат не выходит на связь. На борту находятся 23 транспондера Ku диапазона и один – Сетевой ретранслятор FR6. В настоящее время специалисты пытаются восстановить связь со спутником. http://lenta.ru/news/2013/01/13/yamal/\n",
      "\n",
      "--------------------------------------------------\n",
      "\n"
     ]
    },
    {
     "name": "stderr",
     "output_type": "stream",
     "text": [
      " 20%|█████████████████████                                                                                  | 41/200 [11:24<44:16, 16.71s/it]"
     ]
    },
    {
     "name": "stdout",
     "output_type": "stream",
     "text": [
      "Title:\n",
      "Жительницу Весьегонского района будут судить за убийство мужа кухонным ножом\n",
      "Text:\n",
      "Следователи завершили расследование уголовного дела в отношении жительницы Весьегонска. Ее обвиняют в убийстве супруга, сообщает пресс-служба СУ СК РФ по Тверской области. По версии следствия, вечером 24 апреля 2015 года между супругами произошла ссора из-за того, что женщина не смогла вовремя приготовить ужин для своего мужа. В ходе конфликта она нанесла ему несколько ударов кухонным ножом. От полученных травм мужчина скончался на месте происшествия.\n",
      "\n",
      "--------------------------------------------------\n",
      "\n"
     ]
    },
    {
     "name": "stderr",
     "output_type": "stream",
     "text": [
      " 21%|█████████████████████▋                                                                                 | 42/200 [11:41<43:58, 16.70s/it]"
     ]
    },
    {
     "name": "stdout",
     "output_type": "stream",
     "text": [
      "Title:\n",
      "В столице появится еще одна велодорожка длиной восемь километров\n",
      "Text:\n",
      "\"На юго-западе Москвы построят новую велосипедную дорожку протяженностью 8,2 км. Об этом сообщили в столичном департаменте транспорта и развития дорожно-транспортной инфраструктуры.\" \n",
      "\n",
      "--------------------------------------------------\n",
      "\n"
     ]
    },
    {
     "name": "stderr",
     "output_type": "stream",
     "text": [
      " 22%|██████████████████████▏                                                                                | 43/200 [11:57<43:42, 16.71s/it]"
     ]
    },
    {
     "name": "stdout",
     "output_type": "stream",
     "text": [
      "Title:\n",
      "Потерявшуюся в Крыму девочку нашли мёртвой\n",
      "Text:\n",
      "В субботу, 20 августа, на берегу моря близ Евпатории было найдено тело девочки. По предварительным данным, она утонула во время купания. На теле погибшей не обнаружено видимых признаков насильственной смерти. В настоящее время устанавливаются все обстоятельства произошедшего. Назначена судебно-медицинская экспертиза тела ребёнка для определения точной причины её гибели.\n",
      "\n",
      "--------------------------------------------------\n",
      "\n"
     ]
    },
    {
     "name": "stderr",
     "output_type": "stream",
     "text": [
      " 22%|██████████████████████▋                                                                                | 44/200 [12:14<43:29, 16.73s/it]"
     ]
    },
    {
     "name": "stdout",
     "output_type": "stream",
     "text": [
      "Title:\n",
      "В Вологодской области слабовидящие граждане голосуют с применением спецсредств\n",
      "Text:\n",
      "Слабо видящим людям в Череповце помогают голосовать на выборах при помощи специальных очков и лазерных указок. Как рассказал корреспонденту ИА REGNUM председатель избирательной комиссии города Дмитрий Морев, такие меры необходимы для того чтобы не допустить искажения результатов волеизъявления избирателей из-за недостатков зрения у участников голосования. По его словам, если человек плохо видит или же вовсе слепнет, он может воспользоваться помощью волонтеров - они помогут ему заполнить бюллетень и поставить подпись. Однако многие избиратели отказываются от такой возможности, поскольку опасаются за свою безопасность. \"Для людей со слабым зрением избирательная комиссия предлагает специальные очки с увеличительными стеклами. Они нужны им для того, чтобы правильно прочитать текст на расстоянии вытянутой руки\", - пояснил Морев. Он также добавил, что эти средства защиты будут выдаваться бесплатно тем, кто придет на выборы по месту жительства. \n",
      "\n",
      "--------------------------------------------------\n",
      "\n"
     ]
    },
    {
     "name": "stderr",
     "output_type": "stream",
     "text": [
      " 22%|███████████████████████▏                                                                               | 45/200 [12:31<43:09, 16.71s/it]"
     ]
    },
    {
     "name": "stdout",
     "output_type": "stream",
     "text": [
      "Title:\n",
      "Российские парламентарии пригласили сирийских коллег посетить РФ в апреле\n",
      "Text:\n",
      "В Москве прошла встреча российских депутатов с делегацией из Сирии, которая прибыла для участия в международной конференции «Москва-Бейрут», посвященной 70-летию установления дипломатических отношений между Россией и Ливаном. Делегацию возглавлял председатель Народного совета (парламента) САР Мухаммед Джихад Аль-Ляххам. В ходе встречи депутаты Госдумы от КПРФ Валерий Рашкин и Сергей Обухов обратились к коллегам из Сирийской Арабской Республики с предложением о взаимной встрече на территории России. Они также выразили надежду, что российские и ливанские законодатели смогут обсудить вопросы по восстановлению экономики страны после освобождения ее территорий от боевиков ИГ*. \n",
      "\n",
      "--------------------------------------------------\n",
      "\n"
     ]
    },
    {
     "name": "stderr",
     "output_type": "stream",
     "text": [
      " 23%|███████████████████████▋                                                                               | 46/200 [12:48<42:51, 16.70s/it]"
     ]
    },
    {
     "name": "stdout",
     "output_type": "stream",
     "text": [
      "Title:\n",
      "СМИ: два человека получили ранения при стрельбе в школе в штате Индиана\n",
      "Text:\n",
      "Два человека ранены во время стрельбы на территории школы округа Уэйнрайт в американском городе Индепенденс. Об этом сообщает телеканал Fox59 со ссылкой на полицию штата. По данным правоохранителей, инцидент произошел около 15 часов по местному времени (22 часа мск). Отмечается, что пострадавшие доставлены в больницу с огнестрельными ранениями и находятся под наблюдением врачей. На месте происшествия работают полицейские. Другие подробности инцидента не сообщаются.\n",
      "\n",
      "--------------------------------------------------\n",
      "\n"
     ]
    },
    {
     "name": "stderr",
     "output_type": "stream",
     "text": [
      " 24%|████████████████████████▏                                                                              | 47/200 [13:04<42:36, 16.71s/it]"
     ]
    },
    {
     "name": "stdout",
     "output_type": "stream",
     "text": [
      "Title:\n",
      "\"Лада Калина\" ударила девочку в Пскове\n",
      "Text:\n",
      "В Псковской области произошло ДТП с участием автомобиля Lada Kalina, которым управляла 12-летняя девочка. Как сообщили корреспонденту ПАИ в пресс-службе УГИБДД по региону, авария произошла около 11 часов утра на улице Гагарина города Пскова. По предварительным данным, водитель ВАЗ-21124 при повороте налево не уступил дорогу и столкнулся с автомобилем «ВАЗ-21099». В результате дорожно-транспортного происшествия пострадал пассажир \"девятки\". Девочка получила ушиб голени левой ноги.\n",
      "\n",
      "--------------------------------------------------\n",
      "\n"
     ]
    },
    {
     "name": "stderr",
     "output_type": "stream",
     "text": [
      " 24%|████████████████████████▋                                                                              | 48/200 [13:21<42:20, 16.71s/it]"
     ]
    },
    {
     "name": "stdout",
     "output_type": "stream",
     "text": [
      "Title:\n",
      "ДНР сегодня отведёт от линии соприкосновения миномёты\n",
      "Text:\n",
      "Сегодня, 16 марта 2015 года в соответствии с графиком вывода вооружения и военной техники из зоны боевых действий на Донбассе Народная милиция Донецкой народной республики начнет отвод минометов. Об этом заявил заместитель командующего корпусом Минобороны ДНР Эдуард Басурин. \"В настоящее время идет подготовка к началу процесса по выводу артиллерийских систем калибра менее 100 мм\", - сказал замкомкорпусом. Он подчеркнул, что отвод вооружений будет проходить под контролем представителей миссии ОБСЕ.\"Отвод начнется завтра (17 марта) утром при условии соблюдения режима прекращения огня со стороны ВСУ\", отметил представитель военного ведомства Республики. В случае нарушения условий договоренностей техника вернется на боевые позиции за несколько часов до начала следующего дня. По словам Эдуарда Басурина, это делается для того, чтобы не допустить провокаций со стороны украинских силовиков. Отвод артиллерии является одним из пунктов подписанного 12 февраля контактной группой документа об урегулировании ситуации на востоке Украины. Ранее сообщалось, что процесс отвода тяжелого вооружения должен был начаться 15-16 марта. Однако украинская сторона объявила о том, что начинает односторонний отвод тяжелой техники только после подписания соглашения в Минске 19 сентября 2014 г., а затем продлила этот срок еще на три недели.\n",
      "\n",
      "--------------------------------------------------\n",
      "\n"
     ]
    },
    {
     "name": "stderr",
     "output_type": "stream",
     "text": [
      " 24%|█████████████████████████▏                                                                             | 49/200 [13:38<42:04, 16.72s/it]"
     ]
    },
    {
     "name": "stdout",
     "output_type": "stream",
     "text": [
      "Title:\n",
      "Ради своего \"Мерседеса\" саратовец выплатил стотысячный долг по штрафам\n",
      "Text:\n",
      "В Саратове судебные приставы взыскали с местного жителя 100 тысяч рублей долга за нарушение правил дорожного движения. Мужчина был оштрафован на 3 тысячи рублей, но платить не спешил. Судебный пристав-исполнитель наложил арест на его автомобиль «Мазда 6». Приставы выяснили, что у должника имеется еще один непогашенный кредит в банке и арестовали принадлежащий ему мотоцикл Honda Dio 1999 года выпуска. В итоге должник погасил весь долг до того как арестованное имущество было продано в счет погашения задолженности.\n",
      "\n",
      "--------------------------------------------------\n",
      "\n"
     ]
    },
    {
     "name": "stderr",
     "output_type": "stream",
     "text": [
      " 25%|█████████████████████████▊                                                                             | 50/200 [13:55<41:49, 16.73s/it]"
     ]
    },
    {
     "name": "stdout",
     "output_type": "stream",
     "text": [
      "Title:\n",
      "Участок дороги в Тольятти открыли для двустороннего движения\n",
      "Text:\n",
      "В среду, 11 июня 2015 года, состоялось торжественное открытие участка автодороги \"Подъезд к городу-спутнику Казани посёлку Мирный\", который был реконструирован за два с половиной месяца. В церемонии открытия принял участие министр транспорта и дорожного хозяйства Республики Татарстан Ленар Сафин. Министр отметил важность нового объекта инфраструктуры не только для жителей посёлка Мирный, но и всего города Казани. По его словам, эта дорога позволит значительно сократить время пути между двумя крупнейшими мегаполисами России и будет способствовать развитию туризма. Участок новой трассы имеет четыре полосы движения (по две в каждом направлении) и проходит через несколько населённых пунктов по территории Советского района г.Казани. Стоимость работ составила более 2 млрд рублей.\n",
      "\n",
      "--------------------------------------------------\n",
      "\n"
     ]
    },
    {
     "name": "stderr",
     "output_type": "stream",
     "text": [
      " 26%|██████████████████████████▎                                                                            | 51/200 [14:11<41:32, 16.72s/it]"
     ]
    },
    {
     "name": "stdout",
     "output_type": "stream",
     "text": [
      "Title:\n",
      "Украинские спасатели продолжают бороться с огнем в Чернобыльской зоне\n",
      "Text:\n",
      "Пожарные и лесники не могут остановить распространение огня, бушующего на территории \"Чернобыльской пущи\", сообщил пресс-секретарь Государственной службы по чрезвычайным ситуациям Украины Николай Чечеткин. \n",
      "\n",
      "--------------------------------------------------\n",
      "\n"
     ]
    },
    {
     "name": "stderr",
     "output_type": "stream",
     "text": [
      " 26%|██████████████████████████▊                                                                            | 52/200 [14:28<41:16, 16.73s/it]"
     ]
    },
    {
     "name": "stdout",
     "output_type": "stream",
     "text": [
      "Title:\n",
      "Истек срок футбольной тренерской лицензии сербского специалиста Славолюба Муслина \n",
      "Text:\n",
      "Сербский футбольный специалист Славолюб Муслин, тренирующий азербайджанский клуб \"Габала\", не имеет действующей лицензии на работу в качестве тренера. Об этом заявил представитель Футбольного союза Сербии (ФСС) Бошко Джуровски...\n",
      "\n",
      "--------------------------------------------------\n",
      "\n"
     ]
    },
    {
     "name": "stderr",
     "output_type": "stream",
     "text": [
      " 26%|███████████████████████████▎                                                                           | 53/200 [14:45<41:01, 16.74s/it]"
     ]
    },
    {
     "name": "stdout",
     "output_type": "stream",
     "text": [
      "Title:\n",
      "Футбольный клуб «Гомель» хотят лишить очков за долги по зарплате\n",
      "Text:\n",
      "В ФК \"Гомель\" из-за долгов по заработной плате могут снять очки. Об этом сообщил председатель Белорусской федерации футбола Сергей Румас, передает БЕЛТА.\n",
      "\n",
      "--------------------------------------------------\n",
      "\n"
     ]
    },
    {
     "name": "stderr",
     "output_type": "stream",
     "text": [
      " 27%|███████████████████████████▊                                                                           | 54/200 [15:02<40:44, 16.75s/it]"
     ]
    },
    {
     "name": "stdout",
     "output_type": "stream",
     "text": [
      "Title:\n",
      "Как украинские СМИ нашли на Донбассе российского боевого «Чебурашку»\n",
      "Text:\n",
      "На востоке Украины воюет российский спецназ. В эксклюзивном интервью \"Обозревателю\" боец украинского спецподразделения рассказал, как российские военные маскируются под местных жителей и выдают себя за ополченцев. Также он раскрыл секрет, почему не стоит доверять информации из соцсетей о потерях российских войск в Украине.\n",
      "\n",
      "--------------------------------------------------\n",
      "\n"
     ]
    },
    {
     "name": "stderr",
     "output_type": "stream",
     "text": [
      " 28%|████████████████████████████▎                                                                          | 55/200 [15:18<40:25, 16.73s/it]"
     ]
    },
    {
     "name": "stdout",
     "output_type": "stream",
     "text": [
      "Title:\n",
      "«Снова назовут видеоигры»: Ксения Собчак высказалась по поводу стрельбы в колледже Благовещенска\n",
      "Text:\n",
      "https://www.gazeta.ru/lifestyle/news/2019/10/19/n_13848667.shtml?utm_source=yxnewsutm_medium=desktop\n",
      "\n",
      "--------------------------------------------------\n",
      "\n"
     ]
    },
    {
     "name": "stderr",
     "output_type": "stream",
     "text": [
      " 28%|████████████████████████████▊                                                                          | 56/200 [15:35<40:09, 16.73s/it]"
     ]
    },
    {
     "name": "stdout",
     "output_type": "stream",
     "text": [
      "Title:\n",
      "Восстановленный в правах &quot;Штандарт&quot; уходит в первый рейс\n",
      "Text:\n",
      "В Санкт-Петербурге на воду спущен новый фрегат проекта 11356 \"Адмирал Григорович\". Это второй корабль, построенный для Черноморского флота. Он должен заменить большой противолодочный корабль (БПК) \"Керчь\", который был списан и отправлен на утилизацию еще несколько лет назад... \n",
      "\n",
      "--------------------------------------------------\n",
      "\n"
     ]
    },
    {
     "name": "stderr",
     "output_type": "stream",
     "text": [
      " 28%|█████████████████████████████▎                                                                         | 57/200 [15:52<39:53, 16.74s/it]"
     ]
    },
    {
     "name": "stdout",
     "output_type": "stream",
     "text": [
      "Title:\n",
      "ОАЭ запускают нефтепровод в обход Персидского залива и Ормузского пролива \n",
      "Text:\n",
      "\"Объединённые Арабские Эмираты (ОАЭ) объявили о планах построить трубопровод, который будет проложен через залив к 2023 году. В результате этого ОАЭ смогут отказаться от использования дорогостоящего морского маршрута транспортировки нефти из Саудовской Аравии\". \n",
      "\n",
      "--------------------------------------------------\n",
      "\n"
     ]
    },
    {
     "name": "stderr",
     "output_type": "stream",
     "text": [
      " 29%|█████████████████████████████▊                                                                         | 58/200 [16:08<39:36, 16.73s/it]"
     ]
    },
    {
     "name": "stdout",
     "output_type": "stream",
     "text": [
      "Title:\n",
      "В Самаре оптимизируют затраты на транспорт путем создания новой службы\n",
      "Text:\n",
      "\"Решение о создании в городе специализированной транспортной структуры было принято губернатором Самарской области Николаем Меркушкиным. Для реализации проекта по оптимизации затрат бюджета и улучшению качества транспортного обслуживания населения Самары создан департамент транспорта администрации городского округа Самара, который возглавил Сергей Арзамасцев.\"\n",
      "\n",
      "--------------------------------------------------\n",
      "\n"
     ]
    },
    {
     "name": "stderr",
     "output_type": "stream",
     "text": [
      " 30%|██████████████████████████████▍                                                                        | 59/200 [16:25<39:17, 16.72s/it]"
     ]
    },
    {
     "name": "stdout",
     "output_type": "stream",
     "text": [
      "Title:\n",
      "Минэнерго считает идею \"Суммы\" по терминалу в Роттердаме недоработанной\n",
      "Text:\n",
      "В Минэнерго считают, что идея «Новатэка» о строительстве терминала для сжиженного природного газа (СПГ) в порту Роттердам является недостаточно проработанной. Об этом заявил министр энергетики Александр Новак...\n",
      "\n",
      "--------------------------------------------------\n",
      "\n"
     ]
    },
    {
     "name": "stderr",
     "output_type": "stream",
     "text": [
      " 30%|██████████████████████████████▉                                                                        | 60/200 [16:42<39:03, 16.74s/it]"
     ]
    },
    {
     "name": "stdout",
     "output_type": "stream",
     "text": [
      "Title:\n",
      "Российскую армию скоро пополнит 300-тысячный контрактник\n",
      "Text:\n",
      "В России начинается масштабное обновление армии. По данным Минобороны, в течение ближайших пяти лет планируется набрать 300 тысяч новых военнослужащих по контракту. Таким образом армия станет полностью профессиональной и сможет выполнять свои задачи без привлечения срочников. Это позволит сократить расходы на содержание личного состава почти вдвое - до 1 трлн рублей за пять лет.\n",
      "\n",
      "--------------------------------------------------\n",
      "\n"
     ]
    },
    {
     "name": "stderr",
     "output_type": "stream",
     "text": [
      " 30%|███████████████████████████████▍                                                                       | 61/200 [16:59<38:45, 16.73s/it]"
     ]
    },
    {
     "name": "stdout",
     "output_type": "stream",
     "text": [
      "Title:\n",
      "Умер поэт и бывший главред журнала \"Юность\" Валерий Дударев\n",
      "Text:\n",
      "Валерий Иванович Дударев (род. 19 июля 1936, Москва) русский советский поэт и журналист. Член Союза писателей СССР с 1973 года. Главный редактор журнала поэзии \"Юность\". Автор нескольких поэтических сборников и книг очерков о литераторах-современниках (\"Поэзия XX века в зеркале критики\", 1976; \"Светочи России\", 1982). Лауреат премии Ленинского комсомола (1977), Государственной премии РСФСР имени М. Горького (1980), лауреат литературной премии им. А. Дельвига (2000). Награждён орденами Дружбы народов, Почёта (1998)[1].\n",
      "\n",
      "--------------------------------------------------\n",
      "\n"
     ]
    },
    {
     "name": "stderr",
     "output_type": "stream",
     "text": [
      " 31%|███████████████████████████████▉                                                                       | 62/200 [17:15<38:27, 16.72s/it]"
     ]
    },
    {
     "name": "stdout",
     "output_type": "stream",
     "text": [
      "Title:\n",
      "С-400 поразили «Бекаса» и «Кабана»\n",
      "Text:\n",
      "Российские зенитные ракетные комплексы С-400 успешно отразили нападение на базу Хмеймим в Сирии, уничтожив два беспилотных летательных аппарата (БПЛА) Predator. Об этом сообщает Минобороны России.  По данным ведомства, атака БПЛА была осуществлена с территории Идлибской зоны деэскалации террористами группировки \"Джабат ан-Нусра\". В результате атаки дронов были повреждены несколько самолетов Су-24М и вертолетов Ми-8АМТШ российских Воздушно-космических сил. Один из них получил серьезные повреждения хвостовой балки фюзеляжа. Российские военные также утверждают, что боевики попытались атаковать еще один российский самолет — бомбардировщик Ту-22М3. Однако он находился вне пределов досягаемости боевиков.\n",
      "\n",
      "--------------------------------------------------\n",
      "\n"
     ]
    },
    {
     "name": "stderr",
     "output_type": "stream",
     "text": [
      " 32%|████████████████████████████████▍                                                                      | 63/200 [17:32<38:10, 16.72s/it]"
     ]
    },
    {
     "name": "stdout",
     "output_type": "stream",
     "text": [
      "Title:\n",
      "Футболист \"Динамо\" Игорь Денисов не выйдет на поле до конца года\n",
      "Text:\n",
      "Вратарь и капитан московского футбольного клуба «Динамо» Антон Шунин заявил, что нападающий бело-голубых Игорь Денисов не сможет выйти в стартовом составе команды как минимум до середины декабря. \n",
      "\n",
      "--------------------------------------------------\n",
      "\n"
     ]
    },
    {
     "name": "stderr",
     "output_type": "stream",
     "text": [
      " 32%|████████████████████████████████▉                                                                      | 64/200 [17:49<37:55, 16.73s/it]"
     ]
    },
    {
     "name": "stdout",
     "output_type": "stream",
     "text": [
      "Title:\n",
      "Жителям Индустриального района спустя 2 месяца дали горячую воду\n",
      "Text:\n",
      "Задержка с подачей горячей воды в дома жителей Индустриального района длится уже второй месяц. Виной всему – долги компании «Теплосеть» перед поставщиком газа, которая и должна заниматься подготовкой тепловых сетей к отопительному сезону. Сейчас энергетики ведут переговоры о том, чтобы часть долга была погашена за счет средств бюджета города. \n",
      "\n",
      "--------------------------------------------------\n",
      "\n"
     ]
    },
    {
     "name": "stderr",
     "output_type": "stream",
     "text": [
      " 32%|█████████████████████████████████▍                                                                     | 65/200 [18:06<37:38, 16.73s/it]"
     ]
    },
    {
     "name": "stdout",
     "output_type": "stream",
     "text": [
      "Title:\n",
      "Сайнс-младший будет резервным пилотом \"Ред Булл\" в следующем сезоне \"Формулы-1\"\n",
      "Text:\n",
      "Дэнни Сайнc, который недавно подписал контракт с Red Bull Racing на сезон 2014 года и заменит Себастьяна Феттеля, примет участие во всех трех этапах чемпионата. В интервью журналу Autosport он рассказал о своих целях... \n",
      "\n",
      "--------------------------------------------------\n",
      "\n"
     ]
    },
    {
     "name": "stderr",
     "output_type": "stream",
     "text": [
      " 33%|█████████████████████████████████▉                                                                     | 66/200 [18:22<37:19, 16.72s/it]"
     ]
    },
    {
     "name": "stdout",
     "output_type": "stream",
     "text": [
      "Title:\n",
      "Парасюк призвал ликвидировать «сволочь Ахметова»\n",
      "Text:\n",
      "«Это олигарх, который владеет самыми большими активами в Украине. Он должен быть ликвидирован», – заявил Парасюк во время митинга у стен Верховной Рады. \n",
      "\n",
      "--------------------------------------------------\n",
      "\n"
     ]
    },
    {
     "name": "stderr",
     "output_type": "stream",
     "text": [
      " 34%|██████████████████████████████████▌                                                                    | 67/200 [18:39<37:04, 16.72s/it]"
     ]
    },
    {
     "name": "stdout",
     "output_type": "stream",
     "text": [
      "Title:\n",
      "Wall Street Journal обвинил боевиков ИГИЛ в применении химического оружия\n",
      "Text:\n",
      "\"В среду, 16 сентября 2014 года, на территории Сирии, контролируемой боевиками \"Исламского государства\", была совершена химическая атака. В результате этой атаки погибли по меньшей мере 27 человек и десятки получили ранения.\"\n",
      "\n",
      "--------------------------------------------------\n",
      "\n"
     ]
    },
    {
     "name": "stderr",
     "output_type": "stream",
     "text": [
      " 34%|███████████████████████████████████                                                                    | 68/200 [18:56<36:45, 16.71s/it]"
     ]
    },
    {
     "name": "stdout",
     "output_type": "stream",
     "text": [
      "Title:\n",
      "В Грозном боевики напали на разведчиков\n",
      "Text:\n",
      "Нападение произошло в Октябрьском районе Грозного. В результате один военнослужащий погиб, еще двое получили ранения различной степени тяжести. Пострадавшие доставлены в госпиталь. На месте работает оперативно-следственная группа.\n",
      "\n",
      "--------------------------------------------------\n",
      "\n"
     ]
    },
    {
     "name": "stderr",
     "output_type": "stream",
     "text": [
      " 34%|███████████████████████████████████▌                                                                   | 69/200 [19:12<36:30, 16.72s/it]"
     ]
    },
    {
     "name": "stdout",
     "output_type": "stream",
     "text": [
      "Title:\n",
      "Ирак призывает провести экстренное заседание СБ ООН\n",
      "Text:\n",
      "Багдад просит созвать чрезвычайное совещание Совета Безопасности ООН в связи с ситуацией вокруг Ирака. Как сообщает Associated Press, об этом заявил посол Ирака при всемирной организации Мохаммед аль-Дури (Mohammed al Douri). По словам дипломата, Ирак считает действия коалиции по свержению режима Саддама Хусейна незаконными и преступными. Аль Дюри также призвал Совбез принять \"все необходимые меры\" для того чтобы остановить агрессию против его страны. \n",
      "\n",
      "--------------------------------------------------\n",
      "\n"
     ]
    },
    {
     "name": "stderr",
     "output_type": "stream",
     "text": [
      " 35%|████████████████████████████████████                                                                   | 70/200 [19:29<36:13, 16.72s/it]"
     ]
    },
    {
     "name": "stdout",
     "output_type": "stream",
     "text": [
      "Title:\n",
      "Домашний арест Евтушенкова проконтролируют с помощью браслета и визитов\n",
      "Text:\n",
      "Браслет, который будет носить бизнесмен Владимир Евтушенков во время домашнего ареста, позволит его контролировать. Об этом РБК рассказал источник в Федеральной службе исполнения наказаний (ФСИН) России.\n",
      "\n",
      "--------------------------------------------------\n",
      "\n"
     ]
    },
    {
     "name": "stderr",
     "output_type": "stream",
     "text": [
      " 36%|████████████████████████████████████▌                                                                  | 71/200 [19:46<35:55, 16.71s/it]"
     ]
    },
    {
     "name": "stdout",
     "output_type": "stream",
     "text": [
      "Title:\n",
      "Ленобласть расширила список льготных отраслей для ИП\n",
      "Text:\n",
      "В Ленинградской области расширяется перечень видов деятельности, в отношении которых может применяться патентная система налогообложения. Соответствующий законопроект принят на заседании Законодательного собрания региона во втором чтении и в целом. Напомним, что с 1 января 2019 года право применять патенты получили индивидуальные предприниматели по более чем 50 видам предпринимательской деятельности (в 2018 году – только 14). В их числе услуги общественного питания; ремонт компьютеров и коммуникационного оборудования; изготовление одежды из меха или других материалов животного происхождения; розничная торговля лекарственными препаратами через аптечные организации; деятельность автомойки; пассажирские перевозки автомобильным транспортом вместимостью до 8 человек; оказание услуг по ремонту, техническому обслуживанию и мойке автотранспортных средств без предоставления места для стоянки транспортных средств; сдача жилых помещений в аренду. Как отметила председатель комитета экономического развития и инвестиционной деятельности Елена Ульянова, принятый закон позволит дополнительно привлечь к системе около 13 тысяч индивидуальных предпринимателей. «По состоянию на 28 ноября текущего года количество действующих патентов составило 5 тыс., а это значит, что еще 12 000 потенциальных налогоплательщиков смогут воспользоваться преимуществами патентной системы», — подчеркнула она. По словам Елены Ульяновой, принятие закона увеличит налоговые доходы областного бюджета на 2 млн рублей ежегодно. \n",
      "\n",
      "--------------------------------------------------\n",
      "\n"
     ]
    },
    {
     "name": "stderr",
     "output_type": "stream",
     "text": [
      " 36%|█████████████████████████████████████                                                                  | 72/200 [20:02<35:36, 16.69s/it]"
     ]
    },
    {
     "name": "stdout",
     "output_type": "stream",
     "text": [
      "Title:\n",
      "Сумма претензий к туроператору \"Акрис\" составит 45 млн рублей\n",
      "Text:\n",
      "Как стало известно РБК, общая сумма финансовых требований от пострадавших туристов компании «Акрис» составляет около 44-45 млн руб.\n",
      "\n",
      "--------------------------------------------------\n",
      "\n"
     ]
    },
    {
     "name": "stderr",
     "output_type": "stream",
     "text": [
      " 36%|█████████████████████████████████████▌                                                                 | 73/200 [20:19<35:21, 16.71s/it]"
     ]
    },
    {
     "name": "stdout",
     "output_type": "stream",
     "text": [
      "Title:\n",
      "Жителя края, угрожавшего топором полицейскому, ждут суд\n",
      "Text:\n",
      "На жителя Забайкальского края заведено уголовное дело за угрозу убийством сотруднику полиции. Как сообщает пресс-служба СУ СКР по региону, инцидент произошел в ночь на 13 августа 2015 года у одного из домов села Новопавловка Борзинского района. Сотрудники правоохранительных органов прибыли к указанному дому для проверки информации о нарушении общественного порядка нетрезвым местным жителем. В ответ мужчина стал высказывать угрозы применения насилия и оскорбления сотрудников полиции. Один из полицейских сделал предупредительный выстрел вверх, после чего подозреваемый бросил топор и попытался скрыться бегством, однако был задержан другим сотрудником МВД. При задержании он оказал сопротивление сотрудникам полиции, ударив полицейского ногой.\n",
      "\n",
      "--------------------------------------------------\n",
      "\n"
     ]
    },
    {
     "name": "stderr",
     "output_type": "stream",
     "text": [
      " 37%|██████████████████████████████████████                                                                 | 74/200 [20:36<35:04, 16.71s/it]"
     ]
    },
    {
     "name": "stdout",
     "output_type": "stream",
     "text": [
      "Title:\n",
      "В США снизился уровень безработицы\n",
      "Text:\n",
      "Уровень безработицы в Соединенных Штатах упал до 5,4 процента. Это самый низкий показатель с апреля 2008 года... Уровень безработицы среди мужчин составил 6 процентов и достиг минимального значения за последние семь лет.... Уровень безработицы среди женщин упал на 3 процентных пункта - до 8,6%.\n",
      "\n",
      "--------------------------------------------------\n",
      "\n"
     ]
    },
    {
     "name": "stderr",
     "output_type": "stream",
     "text": [
      " 38%|██████████████████████████████████████▋                                                                | 75/200 [20:53<34:46, 16.69s/it]"
     ]
    },
    {
     "name": "stdout",
     "output_type": "stream",
     "text": [
      "Title:\n",
      "МИД ФРГ: наблюдателей от ОБСЕ необходимо направить на Украину максимально быстро\n",
      "Text:\n",
      "Министерство иностранных дел Германии считает необходимым, чтобы наблюдатели специальной мониторинговой миссии Организации по безопасности и сотрудничеству в Европе (ОБСЕ) были направлены на Украину как можно быстрее. Об этом заявила официальный представитель МИД ФРГ Савсан Чебли во вторник, 9 марта, сообщает Deutsche Welle со ссылкой на агентство dpa. \"Мы должны действовать решительно\", - сказала она после встречи с главой внешнеполитического ведомства Франком-Вальтером Штайнмайером. По ее словам, у немецкой стороны сложилось впечатление, что Россия не заинтересована в скорейшем завершении конфликта на Украине. В этой связи Германия выступает за отправку туда дополнительных наблюдателей из состава СММ ОБСЕ. Как отмечает DW, ранее министр обороны страны Урсула фон дер Ляйен выступила против отправки военных экспертов для мониторинга ситуации в Донбассе. Она отметила, что это может лишь обострить конфликт.\n",
      "\n",
      "--------------------------------------------------\n",
      "\n"
     ]
    },
    {
     "name": "stderr",
     "output_type": "stream",
     "text": [
      " 38%|███████████████████████████████████████▏                                                               | 76/200 [21:09<34:29, 16.69s/it]"
     ]
    },
    {
     "name": "stdout",
     "output_type": "stream",
     "text": [
      "Title:\n",
      "Сотрудники новосибирской нефтебазы украли топливо на 945 млн. рублей\n",
      "Text:\n",
      "В Новосибирске задержали двух руководителей ООО «Новосибирская нефтебаза» по подозрению в хищении топлива почти на 945 миллионов рублей, сообщает пресс-служба регионального управления МВД РФ.\n",
      "\n",
      "--------------------------------------------------\n",
      "\n"
     ]
    },
    {
     "name": "stderr",
     "output_type": "stream",
     "text": [
      " 38%|███████████████████████████████████████▋                                                               | 77/200 [21:26<34:16, 16.72s/it]"
     ]
    },
    {
     "name": "stdout",
     "output_type": "stream",
     "text": [
      "Title:\n",
      "Осенняя сдача ЕГЭ пройдет в конце сентября\n",
      "Text:\n",
      "В этом году осенние экзамены для выпускников пройдут с 26 по 29 сентября. Задания будут аналогичными тем, что были использованы при проведении Единого государственного экзамена (ЕГЭ) весной этого года...\n",
      "\n",
      "--------------------------------------------------\n",
      "\n"
     ]
    },
    {
     "name": "stderr",
     "output_type": "stream",
     "text": [
      " 39%|████████████████████████████████████████▏                                                              | 78/200 [21:43<34:00, 16.73s/it]"
     ]
    },
    {
     "name": "stdout",
     "output_type": "stream",
     "text": [
      "Title:\n",
      "ДНР и ЛНР 9 января проведут переговоры\n",
      "Text:\n",
      "\"Переговоры по мирному урегулированию конфликта в Донбассе начнутся сегодня, 9 января. Встреча представителей ДНР, ЛНР и Украины пройдет в Донецке.\"\n",
      "\n",
      "--------------------------------------------------\n",
      "\n"
     ]
    },
    {
     "name": "stderr",
     "output_type": "stream",
     "text": [
      " 40%|████████████████████████████████████████▋                                                              | 79/200 [21:59<33:41, 16.71s/it]"
     ]
    },
    {
     "name": "stdout",
     "output_type": "stream",
     "text": [
      "Title:\n",
      "Квалификация Гран При США перенесена на воскресенье\n",
      "Text:\n",
      "В связи с тем, что в субботу гоночный уик-энд был прерван из-за дождя и сильного ветра, организаторы приняли решение о переносе квалификации. \n",
      "\n",
      "--------------------------------------------------\n",
      "\n"
     ]
    },
    {
     "name": "stderr",
     "output_type": "stream",
     "text": [
      " 40%|█████████████████████████████████████████▏                                                             | 80/200 [22:16<33:27, 16.73s/it]"
     ]
    },
    {
     "name": "stdout",
     "output_type": "stream",
     "text": [
      "Title:\n",
      "Футболист Павел Погребняк прибыл в суд, который может лишить его прав за пьяную езду\n",
      "Text:\n",
      "Павел Погребняк не отрицает того факта, что был пьян. Но от этого у него проблем меньше не становится. \n",
      "\n",
      "--------------------------------------------------\n",
      "\n"
     ]
    },
    {
     "name": "stderr",
     "output_type": "stream",
     "text": [
      " 40%|█████████████████████████████████████████▋                                                             | 81/200 [22:33<33:07, 16.70s/it]"
     ]
    },
    {
     "name": "stdout",
     "output_type": "stream",
     "text": [
      "Title:\n",
      "Затраты на проведение Евро-2012 в Украине составили 5 миллиардов долларов\n",
      "Text:\n",
      "Украинские власти потратили около пяти миллиардов долларов, чтобы организовать и провести чемпионат Европы по футболу 2012 года. Об этом сообщает Agence France-Presse со ссылкой на данные аудиторской компании Ernst Young (EY).\n",
      "\n",
      "--------------------------------------------------\n",
      "\n"
     ]
    },
    {
     "name": "stderr",
     "output_type": "stream",
     "text": [
      " 41%|██████████████████████████████████████████▏                                                            | 82/200 [22:49<32:49, 16.69s/it]"
     ]
    },
    {
     "name": "stdout",
     "output_type": "stream",
     "text": [
      "Title:\n",
      "Алексей Власенко избран на пост главы Федерации водного поло России\n",
      "Text:\n",
      "Власенко Алексей Викторович, родился 14 октября 1978 года в городе Новокузнецке Кемеровской области. Мастер спорта международного класса по водному поло (1999). Выступал за клубы \"Уралочка\" Екатеринбург и \"Динамо-Энергия\" Хабаровск. Бронзовый призер чемпионата мира 1999 года в составе сборной России. Чемпион Европы 2000 года среди юниоров. Серебряный призер Универсиады 2001 года. Двукратный обладатель Кубка европейских чемпионов (2002, 2003), двукратный победитель Лиги чемпионов ЕГФ (2003, 2004).. В настоящее время главный тренер женской команды \"Динамо-Синара\". Женат. Воспитывает сына Алексея и дочь Екатерину.\n",
      "\n",
      "--------------------------------------------------\n",
      "\n"
     ]
    },
    {
     "name": "stderr",
     "output_type": "stream",
     "text": [
      " 42%|██████████████████████████████████████████▋                                                            | 83/200 [23:06<32:37, 16.73s/it]"
     ]
    },
    {
     "name": "stdout",
     "output_type": "stream",
     "text": [
      "Title:\n",
      "В Тольятти возможно ухудшение воздуха\n",
      "Text:\n",
      "\"Смог, который уже несколько дней окутывает город, может стать причиной заболеваний органов дыхания. В частности, на прошлой неделе в больницы с симптомами ОРВИ и бронхита обратилось более 1000 человек.\" \n",
      "\n",
      "--------------------------------------------------\n",
      "\n"
     ]
    },
    {
     "name": "stderr",
     "output_type": "stream",
     "text": [
      " 42%|███████████████████████████████████████████▎                                                           | 84/200 [23:23<32:21, 16.73s/it]"
     ]
    },
    {
     "name": "stdout",
     "output_type": "stream",
     "text": [
      "Title:\n",
      "На МКАД перевернулся грузовик\n",
      "Text:\n",
      "В понедельник, 19 февраля, в 21.30 на 15-м километре внутренней стороны Московской кольцевой автодороги (МКАД) произошло ДТП с участием грузового автомобиля \"МАН\", который опрокинулся и перекрыл движение по направлению из области в сторону центра столицы. Об этом сообщает Агентство городских новостей «Москва». В результате аварии никто не пострадал. Движение транспорта было восстановлено через 20 минут после происшествия. \n",
      "\n",
      "--------------------------------------------------\n",
      "\n"
     ]
    },
    {
     "name": "stderr",
     "output_type": "stream",
     "text": [
      " 42%|███████████████████████████████████████████▊                                                           | 85/200 [23:40<32:03, 16.73s/it]"
     ]
    },
    {
     "name": "stdout",
     "output_type": "stream",
     "text": [
      "Title:\n",
      "Авиакомпания Air Baltic не будет отменять рейсы в Тель-Авив из-за предупреждения ХАМАС\n",
      "Text:\n",
      "В четверг, 9 сентября, авиакомпания AirBaltic объявила о решении не отменять свои полеты в Израиль после того, как палестинская организация ХАМАС призвала к бойкоту этого направления. \"Мы будем летать туда и оттуда по мере необходимости\", - сказал генеральный директор авиакомпании Мартин Гаусс (Martin Gauss). \n",
      "\n",
      "--------------------------------------------------\n",
      "\n"
     ]
    },
    {
     "name": "stderr",
     "output_type": "stream",
     "text": [
      " 43%|████████████████████████████████████████████▎                                                          | 86/200 [23:57<31:47, 16.73s/it]"
     ]
    },
    {
     "name": "stdout",
     "output_type": "stream",
     "text": [
      "Title:\n",
      "Очевидец: Гаишник на плакате на Большой Пушкарской «поменял валюту»\n",
      "Text:\n",
      "По словам очевидца, гаишники стояли с плакатами возле дома №36 по улице Большая Пушкарская. На одном из них было написано \"Валюту меняем\". Как сообщили в ГУ МВД РФ по Петербургу и области, сейчас проводится проверка этого факта.\n",
      "\n",
      "--------------------------------------------------\n",
      "\n"
     ]
    },
    {
     "name": "stderr",
     "output_type": "stream",
     "text": [
      " 44%|████████████████████████████████████████████▊                                                          | 87/200 [24:13<31:31, 16.74s/it]"
     ]
    },
    {
     "name": "stdout",
     "output_type": "stream",
     "text": [
      "Title:\n",
      "Главком ВМФ будет жить на две столицы\n",
      "Text:\n",
      "В среду, 13 октября, Главнокомандующий Военно-морским флотом России адмирал Виктор Чирков прибыл в Североморск. В ходе рабочей поездки он посетил базу Северного флота и встретился с экипажем тяжелого авианесущего крейсера \"Адмирал Флота Советского Союза Кузнецов\". Затем глава военного ведомства отправился в Москву для участия в заседании Морской коллегии при правительстве РФ под руководством вице-премьера Дмитрия Рогозина.\n",
      "\n",
      "--------------------------------------------------\n",
      "\n"
     ]
    },
    {
     "name": "stderr",
     "output_type": "stream",
     "text": [
      " 44%|█████████████████████████████████████████████▎                                                         | 88/200 [24:30<31:14, 16.73s/it]"
     ]
    },
    {
     "name": "stdout",
     "output_type": "stream",
     "text": [
      "Title:\n",
      "На сборах по обучению поиску людей волонтеры нашли угнанный вездеход\n",
      "Text:\n",
      "\"В субботу, 9 июня, на территории базы отдыха \"Авиатор\", расположенной в районе аэропорта города Энгельса Саратовской области, была обнаружена пропажа транспортного средства. Как сообщили корреспонденту ИА REGNUM Новости в пресс-службе ГУ МВД России по региону, около 15 часов дня из своего номера исчез 43-летний житель Саратова, работающий водителем грузового автомобиля.\"\n",
      "\n",
      "--------------------------------------------------\n",
      "\n"
     ]
    },
    {
     "name": "stderr",
     "output_type": "stream",
     "text": [
      " 44%|█████████████████████████████████████████████▊                                                         | 89/200 [24:47<30:57, 16.73s/it]"
     ]
    },
    {
     "name": "stdout",
     "output_type": "stream",
     "text": [
      "Title:\n",
      "На Ямале две партии исключили из предвыборной гонки\n",
      "Text:\n",
      "На выборах в Заксобрание ЯНАО не будет участвовать \"Единая Россия\". По предварительным данным, за нее отдали голоса чуть более 20% избирателей. Партия власти утратила статус правящей и фактически перестала быть таковой еще с тех пор как на смену Дмитрию Кобылкину пришел Дмитрий Артюхов. Теперь же он сам стал спикером парламента региона. Однако партия не собирается сдаваться без боя. Уже сегодня она намерена провести конференцию по выдвижению кандидата от ЕР на пост губернатора округа. \n",
      "\n",
      "--------------------------------------------------\n",
      "\n"
     ]
    },
    {
     "name": "stderr",
     "output_type": "stream",
     "text": [
      " 45%|██████████████████████████████████████████████▎                                                        | 90/200 [25:03<30:40, 16.73s/it]"
     ]
    },
    {
     "name": "stdout",
     "output_type": "stream",
     "text": [
      "Title:\n",
      "Лафазанис: Греция не исключает, что платеж МВФ отложат на полгода\n",
      "Text:\n",
      "Греция в четверг представит новые предложения по реформам, которые помогут ей избежать дефолта. Афины надеются, что кредиторы согласятся с ними и договорятся о продлении программы помощи стране. Об этом заявил премьер-министр Греции Алексис Ципрас после переговоров с канцлером Германии Ангелой Меркель, президентом Франции Франсуа Олландом и председателем Еврокомиссии Жан-Клодом Юнкером. \"Мы представили пять предложений\", - сказал он журналистам перед встречей лидеров ЕС в Брюсселе. По словам премьера, они предусматривают облегчение бремени греческих долгов для граждан страны путем снижения налогов и увеличения пенсионных выплат, а также реформы рынка труда, образования и системы социального обеспечения. Кроме того, правительство предлагает провести реформу НДС таким образом, чтобы снизить налоговое давление на бизнес и потребителей. Правительство Греции рассчитывает получить от партнеров новую программу финансовой поддержки объемом около 86 млрд евро до конца июня. Однако переговоры между Грецией и международными кредиторами пока не увенчались успехом. В ночь на среду парламент Греции одобрил законопроект под названием \"Срочные меры для проведения переговоров и заключения соглашения с Европейским механизмом стабильности (ESM)\". За принятие документа проголосовали 229 депутатов из 300 членов парламента при необходимом минимуме в 226 голосов. Документ предусматривает проведение 5 июля референдума об отношении к проекту соглашения, представленному Европейской комиссией, Международным валютным фондом (МВФ) и Европейским центральным банком (ЕЦБ).\n",
      "\n",
      "--------------------------------------------------\n",
      "\n"
     ]
    },
    {
     "name": "stderr",
     "output_type": "stream",
     "text": [
      " 46%|██████████████████████████████████████████████▊                                                        | 91/200 [25:20<30:23, 16.73s/it]"
     ]
    },
    {
     "name": "stdout",
     "output_type": "stream",
     "text": [
      "Title:\n",
      "Монохромные кроссовки из коллаборации Reebok и японского магазина Mita\n",
      "Text:\n",
      "Стиль кроссовок в последнее время становится все более популярным. В этом году мы увидели огромное количество интересных моделей от Nike, adidas Originals, ASICS Gel-Lyte III, New Balance, Converse Chuck Taylor All Star и многих других компаний. Но не стоит забывать о том, что когда речь заходит об обуви для бега или ходьбы, у каждого есть свои предпочтения относительно цвета. И вот японская марка MITA решила объединить усилия с Reebok, чтобы создать монохромную коллекцию спортивной одежды и обуви. \n",
      "\n",
      "--------------------------------------------------\n",
      "\n"
     ]
    },
    {
     "name": "stderr",
     "output_type": "stream",
     "text": [
      " 46%|███████████████████████████████████████████████▍                                                       | 92/200 [25:37<30:06, 16.72s/it]"
     ]
    },
    {
     "name": "stdout",
     "output_type": "stream",
     "text": [
      "Title:\n",
      "Телевидение массового поражения.  Эфир в 19:05\n",
      "Text:\n",
      "В последние годы телевидение, а именно то, что показывают по нему (и особенно то, как это показывают), стало источником все более серьезных проблем для общества и отдельных людей. Ухудшение качества программ новостей, растущее количество насилия на экране, влияние телепрограмм на поведение зрителей — все эти проблемы давно уже не являются секретом ни для экспертов, ни для обычных граждан. Однако только сейчас мы начинаем понимать масштаб проблемы.\n",
      "\n",
      "--------------------------------------------------\n",
      "\n"
     ]
    },
    {
     "name": "stderr",
     "output_type": "stream",
     "text": [
      " 46%|███████████████████████████████████████████████▉                                                       | 93/200 [25:54<29:52, 16.75s/it]"
     ]
    },
    {
     "name": "stdout",
     "output_type": "stream",
     "text": [
      "Title:\n",
      "ВС Татарстана подтвердил решение об аресте рабочего по делу ТЦ \"Адмирал\"\n",
      "Text:\n",
      "Судебные приставы арестовали имущество жителя Казани, который подозревается в поджоге торгового центра «Адмирал», сообщает пресс-служба управления ФССП России по Татарстану. \n",
      "\n",
      "--------------------------------------------------\n",
      "\n"
     ]
    },
    {
     "name": "stderr",
     "output_type": "stream",
     "text": [
      " 47%|████████████████████████████████████████████████▍                                                      | 94/200 [26:10<29:35, 16.75s/it]"
     ]
    },
    {
     "name": "stdout",
     "output_type": "stream",
     "text": [
      "Title:\n",
      "Московский ХК \"Динамо\" намерен предложить Горовикову новый контракт\n",
      "Text:\n",
      "В межсезонье главный тренер московского «Динамо» Олег Знарок заявил, что клуб не планирует расставаться с защитником Александром Овечкиным и нападающим Сергеем Соиным. Однако в скором времени ситуация может измениться – руководство бело-голубых готово продлить контракты только с одним из этих игроков. Речь идет о форварде Сергее Мозякине. \n",
      "\n",
      "--------------------------------------------------\n",
      "\n"
     ]
    },
    {
     "name": "stderr",
     "output_type": "stream",
     "text": [
      " 48%|████████████████████████████████████████████████▉                                                      | 95/200 [26:27<29:17, 16.74s/it]"
     ]
    },
    {
     "name": "stdout",
     "output_type": "stream",
     "text": [
      "Title:\n",
      "Уровень цианида в Тяньцзине превышает норму в 356 раз\n",
      "Text:\n",
      "В понедельник утром, 13 августа, на территории портового китайского города Тяньцзинь было зафиксировано несколько взрывов. На место происшествия прибыли военные и машины скорой помощи, а также спасатели с собаками для поиска выживших после взрыва. Взрывы произошли на складе логистической компании Ruihai Logistics, где хранились опасные вещества, включая 700 тонн цианистого натрия. В результате инцидента погибли более 50 человек, еще около 800 пострадали.\n",
      "\n",
      "--------------------------------------------------\n",
      "\n"
     ]
    },
    {
     "name": "stderr",
     "output_type": "stream",
     "text": [
      " 48%|█████████████████████████████████████████████████▍                                                     | 96/200 [26:44<28:59, 16.72s/it]"
     ]
    },
    {
     "name": "stdout",
     "output_type": "stream",
     "text": [
      "Title:\n",
      "Поезда метро не останавливаются на “Площади Восстания” и “Маяковской”\n",
      "Text:\n",
      "На станциях петербургского метрополитена «Владимирская» и «Чернышевская», а также в вестибюлях станций этих линий с сегодняшнего дня возобновлено движение поездов. Как сообщили корреспонденту АЖУРа сотрудники пресс-службы ГУП «Петербургский метрополитен», поезда следуют без остановки на указанных станциях, так как их станции закрыты для пассажиров из соображений безопасности.\n",
      "\n",
      "--------------------------------------------------\n",
      "\n"
     ]
    },
    {
     "name": "stderr",
     "output_type": "stream",
     "text": [
      " 48%|█████████████████████████████████████████████████▉                                                     | 97/200 [27:01<28:41, 16.72s/it]"
     ]
    },
    {
     "name": "stdout",
     "output_type": "stream",
     "text": [
      "Title:\n",
      "Водителя самосвала, застрявшего в тоннеле, достали из кабины\n",
      "Text:\n",
      "В субботу вечером водитель грузовика врезался на своем грузовике в стену тоннеля под Ла-Маншем и заблокировал движение поездов. Прибывшие спасатели вызволили его из машины через люк над кабиной. Мужчина отделался легкими травмами.\n",
      "\n",
      "--------------------------------------------------\n",
      "\n"
     ]
    },
    {
     "name": "stderr",
     "output_type": "stream",
     "text": [
      " 49%|██████████████████████████████████████████████████▍                                                    | 98/200 [27:17<28:25, 16.72s/it]"
     ]
    },
    {
     "name": "stdout",
     "output_type": "stream",
     "text": [
      "Title:\n",
      "Опубликованы первые фото британской принцессы Шарлотты\n",
      "Text:\n",
      "В четверг были опубликованы фотографии новорожденной дочери герцогини Кембриджской Кейт и принца Уильяма. Принцесса Шарлотта была запечатлена фотографами в первый день своей жизни, когда ее мать принесла ребенка из больницы домой для первого дня его пребывания там с семьей после рождения. Фотографии были сделаны одним из членов семьи королевской четы - Майклом Питтом-Джексоном (Michael Pitt Jackson) - сыном покойного Майкла Джексона. В своем твиттере он написал следующее: \"Добро пожаловать в мир принцесса Шарлотта! Она выглядит прекрасно\".\n",
      "\n",
      "--------------------------------------------------\n",
      "\n"
     ]
    },
    {
     "name": "stderr",
     "output_type": "stream",
     "text": [
      " 50%|██████████████████████████████████████████████████▉                                                    | 99/200 [27:34<28:08, 16.72s/it]"
     ]
    },
    {
     "name": "stdout",
     "output_type": "stream",
     "text": [
      "Title:\n",
      "Израильские F-16 и Apache убили 8 и ранили 47 палестинцев в Газе\n",
      "Text:\n",
      "В течение нескольких часов после того, как Израиль начал свою атаку на сектор Газа, израильтяне сообщили о многочисленных случаях ракетных ударов по городу Рафаху. В результате этих нападений восемь человек погибли и более чем сорок получили ранения.\n",
      "\n",
      "--------------------------------------------------\n",
      "\n"
     ]
    },
    {
     "name": "stderr",
     "output_type": "stream",
     "text": [
      " 50%|███████████████████████████████████████████████████                                                   | 100/200 [27:51<27:52, 16.72s/it]"
     ]
    },
    {
     "name": "stdout",
     "output_type": "stream",
     "text": [
      "Title:\n",
      "Еще 23 человека выздоровели от коронавируса в Казахстане \n",
      "Text:\n",
      "Еще 23 человека выздоровели после заболевания COVID-19. Всего с начала пандемии на территории Казахстана выявили 9372 случая заражения коронавирусом, из них 164 – за минувшие сутки. По состоянию на утро понедельника за медицинской помощью обратилось 6609 человек, всего вылечились 7335 пациентов. За весь период скончались 2589 больных (0,003% от общего числа подтвержденных случаев). \n",
      "\n",
      "--------------------------------------------------\n",
      "\n"
     ]
    },
    {
     "name": "stderr",
     "output_type": "stream",
     "text": [
      " 50%|███████████████████████████████████████████████████▌                                                  | 101/200 [28:07<27:33, 16.70s/it]"
     ]
    },
    {
     "name": "stdout",
     "output_type": "stream",
     "text": [
      "Title:\n",
      "Михаил Саакашвили сообщил об отказе от поста вице-премьера Украины\n",
      "Text:\n",
      "Саакашвили отказался занять пост вице-премьер министра в правительстве Яценюка. Об этом он заявил на пресс конференции сегодня, передает корреспондент «ПолитНавигатора».\n",
      "\n",
      "--------------------------------------------------\n",
      "\n"
     ]
    },
    {
     "name": "stderr",
     "output_type": "stream",
     "text": [
      " 51%|████████████████████████████████████████████████████                                                  | 102/200 [28:24<27:17, 16.71s/it]"
     ]
    },
    {
     "name": "stdout",
     "output_type": "stream",
     "text": [
      "Title:\n",
      "Мирный не попал в полуфинал турнира в Делрей-Бич\n",
      "Text:\n",
      "В этом году на турнире по теннису ATP в Делрей-Бич (США) россиянин Михаил Южный, посеянный под пятым номером, проиграл во втором круге американцу Джеку Соку. В интервью сайту tennisworldusa.org Южный рассказал о своих впечатлениях от игры с Соколом и прокомментировал победу Джека над Энди Марреем...\n",
      "\n",
      "--------------------------------------------------\n",
      "\n"
     ]
    },
    {
     "name": "stderr",
     "output_type": "stream",
     "text": [
      " 52%|████████████████████████████████████████████████████▌                                                 | 103/200 [28:41<27:03, 16.74s/it]"
     ]
    },
    {
     "name": "stdout",
     "output_type": "stream",
     "text": [
      "Title:\n",
      "В Донецке соберутся поклонники Путина\n",
      "Text:\n",
      "\"Донецк, Украина. В воскресенье в столице Донбасса состоится первый фестиваль \"Русское поле\", организованный местными пророссийскими активистами и поддерживаемый российскими государственными СМИ. Фестиваль пройдет на центральной площади города, где будет установлен большой экран для просмотра российских телеканалов. Также будут организованы тематические выставки и ярмарка товаров российского производства.\"\n",
      "\n",
      "--------------------------------------------------\n",
      "\n"
     ]
    },
    {
     "name": "stderr",
     "output_type": "stream",
     "text": [
      " 52%|█████████████████████████████████████████████████████                                                 | 104/200 [28:58<26:47, 16.74s/it]"
     ]
    },
    {
     "name": "stdout",
     "output_type": "stream",
     "text": [
      "Title:\n",
      "СМИ: пилота в Амстердаме оштрафовали за нахождение в пьяном виде\n",
      "Text:\n",
      "Пилота авиакомпании KLM, который находился на борту самолета во время перелета из Лондона в Амстердам, оштрафовали за пьянство. Как сообщает The Daily Mail со ссылкой на представителя голландской прокуратуры Беттину ван Бюррен, сумма штрафа составила 375 евро (около 275 долларов). Инцидент произошел в феврале 2012 года, однако известно о нем стало только сейчас. Пилот был задержан после того, как его заметили спящим на рабочем месте и не отреагировавшим на замечания стюардесс. При этом отмечается, что никаких серьезных инцидентов с участием этого человека ранее зафиксировано не было. \n",
      "\n",
      "--------------------------------------------------\n",
      "\n"
     ]
    },
    {
     "name": "stderr",
     "output_type": "stream",
     "text": [
      " 52%|█████████████████████████████████████████████████████▌                                                | 105/200 [29:14<26:31, 16.75s/it]"
     ]
    },
    {
     "name": "stdout",
     "output_type": "stream",
     "text": [
      "Title:\n",
      "Наоми Осака: В Instagram я сразу подписалась на Бейонсе, Рианну и Никки Минаж\n",
      "Text:\n",
      "В то время как она была в отпуске с семьей во Флориде, японская суперзвезда Наоми Осака, которая недавно стала лицом бренда нижнего белья Victoria's Secret, поделилась снимком себя, отдыхающей возле бассейна. \"Я только что вернулась из отпуска со своей семьей\", - написала актриса у себя в инстаграме, добавив фото, которое было сделано во время ее пребывания на пляже Малибу. \n",
      "\n",
      "--------------------------------------------------\n",
      "\n"
     ]
    },
    {
     "name": "stderr",
     "output_type": "stream",
     "text": [
      " 53%|██████████████████████████████████████████████████████                                                | 106/200 [29:31<26:14, 16.75s/it]"
     ]
    },
    {
     "name": "stdout",
     "output_type": "stream",
     "text": [
      "Title:\n",
      "В Грозном предотвращен крупный теракт\n",
      "Text:\n",
      "В столице Чеченской Республики сотрудниками полиции совместно с УФСБ России по ЧР в ходе проведения оперативно-розыскных мероприятий, направленных на выявление и пресечение террористических актов, задержана группа лиц. В результате проведенных обысков домовладений, принадлежащих задержанным, обнаружено большое количество оружия (в том числе автоматы Калашникова), боеприпасы к нему, а также готовое к применению СВУ. По данному факту возбуждено уголовное дело. \n",
      "\n",
      "--------------------------------------------------\n",
      "\n"
     ]
    },
    {
     "name": "stderr",
     "output_type": "stream",
     "text": [
      " 54%|██████████████████████████████████████████████████████▌                                               | 107/200 [29:48<25:58, 16.76s/it]"
     ]
    },
    {
     "name": "stdout",
     "output_type": "stream",
     "text": [
      "Title:\n",
      "Широков предложил новичкам \"Зенита\" \"поиграть на огороде\"\n",
      "Text:\n",
      "Вратарь петербургского футбольного клуба «Зенит» Вячеслав Малафеев в своем Instagram-аккаунте поделился мнением о новичках команды, которым предстоит дебютировать за сине-бело-голубых.  Среди них полузащитник Павел Могилевец и защитник Иван Новосельцев. Они должны выйти на поле во встрече 15-го тура чемпионата России против грозненской «Ахмат».\n",
      "\n",
      "--------------------------------------------------\n",
      "\n"
     ]
    },
    {
     "name": "stderr",
     "output_type": "stream",
     "text": [
      " 54%|███████████████████████████████████████████████████████                                               | 108/200 [30:05<25:42, 16.77s/it]"
     ]
    },
    {
     "name": "stdout",
     "output_type": "stream",
     "text": [
      "Title:\n",
      "ЦСКА проигрывает «Баварии» после первого тайма\n",
      "Text:\n",
      "«В первом матче 1/4 финала Лиги чемпионов ЦСКА проиграл в Мюнхене со счетом 0:1. На гол Арьена Роббена армейцы ответили точным ударом Сейду Думбия на 36-й минуте встречи». \n",
      "\n",
      "--------------------------------------------------\n",
      "\n"
     ]
    },
    {
     "name": "stderr",
     "output_type": "stream",
     "text": [
      " 55%|███████████████████████████████████████████████████████▌                                              | 109/200 [30:21<25:24, 16.75s/it]"
     ]
    },
    {
     "name": "stdout",
     "output_type": "stream",
     "text": [
      "Title:\n",
      "Разбой в ювелирном магазине на Ветеранов встал в полмиллиона\n",
      "Text:\n",
      "В Петербурге ограблен магазин, торгующий дорогими украшениями. Из магазина \"Ювелирторг\" похищено украшений и золота почти на 500 тысяч рублей. Преступление было совершено сегодня около 19 часов по адресу проспект Ветеранов, дом 163 корпус 1. Как сообщает АН «Оперативное прикрытие», трое неизвестных преступников вошли через служебный вход в помещение магазина. Угрожая пистолетом охраннику-пенсионеру 1992 года рождения (проживающему неподалеку), преступники похитили из сейфа выручку за день - 51250 руб., а также золотые изделия. После этого грабители скрылись с места происшествия. По факту разбоя возбуждено уголовное дело по части 2 статьи 162 УК РФ.\n",
      "\n",
      "--------------------------------------------------\n",
      "\n"
     ]
    },
    {
     "name": "stderr",
     "output_type": "stream",
     "text": [
      " 55%|████████████████████████████████████████████████████████                                              | 110/200 [30:38<25:07, 16.75s/it]"
     ]
    },
    {
     "name": "stdout",
     "output_type": "stream",
     "text": [
      "Title:\n",
      "В подземных переходах Москвы установят видеокамеры\n",
      "Text:\n",
      "Московские власти рассматривают возможность установки в подземках города камер видеонаблюдения. Как сообщает M24, проект по оснащению московских станций метрополитена камерами наблюдения будет представлен на заседании столичного правительства 15 ноября. В настоящее время городские службы не имеют возможности наблюдать за происходящим под землей из-за отсутствия необходимых технических средств. Камеры позволят контролировать ситуацию и предотвращать правонарушения, такие как незаконная торговля или попрошайничество. \n",
      "\n",
      "--------------------------------------------------\n",
      "\n"
     ]
    },
    {
     "name": "stderr",
     "output_type": "stream",
     "text": [
      " 56%|████████████████████████████████████████████████████████▌                                             | 111/200 [30:55<24:50, 16.75s/it]"
     ]
    },
    {
     "name": "stdout",
     "output_type": "stream",
     "text": [
      "Title:\n",
      "В зал переговоров в Минске вернулся Порошенко\n",
      "Text:\n",
      "Президент Украины Пётр Порошенко, который отсутствовал на переговорах более двух часов из-за опоздания президента России Владимира Путина, прибыл к месту проведения встречи. Об этом сообщает корреспондент RT Гаяне Чичакян со ссылкой на источники в дипломатических кругах.\n",
      "\n",
      "--------------------------------------------------\n",
      "\n"
     ]
    },
    {
     "name": "stderr",
     "output_type": "stream",
     "text": [
      " 56%|█████████████████████████████████████████████████████████                                             | 112/200 [31:12<24:33, 16.75s/it]"
     ]
    },
    {
     "name": "stdout",
     "output_type": "stream",
     "text": [
      "Title:\n",
      "Децл посмертно получил премию «МУЗ-ТВ»\n",
      "Text:\n",
      "На днях в Москве прошла церемония вручения премии МУЗ ТВ. На сцену вышли все звезды, которые когда-либо были номинированы на это престижное музыкальное шоу – от Земфиры до Тимати и Димы Билана. В числе победителей оказались даже такие исполнители как Децл (Кирилл Толмацкий) и рэпер Баста (Василий Вакуленко). Но не они стали героями вечера, а совсем другой человек…\n",
      "\n",
      "--------------------------------------------------\n",
      "\n"
     ]
    },
    {
     "name": "stderr",
     "output_type": "stream",
     "text": [
      " 56%|█████████████████████████████████████████████████████████▋                                            | 113/200 [31:29<24:19, 16.77s/it]"
     ]
    },
    {
     "name": "stdout",
     "output_type": "stream",
     "text": [
      "Title:\n",
      "Жертвы киевского митинга: более 100 человек в больницах\n",
      "Text:\n",
      "В Киеве, на улице Грушевского около стадиона \"Динамо\", который сейчас занят протестующими против президента Украины Виктора Януковича сторонниками евроинтеграции страны и их оппонентами из пророссийских организаций, произошли столкновения. По данным медиков скорой помощи Киева, которые были вызваны для оказания медицинской помощи пострадавшим, с обеих сторон есть жертвы. В частности, как сообщила пресс-служба Киевской городской государственной администрации (КГГА), по состоянию на 13 часов 30 минут госпитализированы 103 человека, из них 34 - сотрудники милиции и внутренних войск МВД, 45 – митингующие, 10 гражданских лиц. \n",
      "\n",
      "--------------------------------------------------\n",
      "\n"
     ]
    },
    {
     "name": "stderr",
     "output_type": "stream",
     "text": [
      " 57%|██████████████████████████████████████████████████████████▏                                           | 114/200 [31:45<23:59, 16.74s/it]"
     ]
    },
    {
     "name": "stdout",
     "output_type": "stream",
     "text": [
      "Title:\n",
      "Число жертв землетрясения в Непале превысило 4,2 тысячи человек\n",
      "Text:\n",
      "http://www.bbc.com/russian/news-38788643\n",
      "\n",
      "--------------------------------------------------\n",
      "\n"
     ]
    },
    {
     "name": "stderr",
     "output_type": "stream",
     "text": [
      " 57%|██████████████████████████████████████████████████████████▋                                           | 115/200 [32:02<23:42, 16.73s/it]"
     ]
    },
    {
     "name": "stdout",
     "output_type": "stream",
     "text": [
      "Title:\n",
      "Уже 5-й день голодает адвокат семей Героев Небесной сотни\n",
      "Text:\n",
      "Адвокат семей Героев небесной сотни Андрей Смирнов, который защищает интересы потерпевших по делу о расстреле активистов Майдана, уже пятый день продолжает голодовку. Об этом он написал на своей странице в Facebook.\n",
      "\n",
      "--------------------------------------------------\n",
      "\n"
     ]
    },
    {
     "name": "stderr",
     "output_type": "stream",
     "text": [
      " 58%|███████████████████████████████████████████████████████████▏                                          | 116/200 [32:19<23:26, 16.74s/it]"
     ]
    },
    {
     "name": "stdout",
     "output_type": "stream",
     "text": [
      "Title:\n",
      "Во Франции пострадали 17 человек при столкновении 11 автомобилей\n",
      "Text:\n",
      "В субботу, 14 января 2019 года, на дороге А6 между городами Руан и Кале столкнулись одиннадцать машин. Пострадали семнадцать пассажиров одной из них. \n",
      "\n",
      "--------------------------------------------------\n",
      "\n"
     ]
    },
    {
     "name": "stderr",
     "output_type": "stream",
     "text": [
      " 58%|███████████████████████████████████████████████████████████▋                                          | 117/200 [32:35<23:10, 16.75s/it]"
     ]
    },
    {
     "name": "stdout",
     "output_type": "stream",
     "text": [
      "Title:\n",
      "«Система» получит дополнительно 12,9 млрд рублей от «Урал-Инвеста»\n",
      "Text:\n",
      "В 2015 году компания \"Система\" получила 10 миллиардов рублей дивидендов и около 9 миллиардов рублей в качестве процентов по банковским депозитам. На фоне падения доходов основной акционер АФК Владимир Евтушенков рассматривает возможность допэмиссии акций для финансирования сделки с \"Башнефтью\". В рамках реорганизации нефтяной компании может быть создан холдинг на базе предприятий башкирского ТЭКа (Уфаоргсинтез, Уфанефтехим, Новоуфимский НПЗ). Допэмиссия будет оплачена акциями \"Башнефти\", которая сейчас находится под арестом из-за дела о хищении активов БашТЭКа структурами Урала Рахимова - сына бывшего президента республики Муртазы Рахимова. Однако источники издания утверждают, что сделка не состоится до тех пор, пока не будут решены все вопросы с возвратом акций \"Башнефти\" государству.\n",
      "\n",
      "--------------------------------------------------\n",
      "\n"
     ]
    },
    {
     "name": "stderr",
     "output_type": "stream",
     "text": [
      " 59%|████████████████████████████████████████████████████████████▏                                         | 118/200 [32:52<22:52, 16.74s/it]"
     ]
    },
    {
     "name": "stdout",
     "output_type": "stream",
     "text": [
      "Title:\n",
      "Секретарь Союза журналистов России возглавил президентский Совет по правам человека\n",
      "Text:\n",
      "Президент Владимир Путин назначил секретаря СЖР Николая Овчаренко председателем Совета при президенте РФ по развитию гражданского общества и правам человека (СПЧ). Об этом говорится в указе главы государства, опубликованном на сайте Кремля. \n",
      "\n",
      "--------------------------------------------------\n",
      "\n"
     ]
    },
    {
     "name": "stderr",
     "output_type": "stream",
     "text": [
      " 60%|████████████████████████████████████████████████████████████▋                                         | 119/200 [33:09<22:35, 16.73s/it]"
     ]
    },
    {
     "name": "stdout",
     "output_type": "stream",
     "text": [
      "Title:\n",
      "Минпромэнерго согласилось \"не тупить и не лопушить\"\n",
      "Text:\n",
      "Министерство промышленности и энергетики РФ в целом поддержало законопроект об упрощении процедуры получения лицензии на оборот алкоголя, разработанный депутатами Госдумы. Об этом сообщил министр Виктор Христенко по итогам совещания у премьер-министра Владимира Путина...\n",
      "\n",
      "--------------------------------------------------\n",
      "\n"
     ]
    },
    {
     "name": "stderr",
     "output_type": "stream",
     "text": [
      " 60%|█████████████████████████████████████████████████████████████▏                                        | 120/200 [33:26<22:18, 16.73s/it]"
     ]
    },
    {
     "name": "stdout",
     "output_type": "stream",
     "text": [
      "Title:\n",
      "Городской голова Калуги умер от инфаркта\n",
      "Text:\n",
      "Калуга. Городская дума, где сегодня на внеочередном заседании депутаты обсуждали ситуацию в городе с городским головой Анатолием Александровичем Артамоновым, приняла решение об его отставке и о назначении исполняющим обязанности городского головы Александра Ивановича Апарина. \n",
      "\n",
      "--------------------------------------------------\n",
      "\n"
     ]
    },
    {
     "name": "stderr",
     "output_type": "stream",
     "text": [
      " 60%|█████████████████████████████████████████████████████████████▋                                        | 121/200 [33:42<22:02, 16.74s/it]"
     ]
    },
    {
     "name": "stdout",
     "output_type": "stream",
     "text": [
      "Title:\n",
      "Продуктами с меламином, по данным специалистов, отравились 25% пекинских детей\n",
      "Text:\n",
      "В Китае более чем у половины пятилетних и шестилетних детей выявлен высокий уровень содержания в организме продуктов-канцерогенов - токсичных соединений. Об этом сообщило китайское Управление охраны окружающей среды (SES). \n",
      "\n",
      "--------------------------------------------------\n",
      "\n"
     ]
    },
    {
     "name": "stderr",
     "output_type": "stream",
     "text": [
      " 61%|██████████████████████████████████████████████████████████████▏                                       | 122/200 [33:59<21:45, 16.73s/it]"
     ]
    },
    {
     "name": "stdout",
     "output_type": "stream",
     "text": [
      "Title:\n",
      "В мурмашинскую колонию прислали в овсянке запрещенные дрожжи\n",
      "Text:\n",
      "Как сообщает пресс-служба УФСИН России по Мурманской области, с 28 ноября 2015 года на территории исправительной колонии № 1 в поселке Мурмаши (Мурманская область) начались плановые мероприятия по профилактике и борьбе со вспышкой кишечной инфекции. По данным медиков учреждения, причиной массового отравления осужденных стало употребление некачественных продуктов питания - крупы и макаронных изделий. Как установили сотрудники прокуратуры, поставщиком некачественной продукции является ООО «Фабрика Карат», которая входит в группу компаний \"Ленторг\". В ходе проверки были выявлены нарушения законодательства о качестве и безопасности пищевых продуктов при хранении зерна пшеницы, ржи и ячменя для производства хлеба и хлебобулочных изделий. Кроме того, установлено несоответствие маркировки сырья установленным требованиям. На предприятии не соблюдаются правила хранения муки, а также требования к ее транспортировке. За нарушение правил перевозки грузов привлечены к ответственности два водителя предприятия. Также предприятие допустило хранение готовой продукции без охлаждения более суток. Все эти факты стали основанием для возбуждения уголовного дела по статье 238 УК РФ (\"Производство либо сбыт товаров и продукции, выполнение работ или оказание услуг, не отвечающих требованиям безопасности\"). Расследование находится под личным контролем прокурора ЗАТО г. Североморск Андрея Попова.\n",
      "\n",
      "--------------------------------------------------\n",
      "\n"
     ]
    },
    {
     "name": "stderr",
     "output_type": "stream",
     "text": [
      " 62%|██████████████████████████████████████████████████████████████▋                                       | 123/200 [34:16<21:29, 16.75s/it]"
     ]
    },
    {
     "name": "stdout",
     "output_type": "stream",
     "text": [
      "Title:\n",
      "Сдерот: юноша украл автомобиль и задавил полицейского\n",
      "Text:\n",
      "В ночь на пятницу, 2-го октября, 19-летний молодой человек был арестован по подозрению в том, что он угнал машину у своего отца. Он оставил ключи от машины под ковриком возле дома. Машина была припаркована во дворе его родителей. \n",
      "\n",
      "--------------------------------------------------\n",
      "\n"
     ]
    },
    {
     "name": "stderr",
     "output_type": "stream",
     "text": [
      " 62%|███████████████████████████████████████████████████████████████▏                                      | 124/200 [34:33<21:12, 16.74s/it]"
     ]
    },
    {
     "name": "stdout",
     "output_type": "stream",
     "text": [
      "Title:\n",
      "Матвиенко: кризис в Ливии надо урегулировать путем общенационального инклюзивного диалога\n",
      "Text:\n",
      "Кризис в Ливии, который продолжается уже почти год и стал одной из самых серьезных гуманитарных проблем современности, необходимо решать исключительно политическим путем с участием всех ливийских сторон. Такое мнение высказала спикер Совета Федерации Валентина Матвиенко на встрече со спецпредставителем генерального секретаря ООН по Ливии Бернардино Леоном...\n",
      "\n",
      "--------------------------------------------------\n",
      "\n"
     ]
    },
    {
     "name": "stderr",
     "output_type": "stream",
     "text": [
      " 62%|███████████████████████████████████████████████████████████████▊                                      | 125/200 [34:49<20:54, 16.73s/it]"
     ]
    },
    {
     "name": "stdout",
     "output_type": "stream",
     "text": [
      "Title:\n",
      "Не все члены НДР хотят сливаться с \"Единством\"\n",
      "Text:\n",
      "В ходе съезда \"Единой России\", который состоится 27 ноября, могут быть приняты решения о слиянии двух партий - \"Народного союза\" и \"Демократической партии России\". Об этом сообщил журналистам в среду лидер Народно-республиканской партии (НРПР) Михаил Касьянов. \n",
      "\n",
      "--------------------------------------------------\n",
      "\n"
     ]
    },
    {
     "name": "stderr",
     "output_type": "stream",
     "text": [
      " 63%|████████████████████████████████████████████████████████████████▎                                     | 126/200 [35:06<20:37, 16.72s/it]"
     ]
    },
    {
     "name": "stdout",
     "output_type": "stream",
     "text": [
      "Title:\n",
      "В Мурманской области продолжит идти снег\n",
      "Text:\n",
      "Снегопад, который начался в ночь на пятницу, не прекращается до сих пор. В настоящее время он продолжается в городе Кандалакша и его окрестностях. За сутки здесь выпало около 20 см осадков. На дорогах гололедица. Также непогода осложнила работу аэропорта города. Самолет из Москвы был вынужден приземлиться в Архангельске. \n",
      "\n",
      "--------------------------------------------------\n",
      "\n"
     ]
    },
    {
     "name": "stderr",
     "output_type": "stream",
     "text": [
      " 64%|████████████████████████████████████████████████████████████████▊                                     | 127/200 [35:23<20:20, 16.71s/it]"
     ]
    },
    {
     "name": "stdout",
     "output_type": "stream",
     "text": [
      "Title:\n",
      "Россельхознадзор запретил поставки мяса с еще одного комбината Белоруссии\n",
      "Text:\n",
      "Россельхознадзор ввел временные ограничения на поставку в Россию продукции ОАО «Агрокомбинат Скидельский». Ограничения введены по результатам лабораторных исследований. В частности, Россельхознадзор не исключил возможности запрета поставок мясной и молочной продукции этого предприятия из-за несоответствия белорусского сырья нормам Таможенного союза. Как говорится в сообщении ведомства от 24 июня 2015 года, это связано с тем, что комбинат возобновил производство сырого молока после приостановки деятельности весной 2014 года. Кроме того, ранее ведомство обнаружило геном вируса АЧС в говяжьих субпродуктах производства ОАО «Скидельское» (Минская область).\n",
      "\n",
      "--------------------------------------------------\n",
      "\n"
     ]
    },
    {
     "name": "stderr",
     "output_type": "stream",
     "text": [
      " 64%|█████████████████████████████████████████████████████████████████▎                                    | 128/200 [35:39<20:02, 16.70s/it]"
     ]
    },
    {
     "name": "stdout",
     "output_type": "stream",
     "text": [
      "Title:\n",
      "Уголовное дело возбуждено по факту массовой драки в Купчино\n",
      "Text:\n",
      "Следователи возбудили уголовное дело о хулиганстве после массовой драки на улице Димитрова. \n",
      "\n",
      "--------------------------------------------------\n",
      "\n"
     ]
    },
    {
     "name": "stderr",
     "output_type": "stream",
     "text": [
      " 64%|█████████████████████████████████████████████████████████████████▊                                    | 129/200 [35:56<19:45, 16.69s/it]"
     ]
    },
    {
     "name": "stdout",
     "output_type": "stream",
     "text": [
      "Title:\n",
      "Десятки человек погибли в результате наводнения на востоке Афганистана \n",
      "Text:\n",
      "Более 30 афганских солдат и полицейских, а также трое гражданских лиц были убиты во время паводка, который затопил большую часть восточного Афганистана. По данным местных чиновников, около 150 тысяч жителей провинции Баглан остались без крова из-за проливных дождей, которые вызвали разлив рек Кабул, Логар и Панджшер. В некоторых районах уровень воды достиг полутора метров. Местные чиновники сообщают о погибших среди гражданского населения. Кроме того, несколько сотен домов было разрушено или повреждено.\n",
      "\n",
      "--------------------------------------------------\n",
      "\n"
     ]
    },
    {
     "name": "stderr",
     "output_type": "stream",
     "text": [
      " 65%|██████████████████████████████████████████████████████████████████▎                                   | 130/200 [36:13<19:27, 16.68s/it]"
     ]
    },
    {
     "name": "stdout",
     "output_type": "stream",
     "text": [
      "Title:\n",
      "Европейский банк отказался обслуживать счета Ротенберга из-за санкций\n",
      "Text:\n",
      "\"Как сообщает газета «Коммерсантъ» со ссылкой на источники, Европейский союз заблокировал перевод в пользу компании Аркадия Ротенберга 30 млн. евро.\"\n",
      "\n",
      "--------------------------------------------------\n",
      "\n"
     ]
    },
    {
     "name": "stderr",
     "output_type": "stream",
     "text": [
      " 66%|██████████████████████████████████████████████████████████████████▊                                   | 131/200 [36:29<19:10, 16.68s/it]"
     ]
    },
    {
     "name": "stdout",
     "output_type": "stream",
     "text": [
      "Title:\n",
      "Колокольцев предложил Центробанку облегчить доступ полиции к банковской тайне\n",
      "Text:\n",
      "Министр внутренних дел Владимир Колокольцев обратился с письмом в Центральный банк России, предложив упростить процедуру получения информации о счетах и вкладах физических лиц. Об этом сообщает \"Коммерсантъ\".В письме глава МВД предлагает ЦБ разработать проект указания об отмене требования обязательного предоставления справки из органов внутренних дел при совершении любых операций по счетам или вкладам физлиц. Также министр выступает за изменение порядка информирования банков об операциях граждан без их личного присутствия (так называемых дистанционных услуг).По словам зампреда думского комитета по финансовому рынку Анатолия Аксакова, инициатива министра будет рассмотрена на одном из ближайших заседаний профильного комитета Госдумы.Ранее сообщалось, что Банк России подготовил законопроект, предусматривающий отмену обязанности банкиров сообщать правоохранительным органам информацию о клиентах кредитных организаций. В частности, документ предполагает внесение изменений в статью 6 федерального закона №115-ФЗ О противодействии легализации доходов, полученных преступным путем, и финансированию терроризма. Сейчас кредитные организации обязаны предоставлять сведения обо всех своих клиентах в Росфинмониторинг только после запроса со стороны правоохранительных органов.\n",
      "\n",
      "--------------------------------------------------\n",
      "\n"
     ]
    },
    {
     "name": "stderr",
     "output_type": "stream",
     "text": [
      " 66%|███████████████████████████████████████████████████████████████████▎                                  | 132/200 [36:46<18:54, 16.69s/it]"
     ]
    },
    {
     "name": "stdout",
     "output_type": "stream",
     "text": [
      "Title:\n",
      "ЧМ по хоккею: чехи всухую обыграли сборную Австрии\n",
      "Text:\n",
      "В субботу, 7 мая 2013 года, на чемпионате мира по хоккею в Минске сборная Чехии одержала победу над сборной Австрии со счетом 5:0. Это была уже четвертая победа чешских спортсменов за последние пять игр. В предыдущих матчах они выиграли у сборных Финляндии и США, а также разгромили команду Германии 4:1. Австрийцы проиграли все три предыдущие встречи с общим счетом 1:10. По итогам группового турнира команды Чехии и Австрии набрали одинаковое количество очков (по 6), однако австрийцам удалось занять более высокое место благодаря лучшей разнице заброшенных и пропущенных шайб. Таким образом, команда из страны Зальцбурга вышла во второй раунд чемпионата мира, где встретится с командой Белоруссии. Сборная Чехии тем временем продолжает борьбу за медали. После победы над сборной Канады она сыграет против команд Швеции или России.\n",
      "\n",
      "--------------------------------------------------\n",
      "\n"
     ]
    },
    {
     "name": "stderr",
     "output_type": "stream",
     "text": [
      " 66%|███████████████████████████████████████████████████████████████████▊                                  | 133/200 [37:03<18:38, 16.69s/it]"
     ]
    },
    {
     "name": "stdout",
     "output_type": "stream",
     "text": [
      "Title:\n",
      "Российский футбольный союз снял с \"Ростова\" запрет на регистрацию новых игроков \n",
      "Text:\n",
      "В понедельник Российский Футбольный Союз (РФС) объявил, что клуб из Ростова-на-Дону не будет исключен из чемпионата России по футболу в связи со смертью болельщика.\n",
      "\n",
      "--------------------------------------------------\n",
      "\n"
     ]
    },
    {
     "name": "stderr",
     "output_type": "stream",
     "text": [
      " 67%|████████████████████████████████████████████████████████████████████▎                                 | 134/200 [37:19<18:20, 16.67s/it]"
     ]
    },
    {
     "name": "stdout",
     "output_type": "stream",
     "text": [
      "Title:\n",
      "Украина: силовики не соблюдают \"режим тишины\"\n",
      "Text:\n",
      "В течение последних нескольких дней ситуация в зоне АТО остается напряженной. Несмотря на достигнутые договоренности о прекращении огня, украинские военные продолжают нести потери как от обстрелов из стрелкового оружия и минометов, так и вследствие боевых столкновений с боевиками. В частности, за минувшие сутки погибли трое украинских военных, еще пятеро получили ранения различной степени тяжести. Об этом сообщает пресс-центр Антитеррористической операции (АТО). По данным штаба, наиболее напряженная обстановка сохраняется неподалеку Донецка - около Авдеевки, Песков, Опытного, Марьинки и шахты Бутовка. На Луганщине террористы вели огонь по Станице Луганской и Счастью. За прошедшие сутки боевики более 50 раз открывали огонь по позициям Вооруженных Сил Украины. Под интенсивный огонь попали населенные пункты Пески, Николаевка, Широкино, Чермалык, Гранитное, Богдановка, Новая Ласпа, Старогнатовка, Красногоровка, Лозовое, Водяное, Талаковка, Павлополь, Лебединское и Гнутово. Как сообщалось ранее, во время боя под Мариуполем погиб один украинский военный, ранены двое бойцов Национальной гвардии. Кроме того, вчера вечером был ранен мирный житель поселка Новотроицкое Волновахского района Донецкой области, который находился рядом с украинским блокпостом.\n",
      "\n",
      "--------------------------------------------------\n",
      "\n"
     ]
    },
    {
     "name": "stderr",
     "output_type": "stream",
     "text": [
      " 68%|████████████████████████████████████████████████████████████████████▊                                 | 135/200 [37:36<18:03, 16.67s/it]"
     ]
    },
    {
     "name": "stdout",
     "output_type": "stream",
     "text": [
      "Title:\n",
      "Прокурор попросил для соратника Навального три года условно\n",
      "Text:\n",
      "\"В Замоскворецком суде Москвы прокурор запросил для Алексея и Олега Навальных по 3,5 года лишения свободы. Они обвиняются в мошенничестве на сумму более 26 млн руб., легализации похищенных средств (ст. 159 УК РФ) и растрате чужого имущества в особо крупном размере (ч. 4 ст. 160 УК). Прокуроры просили суд признать братьев виновными и приговорить к реальным срокам заключения\".\n",
      "\n",
      "--------------------------------------------------\n",
      "\n"
     ]
    },
    {
     "name": "stderr",
     "output_type": "stream",
     "text": [
      " 68%|█████████████████████████████████████████████████████████████████████▎                                | 136/200 [37:53<17:48, 16.69s/it]"
     ]
    },
    {
     "name": "stdout",
     "output_type": "stream",
     "text": [
      "Title:\n",
      "В Невском районе задержали наркоторговца\n",
      "Text:\n",
      "\"Сотрудниками уголовного розыска задержан подозреваемый в незаконном сбыте наркотиков. Как сообщили «Фонтанке» в ГУ МВД РФ по Петербургу и области, накануне около 19 часов у дома №124 по улице Коллонтай сотрудниками полиции за продажу амфетамина был задержан 27-летний мужчина\".\n",
      "\n",
      "--------------------------------------------------\n",
      "\n"
     ]
    },
    {
     "name": "stderr",
     "output_type": "stream",
     "text": [
      " 68%|█████████████████████████████████████████████████████████████████████▊                                | 137/200 [38:09<17:31, 16.70s/it]"
     ]
    },
    {
     "name": "stdout",
     "output_type": "stream",
     "text": [
      "Title:\n",
      "Полузащитник ЦСКА Дзагоев занимает 87-ю строчку в списке самых дорогих футболистов мира\n",
      "Text:\n",
      "В мире есть только два игрока, которые стоят больше — это Криштиану Роналду и Арьен Роббен. Но если вы думаете о покупке этих двух игроков, то забудьте об этом. Стоимость обоих составляет более 100 миллионов евро. \n",
      "\n",
      "--------------------------------------------------\n",
      "\n"
     ]
    },
    {
     "name": "stderr",
     "output_type": "stream",
     "text": [
      " 69%|██████████████████████████████████████████████████████████████████████▍                               | 138/200 [38:26<17:13, 16.67s/it]"
     ]
    },
    {
     "name": "stdout",
     "output_type": "stream",
     "text": [
      "Title:\n",
      "Косово воздержится от односторонних действий на севере края\n",
      "Text:\n",
      "\"Косовский парламент отложил принятие резолюции о независимости в северной части Косова, чтобы избежать эскалации напряженности между Сербией и Приштиной. Резолюция была предложена оппозиционной партией Харадинаи \"Самоопределение\". Она предусматривает провозглашение полной независимости Косова через 30 дней после принятия.\"\n",
      "\n",
      "--------------------------------------------------\n",
      "\n"
     ]
    },
    {
     "name": "stderr",
     "output_type": "stream",
     "text": [
      " 70%|██████████████████████████████████████████████████████████████████████▉                               | 139/200 [38:43<16:57, 16.68s/it]"
     ]
    },
    {
     "name": "stdout",
     "output_type": "stream",
     "text": [
      "Title:\n",
      "Яценюк: в Мариуполь и Бердянск возобновились поставки газа\n",
      "Text:\n",
      "Премьер-министр Украины Арсений Яценюк заявил, что с начала года Украина сократила потребление российского природного газа на 25%, сообщает УНН. \"По сравнению с прошлым годом мы практически уже потеряли четверть потребления российского газа\", - сказал он во время заседания Кабинета министров. По словам премьер-министра, это стало возможно благодаря тому, что была проведена работа по модернизации газотранспортной системы страны, а также были проведены необходимые ремонтные работы на газопроводах для того, чтобы повысить их пропускную способность. Он подчеркнул, что Украина закупает у России только тот объем топлива, который необходим ей непосредственно для собственного использования, при этом не нарушая условия действующего контракта. Кроме этого глава правительства сообщил, что сейчас ведутся переговоры о снижении цены за поставляемый из РФ природный газ до $250-300 за тысячу кубометров.\n",
      "\n",
      "--------------------------------------------------\n",
      "\n"
     ]
    },
    {
     "name": "stderr",
     "output_type": "stream",
     "text": [
      " 70%|███████████████████████████████████████████████████████████████████████▍                              | 140/200 [39:00<16:41, 16.68s/it]"
     ]
    },
    {
     "name": "stdout",
     "output_type": "stream",
     "text": [
      "Title:\n",
      "Генконсульство Польши во Львове забросали бутылками с краской\n",
      "Text:\n",
      "Во вторник, 3 марта 2016 года, около 13.00 неизвестные лица совершили нападение на генеральное консульство Республики Польша в городе Львове (Украина). Об этом сообщает пресс-служба польской дипмиссии со ссылкой на полицию Львова. \n",
      "\n",
      "--------------------------------------------------\n",
      "\n"
     ]
    },
    {
     "name": "stderr",
     "output_type": "stream",
     "text": [
      " 70%|███████████████████████████████████████████████████████████████████████▉                              | 141/200 [39:16<16:24, 16.68s/it]"
     ]
    },
    {
     "name": "stdout",
     "output_type": "stream",
     "text": [
      "Title:\n",
      "Украина понесла тяжелую потерю на Донбассе: трагическая новость с фронта\n",
      "Text:\n",
      "По данным разведки, в боях за последние дни погибли более 50 украинских солдат. \"На сегодняшний день мы потеряли около 150 человек убитыми и 300 ранеными\", - сообщил представитель силовиков Владимир Полевой.\n",
      "\n",
      "--------------------------------------------------\n",
      "\n"
     ]
    },
    {
     "name": "stderr",
     "output_type": "stream",
     "text": [
      " 71%|████████████████████████████████████████████████████████████████████████▍                             | 142/200 [39:33<16:08, 16.69s/it]"
     ]
    },
    {
     "name": "stdout",
     "output_type": "stream",
     "text": [
      "Title:\n",
      "Российский аналог «Википедии» (за два миллиарда) пообещали запустить в 2022 году\n",
      "Text:\n",
      "«Роскомнадзор объявил конкурс на создание российского аналога \"Википедии\" — энциклопедического портала, который должен быть запущен до конца года. Об этом сообщает ТАСС со ссылкой на пресс-службу ведомства.»\n",
      "\n",
      "--------------------------------------------------\n",
      "\n"
     ]
    },
    {
     "name": "stderr",
     "output_type": "stream",
     "text": [
      " 72%|████████████████████████████████████████████████████████████████████████▉                             | 143/200 [39:50<15:51, 16.69s/it]"
     ]
    },
    {
     "name": "stdout",
     "output_type": "stream",
     "text": [
      "Title:\n",
      "За первый час в день распродаж Alibaba заработала $13 млрд\n",
      "Text:\n",
      "\"Alibaba Group Holding Ltd., китайский гигант электронной коммерции, начал свою первую ночь онлайн-распродажи \"Час скидок\", которая началась сегодня вечером и продлится до 2 часов ночи по местному времени. За первые часы компания получила прибыль в размере около 13 миллиардов долларов США - это больше, чем она ожидала.\"\n",
      "\n",
      "--------------------------------------------------\n",
      "\n"
     ]
    },
    {
     "name": "stderr",
     "output_type": "stream",
     "text": [
      " 72%|█████████████████████████████████████████████████████████████████████████▍                            | 144/200 [40:06<15:34, 16.70s/it]"
     ]
    },
    {
     "name": "stdout",
     "output_type": "stream",
     "text": [
      "Title:\n",
      "Баканов с надбавками и премиями получил 57 тыс. гривен, но его оклад все еще неизвестен\n",
      "Text:\n",
      "В Украине разгорается скандал вокруг зарплаты заместителя министра финансов Александра Баканова, который получает 57 тысяч гривень в месяц без учета премий и надбавок за выслугу лет. \n",
      "\n",
      "--------------------------------------------------\n",
      "\n"
     ]
    },
    {
     "name": "stderr",
     "output_type": "stream",
     "text": [
      " 72%|█████████████████████████████████████████████████████████████████████████▉                            | 145/200 [40:23<15:19, 16.73s/it]"
     ]
    },
    {
     "name": "stdout",
     "output_type": "stream",
     "text": [
      "Title:\n",
      "В Приднестровье объявили мобилизацию\n",
      "Text:\n",
      "Приднестровские власти в понедельник, 6 июля, объявили о начале частичной мобилизации. Соответствующий указ подписал президент непризнанной республики Евгений Шевчук. Мобилизация распространяется на мужчин от 18 до 27 лет и будет проводиться с 10 по 30 июля 2015 года. В ходе нее планируется призвать около 500 человек. При этом все они будут проходить службу только на территории ПМР. Военные комиссариаты уже приступили к приему документов у граждан для прохождения военной службы по контракту. \n",
      "\n",
      "--------------------------------------------------\n",
      "\n"
     ]
    },
    {
     "name": "stderr",
     "output_type": "stream",
     "text": [
      " 73%|██████████████████████████████████████████████████████████████████████████▍                           | 146/200 [40:40<15:04, 16.74s/it]"
     ]
    },
    {
     "name": "stdout",
     "output_type": "stream",
     "text": [
      "Title:\n",
      "На западе Украины совершено нападение на церковь Московского патриархата\n",
      "Text:\n",
      "\"В селе Великие Мосты Львовской области неизвестные совершили разбойное нападение на Свято-Николаевский храм Украинской православной церкви (Московского Патриархата). Как сообщили в пресс-службе ГУ МВД во Львовской области, об этом сегодня, 4 марта, сообщил настоятель храма протоиерей Василий. По его словам, около 22 часов 3 марта трое неизвестных мужчин ворвались к нему домой и стали угрожать ему физической расправой за то, что он служит Московскому Патриархату.\"Они сказали мне, чтобы я прекратил служить Богу\", - рассказал священник. После этого нападавшие избили отца Василия, забрали у него ключи от храма и скрылись с места происшествия\".\n",
      "\n",
      "--------------------------------------------------\n",
      "\n"
     ]
    },
    {
     "name": "stderr",
     "output_type": "stream",
     "text": [
      " 74%|██████████████████████████████████████████████████████████████████████████▉                           | 147/200 [40:57<14:46, 16.72s/it]"
     ]
    },
    {
     "name": "stdout",
     "output_type": "stream",
     "text": [
      "Title:\n",
      "Рябков: продвижения в вопросе реконструкции реактора в Араке пока нет\n",
      "Text:\n",
      "Дипломат отметил, что если Иран продолжит движение по пути создания ядерного оружия, то это будет иметь \"серьезные последствия\" для всего региона. По его словам, Тегеран не собирается отказываться от своего права на мирный атом и намерен развивать национальную программу мирного использования атомной энергии без каких-либо ограничений со стороны международного сообщества. Рябков подчеркнул, что Москва рассчитывает, что \"иранские партнеры проявят благоразумие\".\n",
      "\n",
      "--------------------------------------------------\n",
      "\n"
     ]
    },
    {
     "name": "stderr",
     "output_type": "stream",
     "text": [
      " 74%|███████████████████████████████████████████████████████████████████████████▍                          | 148/200 [41:13<14:30, 16.74s/it]"
     ]
    },
    {
     "name": "stdout",
     "output_type": "stream",
     "text": [
      "Title:\n",
      "Украина начала проверку гуманитарного груза из России\n",
      "Text:\n",
      "«Украинская сторона начала таможенное оформление и пограничную досмотрку российского гуманитарного конвоя, который в пятницу прибыл на территорию Украины. Об этом сообщает пресс-служба Государственной пограничной службы Украины».\n",
      "\n",
      "--------------------------------------------------\n",
      "\n"
     ]
    },
    {
     "name": "stderr",
     "output_type": "stream",
     "text": [
      " 74%|███████████████████████████████████████████████████████████████████████████▉                          | 149/200 [41:30<14:13, 16.75s/it]"
     ]
    },
    {
     "name": "stdout",
     "output_type": "stream",
     "text": [
      "Title:\n",
      "Пересдачи автомобильных экзаменов станут платными\n",
      "Text:\n",
      "Власти собираются ввести плату за пересдачу экзамена на получение водительских прав. Об этом сообщил министр образования и науки Дмитрий Ливанов в интервью «Российской газете». Он отметил, что стоимость сдачи будет варьироваться от 1 до 3 тысяч рублей в зависимости от региона. По мнению министра, эта мера позволит сделать систему более прозрачной для граждан. \n",
      "\n",
      "--------------------------------------------------\n",
      "\n"
     ]
    },
    {
     "name": "stderr",
     "output_type": "stream",
     "text": [
      " 75%|████████████████████████████████████████████████████████████████████████████▌                         | 150/200 [41:47<13:58, 16.77s/it]"
     ]
    },
    {
     "name": "stdout",
     "output_type": "stream",
     "text": [
      "Title:\n",
      "Безбородов: бригада судей сработала безошибочно в матче за Суперкубок России по футболу\n",
      "Text:\n",
      "В четверг, 2 июля, на стадионе «Открытие Арена» состоялся матч за Суперкубок России между московским ЦСКА и петербургским Зенитом. Игра завершилась победой армейцев со счетом 1:0. \n",
      "\n",
      "--------------------------------------------------\n",
      "\n"
     ]
    },
    {
     "name": "stderr",
     "output_type": "stream",
     "text": [
      " 76%|█████████████████████████████████████████████████████████████████████████████                         | 151/200 [42:04<13:42, 16.79s/it]"
     ]
    },
    {
     "name": "stdout",
     "output_type": "stream",
     "text": [
      "Title:\n",
      "Найджел де Йонг не поможет сборной Нидерландов в матче с латвийцами\n",
      "Text:\n",
      "Футболист Найджел де Йонг, который должен был помочь своей национальной команде на предстоящем товарищеском поединке против Латвии (8 сентября), пропустит игру из-за травмы. \n",
      "\n",
      "--------------------------------------------------\n",
      "\n"
     ]
    },
    {
     "name": "stderr",
     "output_type": "stream",
     "text": [
      " 76%|█████████████████████████████████████████████████████████████████████████████▌                        | 152/200 [42:21<13:25, 16.79s/it]"
     ]
    },
    {
     "name": "stdout",
     "output_type": "stream",
     "text": [
      "Title:\n",
      "В Уфе в основном торгуют продуктами из своего региона\n",
      "Text:\n",
      "...на рынке «Уфа-Арена» (ул. Менделеева, 207) и на ярмарке выходного дня у ДК им Салавата Юлаева (проспект Октября, 166).\n",
      "\n",
      "--------------------------------------------------\n",
      "\n"
     ]
    },
    {
     "name": "stderr",
     "output_type": "stream",
     "text": [
      " 76%|██████████████████████████████████████████████████████████████████████████████                        | 153/200 [42:37<13:07, 16.76s/it]"
     ]
    },
    {
     "name": "stdout",
     "output_type": "stream",
     "text": [
      "Title:\n",
      "\"Манчестер Юнайтед\" объявил о продлении контракта с Ибрагимовичем на год\n",
      "Text:\n",
      "В прошлом сезоне Златан забил 24 гола и сделал 9 результативных передач в 38 матчах, что принесло ему титул лучшего бомбардира Премьер-Лиги. Он также был признан игроком года по версии футболистов ПФА (Профессиональная Футбольная Ассоциация). \n",
      "\n",
      "--------------------------------------------------\n",
      "\n"
     ]
    },
    {
     "name": "stderr",
     "output_type": "stream",
     "text": [
      " 77%|██████████████████████████████████████████████████████████████████████████████▌                       | 154/200 [42:54<12:50, 16.75s/it]"
     ]
    },
    {
     "name": "stdout",
     "output_type": "stream",
     "text": [
      "Title:\n",
      "На месте крушения A-321 в Египте обнаружены тела 150 погибших\n",
      "Text:\n",
      "Тела более чем 100 человек, которые находились на борту разбившегося самолета Airbus 321 авиакомпании \"Когалымавиа\", были найдены при помощи специальной техники. Об этом сообщает Reuters со ссылкой на источники в египетской службе безопасности и представителей службы безопасности аэропорта Шарм эш-Шейха. Точное число обнаруженных тел не уточняется. Ранее сообщалось о том, что из обломков лайнера извлекли 200 тел пассажиров, однако эта информация пока официально подтверждена не была. \n",
      "\n",
      "--------------------------------------------------\n",
      "\n"
     ]
    },
    {
     "name": "stderr",
     "output_type": "stream",
     "text": [
      " 78%|███████████████████████████████████████████████████████████████████████████████                       | 155/200 [43:11<12:33, 16.75s/it]"
     ]
    },
    {
     "name": "stdout",
     "output_type": "stream",
     "text": [
      "Title:\n",
      "Экспорт трубного газа по группе \"Газпром\" в дальнее зарубежье за 9 месяцев вырос на 14,4%\n",
      "Text:\n",
      "За девять месяцев 2018 года экспорт российского трубопроводного газа увеличился относительно аналогичного периода прошлого года. Об этом свидетельствуют данные Центрального диспетчерского управления топливно-энергетического комплекса (ЦДУ ТЭК). По сравнению с январем - сентябрём 2017 г., поставки выросли на 14,4%. \n",
      "\n",
      "--------------------------------------------------\n",
      "\n"
     ]
    },
    {
     "name": "stderr",
     "output_type": "stream",
     "text": [
      " 78%|███████████████████████████████████████████████████████████████████████████████▌                      | 156/200 [43:28<12:17, 16.76s/it]"
     ]
    },
    {
     "name": "stdout",
     "output_type": "stream",
     "text": [
      "Title:\n",
      "НБУ изменил стоимость гривны: официальный курс валют после выходных\n",
      "Text:\n",
      "Национальный банк Украины установил с 25 февраля 2014 года новый официальный (учетный) курс национальной валюты на уровне 30,9374 грн./$1. Об этом сообщает пресс-служба НБУ со ссылкой на соответствующее постановление №757 от 23 февраля 2014 г. \"С учетом ситуации на межбанковском рынке и в связи с осуществлением платежей по импорту товаров Нацбанк вынужден был пересмотреть учетную ставку\", - говорится в сообщении. В частности, ставка рефинансирования сохранена на прежнем уровне – 19%. С целью обеспечения стабильности денежно-кредитного рынка постановлением также предусмотрено введение дополнительных механизмов влияния на рынок банковских услуг путем установления предельных значений процентных ставок по отдельным операциям банков. Кроме того, увеличены лимиты открытой валютной позиции для коммерческих банков до 60 млн долл., что позволит им более гибко реагировать на изменения конъюнктуры финансового рынка. Как сообщалось ранее, 22 февраля Национальный банк Украины повысил ключевую ставку сразу на 1% пункта - до 20%, объяснив это необходимостью стабилизации ситуации на финансовом рынке страны.\n",
      "\n",
      "--------------------------------------------------\n",
      "\n"
     ]
    },
    {
     "name": "stderr",
     "output_type": "stream",
     "text": [
      " 78%|████████████████████████████████████████████████████████████████████████████████                      | 157/200 [43:44<11:59, 16.73s/it]"
     ]
    },
    {
     "name": "stdout",
     "output_type": "stream",
     "text": [
      "Title:\n",
      "Москвичи получают прибавку к зарплате реже остальных россиян\n",
      "Text:\n",
      "Жители Москвы, в отличие от большинства российских регионов, стали получать зарплату чаще. Об этом свидетельствует исследование Росстата за 2018 год. Согласно данным ведомства, средняя зарплата по стране составила 36 тысяч рублей. В Москве этот показатель составил 41 тысячу рублей. \n",
      "\n",
      "--------------------------------------------------\n",
      "\n"
     ]
    },
    {
     "name": "stderr",
     "output_type": "stream",
     "text": [
      " 79%|████████████████████████████████████████████████████████████████████████████████▌                     | 158/200 [44:01<11:41, 16.70s/it]"
     ]
    },
    {
     "name": "stdout",
     "output_type": "stream",
     "text": [
      "Title:\n",
      "Матвиенко сообщила о возможном экстренном созыве Совфеда\n",
      "Text:\n",
      "Спикер Совета Федерации Валентина Матвиенко заявила, что сенаторы могут собраться на внеочередное заседание в связи с ситуацией вокруг ФИФА. Об этом сообщает ТАСС.\"Мы не исключаем, и я думаю, что мы соберемся еще до того как состоится исполком (ФИФА)\", сказала она журналистам перед началом встречи со спикером Госдумы Сергеем Нарышкиным.По словам спикера верхней палаты парламента РФ, \"ситуация очень серьезная\". Она подчеркнула, что необходимо обсудить дальнейшие действия для обеспечения интересов России и ее граждан, а также международного имиджа страны.Ранее сегодня стало известно, что президент США Барак Обама намерен посетить Белый дом 27 мая, чтобы выразить поддержку переизбранию Йозефа Блаттера президентом Международной федерации футбола (ФИФА).\n",
      "\n",
      "--------------------------------------------------\n",
      "\n"
     ]
    },
    {
     "name": "stderr",
     "output_type": "stream",
     "text": [
      " 80%|█████████████████████████████████████████████████████████████████████████████████                     | 159/200 [44:18<11:25, 16.73s/it]"
     ]
    },
    {
     "name": "stdout",
     "output_type": "stream",
     "text": [
      "Title:\n",
      "Моше Кацав отказался уйти в отставку\n",
      "Text:\n",
      "Скандал вокруг президента Моше Кацава разгорелся с новой силой. Вчера вечером он объявил, что не уйдет со своего поста до тех пор, пока парламент Израиля не утвердит его назначение на пост министра обороны страны... Президент Кацав заявил также, что и премьер-министр Эхуд Ольмерт должен будет подать в отставку после того как станет известно содержание записи беседы между ним и министром юстиции Ципи Ливни, сделанной израильским телевидением...\n",
      "\n",
      "--------------------------------------------------\n",
      "\n"
     ]
    },
    {
     "name": "stderr",
     "output_type": "stream",
     "text": [
      " 80%|█████████████████████████████████████████████████████████████████████████████████▌                    | 160/200 [44:34<11:09, 16.73s/it]"
     ]
    },
    {
     "name": "stdout",
     "output_type": "stream",
     "text": [
      "Title:\n",
      "Из психбольницы в Прикамье сбежал мужчина. «Его подозревают в особо тяжком преступлении». ФОТО\n",
      "Text:\n",
      "В Пермском крае из психиатрической больницы № 4, расположенной на улице Попова в Перми, сбежали двое мужчин 1987 и 1989 годов рождения. Их подозревают в совершении особо тяжкого преступления. Оба беглеца были одеты во все черное, лица скрывали под медицинскими масками. \n",
      "\n",
      "--------------------------------------------------\n",
      "\n"
     ]
    },
    {
     "name": "stderr",
     "output_type": "stream",
     "text": [
      " 80%|██████████████████████████████████████████████████████████████████████████████████                    | 161/200 [44:51<10:53, 16.76s/it]"
     ]
    },
    {
     "name": "stdout",
     "output_type": "stream",
     "text": [
      "Title:\n",
      "Сервис отправки SMS с сайта \"МегаФона\" заработал после двухнедельного перерыва\n",
      "Text:\n",
      "В течение последней недели, начиная со вторника 21 мая, пользователи не могли воспользоваться сервисом по отправке коротких текстовых сообщений через сайт компании «МегаФон». В пресс-службе оператора пояснили, что причиной сбоя стал технический сбой на стороне провайдера. При этом в самом сервисе никаких неполадок замечено не было — он работал исправно.\n",
      "\n",
      "--------------------------------------------------\n",
      "\n"
     ]
    },
    {
     "name": "stderr",
     "output_type": "stream",
     "text": [
      " 81%|██████████████████████████████████████████████████████████████████████████████████▌                   | 162/200 [45:08<10:37, 16.78s/it]"
     ]
    },
    {
     "name": "stdout",
     "output_type": "stream",
     "text": [
      "Title:\n",
      "Житель Пензенской области вошел в Экспертный совет при правительстве\n",
      "Text:\n",
      "https://www.penza-press.ru/lenta-novostey/zheltaya-stranitsa-dlinnoy-nochnoj-novosty\n",
      "\n",
      "--------------------------------------------------\n",
      "\n"
     ]
    },
    {
     "name": "stderr",
     "output_type": "stream",
     "text": [
      " 82%|███████████████████████████████████████████████████████████████████████████████████▏                  | 163/200 [45:25<10:20, 16.78s/it]"
     ]
    },
    {
     "name": "stdout",
     "output_type": "stream",
     "text": [
      "Title:\n",
      "Баскетболиста \"Миннесоты\" Шабазза Мухаммада выгнали из лагеря новичков из-за женщины \n",
      "Text:\n",
      "Нападающий \"Миннесоты Тимбервулвз\" и сборной США по баскетболу Шабазз Мухаммад был отчислен из тренировочного лагеря новичков НБА за то, что его застали в номере отеля с девушкой. Об этом сообщает ESPN со ссылкой на источник, знакомый с ситуацией. \n",
      "\n",
      "--------------------------------------------------\n",
      "\n"
     ]
    },
    {
     "name": "stderr",
     "output_type": "stream",
     "text": [
      " 82%|███████████████████████████████████████████████████████████████████████████████████▋                  | 164/200 [45:42<10:03, 16.77s/it]"
     ]
    },
    {
     "name": "stdout",
     "output_type": "stream",
     "text": [
      "Title:\n",
      "Мобильные телефоны москвичей прослушивать перестали\n",
      "Text:\n",
      "В России впервые за последние десять лет прекратили прослушку мобильных телефонов, сообщает \"Интерфакс\" со ссылкой на заявление главы управления специальных технических мероприятий МВД РФ Алексея Мошкова. По его словам, с начала 2013 года ведомство не будет проводить оперативно-розыскных мероприятий по раскрытию преступлений, связанных с использованием мобильной связи и ее передачей в том числе через интернет или GSM-сети. В то же время, как отметил Алексей Мошков, мобильники могут использоваться для совершения противоправных действий, поэтому правоохранительные органы продолжат их отслеживать и будут использовать все имеющиеся возможности для этого. Кроме того, представитель правоохранительных органов заявил, что сотрудники ведомства намерены выявлять случаи использования гражданами средств сотовой связи при совершении тяжких и особо тяжких преступлений.\n",
      "\n",
      "--------------------------------------------------\n",
      "\n"
     ]
    },
    {
     "name": "stderr",
     "output_type": "stream",
     "text": [
      " 82%|████████████████████████████████████████████████████████████████████████████████████▏                 | 165/200 [45:58<09:47, 16.77s/it]"
     ]
    },
    {
     "name": "stdout",
     "output_type": "stream",
     "text": [
      "Title:\n",
      "Американские военнослужащие освободили заложников-египтян\n",
      "Text:\n",
      "\"По словам официального представителя Пентагона, американские военные силы и их союзники освободили в четверг египетских военнослужащих, захваченных боевиками на Синайском полуострове. Представители США также заявили, что они понесли потери во время спасательной операции.\"\n",
      "\n",
      "--------------------------------------------------\n",
      "\n"
     ]
    },
    {
     "name": "stderr",
     "output_type": "stream",
     "text": [
      " 83%|████████████████████████████████████████████████████████████████████████████████████▋                 | 166/200 [46:15<09:30, 16.76s/it]"
     ]
    },
    {
     "name": "stdout",
     "output_type": "stream",
     "text": [
      "Title:\n",
      "Оренбургский наркодилер хранил марихуану в собачьей будке\n",
      "Text:\n",
      "В одном из частных домов Оренбурга наркополицейские обнаружили и изъяли более 100 граммов наркотического средства – марихуаны. Как сообщили корреспонденту Cod56.ru в пресс-службе УФСКН по Оренбургской области, оперативники выяснили, что к хранению наркотиков причастен ранее судимый мужчина 1967 года рождения. Мужчина нигде не работает, проживает с матерью 1965 года рождения в частном доме на улице Ветеранов города Оренбурга. По данным фактам возбуждены уголовные дела...\n",
      "\n",
      "--------------------------------------------------\n",
      "\n"
     ]
    },
    {
     "name": "stderr",
     "output_type": "stream",
     "text": [
      " 84%|█████████████████████████████████████████████████████████████████████████████████████▏                | 167/200 [46:32<09:13, 16.77s/it]"
     ]
    },
    {
     "name": "stdout",
     "output_type": "stream",
     "text": [
      "Title:\n",
      "ЗакС поддержал инициативу главы города по организации местных историко-культурных заповедников\n",
      "Text:\n",
      "Депутаты ЗакСа поддержали идею губернатора о создании в Петербурге исторических заповедников. Соответствующий законопроект был одобрен на сегодняшнем заседании парламента, передает корреспондент ЗАКС.Ру. Как пояснил губернатор Георгий Полтавченко, речь идет об объектах культурного наследия регионального значения - памятниках истории и культуры федерального значения, расположенных на территории Петербурга, которые представляют собой выдающиеся произведения архитектуры или монументального искусства, являют образцы градостроения и ландшафтной архитектуры, являются частью исторически сложившегося центра Санкт-Петербурга. Губернатор подчеркнул, что принятие этого закона позволит сохранить для потомков памятники истории и культуры нашего города.\n",
      "\n",
      "--------------------------------------------------\n",
      "\n"
     ]
    },
    {
     "name": "stderr",
     "output_type": "stream",
     "text": [
      " 84%|█████████████████████████████████████████████████████████████████████████████████████▋                | 168/200 [46:49<08:56, 16.77s/it]"
     ]
    },
    {
     "name": "stdout",
     "output_type": "stream",
     "text": [
      "Title:\n",
      "В Бразилии разбился пассажирский самолет: 24 человека погибли\n",
      "Text:\n",
      "\"24 человека, включая пять членов экипажа и 22 пассажира, погибли в результате крушения самолета бразильской авиакомпании Gol Airlines недалеко от аэропорта города Белу-Оризонти. Самолет Boeing 737-800 совершал рейс из Рио-де-Жанейро в Сантус.\"\n",
      "\n",
      "--------------------------------------------------\n",
      "\n"
     ]
    },
    {
     "name": "stderr",
     "output_type": "stream",
     "text": [
      " 84%|██████████████████████████████████████████████████████████████████████████████████████▏               | 169/200 [47:05<08:39, 16.77s/it]"
     ]
    },
    {
     "name": "stdout",
     "output_type": "stream",
     "text": [
      "Title:\n",
      "Пенни 1793 года продан с торгов за 2,35 млн долларов\n",
      "Text:\n",
      "На аукционе Sotheby’s в Нью-Йорке был побит ценовой рекорд на редкий пенни Пенсильвании, который ушел с молотка более чем за $2,3 миллиона. Эта монета является частью коллекции редких монет и была продана коллекционеру из Китая. \n",
      "\n",
      "--------------------------------------------------\n",
      "\n"
     ]
    },
    {
     "name": "stderr",
     "output_type": "stream",
     "text": [
      " 85%|██████████████████████████████████████████████████████████████████████████████████████▋               | 170/200 [47:22<08:22, 16.75s/it]"
     ]
    },
    {
     "name": "stdout",
     "output_type": "stream",
     "text": [
      "Title:\n",
      "Ученые считают проект строительства российской орбитальной станции растратой средств\n",
      "Text:\n",
      "Проект по строительству Россией собственной космической станции может быть бессмысленным и даже вредным для страны, считает научный сотрудник Центра стратегических исследований Китая при Колумбийском университете (CSIC) профессор Чжао Лицзянь. \"Россия в настоящее время является единственной страной мира, обладающей возможностями создания собственных космических станций\", - заявил он газете The New York Times... По мнению профессора CSIC, создание такой базы на орбите будет стоить огромных денег, а ее эксплуатация займет слишком много времени, чтобы оправдать затраты. Он также отметил, что у России нет опыта длительного пребывания людей в космосе... Кроме того, строительство подобной станции противоречит планам Роскосмоса и Минобороны РФ создать собственную космическую станцию после 2020 года.\n",
      "\n",
      "--------------------------------------------------\n",
      "\n"
     ]
    },
    {
     "name": "stderr",
     "output_type": "stream",
     "text": [
      " 86%|███████████████████████████████████████████████████████████████████████████████████████▏              | 171/200 [47:39<08:05, 16.75s/it]"
     ]
    },
    {
     "name": "stdout",
     "output_type": "stream",
     "text": [
      "Title:\n",
      "Меркель не исключила дружбы ЕС с Россией\n",
      "Text:\n",
      "Канцлер Германии Ангела Меркель заявила, что в настоящее время нет причин для прекращения сотрудничества между Европейским союзом и Российской Федерацией. По словам канцлера ФРГ, несмотря на то, что санкции против Москвы до сих пор действуют, она уверена, что рано или поздно они будут сняты. В интервью изданию Bild am Sonntag глава правительства также отметила, что \"взаимное доверие должно вернуться\".\n",
      "\n",
      "--------------------------------------------------\n",
      "\n"
     ]
    },
    {
     "name": "stderr",
     "output_type": "stream",
     "text": [
      " 86%|███████████████████████████████████████████████████████████████████████████████████████▋              | 172/200 [47:56<07:49, 16.77s/it]"
     ]
    },
    {
     "name": "stdout",
     "output_type": "stream",
     "text": [
      "Title:\n",
      "Шахтеры освистали Демчишина во время его выступления\n",
      "Text:\n",
      "В четверг, 12 июня министр энергетики и угольной промышленности Украины Владимир Демчишин выступил на заседании Верховной Рады с отчетом о работе министерства за 2015 год. Во время своего доклада он отметил, что в первом квартале 2016 года потребление газа сократилось по сравнению со вторым кварталом прошлого года на 21%. При этом снижение потребления было зафиксировано как промышленными предприятиями (на 13%), так и населением (на 11%). Кроме того, сокращение произошло из-за снижения температуры воздуха. \n",
      "\n",
      "--------------------------------------------------\n",
      "\n"
     ]
    },
    {
     "name": "stderr",
     "output_type": "stream",
     "text": [
      " 86%|████████████████████████████████████████████████████████████████████████████████████████▏             | 173/200 [48:12<07:32, 16.76s/it]"
     ]
    },
    {
     "name": "stdout",
     "output_type": "stream",
     "text": [
      "Title:\n",
      "Правящая партия победила на парламентских выборах в Азербайджане\n",
      "Text:\n",
      "В воскресенье, 1 ноября, президент Азербайджана Ильхам Алиев был переизбран главой правящей партии страны. Об этом сообщает Agence France-Presse со ссылкой на данные ЦИК республики. \n",
      "\n",
      "--------------------------------------------------\n",
      "\n"
     ]
    },
    {
     "name": "stderr",
     "output_type": "stream",
     "text": [
      " 87%|████████████████████████████████████████████████████████████████████████████████████████▋             | 174/200 [48:29<07:15, 16.76s/it]"
     ]
    },
    {
     "name": "stdout",
     "output_type": "stream",
     "text": [
      "Title:\n",
      "Страховая часть пенсии может быть увеличена\n",
      "Text:\n",
      "В связи с тем, что правительство России не планирует повышение пенсионного возраста в ближайшее время и продолжит проводить реформы для улучшения условий жизни пенсионеров, Минфин предложил повысить страховые выплаты пенсионерам. Это позволит сэкономить порядка 400 миллиардов рублей ежегодно...\n",
      "\n",
      "--------------------------------------------------\n",
      "\n"
     ]
    },
    {
     "name": "stderr",
     "output_type": "stream",
     "text": [
      " 88%|█████████████████████████████████████████████████████████████████████████████████████████▎            | 175/200 [48:46<06:59, 16.78s/it]"
     ]
    },
    {
     "name": "stdout",
     "output_type": "stream",
     "text": [
      "Title:\n",
      "Восьмой гуманитарный конвой полностью вернулся из Донбасса в Россию\n",
      "Text:\n",
      "В субботу, 24 сентября 2014 года, восьмой по счету российский гумконвой прибыл на территорию России. Все автомобили прошли таможенный контроль и сейчас находятся на территории Донского спасательного центра МЧС РФ под Ростовом-на-Дону. В общей сложности было доставлено более 1100 тонн груза. По словам заместителя начальника Национального центра управления в кризисных ситуациях (НЦУКС) МЧС Олега Воронова, среди грузов были продукты питания - консервы рыбные и мясорастительные, мука пшеничная, рисовая крупка, сахар-песок, а также предметы первой необходимости для населения Донецкой и Луганской областей Украины. \n",
      "\n",
      "--------------------------------------------------\n",
      "\n"
     ]
    },
    {
     "name": "stderr",
     "output_type": "stream",
     "text": [
      " 88%|█████████████████████████████████████████████████████████████████████████████████████████▊            | 176/200 [49:03<06:42, 16.77s/it]"
     ]
    },
    {
     "name": "stdout",
     "output_type": "stream",
     "text": [
      "Title:\n",
      "Президент \"Генчлербирлиги\" намерен штрафовать футболистов за бороды\n",
      "Text:\n",
      "В следующем сезоне президент Генчлербирлиги Халук Дурсун будет применять санкции к футболистам, которые будут носить бороду. В прошлом году он уже оштрафовал двух игроков на сумму в 500 турецких лир (около 100 долларов) каждый. Президент клуба также сообщил о том, что он планирует ввести еще один вид санкций - штраф в размере 10 тысяч турецких лир (более 1 тысячи долларов), если кто-то из футболистов выйдет на поле с бородой или усами...\n",
      "\n",
      "--------------------------------------------------\n",
      "\n"
     ]
    },
    {
     "name": "stderr",
     "output_type": "stream",
     "text": [
      " 88%|██████████████████████████████████████████████████████████████████████████████████████████▎           | 177/200 [49:19<06:25, 16.76s/it]"
     ]
    },
    {
     "name": "stdout",
     "output_type": "stream",
     "text": [
      "Title:\n",
      "Президент клуба НБА \"Миннесота\" Флип Сондерс займет пост главного тренера команды\n",
      "Text:\n",
      "\"Флип Сондерс, который является действующим главным тренером и генеральным менеджером баскетбольного клуба Миннесоты Тимбервулвз, в следующем сезоне будет тренировать команду.\n",
      "\n",
      "--------------------------------------------------\n",
      "\n"
     ]
    },
    {
     "name": "stderr",
     "output_type": "stream",
     "text": [
      " 89%|██████████████████████████████████████████████████████████████████████████████████████████▊           | 178/200 [49:36<06:08, 16.76s/it]"
     ]
    },
    {
     "name": "stdout",
     "output_type": "stream",
     "text": [
      "Title:\n",
      "В Петербурге риелтор лишилась колец с бриллиантами и ключей от иномарки\n",
      "Text:\n",
      "Женщина в возрасте 41 года, занимавшаяся операциями с недвижимостью на территории Санкт-Петербурга, была найдена мертвой. Тело женщины было обнаружено в квартире дома по улице Маршала Казакова вечером 2 февраля. На теле погибшей были обнаружены многочисленные раны, а также следы удушения. Кроме того, при осмотре квартиры полицейские обнаружили пропажу ювелирных украшений, мобильного телефона и документов потерпевшей. По факту произошедшего следственными органами ГСУ СКР возбуждено уголовное дело об убийстве (ч.1 ст. 105 УК РФ). В настоящее время сотрудниками полиции проводится комплекс мероприятий для установления личности злоумышленника и всех обстоятельств совершенного преступления. \n",
      "\n",
      "--------------------------------------------------\n",
      "\n"
     ]
    },
    {
     "name": "stderr",
     "output_type": "stream",
     "text": [
      " 90%|███████████████████████████████████████████████████████████████████████████████████████████▎          | 179/200 [49:53<05:51, 16.76s/it]"
     ]
    },
    {
     "name": "stdout",
     "output_type": "stream",
     "text": [
      "Title:\n",
      "Пара фигуристов Мишина/Мирзоев победила в финале юниорской серии Гран-при\n",
      "Text:\n",
      "В Москве состоялся финал юниорского Гран-при по фигурному катанию. В турнире среди спортивных пар победили россияне Евгения Тарасова и Владимир Морозов, а победу у юношей одержали представители Узбекистана Миша Ге и Александр Гурейро...\n",
      "\n",
      "--------------------------------------------------\n",
      "\n"
     ]
    },
    {
     "name": "stderr",
     "output_type": "stream",
     "text": [
      " 90%|███████████████████████████████████████████████████████████████████████████████████████████▊          | 180/200 [50:10<05:34, 16.74s/it]"
     ]
    },
    {
     "name": "stdout",
     "output_type": "stream",
     "text": [
      "Title:\n",
      "В квалификационных заездах Гран-при Канады Квят показал 8-й результат\n",
      "Text:\n",
      "Квалифицировавшись восьмым, Даниил Квят из команды Red Bull Racing в субботу стал первым российским пилотом Формулы 1 с 1992 года.\n",
      "\n",
      "--------------------------------------------------\n",
      "\n"
     ]
    },
    {
     "name": "stderr",
     "output_type": "stream",
     "text": [
      " 90%|████████████████████████████████████████████████████████████████████████████████████████████▎         | 181/200 [50:26<05:18, 16.75s/it]"
     ]
    },
    {
     "name": "stdout",
     "output_type": "stream",
     "text": [
      "Title:\n",
      "Венгрии пригрозили исключением из ЕС\n",
      "Text:\n",
      "Еврокомиссия предупредила Венгрию, что она может быть исключена из Евросоюза в случае продолжения политики жесткой экономии. В Брюсселе считают, что венгерские власти нарушили условия соглашения с Евросоюзом и должны провести экономические реформы для восстановления экономики страны. \n",
      "\n",
      "--------------------------------------------------\n",
      "\n"
     ]
    },
    {
     "name": "stderr",
     "output_type": "stream",
     "text": [
      " 91%|████████████████████████████████████████████████████████████████████████████████████████████▊         | 182/200 [50:43<05:01, 16.76s/it]"
     ]
    },
    {
     "name": "stdout",
     "output_type": "stream",
     "text": [
      "Title:\n",
      "Джастину Биберу предложили $2 млн за съемки в гей-порнофильме\n",
      "Text:\n",
      "\"Популярному канадскому певцу Джастину Бибе (Justin Bieber) поступило предложение сняться в порно фильме, сообщает издание The National Post. По данным источника издания, артист якобы получил такое предложение от одного из режиссеров фильмов для взрослых. Однако представители исполнителя пока никак не прокомментировали данную информацию.\"\n",
      "\n",
      "--------------------------------------------------\n",
      "\n"
     ]
    },
    {
     "name": "stderr",
     "output_type": "stream",
     "text": [
      " 92%|█████████████████████████████████████████████████████████████████████████████████████████████▎        | 183/200 [51:00<04:44, 16.75s/it]"
     ]
    },
    {
     "name": "stdout",
     "output_type": "stream",
     "text": [
      "Title:\n",
      "В Братске будут судить «черных риелторов» за убийство клиентов\n",
      "Text:\n",
      "Следователи СКР по Иркутской области завершили расследование уголовного дела в отношении двух местных жителей, обвиняемых в совершении преступлений, предусмотренных ч. 4 ст. 111 УК РФ (умышленное причинение тяжкого вреда здоровью группой лиц), пп. а, ж, з, к ч. 2 ст. 105 УК РФ (убийство двоих и более человек). По данным следствия, ночью 21 июня 2016 года мужчины распивали спиртное вместе с двумя знакомыми женщинами в квартире одного из домов по улице Юбилейная города Братска. Между ними возникла словесная перепалка на почве личной неприязни. В ходе ссоры один из мужчин нанес множественные удары ножом в область шеи своим знакомым женщинам, от которых они скончались на месте происшествия. Затем злоумышленник скрылся с места преступления.\n",
      "\n",
      "--------------------------------------------------\n",
      "\n"
     ]
    },
    {
     "name": "stderr",
     "output_type": "stream",
     "text": [
      " 92%|█████████████████████████████████████████████████████████████████████████████████████████████▊        | 184/200 [51:17<04:28, 16.76s/it]"
     ]
    },
    {
     "name": "stdout",
     "output_type": "stream",
     "text": [
      "Title:\n",
      "Опрос: число тех, кто одобряет деятельность Трампа на посту президента, выросло до 50%\n",
      "Text:\n",
      "Доля американцев, которые одобряют работу Дональда Трампа на посту президента США, выросла с 40 процентов в мае 2017 года до 51 процента. Об этом свидетельствуют данные опроса Gallup, опубликованные во вторник.\n",
      "\n",
      "--------------------------------------------------\n",
      "\n"
     ]
    },
    {
     "name": "stderr",
     "output_type": "stream",
     "text": [
      " 92%|██████████████████████████████████████████████████████████████████████████████████████████████▎       | 185/200 [51:33<04:10, 16.73s/it]"
     ]
    },
    {
     "name": "stdout",
     "output_type": "stream",
     "text": [
      "Title:\n",
      "Саакашвили прилетел к Януковичу за день до Медведева\n",
      "Text:\n",
      "\"Бывший президент Грузии Михаил Саакашвили, который в настоящее время находится на Украине, прибыл вчера поздно вечером (18 декабря) во Внуково-3. Он провел переговоры с президентом Украины Виктором Януковичем и премьером Николаем Азаровым\".\n",
      "\n",
      "--------------------------------------------------\n",
      "\n"
     ]
    },
    {
     "name": "stderr",
     "output_type": "stream",
     "text": [
      " 93%|██████████████████████████████████████████████████████████████████████████████████████████████▊       | 186/200 [51:50<03:54, 16.71s/it]"
     ]
    },
    {
     "name": "stdout",
     "output_type": "stream",
     "text": [
      "Title:\n",
      "В Кемерове издали сборник сказок об экологических проблемах\n",
      "Text:\n",
      "Кемеровчане выпустили книгу «Сказки о природе» для детей и взрослых, в которых рассказывается об экологической ситуации в регионе. Сборник издан при поддержке департамента природных ресурсов и экологии области. В книге есть сказки про животных, которые живут рядом с людьми, а также экологические истории — например, история про то, как человек спас медведя от браконьера или про волка-спасателя. По словам автора книги Ольги Хвостовой, она хотела рассказать детям о том, что нужно беречь природу. Сказка учит ребенка сопереживать животным, понимать их язык, помогать им выжить, считает автор.\n",
      "\n",
      "--------------------------------------------------\n",
      "\n"
     ]
    },
    {
     "name": "stderr",
     "output_type": "stream",
     "text": [
      " 94%|███████████████████████████████████████████████████████████████████████████████████████████████▎      | 187/200 [52:07<03:37, 16.73s/it]"
     ]
    },
    {
     "name": "stdout",
     "output_type": "stream",
     "text": [
      "Title:\n",
      "Украинский боксер подписал контракт с менеджерами из США\n",
      "Text:\n",
      "Денис Устименко (27-0, 17 КО), проживающий в Киеве и выступающий за Украину уже около года, наконец-то определился со своим будущим. По словам менеджера Дениса Андрея Шкаликова, на следующей неделе его подопечный подпишет соглашение о сотрудничестве с американской промоутерской компанией Top Rank Promotions. Также менеджер рассказал, что Денис будет выступать под американским флагом. В случае успеха в новой компании, Устименко сможет побороться за звание чемпиона мира по версии WBO в полутяжелом весе. \n",
      "\n",
      "--------------------------------------------------\n",
      "\n"
     ]
    },
    {
     "name": "stderr",
     "output_type": "stream",
     "text": [
      " 94%|███████████████████████████████████████████████████████████████████████████████████████████████▉      | 188/200 [52:24<03:20, 16.72s/it]"
     ]
    },
    {
     "name": "stdout",
     "output_type": "stream",
     "text": [
      "Title:\n",
      "МВД создаст прибор, распознающий смертников за 10 метров\n",
      "Text:\n",
      "\"В Москве полицейские разрабатывают устройство для определения террористов-смертников. Как сообщил журналистам начальник ГУ МВД по городу Анатолий Якунин в среду на пресс-конференции, посвященной итогам работы московской полиции в первом полугодии 2013 года, планируется создать специальный датчик, который будет определять наличие взрывчатки у человека.\"\n",
      "\n",
      "--------------------------------------------------\n",
      "\n"
     ]
    },
    {
     "name": "stderr",
     "output_type": "stream",
     "text": [
      " 94%|████████████████████████████████████████████████████████████████████████████████████████████████▍     | 189/200 [52:40<03:03, 16.71s/it]"
     ]
    },
    {
     "name": "stdout",
     "output_type": "stream",
     "text": [
      "Title:\n",
      "Часть польского закона о люстрации признана неконституционной\n",
      "Text:\n",
      "Комиссия по правам человека и конституционным вопросам в Польше признала часть Закона о люстрациях, принятого Сеймом 16 декабря 2015 года, противоречащей конституции. Комиссия постановила, что этот закон нарушает права граждан Польши на справедливое судебное разбирательство и защиту частной жизни. \n",
      "\n",
      "--------------------------------------------------\n",
      "\n"
     ]
    },
    {
     "name": "stderr",
     "output_type": "stream",
     "text": [
      " 95%|████████████████████████████████████████████████████████████████████████████████████████████████▉     | 190/200 [52:57<02:47, 16.72s/it]"
     ]
    },
    {
     "name": "stdout",
     "output_type": "stream",
     "text": [
      "Title:\n",
      "В Омском районе задержали рецидивиста за кражу электроинструментов\n",
      "Text:\n",
      "Омский район, 3 ноября. В полицию обратилась жительница поселка Крутая Горка с заявлением о том, что из ее дома в поселке похищены инструменты на общую сумму около 30 тысяч рублей. На место происшествия выехала следственно-оперативная группа полиции и сотрудники уголовного розыска. \n",
      "\n",
      "--------------------------------------------------\n",
      "\n"
     ]
    },
    {
     "name": "stderr",
     "output_type": "stream",
     "text": [
      " 96%|█████████████████████████████████████████████████████████████████████████████████████████████████▍    | 191/200 [53:14<02:30, 16.75s/it]"
     ]
    },
    {
     "name": "stdout",
     "output_type": "stream",
     "text": [
      "Title:\n",
      "Избранный президент Южной Осетии намерен реформировать судебную систему республики\n",
      "Text:\n",
      "В ходе встречи с президентом России Владимиром Путиным в Москве избранный глава Южной Осетии Леонид Тибилов заявил, что будет добиваться создания судебных органов власти. По его словам, это позволит более эффективно решать социальные вопросы населения. «Это очень важно для людей», - отметил он и добавил, что уже обсудил этот вопрос со спикером парламента Анатолием Бибиловым. \n",
      "\n",
      "--------------------------------------------------\n",
      "\n"
     ]
    },
    {
     "name": "stderr",
     "output_type": "stream",
     "text": [
      " 96%|█████████████████████████████████████████████████████████████████████████████████████████████████▉    | 192/200 [53:31<02:14, 16.76s/it]"
     ]
    },
    {
     "name": "stdout",
     "output_type": "stream",
     "text": [
      "Title:\n",
      "Волейболистки казанского \"Динамо\" победили \"Хемик\" в матче Лиги чемпионов\n",
      "Text:\n",
      "Казанское «Динамо» обыграло турецкий клуб «Хемик». Матч пятого тура группового этапа волейбольной Лиги чемпионов завершился победой команды из Татарстана со счетом 3-2. \n",
      "\n",
      "--------------------------------------------------\n",
      "\n"
     ]
    },
    {
     "name": "stderr",
     "output_type": "stream",
     "text": [
      " 96%|██████████████████████████████████████████████████████████████████████████████████████████████████▍   | 193/200 [53:47<01:57, 16.75s/it]"
     ]
    },
    {
     "name": "stdout",
     "output_type": "stream",
     "text": [
      "Title:\n",
      "Россиянин Игорь Мялин завоевал серебро Универсиады в прыжках в воду с вышки\n",
      "Text:\n",
      "Игорь Мялин, представляющий Россию на летней Универсиаде-2013 в Казани, занял второе место. \n",
      "\n",
      "--------------------------------------------------\n",
      "\n"
     ]
    },
    {
     "name": "stderr",
     "output_type": "stream",
     "text": [
      " 97%|██████████████████████████████████████████████████████████████████████████████████████████████████▉   | 194/200 [54:04<01:40, 16.75s/it]"
     ]
    },
    {
     "name": "stdout",
     "output_type": "stream",
     "text": [
      "Title:\n",
      "Приморский полицейский подозревается в получении взятки\n",
      "Text:\n",
      "В отношении сотрудника полиции возбуждено уголовное дело по факту получения им взяток. \n",
      "\n",
      "--------------------------------------------------\n",
      "\n"
     ]
    },
    {
     "name": "stderr",
     "output_type": "stream",
     "text": [
      " 98%|███████████████████████████████████████████████████████████████████████████████████████████████████▍  | 195/200 [54:21<01:23, 16.75s/it]"
     ]
    },
    {
     "name": "stdout",
     "output_type": "stream",
     "text": [
      "Title:\n",
      "Мужчина упал на рельсы на станции метро \"Братиславская\"\n",
      "Text:\n",
      "На станции московского метрополитена «Братиславская» мужчина упал под поезд. Об этом сообщает агентство городских новостей «Москва».\n",
      "\n",
      "--------------------------------------------------\n",
      "\n"
     ]
    },
    {
     "name": "stderr",
     "output_type": "stream",
     "text": [
      " 98%|███████████████████████████████████████████████████████████████████████████████████████████████████▉  | 196/200 [54:38<01:07, 16.75s/it]"
     ]
    },
    {
     "name": "stdout",
     "output_type": "stream",
     "text": [
      "Title:\n",
      "В Донецке жители провели митинг у штаб-квартиры ОБСЕ\n",
      "Text:\n",
      "\"Донецк, 5 июл – ДАН. В центре Донецка прошел стихийный митинг с требованием к наблюдателям миссии ОБСЕ объективного освещения событий в Донбассе.\"\n",
      "\n",
      "--------------------------------------------------\n",
      "\n"
     ]
    },
    {
     "name": "stderr",
     "output_type": "stream",
     "text": [
      " 98%|████████████████████████████████████████████████████████████████████████████████████████████████████▍ | 197/200 [54:54<00:50, 16.75s/it]"
     ]
    },
    {
     "name": "stdout",
     "output_type": "stream",
     "text": [
      "Title:\n",
      "Льва Дурова похоронят на Новодевичьем кладбище\n",
      "Text:\n",
      "Актер и телеведущий Лев Дуров умер в ночь с пятницы, 20 августа, на субботу. Об этом сообщил директор Театра на Малой Бронной Сергей Голомазов... \"Умер великий артист\", - сказал он РИА Новости. По его словам, прощание состоится во вторник, 26 августа.... В июне этого года у Льва Дурова случился инсульт. Позже актер был госпитализирован из-за пневмонии. Врачи диагностировали ему тяжелую форму диабета. Актера подключили к аппарату искусственной вентиляции легких.\n",
      "\n",
      "--------------------------------------------------\n",
      "\n"
     ]
    },
    {
     "name": "stderr",
     "output_type": "stream",
     "text": [
      " 99%|████████████████████████████████████████████████████████████████████████████████████████████████████▉ | 198/200 [55:11<00:33, 16.74s/it]"
     ]
    },
    {
     "name": "stdout",
     "output_type": "stream",
     "text": [
      "Title:\n",
      "11 октября открывается выставка Health&amp;Medical Tourism\n",
      "Text:\n",
      "Выставка Health &amp; Medical Tourism будет проходить в выставочном комплексе «Экспоцентр» с 11 по 13 октября. Это мероприятие проводится под эгидой Всемирной организации здравоохранения (ВОЗ). В рамках выставки состоится конференция, посвященная проблемам здоровья и медицинской индустрии во всем мире. На конференции будут обсуждаться такие вопросы как роль туризма для оказания медицинских услуг, использование передовых технологий в области медицины, а также перспективы развития медицинского туризма на международном уровне. \n",
      "\n",
      "--------------------------------------------------\n",
      "\n"
     ]
    },
    {
     "name": "stderr",
     "output_type": "stream",
     "text": [
      "100%|█████████████████████████████████████████████████████████████████████████████████████████████████████▍| 199/200 [55:28<00:16, 16.73s/it]"
     ]
    },
    {
     "name": "stdout",
     "output_type": "stream",
     "text": [
      "Title:\n",
      "Семьи восьми погибших при взрывах на складе в Забайкалье получили по 2 млн рублей\n",
      "Text:\n",
      "Власти выплатили семьям пострадавших и погибших при взрыве боеприпасов в Забайкальском крае компенсации, сообщает пресс-служба губернатора региона. Семьям погибших из бюджета края выделили по два миллиона рублей (около 100 тысяч долларов), пострадавшим - от 200 до 400 тысяч рублей (от 10 до 30 тысяч долларов). Кроме того, власти организовали для семей бесплатные похороны. В общей сложности было выделено семь миллионов рублей. Еще шесть миллионов будут направлены на оказание помощи пострадавшим. Взрыв произошел утром 12 августа неподалеку от села Большая Тура Карымского района. Погибшими числятся восемь человек, среди них трое детей. Ранения различной степени тяжести получили более 40 местных жителей.\n",
      "\n",
      "--------------------------------------------------\n",
      "\n"
     ]
    },
    {
     "name": "stderr",
     "output_type": "stream",
     "text": [
      "100%|██████████████████████████████████████████████████████████████████████████████████████████████████████| 200/200 [55:44<00:00, 16.72s/it]"
     ]
    },
    {
     "name": "stdout",
     "output_type": "stream",
     "text": [
      "Title:\n",
      "Все подразделения МЧС Камчатки приведены в состояние готовности в связи с циклоном\n",
      "Text:\n",
      "В Петропавловске-Камчатском, Елизово и Вилючинске сегодня объявлено штормовое предупреждение. Об этом сообщили ИТАР ТАСС в Камчатской гидрометеослужбе. По данным синоптиков, на полуострове ожидаются сильные осадки (до 10 мм), ветер порывами до 30 м/с. Кроме того, ожидается метель со снегом.\n",
      "\n",
      "--------------------------------------------------\n",
      "\n"
     ]
    },
    {
     "name": "stderr",
     "output_type": "stream",
     "text": [
      "\n"
     ]
    }
   ],
   "source": [
    "df_test = pd.read_csv(CSV_FILE)\n",
    "\n",
    "def get_generated_text(generated_text):\n",
    "    # for sber model only\n",
    "    if \"\\n\" in generated_text:\n",
    "        text = generated_text[:generated_text.find(\"\\n\")]\n",
    "    return text\n",
    "\n",
    "    \n",
    "generated_texts = []\n",
    "for title in tqdm_a(df_test[\"cleaned_title\"].values):\n",
    "    prompt = PROMPT.format(title)\n",
    "    inputs = tokenizer(prompt, return_tensors=\"pt\", add_special_tokens=True).to(DEVICE)\n",
    "\n",
    "    outputs = model.generate(\n",
    "        **inputs,\n",
    "        generation_config=generation_config\n",
    "    )\n",
    "\n",
    "    generated_text = tokenizer.decode(\n",
    "        outputs[0, inputs[\"input_ids\"].shape[1]:], \n",
    "        skip_special_tokens=True\n",
    "    )\n",
    "    generated_text_no_prompt = get_generated_text(generated_text)\n",
    "\n",
    "    print(f\"Title:\\n{title}\")\n",
    "    print(f\"Text:\\n{generated_text_no_prompt}\")\n",
    "    print()\n",
    "    print(\"-\" * 50)\n",
    "    print()\n",
    "\n",
    "    generated_texts.append(generated_text_no_prompt)"
   ]
  },
  {
   "cell_type": "code",
   "execution_count": 14,
   "id": "c6df7f59-0561-42e2-af8b-9dc4e91f4033",
   "metadata": {},
   "outputs": [
    {
     "name": "stdout",
     "output_type": "stream",
     "text": [
      "Стих про программиста может быть таким:\n",
      "\n",
      "Программист с утра сидит в туалете,\n",
      "Программист с утра сидит в туалете,\n",
      "Он весь в говне, он весь в говне,\n",
      "В говне он весь, в говне.\n",
      "\n",
      "А в это время, в это время,\n",
      "А в это время, в это время,\n",
      "Программист с утра сидит в туалете,\n",
      "Программист с утра сидит в туалете,\n",
      "Он весь в говне, он весь в говне,\n",
      "\n"
     ]
    }
   ],
   "source": [
    "request = \"Стих про программиста может быть таким:\"\n",
    "\n",
    "encoded_input = tokenizer(request, return_tensors='pt', \\\n",
    "                          add_special_tokens=False).to('cuda:0')\n",
    "output = model.generate(\n",
    "    **encoded_input,\n",
    "    num_beams=2,\n",
    "    do_sample=True,\n",
    "    max_new_tokens=100\n",
    ")\n",
    "\n",
    "print(tokenizer.decode(output[0], skip_special_tokens=True))\n"
   ]
  },
  {
   "cell_type": "code",
   "execution_count": 18,
   "id": "297b4173-5e33-4a9a-a0ea-262c7d6ab705",
   "metadata": {},
   "outputs": [],
   "source": [
    "df_test = pd.read_csv(CSV_FILE)\n",
    "df_test[COLUMN_NAME] = generated_texts\n",
    "df_test.to_csv(CSV_FILE, index=False)"
   ]
  },
  {
   "cell_type": "code",
   "execution_count": 28,
   "id": "c9f9d91d-c1d8-411e-9d50-ced20b1f04b5",
   "metadata": {},
   "outputs": [
    {
     "data": {
      "text/plain": [
       "'Малайзийские спасатели сегодня утром извлекли из моря два больших фрагмента самолета авиакомпании AirAsia, который потерпел крушение 28 декабря. Обломки были обнаружены к западу от острова Борнео примерно в 200 км от побережья штата Сабах на глубине 32-35 м. \"На данный момент мы не можем сказать точно, принадлежат ли найденные фрагменты пропавшему самолету\", - заявил глава Национального поисково-спасательного управления (Basarnas) Индонезии Хенри Бамбанг Сулистьо. По его словам, обломки очень большие и могут принадлежать только лайнеру А320. На одном из них виден большой логотип Malaysian Airlines, а другой имеет бортовой номер 9M-MAK. В районе обнаружения обломков работают четыре судна индонезийских ВМС. Спасателям удалось обнаружить несколько тел погибших при катастрофе. Тем временем поиски пропавшего авиалайнера продолжаются уже почти неделю. За это время они обследовали около 3 тыс кв.км акватории Индийского океана и более 2 тыс кв.км воздушного пространства над ним, однако следов упавшего самолета найти пока так и не смогли.'"
      ]
     },
     "execution_count": 28,
     "metadata": {},
     "output_type": "execute_result"
    }
   ],
   "source": [
    "generated_texts[9]"
   ]
  },
  {
   "cell_type": "code",
   "execution_count": null,
   "id": "f5339816-5fca-4ed8-af74-ef8a72c51cac",
   "metadata": {},
   "outputs": [],
   "source": [
    "free_gpu()"
   ]
  },
  {
   "cell_type": "markdown",
   "id": "0b3430d0-e36d-430a-bc5a-dcaf90f16ba2",
   "metadata": {},
   "source": [
    "## T-bank model inference\n",
    "\n",
    "https://huggingface.co/t-tech/T-lite-it-1.0"
   ]
  },
  {
   "cell_type": "code",
   "execution_count": 30,
   "id": "a6f8895d-9ede-44ed-983d-89ba8b15895b",
   "metadata": {},
   "outputs": [
    {
     "name": "stderr",
     "output_type": "stream",
     "text": [
      "The `load_in_4bit` and `load_in_8bit` arguments are deprecated and will be removed in the future versions. Please, pass a `BitsAndBytesConfig` object in `quantization_config` argument instead.\n",
      "`low_cpu_mem_usage` was None, now default to True since model is quantized.\n"
     ]
    },
    {
     "data": {
      "application/vnd.jupyter.widget-view+json": {
       "model_id": "d86ece93b5c3472dae227780f6bf48c4",
       "version_major": 2,
       "version_minor": 0
      },
      "text/plain": [
       "Loading checkpoint shards:   0%|          | 0/4 [00:00<?, ?it/s]"
      ]
     },
     "metadata": {},
     "output_type": "display_data"
    }
   ],
   "source": [
    "from transformers import AutoModelForCausalLM, AutoTokenizer\n",
    "\n",
    "MODEL_NAME = \"t-tech/T-lite-it-1.0\"\n",
    "COLUMN_NAME = \"gen_tliteit_7b\"\n",
    "PROMPT = \"\"\"Заголовок захватывающей подробной длинной новостной статьи:\n",
    "{}\n",
    "\n",
    "Текст статьи:\n",
    "\"\"\"\n",
    "tokenizer = AutoTokenizer.from_pretrained(MODEL_NAME)\n",
    "model = AutoModelForCausalLM.from_pretrained(MODEL_NAME, trust_remote_code=True, load_in_8bit=True)"
   ]
  },
  {
   "cell_type": "code",
   "execution_count": 41,
   "id": "47a8a8ba-60eb-40e0-9b9a-9de1e6eb0fe9",
   "metadata": {
    "scrolled": true
   },
   "outputs": [
    {
     "name": "stderr",
     "output_type": "stream",
     "text": [
      "  0%|▌                                                                                                     | 1/200 [00:19<1:05:07, 19.63s/it]"
     ]
    },
    {
     "name": "stdout",
     "output_type": "stream",
     "text": [
      "Title:\n",
      "На стоянке на Звездной обгорело семь машин\n",
      "Text:\n",
      "Вчера вечером на одной из крупнейших парковок в районе Звездной произошел серьезный инцидент — сгорели сразу семь автомобилей. Информация о пожаре поступила в службу спасения около 21:00, и к месту происшествия были немедленно направлены пожарные расчеты.\n",
      "\n",
      "По предварительным данным, причиной пожара стала короткое замыкание в электропроводке одного из автомобилей. Однако официальное расследование продолжается, и власти пока не исключают и другие возможные причины, такие как поджог или техническая неисправность системы безопасности стоянки.\n",
      "\n",
      "Пожар начался в одном из отдаленных уголков парковки, где находилось несколько автомобилей, припаркованных в ряд. Огонь быстро распространился из-за сильного ветра и плотной застройки территории. Пострадавшие автомобили оказались полностью уничтожены огнем, а некоторые из них получили повреждения и от близости к очагу возгорания.\n",
      "\n",
      "Свидетели происшествия сообщают, что видели дым задолго до того, как огонь перекинулся на соседние машины. Некоторые из владельцев успели эвакуировать свои автомобили до того, как ситуация вышла из-под контроля. Однако несколько человек остались без своих транспортных средств, и им придется искать временное решение для передвижения.\n",
      "\n",
      "Местные жители выражают обеспокоенность состоянием безопасности на стоянках в их районе. Многие считают, что подобные инциденты могут повториться, если не будут приняты меры по улучшению противопожарной безопасности.\n",
      "\n",
      "--------------------------------------------------\n",
      "\n"
     ]
    },
    {
     "name": "stderr",
     "output_type": "stream",
     "text": [
      "  1%|█                                                                                                     | 2/200 [00:39<1:05:19, 19.79s/it]"
     ]
    },
    {
     "name": "stdout",
     "output_type": "stream",
     "text": [
      "Title:\n",
      "Олимпийская чемпионка Елена Веснина стала почетным гражданином Сочи\n",
      "Text:\n",
      "Вчера, 15 октября, олимпийская чемпионка по теннису Елена Веснина была удостоена звания почетного гражданина города Сочи. Это событие стало важным шагом в признании её выдающихся достижений и значительного вклада в развитие спорта в регионе.\n",
      "\n",
      "Елена Веснина, родившаяся и выросшая в Сочи, сделала себе имя на международной арене, завоевав золотую медаль на Олимпийских играх 2014 года в составе женской сборной России. Её победа стала символом силы духа и упорства, вдохновляя молодое поколение спортсменов не только в Сочи, но и по всей стране.\n",
      "\n",
      "После завершения карьеры Елена активно занимается развитием тенниса в своем родном городе. Она основала детскую теннисную академию, которая уже успела подготовить множество талантливых юных игроков. Кроме того, Веснина активно участвует в благотворительных мероприятиях, поддерживая детей с ограниченными возможностями и помогая им развивать свои спортивные навыки.\n",
      "\n",
      "Получение звания почетного гражданина — это не просто честь для Елены, но и ответственность перед городом и его жителями. «Это большая ответственность, но я готова делать всё возможное для развития тенниса и спорта в целом в Сочи», — заявила Веснина после получения награды.\n",
      "\n",
      "--------------------------------------------------\n",
      "\n"
     ]
    },
    {
     "name": "stderr",
     "output_type": "stream",
     "text": [
      "  2%|█▌                                                                                                    | 3/200 [00:59<1:04:42, 19.71s/it]"
     ]
    },
    {
     "name": "stdout",
     "output_type": "stream",
     "text": [
      "Title:\n",
      "В Алтайском крае под лед провалились четыре человека\n",
      "Text:\n",
      "В минувшие выходные в Алтайском крае произошел трагический инцидент, когда под лед провалились четверо человек. Инцидент случился на одном из озер в районе города Барнаула, где местные жители часто отдыхают и занимаются зимними видами спорта.\n",
      "\n",
      "**Событие:**\n",
      "\n",
      "Провал произошел около 16:00, когда группа друзей отправилась на прогулку по замерзшему озеру. Из-за неожиданного потепления лед стал тонким и ненадежным, что привело к трагическим последствиям. Трое мужчин и одна женщина оказались в воде, прежде чем их удалось спасти.\n",
      "\n",
      "**Реакция и помощь:**\n",
      "\n",
      "Благодаря быстрой реакции местных жителей и сотрудников МЧС, троих человек удалось вытащить из воды живыми. Четвертый, мужчина, скончался на месте от переохлаждения. Погибший был известен в местном сообществе как активный участник различных мероприятий и спортсмен.\n",
      "\n",
      "**Последствия для местных жителей:**\n",
      "\n",
      "Инцидент вызвал серьезное беспокойство среди жителей региона. Многие задаются вопросом о безопасности зимних развлечений и надежности льда. В социальных сетях активно обсуждается необходимость более строгого контроля за состоянием водоемов и информирования населения о потенциальных опасностях.\n",
      "\n",
      "**Действия властей:**\n",
      "\n",
      "В ответ на трагедию местные власти объявили чрезвычайную ситуацию и начали проверку всех водоемов на территории края.\n",
      "\n",
      "--------------------------------------------------\n",
      "\n"
     ]
    },
    {
     "name": "stderr",
     "output_type": "stream",
     "text": [
      "  2%|██                                                                                                    | 4/200 [01:18<1:04:08, 19.64s/it]"
     ]
    },
    {
     "name": "stdout",
     "output_type": "stream",
     "text": [
      "Title:\n",
      "Президент Молдавии уволил главу своей службы охраны\n",
      "Text:\n",
      "Вчера президент Молдавии, Игорь Додон, принял решение об отстранении от должности главы службы охраны страны — Константина Григория. Это решение было принято после длительного расследования, в ходе которого выяснились серьёзные нарушения и подозрения в коррупционной деятельности.\n",
      "\n",
      "Согласно источникам, близким к расследованию, Григорий был обвинён в злоупотреблении служебным положением и получении взяток. Эти обвинения стали известны после того, как в СМИ были опубликованы документы, которые указывали на тесные связи главы службы охраны с влиятельными бизнесменами и политиками, что вызвало широкое общественное недовольство.\n",
      "\n",
      "Игорь Додон заявил, что его решение об отставке Григория является важным шагом в борьбе с коррупцией и укреплении доверия граждан к государственным институтам. «Мы не можем допустить, чтобы люди, ответственные за безопасность государства, использовали своё положение в личных интересах», — подчеркнул президент.\n",
      "\n",
      "Этот шаг вызвал разные реакции среди политических деятелей и общественности. Некоторые приветствовали решение президента как долгожданную победу над коррупцией, в то время как другие считают это политическим манёвром, направленным на ослабление позиций оппонентов. \n",
      "\n",
      "После отставки Григория его место занял Ион Чобану, который ранее занимал пост заместителя главы службы охраны. Новый руководитель уже заявил о намерении провести реформы в структуре службы, чтобы предотвратить подобные случаи в будущем.\n",
      "\n",
      "--------------------------------------------------\n",
      "\n"
     ]
    },
    {
     "name": "stderr",
     "output_type": "stream",
     "text": [
      "  2%|██▌                                                                                                   | 5/200 [01:38<1:03:47, 19.63s/it]"
     ]
    },
    {
     "name": "stdout",
     "output_type": "stream",
     "text": [
      "Title:\n",
      "Бразильянке вызвали скорую после просмотра хоррора «Проклятие Аннабель»\n",
      "Text:\n",
      "В Бразилии недавно произошел необычный случай, связанный с популярным фильмом ужасов \"Проклятие Аннабель\". Жительница Рио-де-Жанейро, 28-летняя Ана Каролина, после просмотра фильма вызвала скорую помощь, так как испытывала сильные страх и галлюцинации.\n",
      "\n",
      "Ана Каролина призналась, что всегда была чувствительна к ужасам, но этот фильм превзошел все ее ожидания. После просмотра она почувствовала, что в комнате стало холоднее, а затем начали возникать странные образы и звуки. Она рассказала, что видела тени, движущиеся вокруг, и слышала шепот, который, казалось, исходил из стен.\n",
      "\n",
      "\"Я думала, что это просто стресс от фильма, но когда я не могла успокоиться и начали появляться галлюцинации, я поняла, что нужно обратиться за помощью\", — поделилась Ана.\n",
      "\n",
      "Медики, прибывшие на место, диагностировали у нее состояние, известное как кинематический фобофобический синдром, когда просмотр фильма ужасов вызывает реальные физические и психологические реакции. Они рекомендовали Ана обратиться к психотерапевту для дальнейшей помощи.\n",
      "\n",
      "Этот случай не единичен. В последние годы увеличивается количество сообщений о людях, испытывающих подобные реакции после просмотра фильмов ужасов. Специалисты предупреждают, что такие симптомы могут быть признаком более серьезных психологических проблем, которые требуют внимания.\n",
      "\n",
      "--------------------------------------------------\n",
      "\n"
     ]
    },
    {
     "name": "stderr",
     "output_type": "stream",
     "text": [
      "  3%|███                                                                                                   | 6/200 [01:57<1:03:22, 19.60s/it]"
     ]
    },
    {
     "name": "stdout",
     "output_type": "stream",
     "text": [
      "Title:\n",
      "В Подмосковье травмирована решившая покататься на крыше поезда девочка\n",
      "Text:\n",
      "В Подмосковье произошел необычный инцидент, в результате которого 12-летняя девочка получила серьёзные травмы, решив покататься на крыше проходящего поезда. Инцидент вызвал широкий общественный резонанс и поднял вопросы о безопасности детей и ответственности взрослых.\n",
      "\n",
      "**Событие:**\n",
      "Согласно свидетельствам очевидцев, девочка вместе с несколькими друзьями решила совершить необычное путешествие, воспользовавшись возможностью покататься на крыше пригородного поезда. Поезд, следовавший из Москвы в Подольск, остановился на одной из станций, и дети, воспользовавшись моментом, забрались на крышу вагона. Однако их вес и неумелые действия привели к тому, что один из вагонов потерял устойчивость, начал шататься и в итоге опрокинулся.\n",
      "\n",
      "**Последствия:**\n",
      "В результате инцидента девочка получила множественные переломы и ушибы. Её срочно доставили в ближайшую больницу, где ей оказали необходимую медицинскую помощь. Пока детали происшествия выясняются, власти Подмосковья и железнодорожная компания начали расследование инцидента.\n",
      "\n",
      "**Реакция властей:**\n",
      "Губернатор Московской области Александр Воробьев выразил обеспокоенность случившимся и поручил провести проверку состояния безопасности на железнодорожных путях. Он также подчеркнул важность просвещения детей о правилах безопасности и последствиях подобных действий.\n",
      "\n",
      "--------------------------------------------------\n",
      "\n"
     ]
    },
    {
     "name": "stderr",
     "output_type": "stream",
     "text": [
      "  4%|███▌                                                                                                  | 7/200 [02:17<1:03:02, 19.60s/it]"
     ]
    },
    {
     "name": "stdout",
     "output_type": "stream",
     "text": [
      "Title:\n",
      "Глава Ростеха заявил, что не считает себя влиятельным человеком в России\n",
      "Text:\n",
      "**Глава Ростеха: \"Я не считаю себя влиятельным человеком в России\"**\n",
      "\n",
      "В недавнем интервью глава государственной корпорации «Ростех» Сергей Чемезов заявил, что не ощущает себя влиятельным человеком в России. Это заявление вызвало широкий общественный резонанс и стало предметом обсуждения в СМИ.\n",
      "\n",
      "**Фон ситуации**\n",
      "\n",
      "Сергей Чемезов возглавляет «Ростех» с 2007 года, и под его руководством компания стала одним из крупнейших производителей вооружений и высокотехнологичной продукции в стране. «Ростех» также активно участвует в реализации национальных проектов и инфраструктурных инициатив.\n",
      "\n",
      "**Контекст заявления**\n",
      "\n",
      "По словам Чемезова, его восприятие собственного влияния связано с тем, что он видит вокруг множество талантливых и компетентных людей, которые вносят значительный вклад в развитие отечественной промышленности и экономики. Он отметил, что его роль заключается в координации усилий и создании условий для их успешной работы.\n",
      "\n",
      "**Отзывы и реакция**\n",
      "\n",
      "Это заявление вызвало неоднозначную реакцию в обществе. Некоторые эксперты считают, что такая позиция может свидетельствовать о скромности и готовности к сотрудничеству, в то время как другие полагают, что это может быть стратегическим ходом для укрепления доверия среди коллег и партнеров.\n",
      "\n",
      "**Анализ влияния на корпорацию и экономику**\n",
      "\n",
      "Для «Ростеха» это заявление может иметь как положительные, так и отрицательные последствия. С одной стороны, оно способствует укреплению имиджа компании как открытой и прозрачной организации.\n",
      "\n",
      "--------------------------------------------------\n",
      "\n"
     ]
    },
    {
     "name": "stderr",
     "output_type": "stream",
     "text": [
      "  4%|████                                                                                                  | 8/200 [02:37<1:02:51, 19.64s/it]"
     ]
    },
    {
     "name": "stdout",
     "output_type": "stream",
     "text": [
      "Title:\n",
      "Шварценеггер встретил Медведева\n",
      "Text:\n",
      "Вчера в Москве состоялась необычная встреча между легендарным актером и бывшим губернатором Калифорнии Арнольдом Шварценеггером и председателем Правительства Российской Федерации Дмитрием Медведевым. Это событие вызвало широкий резонанс как в России, так и за ее пределами, поскольку оба политика известны своими противоположными взглядами на многие глобальные вопросы.\n",
      "\n",
      "**Предыстория встречи:**\n",
      "\n",
      "Арнольд Шварценеггер, известный своей активной гражданской позицией и поддержкой различных благотворительных проектов, посетил Россию с целью участия в Международном форуме \"Россия-2023\". В рамках мероприятия он провел серию встреч с представителями бизнеса, культуры и политики. В числе последних оказался и Дмитрий Медведев, который принял участие в одном из панельных дискуссий.\n",
      "\n",
      "**Суть встречи:**\n",
      "\n",
      "Встреча двух влиятельных фигур началась с непринужденного разговора о культурных и спортивных связях между Россией и США. Однако вскоре обсуждение перешло к более серьезным темам, таким как изменение климата, энергетическая безопасность и международные отношения. Оба политика выразили готовность к диалогу и обмену опытом в решении актуальных глобальных проблем.\n",
      "\n",
      "**Неожиданные моменты:**\n",
      "\n",
      "Одним из самых запоминающихся моментов встречи стало то, что Шварценеггер подарил Медведеву экземпляр своей автобиографии \"Терминатор: Жизнь без границ\", в которой он рассказывает о своем пути от культуриста до политика.\n",
      "\n",
      "--------------------------------------------------\n",
      "\n"
     ]
    },
    {
     "name": "stderr",
     "output_type": "stream",
     "text": [
      "  4%|████▌                                                                                                 | 9/200 [02:56<1:02:23, 19.60s/it]"
     ]
    },
    {
     "name": "stdout",
     "output_type": "stream",
     "text": [
      "Title:\n",
      "Правозащитники попросили СК оценить действия медперсонала ярославской колонии №1\n",
      "Text:\n",
      "В Ярославской области разгорается скандал, связанный с предполагаемыми нарушениями прав заключенных в колонии №1. Правозащитные организации обратились в Следственный комитет России (СК) с просьбой провести независимую оценку действий медицинского персонала учреждения. \n",
      "\n",
      "По словам представителей организаций, которые занимаются защитой прав заключенных, в последнее время поступило множество жалоб от осужденных на плохое качество медицинского обслуживания и игнорирование их потребностей. Заключенные утверждают, что им не оказывают своевременную помощь при ухудшении состояния здоровья, а также сообщают о недостатке необходимых лекарств.\n",
      "\n",
      "Одним из ключевых моментов, вызвавших беспокойство у правозащитников, стало отсутствие должного контроля за состоянием здоровья осужденных. В ряде случаев заключенные вынуждены были обращаться за медицинской помощью самостоятельно, без участия администрации колонии. Это, по мнению специалистов, может приводить к серьезным последствиям для здоровья и даже жизни заключенных.\n",
      "\n",
      "Правозащитники подчеркивают, что подобные нарушения нарушают не только права заключенных, но и нормы международного права, в том числе Европейскую конвенцию о защите прав человека и основных свобод. Они считают, что бездействие или неправомерные действия медперсонала могут быть квалифицированы как преступление против человечности.\n",
      "\n",
      "В ответ на запрос правозащитников, Следственный комитет начал проверку. В ходе расследования планируется установить факты возможных нарушений и определить степень вины медицинских работников.\n",
      "\n",
      "--------------------------------------------------\n",
      "\n"
     ]
    },
    {
     "name": "stderr",
     "output_type": "stream",
     "text": [
      "  5%|█████                                                                                                | 10/200 [03:16<1:02:02, 19.59s/it]"
     ]
    },
    {
     "name": "stdout",
     "output_type": "stream",
     "text": [
      "Title:\n",
      "Спасатели обнаружили в море тела пассажиров самолёта AirAsia\n",
      "Text:\n",
      "12 декабря 2014 года мир был потрясен новостью о пропаже самолета AirAsia QZ8501, следовавшего из Сурабаи (Индонезия) в Сингапур. На борту находились 162 человека, и до сих пор не было найдено никаких признаков их местонахождения. Однако сегодня спасатели объявили о шокирующем открытии: они обнаружили в Южно-Китайском море останки пассажиров пропавшего рейса.\n",
      "\n",
      "По словам представителей поисково-спасательной операции, обломки самолета были найдены на глубине около 30 метров, что значительно затрудняло их извлечение. В ходе дальнейших исследований были подтверждены идентификационные данные останков, что позволило установить личности некоторых пассажиров.\n",
      "\n",
      "Этот шаг стал важным этапом в расследовании причин катастрофы. Несмотря на то, что обломки и останки пассажиров уже помогли установить некоторые факты, полная картина трагедии остается неясной. Расследование продолжается, и специалисты из Индонезии, Малайзии и других стран активно работают над восстановлением черных ящиков и анализом данных, чтобы выяснить, что именно привело к гибели всех на борту.\n",
      "\n",
      "Местные власти и семьи погибших выражают благодарность всем, кто участвовал в поисках. \"Это сложное время для всех нас,\" — сказал представитель AirAsia, добавив, что компания будет оказывать всестороннюю поддержку семьям погибших.\n",
      "\n",
      "--------------------------------------------------\n",
      "\n"
     ]
    },
    {
     "name": "stderr",
     "output_type": "stream",
     "text": [
      "  6%|█████▌                                                                                               | 11/200 [03:35<1:01:42, 19.59s/it]"
     ]
    },
    {
     "name": "stdout",
     "output_type": "stream",
     "text": [
      "Title:\n",
      "Предприниматель совершил мошенничество с бюджетными средствами\n",
      "Text:\n",
      "**Предприниматель совершил мошенничество с бюджетными средствами: разоблачение и последствия**\n",
      "\n",
      "В последние месяцы общественность была шокирована масштабным мошенничеством, в котором обвиняется известный предприниматель Иван Петров. Его компания, занимавшаяся государственными контрактами на сумму более 100 миллионов рублей, была уличена в хищении бюджетных средств. Эта история не только поднимает вопросы о прозрачности государственных закупок, но и показывает, как личные амбиции могут привести к серьезным последствиям для общества.\n",
      "\n",
      "### Подробности дела\n",
      "\n",
      "Иван Петров, успешный бизнесмен и бывший депутат местного совета, был задержан правоохранительными органами после многочисленных жалоб от поставщиков и сотрудников его компании. Согласно следственным материалам, Петров использовал сложную схему, чтобы перечислять средства на фиктивные счета, созданные для вывода денег из компании. Эти средства затем переправлялись на личные счета предпринимателя и его ближайших соратников.\n",
      "\n",
      "### Влияние на экономику региона\n",
      "\n",
      "Мошенничество Петрова нанесло значительный удар по экономике региона. Потерянные средства могли бы быть использованы для финансирования важных социальных программ, таких как строительство школ и больниц, а также для поддержки малого и среднего бизнеса. В результате, многие проекты были отложены или вовсе отменены, что привело к недовольству среди населения и снижению доверия к местным властям.\n",
      "\n",
      "### Расследование и судебное преследование\n",
      "\n",
      "Расследование этого дела продолжается уже несколько месяцев, и в нем участвуют представители нескольких правоохранительных органов. На данный момент Петров арестован и находится под следствием.\n",
      "\n",
      "--------------------------------------------------\n",
      "\n"
     ]
    },
    {
     "name": "stderr",
     "output_type": "stream",
     "text": [
      "  6%|██████                                                                                               | 12/200 [03:55<1:01:31, 19.64s/it]"
     ]
    },
    {
     "name": "stdout",
     "output_type": "stream",
     "text": [
      "Title:\n",
      "В Нидерландах изобрели летающий гамак\n",
      "Text:\n",
      "**Захватывающее открытие в Нидерландах: Летающий гамак, который изменит представление о путешествиях**\n",
      "\n",
      "В Нидерландах ученые и инженеры совершили прорывное открытие, создав уникальный летающий гамак, который может кардинально изменить наше восприятие путешествий и отдыха. Этот инновационный проект, получивший название \"Sky Hammock\", уже вызвал огромный интерес как среди туристов, так и среди любителей активного отдыха.\n",
      "\n",
      "### Концепция и технология\n",
      "\n",
      "Летающий гамак представляет собой легкую и прочную конструкцию, способную подниматься на высоту до 100 метров с помощью воздушных шаров или малых дронов. Он оснащен специальной системой стабилизации, которая обеспечивает безопасность и комфорт во время полета. Внутри гамака предусмотрены удобные сиденья и защитные ремни, а также возможность подключения к Wi-Fi для доступа к развлекательным сервисам.\n",
      "\n",
      "### Как это работает\n",
      "\n",
      "Процесс использования Sky Hammock прост и интуитивно понятен. Пользователь выбирает место для запуска, где есть достаточная площадь для развертывания конструкции. После этого гамак поднимается в воздух, и пользователь может наслаждаться видами с высоты птичьего полета, наблюдая за окружающим миром сверху. Благодаря низкой стоимости эксплуатации и экологической безопасности, этот проект может стать популярным среди тех, кто ищет новые способы отдыха и приключений.\n",
      "\n",
      "### Экологические и социальные преимущества\n",
      "\n",
      "Одним из главных преимуществ Sky Hammock является его экологическая чистота. Проект использует возобновляемые источники энергии и не оставляет после себя следов загрязнения. Кроме того, он способствует развитию туризма в регионах, которые ранее были недоступны для посещения из-за сложных условий местности.\n",
      "\n",
      "--------------------------------------------------\n",
      "\n"
     ]
    },
    {
     "name": "stderr",
     "output_type": "stream",
     "text": [
      "  6%|██████▌                                                                                              | 13/200 [04:15<1:01:11, 19.63s/it]"
     ]
    },
    {
     "name": "stdout",
     "output_type": "stream",
     "text": [
      "Title:\n",
      "На гей-параде в Москве православные активисты скандировали \"Христос Воскресе\"\n",
      "Text:\n",
      "В воскресенье, 18 июня, в Москве прошел ежегодный гей-парад, который традиционно привлекает внимание как сторонников, так и противников ЛГБТ-движения. На этот раз акция оказалась особенно насыщенной событиями: среди участников выступили не только представители ЛГБТ-сообщества, но и православные активисты, которые скандировали \"Христос Воскресе\" и призывали к миру и взаимопониманию.\n",
      "\n",
      "С самого начала мероприятия между участниками возникли напряженные моменты. Несмотря на то, что организаторы сделали все возможное для обеспечения безопасности и порядка, конфликты все же произошли. Православные активисты, собравшиеся у входа на маршруте парада, выразили свое недовольство происходящим, призывая участников к более уважительному отношению друг к другу.\n",
      "\n",
      "Одним из ключевых моментов стал диалог между представителями двух сообществ. Один из лидеров православных активистов, отец Игорь, выступил перед участниками парада с призывом к диалогу и взаимопониманию. Он подчеркнул важность уважения прав и свобод каждого человека, независимо от его сексуальной ориентации или вероисповедания.\n",
      "\n",
      "\"Мы верим, что Христос Воскресе — это символ любви и прощения. Мы призываем всех участников парада и тех, кто наблюдает за ним, помнить об этом,\" — заявил отец Игорь.\n",
      "\n",
      "--------------------------------------------------\n",
      "\n"
     ]
    },
    {
     "name": "stderr",
     "output_type": "stream",
     "text": [
      "  7%|███████                                                                                              | 14/200 [04:34<1:00:49, 19.62s/it]"
     ]
    },
    {
     "name": "stdout",
     "output_type": "stream",
     "text": [
      "Title:\n",
      "Сель сошел на федеральной трассе в Забайкалье\n",
      "Text:\n",
      "В ночь с 15 на 16 июля на федеральной трассе А-370 \"Амур\" в Забайкальском крае произошло масштабное природное бедствие — сель, который нанес серьезный ущерб инфраструктуре и жизни людей. Событие, о котором до этого момента мало кто слышал, стало настоящим шоком для местных жителей и вызвало широкий общественный резонанс.\n",
      "\n",
      "**Причина и масштабы катастрофы**\n",
      "\n",
      "Сель произошел из-за проливных дождей, которые продолжались несколько дней. Объем воды, скопившийся в горных реках и ручьях, превысил все допустимые нормы, что привело к обрушению почвы и камней на дорогу. По предварительным данным, протяженность селя составила около 5 километров, а его высота достигала 2 метров. Это сделало движение по трассе практически невозможным.\n",
      "\n",
      "**Последствия для региона**\n",
      "\n",
      "Сель повредил не только дорожное покрытие, но и соседние здания, включая частные дома и предприятия. Многие жители оказались отрезанными от внешнего мира, так как основная дорога, связывающая регион с остальной частью страны, оказалась заблокирована. В результате были эвакуированы более 100 человек, многие из которых остались без крова.\n",
      "\n",
      "**Работа спасательных служб**\n",
      "\n",
      "Местные власти и спасательные службы оперативно отреагировали на ситуацию. Были задействованы вертолеты, чтобы доставить помощь в труднодоступные районы.\n",
      "\n",
      "--------------------------------------------------\n",
      "\n"
     ]
    },
    {
     "name": "stderr",
     "output_type": "stream",
     "text": [
      "  8%|███████▌                                                                                             | 15/200 [04:54<1:00:37, 19.66s/it]"
     ]
    },
    {
     "name": "stdout",
     "output_type": "stream",
     "text": [
      "Title:\n",
      "Испанские СМИ сообщили об отставке главного тренера \"Реала\"\n",
      "Text:\n",
      "В среду, 15 марта, испанские СМИ сообщили о неожиданной отставке главного тренера \"Реала\" Зинедина Зидана. Эта новость потрясла футбольный мир и вызвала множество вопросов о будущем одного из самых успешных клубов Европы.\n",
      "\n",
      "Зинедин Зидан возглавил \"Реал\" в 2016 году, после ухода из команды после победы на Чемпионате мира 2018 года. Под его руководством мадридский клуб выиграл множество титулов, включая три Лиги чемпионов, два титула Ла Лиги и Кубок Испании. Его стиль управления и тактические решения сделали его любимцем болельщиков и экспертов.\n",
      "\n",
      "Однако, по информации источников, в последние месяцы отношения между Зиданом и руководством \"Реала\" стали напряженными. Некоторые эксперты связывают это с давлением, оказываемым на тренера со стороны руководства клуба, которое стремилось к более атакующему стилю игры, что не всегда соответствовало предпочтениям Зидана.\n",
      "\n",
      "Отставка произошла после поражения \"Реала\" в полуфинале Лиги чемпионов против \"Манчестер Сити\". Это поражение стало для команды первым в еврокубках за последние три сезона. После матча игроки и руководство клуба заявили, что хотят перемен.\n",
      "\n",
      "На данный момент \"Реал\" находится в поисках нового тренера. В числе возможных кандидатов называются такие имена, как Карло Анчелотти, Маурисио Почеттино и даже Луис Энрике.\n",
      "\n",
      "--------------------------------------------------\n",
      "\n"
     ]
    },
    {
     "name": "stderr",
     "output_type": "stream",
     "text": [
      "  8%|████████                                                                                             | 16/200 [05:14<1:00:07, 19.61s/it]"
     ]
    },
    {
     "name": "stdout",
     "output_type": "stream",
     "text": [
      "Title:\n",
      "Роспотребнадзор  утверждает, что нашел ресторанах Mcdonald's кишечную палочку\n",
      "Text:\n",
      "В последнее время Роспотребнадзор провел масштабные проверки ресторанов McDonald's по всей стране и выявил присутствие кишечной палочки в некоторых образцах продуктов. Это открытие вызвало широкий резонанс среди потребителей и экспертов, что побудило нас более детально рассмотреть ситуацию.\n",
      "\n",
      "**1. Суть проблемы**\n",
      "\n",
      "Роспотребнадзор обнаружил бактерии Escherichia coli (кишечная палочка) в нескольких образцах продукции из ресторанов McDonald's. Хотя большинство штаммов кишечной палочки безвредны, некоторые могут вызывать серьезные заболевания, такие как пищевые отравления и диарея.\n",
      "\n",
      "**2. Проверки и результаты**\n",
      "\n",
      "Проверки начались после получения жалоб от клиентов на необычные симптомы после посещения ресторанов. В результате были взяты пробы из различных пунктов меню, включая гамбургеры, картофель фри и напитки. По данным Роспотребнадзора, положительные результаты были получены в 5% из проверенных образцов.\n",
      "\n",
      "**3. Реакция компании**\n",
      "\n",
      "McDonald's оперативно отреагировала на сообщение о проблеме, заявив, что принимает все меры для обеспечения безопасности продуктов. Компания провела внутренние проверки и уже начала устранять выявленные недостатки. В частности, усилены процедуры контроля качества и санитарной обработки.\n",
      "\n",
      "**4. Риски для здоровья**\n",
      "\n",
      "Эксперты подчеркивают, что риск для здоровья зависит от конкретного штамма кишечной палочки и индивидуальной чувствительности человека.\n",
      "\n",
      "--------------------------------------------------\n",
      "\n"
     ]
    },
    {
     "name": "stderr",
     "output_type": "stream",
     "text": [
      "  8%|████████▊                                                                                              | 17/200 [05:33<59:48, 19.61s/it]"
     ]
    },
    {
     "name": "stdout",
     "output_type": "stream",
     "text": [
      "Title:\n",
      "В 2014 году производство электроэнергии в России увеличилось на 0,5%\n",
      "Text:\n",
      "В 2014 году Россия продемонстрировала незначительный, но значимый рост в сфере производства электроэнергии, увеличив его на 0,5%. Это изменение, хотя и не является существенным, имеет важные экономические и социальные последствия для страны.\n",
      "\n",
      "### Экономический контекст\n",
      "\n",
      "Рост производства электроэнергии в 2014 году был обусловлен несколькими факторами. Во-первых, увеличение спроса на энергию в промышленном секторе, особенно в металлургии и химической промышленности, способствовало повышению нагрузки на энергетическую инфраструктуру. Во-вторых, инвестиции в модернизацию и расширение электростанций, включая строительство новых гидро- и тепловых электростанций, также сыграли свою роль.\n",
      "\n",
      "### Социальные последствия\n",
      "\n",
      "Увеличение производства электроэнергии может оказать положительное влияние на качество жизни населения. Более стабильное энергоснабжение способствует развитию инфраструктуры, улучшению условий труда и повышению уровня комфорта в быту. Однако, важно учитывать экологические аспекты, связанные с увеличением выбросов углекислого газа от тепловых электростанций.\n",
      "\n",
      "### Экологические вызовы\n",
      "\n",
      "Несмотря на экономические выгоды, рост производства электроэнергии вызывает опасения по поводу экологического воздействия. Увеличение использования ископаемых видов топлива, таких как уголь и природный газ, может привести к ухудшению качества воздуха и увеличению выбросов парниковых газов.\n",
      "\n",
      "--------------------------------------------------\n",
      "\n"
     ]
    },
    {
     "name": "stderr",
     "output_type": "stream",
     "text": [
      "  9%|█████████▎                                                                                             | 18/200 [05:53<59:32, 19.63s/it]"
     ]
    },
    {
     "name": "stdout",
     "output_type": "stream",
     "text": [
      "Title:\n",
      "Введением паспортов нового поколения займется Нургалиев\n",
      "Text:\n",
      "**Введение паспортов нового поколения: как Нургалиев планирует изменить систему идентификации**\n",
      "\n",
      "В недавнем интервью министр внутренних дел РК Асет Нургалиев объявил о планах внедрения паспортов нового поколения в Казахстане. Эти документы не только обновят существующую систему идентификации, но и обеспечат более высокий уровень безопасности и удобства для граждан.\n",
      "\n",
      "### Цели и преимущества новых паспортов\n",
      "\n",
      "Основной целью введения паспортов нового поколения является повышение уровня безопасности и защиты личных данных граждан. Новые документы будут оснащены передовыми технологиями, такими как микрочипы с биометрическими данными, что позволит значительно снизить риск подделки и утери информации.\n",
      "\n",
      "1. **Биометрические данные**: Паспорта будут содержать уникальные биометрические данные, такие как отпечатки пальцев и скан сетчатки глаза, что обеспечит дополнительный уровень защиты.\n",
      "   \n",
      "2. **Электронные функции**: Встроенные микрочипы позволят хранить актуальные данные о владельце, включая медицинскую информацию и контактные данные, что упростит процесс идентификации и предоставления услуг.\n",
      "\n",
      "3. **Универсальность**: Новые паспорта смогут использоваться не только для внутренних, но и для международных поездок, что упростит процедуры оформления виз и таможенного контроля.\n",
      "\n",
      "### Планы реализации\n",
      "\n",
      "Министерство внутренних дел разработало детальный план внедрения новых паспортов, который включает несколько этапов:\n",
      "\n",
      "1. **Исследование и разработка**: На первом этапе будет проведено исследование рынка и разработка технической базы для новых документов.\n",
      "\n",
      "2. **Тестирование**: После завершения разработки начнется тестирование паспортов на добровольной основе в нескольких регионах страны.\n",
      "\n",
      "3.\n",
      "\n",
      "--------------------------------------------------\n",
      "\n"
     ]
    },
    {
     "name": "stderr",
     "output_type": "stream",
     "text": [
      " 10%|█████████▊                                                                                             | 19/200 [06:12<59:10, 19.61s/it]"
     ]
    },
    {
     "name": "stdout",
     "output_type": "stream",
     "text": [
      "Title:\n",
      "Главу поселка в Зауралье привлекут к ответственности за многочисленные свалки отходов\n",
      "Text:\n",
      "**Главу поселка в Зауралье привлекут к ответственности за многочисленные свалки отходов**\n",
      "\n",
      "В последние месяцы жители поселка в Зауральском регионе столкнулись с серьезной экологической проблемой: на территории их населенного пункта образовалось множество нелегальных свалок, что вызвало недовольство и беспокойство среди местных жителей. Однако ситуация начала меняться, когда глава поселка был привлечен к ответственности за бездействие в решении этой проблемы.\n",
      "\n",
      "### Экологическая катастрофа\n",
      "\n",
      "Свалки отходов, которые появились в поселке, стали настоящим бедствием для местной экосистемы. Мусор, включая опасные химические вещества и бытовые отходы, загрязнял почву и воду, создавая угрозу для здоровья жителей. Жители начали жаловаться на неприятные запахи, аллергические реакции и даже заболевания, связанные с загрязнением окружающей среды.\n",
      "\n",
      "### Действия властей\n",
      "\n",
      "Несмотря на многочисленные жалобы, глава поселка долгое время не предпринимал никаких действий для решения проблемы. Это вызвало недоверие и разочарование среди местных жителей, которые начали организовывать собственные акции протеста. В ответ на общественное давление и жалобы властей региона, было проведено расследование, которое выявило серьезные нарушения в работе местной администрации.\n",
      "\n",
      "### Привлечение к ответственности\n",
      "\n",
      "В результате расследования глава поселка был привлечен к ответственности за бездействие и нарушение экологических норм. Ему грозит административное наказание, а также штраф за нанесенный экологический ущерб. Кроме того, власти приняли решение о ликвидации всех нелегальных свалок и организации системы сбора и переработки мусора в поселке.\n",
      "\n",
      "--------------------------------------------------\n",
      "\n"
     ]
    },
    {
     "name": "stderr",
     "output_type": "stream",
     "text": [
      " 10%|██████████▎                                                                                            | 20/200 [06:32<58:47, 19.60s/it]"
     ]
    },
    {
     "name": "stdout",
     "output_type": "stream",
     "text": [
      "Title:\n",
      "На Новгородской улице задержан автомобиль с &quot;нелегальным&quot; грузом пива\n",
      "Text:\n",
      "Вчера на Новгородской улице сотрудники правоохранительных органов задержали автомобиль, перевозивший значительный объем \"нелегального\" пива. Инцидент подчеркивает актуальность проблемы контрабанды алкогольной продукции в крупных городах и усилия, предпринимаемые для ее пресечения.\n",
      "\n",
      "**Обнаружение и задержание:**\n",
      "\n",
      "В ходе регулярной операции по контролю за транспортными средствами на территории Москвы, полицейские остановили автомобиль марки \"ВАЗ\", который двигался по Новгородской улице. При осмотре автомобиля выяснилось, что он был загружен ящиками с пивом, которые не имели необходимых документов и были произведены за пределами России. Общий вес контрабандного груза составил более 2000 литров.\n",
      "\n",
      "**Последствия и меры безопасности:**\n",
      "\n",
      "Задержание такого объема нелегальной продукции вызвало интерес общественности и подняло вопросы о масштабах контрабанды алкоголя в столице. Власти заявили, что подобные операции проводятся регулярно, и их цель — не только пресечение незаконной торговли, но и защита потребителей от некачественной продукции.\n",
      "\n",
      "Сотрудники полиции отметили, что контрабанда алкоголя представляет серьезную угрозу для здоровья граждан, так как нелегальные производители часто пренебрегают стандартами качества и безопасности. Кроме того, это способствует развитию организованной преступности и коррупции.\n",
      "\n",
      "**Борьба с контрабандой:**\n",
      "\n",
      "Для борьбы с контрабандой алкоголя власти предпринимают комплекс мер.\n",
      "\n",
      "--------------------------------------------------\n",
      "\n"
     ]
    },
    {
     "name": "stderr",
     "output_type": "stream",
     "text": [
      " 10%|██████████▊                                                                                            | 21/200 [06:52<58:27, 19.59s/it]"
     ]
    },
    {
     "name": "stdout",
     "output_type": "stream",
     "text": [
      "Title:\n",
      "Китай ограничит иностранные инвестиции своих компаний\n",
      "Text:\n",
      "В последние дни китайское правительство объявило о введении новых строгих ограничений на иностранные инвестиции для своих компаний, что может существенно повлиять на глобальные финансовые рынки и международные бизнес-связи. Эти меры направлены на защиту национальных интересов и укрепление контроля над ключевыми отраслями.\n",
      "\n",
      "**1. Понимание нового регулирования**\n",
      "\n",
      "Новые правила предусматривают более тщательную проверку иностранных инвестиций в китайские компании, особенно в тех секторах, которые считаются стратегически важными для национальной безопасности или экономического развития. Это может включать технологии, энергетику, транспорт и финансы.\n",
      "\n",
      "**2. Последствия для иностранных инвесторов**\n",
      "\n",
      "Для иностранных инвесторов новые ограничения могут означать увеличение бюрократических барьеров и более длительные сроки получения разрешений. Это может привести к снижению интереса к инвестициям в Китай, особенно среди тех, кто ранее рассчитывал на быстрые результаты.\n",
      "\n",
      "**3. Влияние на мировую экономику**\n",
      "\n",
      "Эти изменения могут иметь далеко идущие последствия для мировой экономики. С одной стороны, они могут стимулировать развитие внутренних инноваций и уменьшить зависимость от иностранных технологий. С другой стороны, они могут замедлить глобальный экономический рост, поскольку многие международные корпорации зависят от китайского рынка.\n",
      "\n",
      "**4. Реакция международного сообщества**\n",
      "\n",
      "Международное сообщество уже выразило обеспокоенность по поводу этих мер.\n",
      "\n",
      "--------------------------------------------------\n",
      "\n"
     ]
    },
    {
     "name": "stderr",
     "output_type": "stream",
     "text": [
      " 11%|███████████▎                                                                                           | 22/200 [07:11<58:01, 19.56s/it]"
     ]
    },
    {
     "name": "stdout",
     "output_type": "stream",
     "text": [
      "Title:\n",
      "Из плена боевиков освободили украинского разведчика, - Порошенко\n",
      "Text:\n",
      "В результате успешной спецоперации украинские военные освободили из плена боевиков своего разведчика, имя которого не разглашается по соображениям безопасности. Это событие стало значимым шагом в борьбе с терроризмом на востоке Украины и подчеркнуло решимость Киева защищать своих граждан.\n",
      "\n",
      "**Контекст операции**\n",
      "\n",
      "Украинский разведчик был захвачен боевиками в ходе выполнения секретной миссии на оккупированной территории. Согласно предварительным данным, его задержание произошло в конце прошлого года, однако информация о его местонахождении и состоянии здоровья стала известна только сейчас.\n",
      "\n",
      "**Сложности и успех операции**\n",
      "\n",
      "Операция по освобождению разведчика была сложной и требовала тщательного планирования и координации между различными подразделениями украинской армии и спецслужбами. Специалисты отмечают, что ключевую роль в ее успехе сыграло использование современных технологий и кооперация с международными партнерами.\n",
      "\n",
      "**Роль президента Порошенко**\n",
      "\n",
      "Президент Украины Петр Порошенко выразил благодарность всем участникам операции и подчеркнул важность подобных действий для укрепления национальной безопасности. Он также отметил, что освобождение разведчика является примером эффективной работы украинских силовых структур и их способности противостоять террористическим угрозам.\n",
      "\n",
      "**Политические последствия**\n",
      "\n",
      "Этот инцидент может иметь важные политические последствия, как внутри страны, так и на международной арене.\n",
      "\n",
      "--------------------------------------------------\n",
      "\n"
     ]
    },
    {
     "name": "stderr",
     "output_type": "stream",
     "text": [
      " 12%|███████████▊                                                                                           | 23/200 [07:31<57:39, 19.54s/it]"
     ]
    },
    {
     "name": "stdout",
     "output_type": "stream",
     "text": [
      "Title:\n",
      "Легкомоторный самолет совершил жесткую посадку под Москвой\n",
      "Text:\n",
      "Вчера вечером, 15 июня, легкомоторный самолет совершил жесткую посадку на территории подмосковного аэропорта \"Домодедово\". Инцидент произошел около 20:30 по московскому времени, когда пилот пытался приземлиться в условиях сильного ветра и ограниченной видимости.\n",
      "\n",
      "**Ситуация на месте происшествия:**\n",
      "\n",
      "На место сразу же были вызваны экстренные службы, включая пожарные расчеты и медиков. Пилот и два пассажира, находившихся на борту, были эвакуированы с помощью спасательных команд. По предварительным данным, все они получили лишь незначительные травмы и были доставлены в ближайшие больницы для осмотра.\n",
      "\n",
      "**Причины и обстоятельства:**\n",
      "\n",
      "По словам очевидцев, перед посадкой погода ухудшилась: сильный ветер и туман значительно затруднили видимость. В результате пилот принял решение о посадке на ближайшем подходящем аэродроме, что и привело к жесткой посадке. Расследование причин инцидента продолжается, и специалисты изучают данные бортовых самописцев и погодные условия в момент происшествия.\n",
      "\n",
      "**Последствия и реакция властей:**\n",
      "\n",
      "Инцидент вызвал обеспокоенность среди местных жителей и авиационных экспертов. Авиационные власти начали проверку соответствия условий полетов и подготовки пилотов в данной ситуации. Пресс-служба аэропорта \"Домодедово\" заявила, что все процедуры безопасности соблюдались, однако признала необходимость пересмотра некоторых аспектов работы.\n",
      "\n",
      "--------------------------------------------------\n",
      "\n"
     ]
    },
    {
     "name": "stderr",
     "output_type": "stream",
     "text": [
      " 12%|████████████▎                                                                                          | 24/200 [07:50<57:27, 19.59s/it]"
     ]
    },
    {
     "name": "stdout",
     "output_type": "stream",
     "text": [
      "Title:\n",
      "На Алтае строят две сельские дороги за 125 млн рублей\n",
      "Text:\n",
      "В Алтайском крае началось строительство двух важных сельских дорог, которые в совокупности будут стоить 125 миллионов рублей. Проект направлен на улучшение транспортной доступности и повышение качества жизни местных жителей.\n",
      "\n",
      "**Цели проекта:**\n",
      "Основная цель строительства — обеспечение надежного и безопасного сообщения между сельскими поселениями и крупными населенными пунктами. Новые дороги позволят сократить время в пути для жителей отдаленных районов, что особенно важно в условиях сезонных погодных условий, когда дороги могут становиться непроходимыми.\n",
      "\n",
      "**Характеристики дорог:**\n",
      "Первая дорога протяженностью 10 километров соединит два крупных села, обеспечивая более удобные условия для перевозки сельскохозяйственной продукции. Вторая дорога длиной 8 километров пройдет через лесной массив, связывая несколько мелких деревень, что существенно улучшит их экономическое положение и возможности для развития туризма.\n",
      "\n",
      "**Финансирование и сроки:**\n",
      "Строительство финансируется из федерального и регионального бюджетов. Ожидается, что работы завершатся в течение двух лет. Планируется, что уже в следующем году начнется активная фаза строительства, включающая подготовку площадки и закладку фундамента.\n",
      "\n",
      "**Экологические аспекты:**\n",
      "Проект учитывает экологические аспекты, предусматривая минимизацию воздействия на окружающую среду. В частности, планируется использование экологически чистых материалов и технологий, чтобы снизить негативное влияние на природу.\n",
      "\n",
      "--------------------------------------------------\n",
      "\n"
     ]
    },
    {
     "name": "stderr",
     "output_type": "stream",
     "text": [
      " 12%|████████████▉                                                                                          | 25/200 [08:10<57:11, 19.61s/it]"
     ]
    },
    {
     "name": "stdout",
     "output_type": "stream",
     "text": [
      "Title:\n",
      "В Госдуме предложили заморозить ОСАГО до 2017 года\n",
      "Text:\n",
      "**Госдума предлагает заморозить ОСАГО до 2017 года: как это повлияет на автовладельцев и страховщиков**\n",
      "\n",
      "В последнее время в России обсуждается ряд изменений в сфере автомобильного страхования, и одним из самых обсуждаемых предложений стало предложение о заморозке тарифов ОСАГО до 2017 года. Депутаты Государственной думы выступили с инициативой, которая может существенно изменить условия страхования для миллионов автовладельцев.\n",
      "\n",
      "### Повод для предложения\n",
      "\n",
      "Основная причина, по которой депутаты решили рассмотреть возможность заморозки тарифов ОСАГО, заключается в стремительном росте стоимости полисов в последние годы. Страховые компании, сталкиваясь с увеличением числа страховых случаев и ростом выплат, вынуждены повышать тарифы, что вызывает недовольство среди автовладельцев.\n",
      "\n",
      "### Влияние на страхователей\n",
      "\n",
      "Если инициатива будет принята, автовладельцы смогут сохранить текущие тарифы на уровне 2016 года. Это означает, что стоимость полиса ОСАГО останется неизменной, что может быть выгодно для многих автомобилистов, особенно в регионах с низким уровнем выплат. Однако, стоит учитывать, что в случае роста количества страховых случаев или увеличения выплат, тарифы могут быть пересмотрены в будущем.\n",
      "\n",
      "### Влияние на страховщиков\n",
      "\n",
      "Для страховых компаний заморозка тарифов может стать серьезным вызовом. Они столкнутся с необходимостью оптимизации расходов и поиска новых источников дохода, чтобы компенсировать потери от снижения прибыли. Это может привести к сокращению числа страховых компаний на рынке или к увеличению конкуренции между ними.\n",
      "\n",
      "### Возможные последствия\n",
      "\n",
      "1.\n",
      "\n",
      "--------------------------------------------------\n",
      "\n"
     ]
    },
    {
     "name": "stderr",
     "output_type": "stream",
     "text": [
      " 13%|█████████████▍                                                                                         | 26/200 [08:29<56:50, 19.60s/it]"
     ]
    },
    {
     "name": "stdout",
     "output_type": "stream",
     "text": [
      "Title:\n",
      "Патриарха Алексия II выпишут через неделю-две\n",
      "Text:\n",
      "После почти месячного пребывания в больнице патриарх Московский и всея Руси Алексий II, как ожидается, будет выписан через неделю-две. Это событие вызвало большой интерес не только среди верующих, но и в обществе в целом, поскольку патриарх играет ключевую роль в жизни Русской православной церкви.\n",
      "\n",
      "В последние недели здоровье патриарха вызывало беспокойство у многих. Его госпитализация была связана с серьезными проблемами со здоровьем, которые потребовали немедленного медицинского вмешательства. Однако, по словам его окружения, состояние здоровья Алексия II стабилизировалось, и врачи дают положительные прогнозы на скорое восстановление.\n",
      "\n",
      "Выписка патриарха станет важным шагом для всей Церкви. В это время в России проходят выборы в Государственную Думу, и многие задаются вопросом, как это событие может повлиять на политическую ситуацию в стране. Некоторые эксперты предполагают, что патриарх может сыграть роль посредника между властью и обществом, особенно если его здоровье позволит ему активно участвовать в общественной жизни.\n",
      "\n",
      "Внутренние дела Церкви также ожидают изменений. После возвращения патриарха Алексия II возможно проведение собраний и заседаний, на которых будут обсуждаться текущие вопросы управления и дальнейшее развитие Русской православной церкви. Среди них — реформы в структуре управления, а также возможное назначение нового заместителя или помощника.\n",
      "\n",
      "Сам патриарх, как сообщается, в эти дни активно занимается изучением материалов и подготовкой к предстоящим мероприятиям.\n",
      "\n",
      "--------------------------------------------------\n",
      "\n"
     ]
    },
    {
     "name": "stderr",
     "output_type": "stream",
     "text": [
      " 14%|█████████████▉                                                                                         | 27/200 [08:49<56:25, 19.57s/it]"
     ]
    },
    {
     "name": "stdout",
     "output_type": "stream",
     "text": [
      "Title:\n",
      "Погранслужба: Киев не контролирует 400 км границы с Россией\n",
      "Text:\n",
      "В последние месяцы пограничные службы Украины сообщают о серьёзных проблемах в контроле над участком границы протяжённостью 400 километров, разделяющим Украину и Россию. Согласно данным, собранным Пограничной службой Украины, на этом участке наблюдается значительное ослабление контроля, что создаёт угрозу безопасности и стабильности региона.\n",
      "\n",
      "### Основные причины потери контроля\n",
      "\n",
      "1. **Недостаточное финансирование**: Одной из основных причин, по мнению экспертов, является недостаточное финансирование пограничных служб. Нехватка средств затрудняет модернизацию инфраструктуры и приобретение необходимого оборудования для эффективного патрулирования границы.\n",
      "\n",
      "2. **Слабая численность персонала**: В связи с экономическим кризисом и отсутствием должной мотивации, численность пограничников на этом участке значительно сократилась. Это приводит к снижению частоты патрулей и увеличению времени реакции на возможные нарушения.\n",
      "\n",
      "3. **Коррупция и бюрократия**: Проблемы с коррупцией и бюрократическими барьерами также негативно сказываются на эффективности работы пограничных служб. Эти факторы замедляют процесс принятия решений и усложняют взаимодействие с международными партнёрами.\n",
      "\n",
      "### Последствия для безопасности\n",
      "\n",
      "Потеря контроля над этим участком границы может иметь серьёзные последствия для безопасности Украины. Возможны незаконная торговля, контрабанда, а также перемещение лиц, которые могут представлять угрозу для внутренней стабильности страны.\n",
      "\n",
      "--------------------------------------------------\n",
      "\n"
     ]
    },
    {
     "name": "stderr",
     "output_type": "stream",
     "text": [
      " 14%|██████████████▍                                                                                        | 28/200 [09:09<56:20, 19.66s/it]"
     ]
    },
    {
     "name": "stdout",
     "output_type": "stream",
     "text": [
      "Title:\n",
      "Футболист сборной Бразилии Рональдиньо намерен выступить за страну на Олимпиаде-2012 в Лондоне\n",
      "Text:\n",
      "**Захватывающая новость: Рональдиньо готов вернуться в футбол и выступить за Бразилию на Олимпиаде-2012**\n",
      "\n",
      "В мире спорта не так часто случаются события, которые могут изменить ход истории. Однако именно такой момент настал, когда бывший звезда мирового футбола, легендарный Рональдиньо, объявил о своем намерении выступить за сборную Бразилии на Олимпийских играх 2012 года в Лондоне. Этот шаг вызвал настоящий ажиотаж среди болельщиков по всему миру.\n",
      "\n",
      "**Возвращение звезды**\n",
      "\n",
      "Рональдиньо, известный своими невероятными трюками на поле и обаянием вне его, сделал долгую и успешную карьеру в таких клубах, как \"Барселона\", \"Милан\" и \"Пари Сен-Жермен\". После ухода из профессионального футбола в 2015 году, он практически исчез с радаров футбольных фанатов. Однако его решение вернуться на международную арену стало настоящим сюрпризом для многих.\n",
      "\n",
      "**Причины решения**\n",
      "\n",
      "По словам самого Рональдиньо, его мотивацией к возвращению стали желание доказать, что возраст — это всего лишь число, и стремление подарить еще один яркий момент болельщикам, которые всегда поддерживали его. Он также отметил, что участие в Олимпийских играх — это уникальная возможность проявить себя на международной арене и вдохновить молодое поколение спортсменов.\n",
      "\n",
      "**Ожидания и перспективы**\n",
      "\n",
      "Если Рональдиньо действительно примет участие в Олимпиаде-2012, это может значительно повысить шансы бразильской команды на успех. Его мастерство и опыт могут стать ключевыми факторами в борьбе за медали.\n",
      "\n",
      "--------------------------------------------------\n",
      "\n"
     ]
    },
    {
     "name": "stderr",
     "output_type": "stream",
     "text": [
      " 14%|██████████████▉                                                                                        | 29/200 [09:28<55:51, 19.60s/it]"
     ]
    },
    {
     "name": "stdout",
     "output_type": "stream",
     "text": [
      "Title:\n",
      "Пропал самолет Минобороны с артистами – возможно, упал в Черное море\n",
      "Text:\n",
      "Вчера вечером в районе Черного моря пропал без вести военный самолет, на борту которого находились известные артисты и члены их команды. Информация о возможном падении самолета в море вызвала шок и тревогу среди населения.\n",
      "\n",
      "**Ситуация на момент исчезновения:**\n",
      "\n",
      "Самолет Ми-8, принадлежащий Министерству обороны России, вылетел из Сочи для участия в гастролях артистов. На борту находились 12 человек, включая пилотов, музыкантов и актеров. Планировалось, что самолет совершит несколько рейсов по побережью Черного моря, прежде чем вернуться в аэропорт отправления.\n",
      "\n",
      "**Потеря связи и начало поисковых работ:**\n",
      "\n",
      "Около 20:30 по местному времени связь с самолетом была потеряна. Власти немедленно запустили поисковую операцию, задействовав спасательные вертолеты, корабли и подводные лодки. Поисковые работы осложняются плохими погодными условиями и значительной глубиной моря в этом районе.\n",
      "\n",
      "**Предварительные версии и реакция общественности:**\n",
      "\n",
      "На данный момент официальных подтверждений о катастрофе нет, но многие эксперты считают, что самолет мог потерпеть аварию из-за технической неисправности или неблагоприятных погодных условий. Сообщается, что в последние минуты перед потерей связи на борту были слышны странные звуки, которые могут свидетельствовать о проблемах с двигателем.\n",
      "\n",
      "--------------------------------------------------\n",
      "\n"
     ]
    },
    {
     "name": "stderr",
     "output_type": "stream",
     "text": [
      " 15%|███████████████▍                                                                                       | 30/200 [09:48<55:40, 19.65s/it]"
     ]
    },
    {
     "name": "stdout",
     "output_type": "stream",
     "text": [
      "Title:\n",
      "\"Щенок-единорог\" с хвостом на лбу стал звездой соцсетей\n",
      "Text:\n",
      "В мире, где вирусные видео и мемы правят бал, появился новый персонаж, который покорил сердца пользователей социальных сетей — щенок с необычным хвостом на лбу, которого прозвали \"щенком-единорогом\". Маленький пес, чье имя пока остается загадкой, стал настоящим интернет-феноменом благодаря своей уникальной внешности.\n",
      "\n",
      "### Начало истории\n",
      "\n",
      "Все началось с того, что владелец щенка, решивший поделиться милым моментом с друзьями, опубликовал видео на популярной платформе. На кадрах видно, как щенок, сидя на подушке, нежно трется о свою необычную шерсть, напоминающую хвост единорога. Видео быстро набрало тысячи просмотров и комментариев, и вскоре стало вирусным.\n",
      "\n",
      "### Популярность и реакция\n",
      "\n",
      "Когда новость о \"щенке-единороге\" разлетелась по соцсетям, фанаты начали активно обсуждать его внешний вид и характер. Многие пользователи сравнивали его с мифическими существами, а некоторые даже предположили, что это результат генетического эксперимента. Однако заводчик собак объяснил, что у щенка просто особый тип шерсти, который встречается крайне редко.\n",
      "\n",
      "### Влияние на сообщество\n",
      "\n",
      "Появление \"щенка-единорога\" вызвало настоящий бум среди любителей животных и поклонников мемов. Он стал символом уникальности и радости, приносящей улыбку на лица людей.\n",
      "\n",
      "--------------------------------------------------\n",
      "\n"
     ]
    },
    {
     "name": "stderr",
     "output_type": "stream",
     "text": [
      " 16%|███████████████▉                                                                                       | 31/200 [10:08<55:13, 19.61s/it]"
     ]
    },
    {
     "name": "stdout",
     "output_type": "stream",
     "text": [
      "Title:\n",
      "Полиция ищет бомбы во всех McDonald's Киева\n",
      "Text:\n",
      "В понедельник, 15 октября, в Киеве развернулась необычная операция полиции: в рамках масштабного антитеррористического рейда были проведены проверки всех филиалов сети McDonald's. Причиной для беспокойства стали полученные анонимные угрозы о возможном наличии взрывных устройств в заведениях быстрого питания.\n",
      "\n",
      "Согласно официальным заявлениям, полиция начала проверки после получения нескольких сообщений, содержащих угрозы о заложенных бомбах. Несмотря на то что все предыдущие проверки не выявили никаких подозрительных предметов, власти решили принять дополнительные меры предосторожности.\n",
      "\n",
      "\"Мы серьезно относимся к любым сигналам о террористической угрозе,\" — заявил представитель полиции Киева. — \"Наша главная задача — обеспечить безопасность граждан и предотвратить возможные инциденты.\"\n",
      "\n",
      "Проверки начались рано утром и продолжались весь день. В каждом из 20 филиалов McDonald's были задействованы сотрудники спецподразделений, которые тщательно осматривали помещения, включая подвалы и чердаки. Клиенты, находящиеся внутри ресторанов, были проинформированы о ситуации и при необходимости эвакуированы.\n",
      "\n",
      "Однако по итогам проверок ни одна бомба не была обнаружена. Власти подчеркнули, что это не значит, что угроза исчезла, и продолжат следить за ситуацией. В то же время, они призывают граждан сохранять бдительность и сообщать о любых подозрительных действиях или объектах в правоохранительные органы.\n",
      "\n",
      "--------------------------------------------------\n",
      "\n"
     ]
    },
    {
     "name": "stderr",
     "output_type": "stream",
     "text": [
      " 16%|████████████████▍                                                                                      | 32/200 [10:27<54:46, 19.56s/it]"
     ]
    },
    {
     "name": "stdout",
     "output_type": "stream",
     "text": [
      "Title:\n",
      "В колонию в Форносово пытались перебросить четыре телефона\n",
      "Text:\n",
      "В колонии Форносово, расположенной в Московской области, недавно произошла попытка контрабанды, которая вызвала широкий резонанс среди сотрудников учреждения и общественности. Согласно информации, поступившей от источников в правоохранительных органах, в колонию пытались перебросить четыре мобильных телефона.\n",
      "\n",
      "Согласно имеющимся данным, телефонные устройства были спрятаны в необычных упаковках — внутри коробок с продуктами питания и бытовыми товарами. Злоумышленники надеялись, что таким образом им удастся избежать обнаружения, однако их план был раскрыт сотрудниками колонии и правоохранительными органами.\n",
      "\n",
      "Инцидент произошел во время очередного этапа проверки поступающих в учреждение товаров. Офицеры службы безопасности заметили подозрительное поведение одного из заключенных, который пытался незаметно передать какие-то предметы охраннику. После задержания мужчины у него были обнаружены два мобильных телефона. Вскоре, благодаря оперативным действиям полиции, удалось выявить и задержать еще двух участников этой схемы.\n",
      "\n",
      "По словам представителей следствия, целью контрабанды было обеспечение связи между заключенными и их родственниками, что может серьезно нарушить режим содержания и порядок в колонии. В настоящее время все задержанные находятся под стражей, ведется расследование, и им грозит уголовная ответственность.\n",
      "\n",
      "Эта история подчеркивает необходимость усиления контроля за поставками товаров в исправительные учреждения и важность бдительности как со стороны сотрудников колонии, так и правоохранительных органов.\n",
      "\n",
      "--------------------------------------------------\n",
      "\n"
     ]
    },
    {
     "name": "stderr",
     "output_type": "stream",
     "text": [
      " 16%|████████████████▉                                                                                      | 33/200 [10:47<54:26, 19.56s/it]"
     ]
    },
    {
     "name": "stdout",
     "output_type": "stream",
     "text": [
      "Title:\n",
      "Генсек РФС об оскорблявших Дзюбу фанатах: «Кучка псевдоболельщиков попыталась испортить нам праздник»\n",
      "Text:\n",
      "В ответ на недавний инцидент, когда группа фанатов оскорбила нападающего сборной России по футболу Артёма Дзюбу, генеральный секретарь Российского футбольного союза (РФС) Андрей Назаров выступил с заявлением, подчеркнув неприемлемость подобного поведения.\n",
      "\n",
      "«Кучка псевдоболельщиков попыталась испортить нам праздник, но мы не позволим их действиям повлиять на нашу атмосферу и настроение болельщиков», — заявил Назаров в интервью телеканалу «Матч ТВ».\n",
      "\n",
      "По его словам, такие случаи являются недопустимыми и противоречат духу настоящего спортивного болельщества. Генеральный секретарь РФС также отметил, что союз предпримет все необходимые меры для выявления и наказания виновных.\n",
      "\n",
      "«Мы работаем над улучшением ситуации и будем принимать жесткие меры в отношении тех, кто пытается разрушить нашу общую радость от побед и достижений», — добавил Назаров.\n",
      "\n",
      "Скандал вызвал широкий общественный резонанс, и многие болельщики и эксперты выразили поддержку Артёму Дзюбе, призвав к более строгому контролю за поведением фанатов на матчах.\n",
      "\n",
      "РФС уже начал расследование инцидента и призвал всех участников событий сотрудничать с правоохранительными органами. В то же время, организация планирует провести ряд мероприятий, направленных на повышение культуры болельщиков и формирование позитивной атмосферы на стадионах.\n",
      "\n",
      "--------------------------------------------------\n",
      "\n"
     ]
    },
    {
     "name": "stderr",
     "output_type": "stream",
     "text": [
      " 17%|█████████████████▌                                                                                     | 34/200 [11:06<54:08, 19.57s/it]"
     ]
    },
    {
     "name": "stdout",
     "output_type": "stream",
     "text": [
      "Title:\n",
      "Виталий Миколенко: \"Это не фантастика, мы много над этим работали\"\n",
      "Text:\n",
      "В последние годы имя Виталия Миколенко стало синонимом инноваций и технологических прорывов. В недавнем интервью он поделился деталями о проекте, который долгое время оставался в тени, но теперь готов изменить мир.\n",
      "\n",
      "\"Это не фантастика, — говорит Виталий, — мы много над этим работали\". Его слова отражают не только уверенность в успехе, но и огромную работу, которая была проделана его командой. Проект, о котором идет речь, — это разработка передовой системы искусственного интеллекта, способной революционизировать множество отраслей, от здравоохранения до производства.\n",
      "\n",
      "### История создания\n",
      "\n",
      "Миколенко начал работу над проектом несколько лет назад, когда понял, что существующие технологии не могут удовлетворить растущие потребности общества. Он собрал команду из лучших специалистов в области машинного обучения и программирования, чтобы вместе искать решения сложных проблем.\n",
      "\n",
      "### Прорывные технологии\n",
      "\n",
      "Одной из ключевых особенностей проекта является алгоритм, способный обучаться на огромных объемах данных и адаптироваться к изменяющимся условиям в реальном времени. Это позволяет системе эффективно решать задачи, которые ранее считались неразрешимыми.\n",
      "\n",
      "### Потенциальные применения\n",
      "\n",
      "1. **Здравоохранение**: Система может анализировать медицинские данные для более точной диагностики и персонализированного лечения.\n",
      "   \n",
      "2. **Производство**: Автоматизация процессов и предсказание отказов оборудования позволят повысить эффективность и снизить затраты.\n",
      "   \n",
      "3.\n",
      "\n",
      "--------------------------------------------------\n",
      "\n"
     ]
    },
    {
     "name": "stderr",
     "output_type": "stream",
     "text": [
      " 18%|██████████████████                                                                                     | 35/200 [11:26<53:50, 19.58s/it]"
     ]
    },
    {
     "name": "stdout",
     "output_type": "stream",
     "text": [
      "Title:\n",
      "Пожар на нефтеперерабатывающем заводе в Казахстане потушили\n",
      "Text:\n",
      "В ночь на 15 июля на одном из крупнейших нефтеперерабатывающих заводов в Казахстане вспыхнул серьезный пожар, который быстро распространился по территории предприятия. Инцидент произошел в результате взрыва одного из резервуаров с нефтью, что привело к возгоранию нескольких соседних емкостей и складских помещений.\n",
      "\n",
      "Сразу после получения информации о происшествии на место прибыли пожарные расчеты из ближайших городов и районов. Благодаря оперативному реагированию и слаженной работе команды спасателей удалось избежать более масштабных разрушений и предотвратить утечку опасных веществ в окружающую среду.\n",
      "\n",
      "На месте работали специалисты из МЧС Казахстана, а также международные эксперты, которые помогли организовать эффективную систему тушения огня. В процессе борьбы с пламенем были задействованы несколько десятков единиц техники, включая пожарные машины, грузовики с водой и специализированные средства для нейтрализации химических веществ.\n",
      "\n",
      "Особую сложность представляло то, что на территории завода находилось большое количество горючих материалов и химикатов, что требовало особой осторожности и точности действий. Однако благодаря профессионализму и мужеству спасателей, пожар был полностью ликвидирован к утру следующего дня.\n",
      "\n",
      "По предварительным данным, в результате инцидента никто не пострадал, однако есть информация о значительном материальном ущербе.\n",
      "\n",
      "--------------------------------------------------\n",
      "\n"
     ]
    },
    {
     "name": "stderr",
     "output_type": "stream",
     "text": [
      " 18%|██████████████████▌                                                                                    | 36/200 [11:45<53:28, 19.57s/it]"
     ]
    },
    {
     "name": "stdout",
     "output_type": "stream",
     "text": [
      "Title:\n",
      "Водку и воспитателя в детской кроватке нашли в детсаду Петербурга\n",
      "Text:\n",
      "В Санкт-Петербурге произошло событие, которое вызвало широкий резонанс и шок среди местного населения. В одном из детских садов города были найдены водка и воспитатель в детской кроватке. Инцидент произошел в одном из частных дошкольных учреждений на юго-западе города.\n",
      "\n",
      "Согласно сообщениям местных СМИ, инспекторы по образованию пришли в детский сад на плановый проверку и обнаружили необычную картину: на полу лежала бутылка водки, а рядом с ней находился воспитатель, который спал в детской кроватке. По предварительным данным, инцидент произошел около 10 часов утра.\n",
      "\n",
      "Представители администрации детского сада заявили, что воспитатель был временно отстранен от работы, и сейчас проводится тщательное расследование. «Мы немедленно начали внутреннее расследование, чтобы выяснить все обстоятельства случившегося», — заявил директор учреждения.\n",
      "\n",
      "На место происшествия были вызваны полиция и медики для оценки состояния здоровья воспитателя. По словам очевидцев, он находился в состоянии алкогольного опьянения. Сейчас воспитатель находится под наблюдением врачей, а его состояние оценивается как стабильное.\n",
      "\n",
      "Этот случай вызвал возмущение среди родителей, которые выражают обеспокоенность за безопасность своих детей. «Это просто ужасно! Как такое могло произойти?» — говорит одна из мам, чьему ребенку посещает этот детский сад.\n",
      "\n",
      "Полиция начала уголовное дело по факту халатности и ненадлежащего исполнения служебных обязанностей.\n",
      "\n",
      "--------------------------------------------------\n",
      "\n"
     ]
    },
    {
     "name": "stderr",
     "output_type": "stream",
     "text": [
      " 18%|███████████████████                                                                                    | 37/200 [12:05<53:06, 19.55s/it]"
     ]
    },
    {
     "name": "stdout",
     "output_type": "stream",
     "text": [
      "Title:\n",
      "Песков подтвердил готовность Путина встретиться с Обамой\n",
      "Text:\n",
      "В ходе недавнего интервью пресс-секретарь президента России Дмитрий Песков подтвердил, что Владимир Путин готов к встрече с бывшим президентом США Бараком Обамой. Это заявление вызвало значительный интерес как в России, так и за ее пределами, поскольку оно может свидетельствовать о возможном смягчении напряженности между двумя странами.\n",
      "\n",
      "**Исторический контекст:**\n",
      "Отношения между Россией и США всегда были сложными, особенно после окончания холодной войны. В последние годы они ухудшились из-за разногласий по вопросам международной безопасности, включая ситуацию на Украине и Сирии, а также вмешательства в выборы. Однако идея встречи двух лидеров, которые ранее занимали ключевые позиции в своих странах, может открыть новые перспективы для диалога.\n",
      "\n",
      "**Подготовка к встрече:**\n",
      "Дмитрий Песков отметил, что встреча может состояться при условии, если обе стороны будут готовы к конструктивному обсуждению текущих проблем и поиску компромиссов. Он также добавил, что обсуждение может касаться широкого круга тем, включая экономические вопросы, энергетику и контроль над вооружениями.\n",
      "\n",
      "**Реакция мирового сообщества:**\n",
      "Заявление Пескова было встречено с интересом со стороны мировых лидеров и аналитиков. Многие эксперты считают, что такая встреча может стать важным шагом на пути к нормализации отношений между двумя крупнейшими державами мира. Однако другие опасаются, что это может быть лишь попыткой улучшить имидж Путина на международной арене.\n",
      "\n",
      "--------------------------------------------------\n",
      "\n"
     ]
    },
    {
     "name": "stderr",
     "output_type": "stream",
     "text": [
      " 19%|███████████████████▌                                                                                   | 38/200 [12:24<52:49, 19.56s/it]"
     ]
    },
    {
     "name": "stdout",
     "output_type": "stream",
     "text": [
      "Title:\n",
      "ЦБ: Чистый отток капитала из России за год сократился в пять раз\n",
      "Text:\n",
      "Согласно последним данным Центрального банка Российской Федерации (ЦБ РФ), чистый отток капитала из страны за прошедший год сократился почти в пять раз по сравнению с аналогичным периодом предыдущего года. Это свидетельствует о положительных изменениях в экономической ситуации и укреплении доверия инвесторов к российскому рынку.\n",
      "\n",
      "**Ключевые факторы:**\n",
      "\n",
      "1. **Улучшение инвестиционного климата**: В последние месяцы наблюдается устойчивый рост интереса иностранных инвесторов к российским активам. Это связано с рядом мер, направленных на улучшение бизнес-климата и повышение прозрачности финансовых операций.\n",
      "\n",
      "2. **Валютная политика**: ЦБ РФ продолжает активно регулировать валютный рынок, что способствует стабилизации курса рубля и снижению волатильности, что, в свою очередь, снижает риски для инвесторов.\n",
      "\n",
      "3. **Экономическая стабильность**: Российская экономика демонстрирует устойчивость к внешним шокам благодаря диверсификации источников доходов и уменьшению зависимости от нефтяных цен.\n",
      "\n",
      "4. **Инфраструктурные проекты**: Запуск крупных инфраструктурных проектов, таких как развитие транспортной сети и цифровизация экономики, также привлекает внимание международных инвесторов.\n",
      "\n",
      "**Последствия для экономики:**\n",
      "\n",
      "Снижение оттока капитала имеет ряд положительных последствий для российской экономики. Во-первых, это способствует укреплению национальной валюты и снижению инфляции.\n",
      "\n",
      "--------------------------------------------------\n",
      "\n"
     ]
    },
    {
     "name": "stderr",
     "output_type": "stream",
     "text": [
      " 20%|████████████████████                                                                                   | 39/200 [12:44<52:27, 19.55s/it]"
     ]
    },
    {
     "name": "stdout",
     "output_type": "stream",
     "text": [
      "Title:\n",
      "Жириновский на встрече с Путиным предложил выплачивать пособия на лечение от бесплодия\n",
      "Text:\n",
      "На недавней встрече с президентом России Владимиром Путиным лидер ЛДПР Владимир Жириновский выдвинул необычное предложение — выплачивать пособия на лечение от бесплодия. Это предложение вызвало широкий резонанс в обществе и среди экспертов, которые обсуждают его потенциальные последствия для демографической ситуации в стране.\n",
      "\n",
      "### Предложение Жириновского\n",
      "\n",
      "В ходе встречи Жириновский отметил, что многие семьи сталкиваются с проблемами бесплодия, и государство должно помочь им в решении этой проблемы. Он предложил ввести систему государственных пособий для семей, которые проходят лечение от бесплодия, чтобы сделать этот процесс более доступным и менее обременительным для граждан.\n",
      "\n",
      "### Возможные последствия\n",
      "\n",
      "1. **Стимулирование рождаемости**: Если предложение будет реализовано, оно может стать значительным стимулом для увеличения рождаемости в стране. Семьи, которые ранее не могли позволить себе дорогостоящее лечение бесплодия, получат возможность попробовать свои силы в создании семьи.\n",
      "\n",
      "2. **Финансовые последствия**: Введение таких пособий потребует значительных финансовых вложений со стороны государства. Эксперты отмечают, что это может стать дополнительной нагрузкой на бюджет, особенно если программа будет распространяться на всех нуждающихся.\n",
      "\n",
      "3. **Эффективность программы**: Для успешной реализации программы необходимо разработать четкие критерии отбора и контроля за использованием средств. Это поможет избежать злоупотреблений и обеспечит эффективное использование государственных ресурсов.\n",
      "\n",
      "4.\n",
      "\n",
      "--------------------------------------------------\n",
      "\n"
     ]
    },
    {
     "name": "stderr",
     "output_type": "stream",
     "text": [
      " 20%|████████████████████▌                                                                                  | 40/200 [13:03<52:06, 19.54s/it]"
     ]
    },
    {
     "name": "stdout",
     "output_type": "stream",
     "text": [
      "Title:\n",
      "Пропал сигнал с российского спутника связи &quot;Ямал-201&quot;\n",
      "Text:\n",
      "Вчера вечером произошел инцидент, который вызвал тревогу в мировых медиа: сигнал с российского спутника связи \"Ямал-201\" внезапно пропал. Этот инцидент стал неожиданностью для специалистов, так как спутник должен был функционировать еще минимум 15 лет.\n",
      "\n",
      "### Причины пропажи сигнала\n",
      "\n",
      "Первые предположения указывают на возможные технические неполадки. Специалисты Роскосмоса проводят активное расследование, чтобы выяснить точную причину сбоя. Пока что известно, что связь с аппаратом была потеряна около 18:30 по московскому времени. Официальное заявление от Роскосмоса подтверждает, что все попытки восстановить контакт пока безуспешны.\n",
      "\n",
      "### Последствия для коммуникационной сети\n",
      "\n",
      "Отсутствие сигнала с \"Ямал-201\" уже повлияло на работу нескольких коммуникационных сетей, особенно в регионах, где этот спутник обеспечивал основную связь. В частности, это коснулось телевещания и интернет-соединения в отдаленных районах России. Власти и операторы связи работают над созданием временных решений для минимизации влияния инцидента.\n",
      "\n",
      "### Международная реакция\n",
      "\n",
      "Международные партнеры России также проявляют интерес к ситуации. Некоторые страны, зависящие от российских спутников для обеспечения связи, выражают обеспокоенность и готовность оказать помощь в случае необходимости. Эксперты отмечают важность такого события, учитывая роль \"Ямал-201\" в глобальной сети связи.\n",
      "\n",
      "--------------------------------------------------\n",
      "\n"
     ]
    },
    {
     "name": "stderr",
     "output_type": "stream",
     "text": [
      " 20%|█████████████████████                                                                                  | 41/200 [13:23<51:45, 19.53s/it]"
     ]
    },
    {
     "name": "stdout",
     "output_type": "stream",
     "text": [
      "Title:\n",
      "Жительницу Весьегонского района будут судить за убийство мужа кухонным ножом\n",
      "Text:\n",
      "В Весьегонском районе начался судебный процесс над 45-летней Екатериной Ивановой, обвиняемой в убийстве своего мужа Александра Смирнова с помощью кухонного ножа. Инцидент произошел в их доме 15 сентября текущего года и вызвал широкий общественный резонанс.\n",
      "\n",
      "По версии следствия, конфликт между супругами начался из-за финансовых разногласий. Александр Смирнов, по словам соседей, был известен своей склонностью к азартным играм и частым пропускам работы. Это вызывало недовольство у его жены, которая пыталась убедить его изменить образ жизни. Однако, как выяснилось на предварительном следствии, ситуация вышла из-под контроля, когда Екатерина, в состоянии сильного эмоционального напряжения, решила взять дело в свои руки.\n",
      "\n",
      "Свидетели показали, что в день трагедии между супругами произошла ожесточенная ссора, в ходе которой Александр Смирнов выхватил нож и попытался защититься. В ответ Екатерина, согласно показаниям, нанесла ему несколько ударов, в результате которых он скончался на месте.\n",
      "\n",
      "Судебная экспертиза установила, что причиной смерти стал сердечный приступ, спровоцированный сильным стрессом и физическим воздействием. Однако обвинение настаивает на том, что удары ножом стали решающим фактором в развитии сердечного приступа.\n",
      "\n",
      "Защита Екатерины Ивановой утверждает, что ее действия были продиктованы отчаянием и желанием прекратить насилие в семье.\n",
      "\n",
      "--------------------------------------------------\n",
      "\n"
     ]
    },
    {
     "name": "stderr",
     "output_type": "stream",
     "text": [
      " 21%|█████████████████████▋                                                                                 | 42/200 [13:43<51:37, 19.60s/it]"
     ]
    },
    {
     "name": "stdout",
     "output_type": "stream",
     "text": [
      "Title:\n",
      "В столице появится еще одна велодорожка длиной восемь километров\n",
      "Text:\n",
      "В ближайшие недели жители столицы смогут насладиться новым элементом городской инфраструктуры — 8-километровой велодорожкой, которая станет частью обширной сети велосипедных маршрутов. Этот проект, реализованный в рамках программы по развитию устойчивого транспорта, призван не только улучшить экологическую ситуацию в городе, но и предоставить горожанам дополнительные возможности для активного образа жизни.\n",
      "\n",
      "**Инновационные решения и экологическая выгода**\n",
      "\n",
      "Новая велодорожка будет оснащена современными технологиями, обеспечивающими безопасность и комфорт велосипедистов. Вдоль всей трассы будут установлены специальные светоотражающие элементы, которые обеспечат видимость в условиях недостаточного освещения. Кроме того, на велодорожке предусмотрены зоны отдыха и остановки, что сделает путешествие на велосипеде более приятным и удобным.\n",
      "\n",
      "Одним из ключевых преимуществ новой велодорожки является её экологическая составляющая. По оценкам экспертов, внедрение такой инфраструктуры позволит снизить количество автомобилей на дорогах, что, в свою очередь, приведет к уменьшению выбросов углекислого газа и улучшению качества воздуха. Это особенно актуально в условиях растущего числа автомобилей и увеличивающегося уровня загрязнения окружающей среды.\n",
      "\n",
      "**Социальное значение и экономические перспективы**\n",
      "\n",
      "Открытие новой велодорожки также имеет социальное значение, способствуя повышению уровня физической активности среди населения.\n",
      "\n",
      "--------------------------------------------------\n",
      "\n"
     ]
    },
    {
     "name": "stderr",
     "output_type": "stream",
     "text": [
      " 22%|██████████████████████▏                                                                                | 43/200 [14:02<51:14, 19.58s/it]"
     ]
    },
    {
     "name": "stdout",
     "output_type": "stream",
     "text": [
      "Title:\n",
      "Потерявшуюся в Крыму девочку нашли мёртвой\n",
      "Text:\n",
      "Вчера в Крыму была найдена тело 12-летней девочки, которая пропала несколько дней назад. Инцидент вызвал шок в местном сообществе и вызвал волну тревоги среди родителей и властей. По предварительным данным, девочка потерялась во время похода с классом в одном из природных парков региона.\n",
      "\n",
      "Следствие продолжается, и власти активно работают над установлением всех обстоятельств произошедшего. На данный момент известно, что девочка пропала около 5 июня, когда её класс отправился на экскурсию в живописную местность близ Симферополя. Родители сразу же подали заявление в полицию, после чего началась масштабная операция по поиску пропавшей школьницы.\n",
      "\n",
      "Местные жители и спасательные службы участвовали в поисках, используя вертолёты и квадрокоптеры для осмотра труднодоступных районов. В ходе операции были обследованы несколько лесных массивов и горных склонов, однако надежды на благополучное разрешение ситуации не оставалось.\n",
      "\n",
      "По словам представителей правоохранительных органов, тело девочки было найдено в труднодоступной части леса, примерно в 10 километрах от места её исчезновения. На месте происшествия были обнаружены следы борьбы, что указывает на возможное нападение или конфликт. Полиция начала расследование, чтобы установить причину гибели девочки и выяснить, кто мог быть причастен к её исчезновению.\n",
      "\n",
      "Родители и друзья пропавшей девочки выражают свою скорбь и недоумение по поводу случившегося.\n",
      "\n",
      "--------------------------------------------------\n",
      "\n"
     ]
    },
    {
     "name": "stderr",
     "output_type": "stream",
     "text": [
      " 22%|██████████████████████▋                                                                                | 44/200 [14:22<50:55, 19.58s/it]"
     ]
    },
    {
     "name": "stdout",
     "output_type": "stream",
     "text": [
      "Title:\n",
      "В Вологодской области слабовидящие граждане голосуют с применением спецсредств\n",
      "Text:\n",
      "В Вологодской области стартовал уникальный проект, направленный на обеспечение доступности избирательного процесса для граждан с ограниченными возможностями зрения. В рамках инициативы в регионе активно используются специальные технические средства, которые позволяют слабовидящим избирателям участвовать в выборах наравне с другими гражданами.\n",
      "\n",
      "Одним из ключевых инструментов стала система \"Электронный избиратель\", которая включает в себя программное обеспечение, адаптированное для работы с экранными дикторами и тактильными клавиатурами. Это позволяет пользователям с нарушениями зрения самостоятельно ориентироваться на экране и принимать участие в голосовании без посторонней помощи.\n",
      "\n",
      "\"Мы стремимся сделать избирательный процесс максимально прозрачным и доступным для всех граждан, независимо от их физических возможностей,\" — отметил Алексей Иванов, глава избирательной комиссии Вологодской области. Он добавил, что такие меры помогают не только обеспечить равные права избирателей, но и повысить уровень доверия к избирательной системе в целом.\n",
      "\n",
      "В ходе реализации проекта были проведены обширные тренинги для сотрудников избирательных участков, чтобы они могли эффективно поддерживать избирателей с ограниченными возможностями зрения. Кроме того, в каждом избирательном участке установлены специальные кабины для голосования, оснащенные аудио- и тактильными устройствами.\n",
      "\n",
      "По словам Ирины Смирновой, одной из первых пользовательниц новых технологий, \"теперь я чувствую себя полноценным участником избирательного процесса. Это очень важно для меня и, надеюсь, для многих других людей с ограниченными возможностями\".\n",
      "\n",
      "--------------------------------------------------\n",
      "\n"
     ]
    },
    {
     "name": "stderr",
     "output_type": "stream",
     "text": [
      " 22%|███████████████████████▏                                                                               | 45/200 [14:41<50:33, 19.57s/it]"
     ]
    },
    {
     "name": "stdout",
     "output_type": "stream",
     "text": [
      "Title:\n",
      "Российские парламентарии пригласили сирийских коллег посетить РФ в апреле\n",
      "Text:\n",
      "В рамках продолжающегося процесса укрепления двусторонних отношений между Россией и Сирией, российские парламентарии официально пригласили своих сирийских коллег посетить Российскую Федерацию в апреле текущего года. Это событие стало важным шагом в развитии политического и культурного обмена между двумя странами.\n",
      "\n",
      "Приглашение было сделано в ходе недавнего заседания Межпарламентской ассамблеи государств — участников Содружества Независимых Государств (МПА СНГ), где представители обеих стран обсудили перспективы углубления сотрудничества в различных сферах. Российская сторона подчеркнула значимость Сирии как стратегического партнёра и выразила готовность к дальнейшему развитию двусторонних связей.\n",
      "\n",
      "Сирийские депутаты, в свою очередь, выразили благодарность за приглашение и выразили надежду на плодотворное обсуждение актуальных вопросов, включая экономическое сотрудничество, торговлю, образование и культуру. Визит станет возможностью для углубления взаимопонимания и укрепления дружеских отношений между российскими и сирийскими парламентариями.\n",
      "\n",
      "Ожидается, что в ходе визита стороны обсудят возможность расширения торгово-экономических связей, особенно в области энергетики и сельского хозяйства. Также будет обсуждаться потенциал совместных проектов в области образования и культуры, которые могут способствовать обмену опытом и знаниями между молодыми специалистами двух стран.\n",
      "\n",
      "--------------------------------------------------\n",
      "\n"
     ]
    },
    {
     "name": "stderr",
     "output_type": "stream",
     "text": [
      " 23%|███████████████████████▋                                                                               | 46/200 [15:01<50:08, 19.53s/it]"
     ]
    },
    {
     "name": "stdout",
     "output_type": "stream",
     "text": [
      "Title:\n",
      "СМИ: два человека получили ранения при стрельбе в школе в штате Индиана\n",
      "Text:\n",
      "Вчера днем в одном из школьных зданий в штате Индиана произошел трагический инцидент — стрельба, в результате которой два человека получили ранения. Инцидент вызвал шок среди местного сообщества и привлек внимание всей страны.\n",
      "\n",
      "**Хронология событий:**\n",
      "\n",
      "По имеющимся данным, стрельба началась около 14:30 по местному времени. Первые сообщения о происшествии поступили от очевидцев, которые услышали выстрелы и увидели людей, бегущих из здания. Полиция была вызвана на место происшествия немедленно.\n",
      "\n",
      "**Пострадавшие и свидетели:**\n",
      "\n",
      "На данный момент известно, что двое человек получили ранения, один из которых находится в критическом состоянии. Среди пострадавших — ученик старшей школы, который был доставлен в ближайшую больницу. Второй пострадавший — сотрудник школы. Все они получили ранения в результате выстрелов из огнестрельного оружия.\n",
      "\n",
      "**Реакция властей и общественности:**\n",
      "\n",
      "Местные правоохранительные органы начали активное расследование инцидента. На месте происшествия работают следователи и сотрудники полиции, которые пытаются установить все обстоятельства случившегося. Школа была временно закрыта, и все ученики и сотрудники эвакуированы.\n",
      "\n",
      "Губернатор штата Индиана уже выразил соболезнования семьям пострадавших и заверил, что все необходимые меры будут предприняты для выяснения причин произошедшего. Он также объявил трехдневный период траура в штате.\n",
      "\n",
      "**Общественная реакция была мгновенной.\n",
      "\n",
      "--------------------------------------------------\n",
      "\n"
     ]
    },
    {
     "name": "stderr",
     "output_type": "stream",
     "text": [
      " 24%|████████████████████████▏                                                                              | 47/200 [15:20<49:49, 19.54s/it]"
     ]
    },
    {
     "name": "stdout",
     "output_type": "stream",
     "text": [
      "Title:\n",
      "\"Лада Калина\" ударила девочку в Пскове\n",
      "Text:\n",
      "В минувшую субботу в Пскове произошло трагическое ДТП, которое потрясло местное население и вызвало широкий общественный резонанс. В результате столкновения легкового автомобиля \"Лада Калина\" с пешеходом пострадала 12-летняя девочка, что привело к серьезным травмам.\n",
      "\n",
      "**Обстоятельства аварии**\n",
      "\n",
      "Согласно свидетельствам очевидцев, инцидент произошел около 16:30 на одной из оживленных улиц города. По предварительным данным, водитель \"Лады Калины\", не справившись с управлением, выехал на встречную полосу и столкнулся с идущей по тротуару девочкой. Местные жители сразу же вызвали скорую помощь и полицию, однако состояние пострадавшей оказалось критическим.\n",
      "\n",
      "**Последствия и реакция общественности**\n",
      "\n",
      "Девочка была немедленно госпитализирована в местную больницу, где ей провели сложные хирургические операции. На данный момент ее состояние остается тяжелым, но стабильным. Инцидент вызвал волну возмущения среди горожан, многие из которых призывают к более строгому контролю за соблюдением правил дорожного движения и повышению ответственности водителей.\n",
      "\n",
      "**Расследование и меры безопасности**\n",
      "\n",
      "Местная полиция начала расследование причин аварии, а также проверяет наличие технических неполадок в автомобиле.\n",
      "\n",
      "--------------------------------------------------\n",
      "\n"
     ]
    },
    {
     "name": "stderr",
     "output_type": "stream",
     "text": [
      " 24%|████████████████████████▋                                                                              | 48/200 [15:40<49:30, 19.54s/it]"
     ]
    },
    {
     "name": "stdout",
     "output_type": "stream",
     "text": [
      "Title:\n",
      "ДНР сегодня отведёт от линии соприкосновения миномёты\n",
      "Text:\n",
      "Сегодня Донецкая Народная Республика (ДНР) объявила о решении отвести свои миномётные системы от линии соприкосновения с украинскими военными. Это событие стало важным шагом на пути к деэскалации многолетнего конфликта в Донбассе.\n",
      "\n",
      "### Предыстория и значение решения\n",
      "\n",
      "На протяжении последних лет Донбасс оставался зоной активных боевых действий, что привело к значительным человеческим жертвам и разрушениям инфраструктуры. Обе стороны конфликта неоднократно обвиняли друг друга в нарушении перемирий и использовании тяжёлого вооружения.\n",
      "\n",
      "### Подробности отвода\n",
      "\n",
      "Согласно заявлению официальных представителей ДНР, миномёты будут отведены на безопасное расстояние от линии фронта. Это решение было принято в рамках продолжающихся переговоров с украинской стороной и международными посредниками, которые стремятся найти мирное урегулирование конфликта.\n",
      "\n",
      "### Реакция международного сообщества\n",
      "\n",
      "Международные наблюдатели и представители Организации Объединённых Наций приветствовали это решение как позитивный шаг на пути к снижению напряжённости в регионе. Они выразили надежду, что этот шаг станет основой для дальнейших договорённостей и поможет стабилизировать ситуацию.\n",
      "\n",
      "### Возможные последствия\n",
      "\n",
      "Отведение миномётов может способствовать улучшению гуманитарной ситуации в регионе, поскольку значительно снизит риск случайных обстрелов и жертв среди мирного населения.\n",
      "\n",
      "--------------------------------------------------\n",
      "\n"
     ]
    },
    {
     "name": "stderr",
     "output_type": "stream",
     "text": [
      " 24%|█████████████████████████▏                                                                             | 49/200 [16:00<49:20, 19.61s/it]"
     ]
    },
    {
     "name": "stdout",
     "output_type": "stream",
     "text": [
      "Title:\n",
      "Ради своего \"Мерседеса\" саратовец выплатил стотысячный долг по штрафам\n",
      "Text:\n",
      "В Саратове произошла удивительная история, которая стала предметом обсуждения в местных и федеральных СМИ. Местный житель, желающий приобрести новый \"Мерседес\", решил пойти на крайние меры, чтобы расплатиться со стотысячным долгом по штрафам. Его история — яркий пример того, как финансовые обязательства могут повлиять на жизнь человека и его решения.\n",
      "\n",
      "Иван Петров, 35-летний житель Саратова, накопил значительную сумму штрафов за нарушение ПДД. Несмотря на то что сумма казалась ему неподъемной, Иван принял решение пойти на радикальные меры. Он продал свою старую машину и начал экономить каждую копейку, чтобы полностью погасить свои долги перед государством.\n",
      "\n",
      "Путь к решению был нелегким. Иван столкнулся с множеством трудностей: от отказа банков в кредитах до постоянного давления со стороны коллекторов. Однако его решимость была несокрушимой. Он работал сверхурочно, отказывался от развлечений и даже временно переехал в более дешевое жилье.\n",
      "\n",
      "Наконец, после нескольких месяцев упорной работы и экономии, Иван смог полностью погасить свой долг. Взамен он получил не только освобождение от финансового бремени, но и возможность осуществить давнюю мечту — купить новый автомобиль. Выбор пал на \"Мерседес\", который стал символом его победы над долгами.\n",
      "\n",
      "Эта история вызвала множество откликов среди жителей Саратова и за его пределами. Многие восхищались решимостью Ивана и его способностью преодолеть трудности.\n",
      "\n",
      "--------------------------------------------------\n",
      "\n"
     ]
    },
    {
     "name": "stderr",
     "output_type": "stream",
     "text": [
      " 25%|█████████████████████████▊                                                                             | 50/200 [16:19<49:05, 19.64s/it]"
     ]
    },
    {
     "name": "stdout",
     "output_type": "stream",
     "text": [
      "Title:\n",
      "Участок дороги в Тольятти открыли для двустороннего движения\n",
      "Text:\n",
      "Вчера, 15 июня, в городе Тольятти состоялось долгожданное событие — открытие участка дороги для двустороннего движения. Этот проект стал значимым шагом в развитии городской транспортной инфраструктуры и улучшении качества жизни местных жителей.\n",
      "\n",
      "**Предыстория проекта**\n",
      "\n",
      "Дорога, о которой идет речь, была построена несколько лет назад, но из-за недостаточного финансирования и сложностей с разрешительными документами долгое время функционировала только в одном направлении. Это создавало серьезные неудобства для водителей и пассажиров, увеличивая время в пути и повышая риск дорожно-транспортных происшествий.\n",
      "\n",
      "**Результаты и влияние**\n",
      "\n",
      "Открытие двустороннего движения позволило значительно улучшить транспортную доступность района. Теперь жители могут быстро и безопасно добираться до работы, учебы и других важных мест. Кроме того, это способствует снижению заторов на дорогах и уменьшению времени в пути, что положительно сказывается на экологической ситуации в городе.\n",
      "\n",
      "**Технические детали**\n",
      "\n",
      "Проект включал в себя не только строительство второй полосы движения, но и реконструкцию дорожного покрытия, установку новых светофоров и дорожных знаков, а также обустройство пешеходных переходов. Все работы проводились в соответствии с современными стандартами безопасности и комфорта для водителей и пешеходов.\n",
      "\n",
      "**Оценка экспертов**\n",
      "\n",
      "Эксперты отмечают, что открытие двустороннего движения на этом участке дороги является важным шагом в развитии транспортной системы города.\n",
      "\n",
      "--------------------------------------------------\n",
      "\n"
     ]
    },
    {
     "name": "stderr",
     "output_type": "stream",
     "text": [
      " 26%|██████████████████████████▎                                                                            | 51/200 [16:39<48:45, 19.63s/it]"
     ]
    },
    {
     "name": "stdout",
     "output_type": "stream",
     "text": [
      "Title:\n",
      "Украинские спасатели продолжают бороться с огнем в Чернобыльской зоне\n",
      "Text:\n",
      "В условиях неустанных усилий по восстановлению экологической безопасности и поддержанию радиационного контроля украинские спасатели продолжают свою сложную и опасную миссию в Чернобыльской зоне. С начала этого года в регионе наблюдается увеличение числа пожаров, что требует от спасателей максимальной концентрации и профессионализма.\n",
      "\n",
      "**Опасности и вызовы:**\n",
      "\n",
      "Пожары в Чернобыльской зоне представляют уникальные риски для спасателей из-за высокого уровня радиации. Каждый пожар может привести к выбросу радиоактивных частиц в окружающую среду, что угрожает как местному населению, так и экосистеме региона. Основная сложность заключается в том, что традиционные методы тушения огня здесь неприменимы из-за радиационной опасности.\n",
      "\n",
      "Спасатели используют специализированное оборудование и технику, способную работать в условиях повышенной радиации. Они также применяют инновационные технологии, такие как дроны и беспилотные аппараты, которые позволяют проводить разведку и мониторинг ситуации с минимальным риском для человеческой жизни.\n",
      "\n",
      "**Героизм на передовой:**\n",
      "\n",
      "Несмотря на все трудности, украинские спасатели демонстрируют невероятное мужество и преданность своему делу. Их работа требует не только физической выносливости, но и психологической устойчивости, ведь каждый день они сталкиваются с реальной угрозой для здоровья и жизни.\n",
      "\n",
      "Одним из ключевых элементов успеха является командная работа и взаимопомощь.\n",
      "\n",
      "--------------------------------------------------\n",
      "\n"
     ]
    },
    {
     "name": "stderr",
     "output_type": "stream",
     "text": [
      " 26%|██████████████████████████▊                                                                            | 52/200 [16:59<48:27, 19.64s/it]"
     ]
    },
    {
     "name": "stdout",
     "output_type": "stream",
     "text": [
      "Title:\n",
      "Истек срок футбольной тренерской лицензии сербского специалиста Славолюба Муслина \n",
      "Text:\n",
      "Сербский футбольный тренер Славолюб Муслин столкнулся с серьёзными последствиями из-за истечения срока его тренерской лицензии. Этот инцидент вызвал значительные обсуждения в спортивном сообществе, поскольку Муслин является одним из самых успешных тренеров на Балканах, известным своими достижениями в таких клубах, как «Црвена Звезда» и «Бешикташ».\n",
      "\n",
      "### Понимание ситуации\n",
      "\n",
      "Муслин, который в последние годы возглавлял несколько крупных клубов, включая турецкий «Бешикташ», был обязан поддерживать актуальную тренерскую лицензию в соответствии с требованиями Международной федерации футбола (ФИФА). Однако по неизвестным причинам он не смог продлить её вовремя. Это событие стало неожиданностью для многих, так как ранее Муслин демонстрировал высокую степень профессионализма и ответственности.\n",
      "\n",
      "### Последствия для карьеры\n",
      "\n",
      "Отсутствие действующей лицензии означает, что Муслин временно лишён права официально руководить командой. Это может существенно повлиять на его будущие планы и возможности трудоустройства. В краткосрочной перспективе это ограничивает его выбор клубов, которые могут рассмотреть его кандидатуру, поскольку многие руководители стремятся работать только с лицензированными тренерами.\n",
      "\n",
      "### Реакция футбольного сообщества\n",
      "\n",
      "Реакция футбольного сообщества на ситуацию была неоднозначной.\n",
      "\n",
      "--------------------------------------------------\n",
      "\n"
     ]
    },
    {
     "name": "stderr",
     "output_type": "stream",
     "text": [
      " 26%|███████████████████████████▎                                                                           | 53/200 [17:18<48:04, 19.62s/it]"
     ]
    },
    {
     "name": "stdout",
     "output_type": "stream",
     "text": [
      "Title:\n",
      "Футбольный клуб «Гомель» хотят лишить очков за долги по зарплате\n",
      "Text:\n",
      "В последнее время футбольный клуб «Гомель» оказался в центре внимания из-за финансовых проблем, которые могут привести к серьезным последствиям для команды. Согласно информации от источников в футбольных кругах, клуб находится на грани лишения очков из-за неуплаты зарплат игрокам и персоналу.\n",
      "\n",
      "Ситуация обострилась после того, как стало известно о задолженности перед футболистами и сотрудниками, которая достигла значительных масштабов. Несмотря на попытки руководства клуба найти пути решения проблемы, долг продолжает расти, что вызывает недовольство среди игроков и тренерского штаба.\n",
      "\n",
      "В ответ на сложившуюся ситуацию, Российская футбольная премьер-лига (РФПЛ) рассматривает возможность применения санкций против «Гомеля». В частности, предлагается лишить команду определенного количества очков, что может существенно повлиять на ее положение в турнирной таблице и даже привести к вылету из высшей лиги.\n",
      "\n",
      "Официальные представители РФПЛ заявили, что такие меры являются крайними и будут приняты только в случае, если клуб не предпримет решительных шагов по погашению задолженности в ближайшие дни. Руководство «Гомеля» уже начало переговоры с кредиторами и ищет возможности для урегулирования ситуации.\n",
      "\n",
      "Игроки и тренеры выражают обеспокоенность будущим команды, особенно в контексте предстоящих матчей. Некоторые из них уже начали искать новые клубы, опасаясь, что финансовые проблемы могут привести к прекращению карьеры.\n",
      "\n",
      "--------------------------------------------------\n",
      "\n"
     ]
    },
    {
     "name": "stderr",
     "output_type": "stream",
     "text": [
      " 27%|███████████████████████████▊                                                                           | 54/200 [17:38<47:46, 19.64s/it]"
     ]
    },
    {
     "name": "stdout",
     "output_type": "stream",
     "text": [
      "Title:\n",
      "Как украинские СМИ нашли на Донбассе российского боевого «Чебурашку»\n",
      "Text:\n",
      "В ходе длительного расследования украинские СМИ обнаружили неожиданную деталь в конфликте на Донбассе — использование российскими боевиками необычного символа: робота-трансформера, получившего прозвище «Чебурашка». Эта находка не только проливает свет на тактику и стратегию российских сил, но и поднимает вопросы о природе современных военных технологий.\n",
      "\n",
      "### Начало расследования\n",
      "\n",
      "Изначально информация о «Чебурашке» появилась в социальных сетях, где пользователи делились фотографиями и видеозаписями, на которых был запечатлен неизвестный робот, действующий на территории Донбасса. Украинские журналисты, заинтересовавшись этим явлением, начали собирать информацию и проводить собственные расследования.\n",
      "\n",
      "### Раскрытие технологии\n",
      "\n",
      "После анализа доступных данных, журналистам удалось установить, что «Чебурашка» — это модифицированный российский беспилотный робот-транспортер, который был адаптирован для выполнения боевых задач. Он оснащен системой наблюдения, способен перемещаться по пересеченной местности и даже открывать огонь по целям. Однако самое удивительное заключалось в его внешнем виде: робот был покрыт яркими желто-оранжевыми цветами, напоминающими популярного мультипликационного героя.\n",
      "\n",
      "### Влияние на конфликт\n",
      "\n",
      "Эта находка вызвала серьезные дискуссии среди экспертов и политиков.\n",
      "\n",
      "--------------------------------------------------\n",
      "\n"
     ]
    },
    {
     "name": "stderr",
     "output_type": "stream",
     "text": [
      " 28%|████████████████████████████▎                                                                          | 55/200 [17:57<47:21, 19.60s/it]"
     ]
    },
    {
     "name": "stdout",
     "output_type": "stream",
     "text": [
      "Title:\n",
      "«Снова назовут видеоигры»: Ксения Собчак высказалась по поводу стрельбы в колледже Благовещенска\n",
      "Text:\n",
      "В последние дни общественность активно обсуждает трагическое событие — стрельбу в колледже Благовещенска, которая произошла 16 ноября. Среди множества мнений и теорий, одна из самых острых тем — роль видеоигр в подобных инцидентах. В этой связи особое внимание привлекла публичная реакция известной телеведущей Ксении Собчак.\n",
      "\n",
      "Ксения Собчак, выступая на одном из телевизионных шоу, высказала своё мнение по этому поводу. Она отметила, что, хотя видеоигры могут играть определённую роль в формировании мировосприятия некоторых людей, нельзя сводить всё к одной причине. По её словам, более глубокие социальные и психологические факторы требуют внимания.\n",
      "\n",
      "\"Я считаю, что обвинять видеоигры в подобных трагедиях — это упрощать проблему,\" — заявила Собчак. — \"Мы должны смотреть шире и понимать, что зачастую за такими действиями стоят сложные личные и социальные проблемы.\"\n",
      "\n",
      "Собчак также подчеркнула необходимость комплексного подхода к решению проблемы насилия в обществе. Она предложила сосредоточиться на улучшении системы поддержки психического здоровья, а также на создании более безопасной и поддерживающей среды для молодёжи.\n",
      "\n",
      "\"Необходимо работать над тем, чтобы молодые люди чувствовали себя услышанными и понятыми,\" — добавила она. — \"Это может помочь предотвратить многие трагедии в будущем.\"\n",
      "\n",
      "Публичное выступление Ксении Собчак вызвало неоднозначную реакцию среди зрителей и экспертов.\n",
      "\n",
      "--------------------------------------------------\n",
      "\n"
     ]
    },
    {
     "name": "stderr",
     "output_type": "stream",
     "text": [
      " 28%|████████████████████████████▊                                                                          | 56/200 [18:17<47:09, 19.65s/it]"
     ]
    },
    {
     "name": "stdout",
     "output_type": "stream",
     "text": [
      "Title:\n",
      "Восстановленный в правах &quot;Штандарт&quot; уходит в первый рейс\n",
      "Text:\n",
      "После долгих лет простоя и забвения, легендарное судно «Штандарт» вновь готово к своему первому рейсу. Восстановленное в правах и обновленное, оно станет символом возрождения морской истории и современных технологий.\n",
      "\n",
      "### История «Штандарта»\n",
      "\n",
      "«Штандарт» был построен в 1950-х годах и долгие годы служил важным элементом советского торгового флота. Однако из-за изменений в экономической политике и технического состояния судно было выведено из эксплуатации и оставлено на берегу. За эти годы оно стало символом ушедшей эпохи и объектом интереса для туристов и историков.\n",
      "\n",
      "### Восстановление и модернизация\n",
      "\n",
      "Решение о восстановлении «Штандарта» было принято недавно, когда стало ясно, что это уникальное судно заслуживает второго шанса. Благодаря усилиям команды реставраторов и инженеров, судно было тщательно осмотрено, отремонтировано и модернизировано. В процессе восстановления были использованы как традиционные методы, так и современные технологии, чтобы сохранить историческую ценность корабля и обеспечить его безопасную эксплуатацию.\n",
      "\n",
      "### Первый рейс и будущее\n",
      "\n",
      "Первый рейс «Штандарта» запланирован на ближайшие месяцы. Судно будет совершать путешествия по внутренним водам, предлагая пассажирам возможность окунуться в атмосферу прошлого, наслаждаясь комфортом и безопасностью современного судна.\n",
      "\n",
      "--------------------------------------------------\n",
      "\n"
     ]
    },
    {
     "name": "stderr",
     "output_type": "stream",
     "text": [
      " 28%|█████████████████████████████▎                                                                         | 57/200 [18:37<46:53, 19.68s/it]"
     ]
    },
    {
     "name": "stdout",
     "output_type": "stream",
     "text": [
      "Title:\n",
      "ОАЭ запускают нефтепровод в обход Персидского залива и Ормузского пролива \n",
      "Text:\n",
      "ОАЭ объявили о запуске нового нефтепровода, который позволит стране экспортировать нефть в обход традиционного маршрута через Персидский залив и Ормузский пролив. Этот проект, получивший название \"Арабский нефтепровод\", призван снизить зависимость от узких проливов, которые в последние годы становятся объектом геополитической напряженности.\n",
      "\n",
      "### Исторический контекст и причины\n",
      "\n",
      "Ормузский пролив, соединяющий Персидский залив с Индийским океаном, является одним из самых критически важных морских путей в мире. Ежедневно через него проходит около 20% мирового объема морских перевозок нефти. Однако этот маршрут часто становится ареной международных конфликтов и санкций, что делает его уязвимым для перебоев в поставках.\n",
      "\n",
      "### Стратегическое значение проекта\n",
      "\n",
      "Запуск \"Арабского нефтепровода\" позволит ОАЭ обеспечить более надежные и безопасные маршруты для экспорта нефти. Проект предполагает создание сети трубопроводов, которые будут проходить через территорию ОАЭ, Кувейта и Саудовской Аравии, достигая портов на побережье Индийского океана. Это значительно сократит время и стоимость транспортировки нефти, а также минимизирует риск перебоев в поставках.\n",
      "\n",
      "### Экономические и политические последствия\n",
      "\n",
      "Для ОАЭ этот шаг имеет огромное экономическое значение, так как позволит диверсифицировать экспортные маршруты и снизить зависимость от одного уязвимого пути.\n",
      "\n",
      "--------------------------------------------------\n",
      "\n"
     ]
    },
    {
     "name": "stderr",
     "output_type": "stream",
     "text": [
      " 29%|█████████████████████████████▊                                                                         | 58/200 [18:57<46:32, 19.67s/it]"
     ]
    },
    {
     "name": "stdout",
     "output_type": "stream",
     "text": [
      "Title:\n",
      "В Самаре оптимизируют затраты на транспорт путем создания новой службы\n",
      "Text:\n",
      "В Самаре началось внедрение новой службы, направленной на оптимизацию затрат на городской транспорт. Эта инициатива призвана значительно снизить расходы на общественный транспорт и улучшить качество жизни горожан.\n",
      "\n",
      "**Инновационная служба:**\n",
      "\n",
      "Новая служба, получившая название \"ТрансОптим\", использует передовые технологии для анализа текущих маршрутов и расписаний городского транспорта. Система собирает данные о пассажиропотоках, загрузке автобусов и метрополитена, а также учитывает дорожные условия и погодные факторы. На основе этих данных \"ТрансОптим\" предлагает оптимальные маршруты и расписания, минимизируя время в пути и снижая потребление топлива.\n",
      "\n",
      "**Экономия и улучшение качества услуг:**\n",
      "\n",
      "Одним из ключевых преимуществ новой службы является возможность существенно сократить затраты на топливо и обслуживание транспортных средств. Благодаря более эффективному использованию ресурсов, город может направить сэкономленные средства на улучшение инфраструктуры и повышение качества услуг. Пассажиры же получат более комфортные условия поездок благодаря сокращению времени ожидания и более частым рейсам в часы пик.\n",
      "\n",
      "**Пилотный проект и планы на будущее:**\n",
      "\n",
      "На данный момент \"ТрансОптим\" находится на стадии пилотного проекта, который будет реализован в нескольких ключевых районах города. После успешного завершения тестирования планируется расширение программы на весь город.\n",
      "\n",
      "--------------------------------------------------\n",
      "\n"
     ]
    },
    {
     "name": "stderr",
     "output_type": "stream",
     "text": [
      " 30%|██████████████████████████████▍                                                                        | 59/200 [19:16<46:12, 19.66s/it]"
     ]
    },
    {
     "name": "stdout",
     "output_type": "stream",
     "text": [
      "Title:\n",
      "Минэнерго считает идею \"Суммы\" по терминалу в Роттердаме недоработанной\n",
      "Text:\n",
      "В последнее время активно обсуждается проект, предложенный компанией \"Сумма\", касающийся строительства нефтяного терминала в Роттердаме. Однако Министерство энергетики России выразило серьёзные сомнения в жизнеспособности этой инициативы, назвав её недоработанной.\n",
      "\n",
      "### Основные моменты критики:\n",
      "\n",
      "1. **Экономическая целесообразность**: Минэнерго указывает на необходимость более глубокого анализа экономической эффективности проекта. По их мнению, текущие оценки не учитывают всех возможных рисков и затрат, связанных с транспортировкой и хранением нефти.\n",
      "\n",
      "2. **Инфраструктурные проблемы**: В документах Минэнерго отмечается недостаточная проработка вопросов инфраструктуры, таких как логистика и обеспечение безопасности. Это может стать серьёзным препятствием для успешной реализации проекта.\n",
      "\n",
      "3. **Политические и правовые аспекты**: Критики также обращают внимание на потенциальные политические и правовые сложности, которые могут возникнуть при взаимодействии с европейскими регуляторами и местными властями.\n",
      "\n",
      "### Перспективы проекта:\n",
      "\n",
      "Несмотря на критику, представители компании \"Сумма\" продолжают утверждать, что проект имеет большой потенциал и способен значительно улучшить доступ России к европейским рынкам. Они подчеркивают, что уже ведутся переговоры с потенциальными партнёрами и инвесторами.\n",
      "\n",
      "### Реакция общественности и экспертов:\n",
      "\n",
      "Общественное мнение по поводу проекта разделилось.\n",
      "\n",
      "--------------------------------------------------\n",
      "\n"
     ]
    },
    {
     "name": "stderr",
     "output_type": "stream",
     "text": [
      " 30%|██████████████████████████████▉                                                                        | 60/200 [19:36<45:53, 19.67s/it]"
     ]
    },
    {
     "name": "stdout",
     "output_type": "stream",
     "text": [
      "Title:\n",
      "Российскую армию скоро пополнит 300-тысячный контрактник\n",
      "Text:\n",
      "В ближайшие несколько лет российская армия ожидает значительное увеличение численности контрактников. Согласно последним данным, к 2025 году планируется привлечь 300 тысяч новых контрактников, что существенно изменит структуру и боеспособность вооруженных сил страны.\n",
      "\n",
      "### Цели реформы\n",
      "\n",
      "Основная цель данной реформы — повышение качества и эффективности армии. Введение контрактной системы позволит сократить зависимость от призывников, которые часто не обладают необходимыми навыками и мотивацией для выполнения сложных задач. Контрактники, напротив, будут иметь более высокую квалификацию и уровень подготовки, что повысит боевую готовность войск.\n",
      "\n",
      "### Финансовые аспекты\n",
      "\n",
      "Финансирование программы будет осуществляться за счет увеличения военного бюджета. Планируется выделение дополнительных средств на обучение, оборудование и социальные гарантии для контрактников. Это позволит привлечь более квалифицированных специалистов и удержать их в рядах армии.\n",
      "\n",
      "### Социальные гарантии\n",
      "\n",
      "Контрактники получат широкий спектр социальных гарантий, включая медицинское обслуживание, жилье и пенсионные выплаты. Эти меры направлены на повышение привлекательности службы в армии и улучшение условий жизни военнослужащих.\n",
      "\n",
      "### Ожидаемые изменения\n",
      "\n",
      "Ожидается, что введение 300-тысячной контрактной армии существенно изменит тактику и стратегию ведения боевых действий.\n",
      "\n",
      "--------------------------------------------------\n",
      "\n"
     ]
    },
    {
     "name": "stderr",
     "output_type": "stream",
     "text": [
      " 30%|███████████████████████████████▍                                                                       | 61/200 [19:56<45:37, 19.69s/it]"
     ]
    },
    {
     "name": "stdout",
     "output_type": "stream",
     "text": [
      "Title:\n",
      "Умер поэт и бывший главред журнала \"Юность\" Валерий Дударев\n",
      "Text:\n",
      "Сегодня мы прощаемся с выдающимся поэтом и бывшим главным редактором журнала \"Юность\" Валерием Дударевым. Его уход из жизни стал большой потерей для российской литературы и культуры.\n",
      "\n",
      "Валерий Дударев родился 25 февраля 1947 года в Москве. С юных лет он проявлял интерес к поэзии, что впоследствии определило его жизненный путь. После окончания Московского государственного университета имени М.В. Ломоносова он начал свою карьеру в журналистике, работая в различных изданиях. Однако именно его работа в качестве главного редактора журнала \"Юность\" стала наиболее значимой страницей в его биографии.\n",
      "\n",
      "Под руководством Дударева \"Юность\" пережила период расцвета, став площадкой для молодых талантов и экспериментов. Он способствовал тому, чтобы журнал оставался актуальным и современным, поддерживая как известных авторов, так и начинающих поэтов и прозаиков. Благодаря его усилиям \"Юность\" приобрела репутацию одного из ведущих литературных изданий страны.\n",
      "\n",
      "Как поэт, Валерий Дударев был известен своей глубокой эмоциональностью и мастерством в создании образов. Его стихи, полные лиризма и философских размышлений, нашли отклик у многих читателей. Несмотря на то, что он не стремился к широкой известности, его работы заслуженно занимают место в анналах русской поэзии.\n",
      "\n",
      "--------------------------------------------------\n",
      "\n"
     ]
    },
    {
     "name": "stderr",
     "output_type": "stream",
     "text": [
      " 31%|███████████████████████████████▉                                                                       | 62/200 [20:15<45:14, 19.67s/it]"
     ]
    },
    {
     "name": "stdout",
     "output_type": "stream",
     "text": [
      "Title:\n",
      "С-400 поразили «Бекаса» и «Кабана»\n",
      "Text:\n",
      "В ходе недавних учений по противовоздушной обороне российские системы С-400 продемонстрировали высокую эффективность в уничтожении беспилотных летательных аппаратов (БПЛА) «Бекас» и «Кабан». Это событие вызвало значительный интерес как в военных кругах, так и среди аналитиков, которые оценивают возможности современных систем ПВО.\n",
      "\n",
      "**1. Контекст учений**\n",
      "\n",
      "Учения проводились на территории одного из крупнейших полигонов России с целью проверки боеготовности и эффективности С-400 в условиях, приближенных к реальным боевым. В рамках маневров были задействованы различные типы БПЛА, включая «Бекас» и «Кабан», которые представляют собой серьезную угрозу для наземных объектов и инфраструктуры.\n",
      "\n",
      "**2. Эффективность С-400**\n",
      "\n",
      "Система С-400, известная своей точностью и дальностью действия, продемонстрировала способность эффективно обнаруживать и уничтожать БПЛА даже в условиях сложного радиолокационного фона. В ходе учений было зарегистрировано несколько успешных запусков ракет, которые поразили цели с высокой точностью.\n",
      "\n",
      "**3. Технологические особенности С-400**\n",
      "\n",
      "Ключевыми факторами успеха С-400 стали ее передовые технологии, такие как активная фазированная антенная решетка (АФАР), которая обеспечивает высокую точность наведения и возможность одновременного отслеживания множества целей. Кроме того, система обладает высокой степенью автоматизации, что позволяет быстро реагировать на угрозы.\n",
      "\n",
      "**4.\n",
      "\n",
      "--------------------------------------------------\n",
      "\n"
     ]
    },
    {
     "name": "stderr",
     "output_type": "stream",
     "text": [
      " 32%|████████████████████████████████▍                                                                      | 63/200 [20:35<45:00, 19.71s/it]"
     ]
    },
    {
     "name": "stdout",
     "output_type": "stream",
     "text": [
      "Title:\n",
      "Футболист \"Динамо\" Игорь Денисов не выйдет на поле до конца года\n",
      "Text:\n",
      "В мире профессионального футбола не редки случаи, когда игроки сталкиваются с серьезными травмами, которые могут повлиять на их карьеру и планы команды. Одним из таких случаев стала травма полузащитника московского \"Динамо\" Игоря Денисова. В недавнем интервью клуб сообщил, что Денисов не выйдет на поле до конца года.\n",
      "\n",
      "### Ситуация с травмой\n",
      "\n",
      "Игорь Денисов получил серьезную травму во время одного из последних матчей чемпионата России. Во время столкновения с соперником он получил разрыв связок правого колена. Медицинская экспертиза подтвердила тяжесть повреждения, и врачи рекомендовали длительный период восстановления.\n",
      "\n",
      "### План лечения и реабилитации\n",
      "\n",
      "После диагностики травмы Денисов начал проходить курс лечения в специализированном медицинском центре. Врачи назначили комплексную терапию, включающую операцию по восстановлению связок, физиотерапию и интенсивные занятия с тренерами по реабилитации. Операция была проведена успешно, но полное восстановление может занять несколько месяцев.\n",
      "\n",
      "### Влияние на команду\n",
      "\n",
      "Отсутствие ключевого игрока, такого как Игорь Денисов, всегда ощущается в команде. \"Динамо\" придется пересмотреть тактику игры и распределение ролей в отсутствие полузащитника. Однако тренерский штаб уверен, что команда сможет справиться с этой ситуацией, опираясь на других опытных игроков и молодых талантов.\n",
      "\n",
      "--------------------------------------------------\n",
      "\n"
     ]
    },
    {
     "name": "stderr",
     "output_type": "stream",
     "text": [
      " 32%|████████████████████████████████▉                                                                      | 64/200 [20:55<44:44, 19.74s/it]"
     ]
    },
    {
     "name": "stdout",
     "output_type": "stream",
     "text": [
      "Title:\n",
      "Жителям Индустриального района спустя 2 месяца дали горячую воду\n",
      "Text:\n",
      "После двух месяцев ожидания и неоднократных жалоб, жители Индустриального района наконец-то получили доступ к горячей воде. Эта проблема, которая стала настоящим испытанием для местных жителей, была решена благодаря совместным усилиям городских властей и коммунальных служб.\n",
      "\n",
      "**Проблема:** В начале октября текущего года жители Индустриального района столкнулись с серьёзной проблемой — отсутствием горячей воды в домах. Это вызвало множество неудобств, особенно в холодное время года. Многие семьи были вынуждены использовать альтернативные источники тепла, что привело к росту расходов на электроэнергию и создало дополнительные финансовые трудности.\n",
      "\n",
      "**Действия властей:** Городские власти сразу же начали расследование причин аварии и приняли меры по её устранению. Были организованы ежедневные встречи с представителями коммунальных служб, чтобы оперативно реагировать на возникающие проблемы. В результате было принято решение о временной подаче холодной воды из других источников, чтобы хоть как-то облегчить положение жителей.\n",
      "\n",
      "**Решение:** После проведения ремонтных работ и модернизации оборудования, специалисты коммунальных служб смогли восстановить подачу горячей воды в дома жителей Индустриального района. Однако, чтобы избежать повторения подобных ситуаций в будущем, было принято решение о внедрении новых технологий и усилении контроля за состоянием инфраструктуры.\n",
      "\n",
      "**Выводы и перспективы:** Жители выражают благодарность городским властям и коммунальщикам за оперативное решение проблемы.\n",
      "\n",
      "--------------------------------------------------\n",
      "\n"
     ]
    },
    {
     "name": "stderr",
     "output_type": "stream",
     "text": [
      " 32%|█████████████████████████████████▍                                                                     | 65/200 [21:15<44:31, 19.79s/it]"
     ]
    },
    {
     "name": "stdout",
     "output_type": "stream",
     "text": [
      "Title:\n",
      "Сайнс-младший будет резервным пилотом \"Ред Булл\" в следующем сезоне \"Формулы-1\"\n",
      "Text:\n",
      "В преддверии нового сезона \"Формулы-1\" \"Ред Булл\" сделал неожиданное, но весьма значимое заявление: Карлос Сайнс-младший станет резервным пилотом команды в 2024 году. Это решение вызвало бурные обсуждения среди фанатов и аналитиков, ведь Сайнс уже доказал свою способность побеждать на самом высоком уровне, выиграв титул чемпиона мира в 2020 году.\n",
      "\n",
      "### Вступление\n",
      "\n",
      "Карлос Сайнс-младший, сын легендарного Фернандо Сайнса, всегда привлекал внимание своей невероятной скоростью и мастерством. После успешного сезона в \"Макларене\", где он завоевал титул чемпиона мира, многие ожидали от него перехода в одну из топ-команд \"Формулы-1\". Однако \"Ред Булл\", известная своим стратегическим подходом, решила использовать его потенциал по-другому.\n",
      "\n",
      "### Роль резервного пилота\n",
      "\n",
      "Став резервным пилотом \"Ред Булл\", Сайнс получит возможность участвовать в тестах и симуляциях, помогая основным пилотам, Максу Ферстаппену и Пьеру Гасли, готовиться к гонкам. Эта роль позволит ему оставаться в курсе всех технических новшеств и тактических решений команды, что может сыграть решающую роль в будущих сезонах.\n",
      "\n",
      "### Значение для \"Ред Булл\"\n",
      "\n",
      "Для \"Ред Булл\" это решение имеет несколько преимуществ.\n",
      "\n",
      "--------------------------------------------------\n",
      "\n"
     ]
    },
    {
     "name": "stderr",
     "output_type": "stream",
     "text": [
      " 33%|█████████████████████████████████▉                                                                     | 66/200 [21:34<44:06, 19.75s/it]"
     ]
    },
    {
     "name": "stdout",
     "output_type": "stream",
     "text": [
      "Title:\n",
      "Парасюк призвал ликвидировать «сволочь Ахметова»\n",
      "Text:\n",
      "В последние дни в украинской политике разгорелся очередной скандал, связанный с олигархом Ринатом Ахметовым. На этот раз инициативу выдвинул народный депутат Украины Игорь Парасюк, который призвал к \"ликвидации\" влияния Ахметова. В своем заявлении Парасюк назвал олигарха \"сволочью\", что вызвало широкий общественный резонанс.\n",
      "\n",
      "### Предыстория\n",
      "\n",
      "Ринат Ахметов — один из самых влиятельных бизнесменов Украины, контролирующий значительные активы в различных отраслях экономики, включая энергетику, металлургию и медиа. Его компании тесно связаны с политической элитой страны, что вызывает недовольство у части общества, особенно в контексте коррупционных обвинений и подозрений в манипуляциях на выборах.\n",
      "\n",
      "### Заявление Парасюка\n",
      "\n",
      "Игорь Парасюк, известный своими радикальными взглядами и критикой власти, выступил с заявлением, в котором потребовал \"ликвидировать\" влияние Ахметова на политическую и экономическую жизнь Украины. По его мнению, это необходимо для борьбы с коррупцией и восстановления справедливости.\n",
      "\n",
      "### Реакция общественности и политиков\n",
      "\n",
      "Заявление Парасюка вызвало неоднозначную реакцию. Некоторые политические силы поддержали его инициативу, видя в этом шаг к очищению украинской политики от олигархического влияния.\n",
      "\n",
      "--------------------------------------------------\n",
      "\n"
     ]
    },
    {
     "name": "stderr",
     "output_type": "stream",
     "text": [
      " 34%|██████████████████████████████████▌                                                                    | 67/200 [21:54<43:39, 19.70s/it]"
     ]
    },
    {
     "name": "stdout",
     "output_type": "stream",
     "text": [
      "Title:\n",
      "Wall Street Journal обвинил боевиков ИГИЛ в применении химического оружия\n",
      "Text:\n",
      "В последнем выпуске газеты \"Wall Street Journal\" появилась разоблачающая статья, в которой утверждается, что боевики ИГИЛ (Исламское государство) применяли химическое оружие в своей деятельности. Исследование, проведенное журналистами, основывается на данных разведки и свидетельствах очевидцев, которые указывают на использование группировкой различных видов отравляющих веществ.\n",
      "\n",
      "Согласно информации из источников, близких к спецслужбам, боевики ИГИЛ получили доступ к химическим веществам через захваченные объекты и лаборатории, ранее принадлежавшие режиму Башара Асада в Сирии. Эти данные подтверждаются анализом образцов, собранных на местах предполагаемых атак, которые показали наличие следов иприта и других опасных веществ.\n",
      "\n",
      "Одним из ключевых моментов статьи является описание инцидента в городе Алеппо, где, по данным \"Wall Street Journal\", боевики применили химическое оружие против мирного населения. Жертвы атаки были доставлены в медицинские учреждения с признаками отравления, что вызвало международное возмущение и призывы к санкциям против ИГИЛ.\n",
      "\n",
      "Авторы статьи также обращают внимание на то, как использование химического оружия может повлиять на международные отношения и усилия по борьбе с терроризмом. В частности, они отмечают, что это может привести к ужесточению санкций со стороны США и их союзников, а также к увеличению военной интервенции в регионе.\n",
      "\n",
      "--------------------------------------------------\n",
      "\n"
     ]
    },
    {
     "name": "stderr",
     "output_type": "stream",
     "text": [
      " 34%|███████████████████████████████████                                                                    | 68/200 [22:14<43:17, 19.68s/it]"
     ]
    },
    {
     "name": "stdout",
     "output_type": "stream",
     "text": [
      "Title:\n",
      "В Грозном боевики напали на разведчиков\n",
      "Text:\n",
      "Сегодня утром в Грозном произошла трагическая атака, в результате которой погибли несколько разведчиков. Инцидент произошел на одной из окраин города, где группа боевиков неожиданно напала на патрульную группу спецназа.\n",
      "\n",
      "**Хронология событий:**\n",
      "\n",
      "Около 9:30 утра боевики, численностью около 15 человек, внезапно атаковали разведывательный отряд, состоящий из 20 военнослужащих. Атака была проведена с использованием гранатометов и стрелкового оружия, что привело к значительным потерям среди защитников. В ходе перестрелки погибли четыре разведчика, ещё двое получили ранения и находятся в критическом состоянии.\n",
      "\n",
      "**Предпосылки конфликта:**\n",
      "\n",
      "Эксперты связывают этот инцидент с продолжающимися боевыми действиями в регионе и обострением ситуации после недавних политических изменений. Напряженность в обществе продолжает расти, что делает такие нападения всё более вероятными.\n",
      "\n",
      "**Реакция властей:**\n",
      "\n",
      "Местные власти и силовые структуры уже начали расследование инцидента и принимают меры для усиления безопасности в городе. Президент Чеченской Республики выразил соболезнования семьям погибших и пообещал принять все необходимые меры для предотвращения подобных случаев в будущем.\n",
      "\n",
      "**Социальная реакция:**\n",
      "\n",
      "Городские жители, многие из которых потеряли близких или друзей в результате подобных нападений, выражают обеспокоенность и требуют от властей более решительных действий для обеспечения безопасности.\n",
      "\n",
      "--------------------------------------------------\n",
      "\n"
     ]
    },
    {
     "name": "stderr",
     "output_type": "stream",
     "text": [
      " 34%|███████████████████████████████████▌                                                                   | 69/200 [22:33<42:53, 19.65s/it]"
     ]
    },
    {
     "name": "stdout",
     "output_type": "stream",
     "text": [
      "Title:\n",
      "Ирак призывает провести экстренное заседание СБ ООН\n",
      "Text:\n",
      "В последние дни Ирак обратился к Совету Безопасности Организации Объединенных Наций с просьбой созвать экстренное заседание, чтобы обсудить возрастающую угрозу региональной нестабильности и возможные последствия для международной безопасности. Страна, находящаяся в центре Ближнего Востока, обеспокоена ростом напряженности в отношениях между крупными региональными игроками, что может привести к эскалации конфликтов и дестабилизации всей зоны.\n",
      "\n",
      "**Ключевые моменты:**\n",
      "\n",
      "1. **Причины запроса:** Ирак подчеркивает, что текущие геополитические изменения могут негативно сказаться на его внутренней безопасности и экономической стабильности. Страна опасается, что любое усиление конфликта может перерасти в полномасштабную войну, способную оказать разрушительное воздействие на регион в целом.\n",
      "\n",
      "2. **Роль региональных игроков:** В качестве основных источников беспокойства Ирак называет действия Ирана и Саудовской Аравии, которые, по его мнению, активно поддерживают различные фракции в соседних странах, создавая условия для постоянного напряжения.\n",
      "\n",
      "3. **Международная реакция:** Представители других государств и международных организаций выразили готовность поддержать усилия Ирака по предотвращению эскалации конфликта. Однако существует опасение, что без согласованного подхода со стороны всех ключевых участников ситуация может выйти из-под контроля.\n",
      "\n",
      "4. **Предложения Ирака:** Ирак предлагает создать платформу для диалога между всеми сторонами, чтобы найти мирные решения существующих проблем.\n",
      "\n",
      "--------------------------------------------------\n",
      "\n"
     ]
    },
    {
     "name": "stderr",
     "output_type": "stream",
     "text": [
      " 35%|████████████████████████████████████                                                                   | 70/200 [22:53<42:28, 19.60s/it]"
     ]
    },
    {
     "name": "stdout",
     "output_type": "stream",
     "text": [
      "Title:\n",
      "Домашний арест Евтушенкова проконтролируют с помощью браслета и визитов\n",
      "Text:\n",
      "В последние дни общественность активно обсуждает решение о домашнем аресте бизнесмена Владимира Евтушенкова, который сталкивается с рядом уголовных обвинений. В целях обеспечения строгого контроля за соблюдением условий домашнего ареста, властями было принято решение использовать передовые технологии мониторинга.\n",
      "\n",
      "Согласно официальным источникам, Евтушенков будет находиться под постоянным наблюдением с помощью электронного браслета, который будет отслеживать его местоположение в режиме реального времени. Эта мера позволит правоохранительным органам оперативно реагировать на любые попытки нарушения условий содержания под домашним арестом.\n",
      "\n",
      "Помимо использования браслета, предусмотрены регулярные визиты сотрудников правоохранительных органов для проверки соблюдения условий ареста. Эти визиты будут проводиться в установленное время, чтобы минимизировать неудобства для самого Евтушенкова и его семьи. Сотрудники будут проверять, что он находится дома и не покидает пределы разрешенной территории без разрешения.\n",
      "\n",
      "Однако, помимо технического мониторинга, власти также уделяют внимание психологическому состоянию подозреваемого. Планируется организация консультаций с психологами и юристами для поддержки Евтушенкова в этот непростой период.\n",
      "\n",
      "Эксперты отмечают, что такой комплексный подход к контролю за соблюдением домашнего ареста может стать прецедентом в российской практике, демонстрируя готовность властей использовать современные технологии для обеспечения справедливости и прозрачности правоприменения.\n",
      "\n",
      "--------------------------------------------------\n",
      "\n"
     ]
    },
    {
     "name": "stderr",
     "output_type": "stream",
     "text": [
      " 36%|████████████████████████████████████▌                                                                  | 71/200 [23:12<42:11, 19.62s/it]"
     ]
    },
    {
     "name": "stdout",
     "output_type": "stream",
     "text": [
      "Title:\n",
      "Ленобласть расширила список льготных отраслей для ИП\n",
      "Text:\n",
      "В рамках поддержки малого и среднего бизнеса Ленинградская область приняла решение расширить список льготных отраслей для индивидуальных предпринимателей (ИП). Это нововведение направлено на стимулирование экономической активности и создание благоприятных условий для развития бизнеса в регионе.\n",
      "\n",
      "### Основные изменения:\n",
      "\n",
      "1. **Расширение перечня отраслей:** В список льготных отраслей добавлены такие направления, как производство экологически чистых продуктов питания, развитие сферы туризма и гостеприимства, а также инновационные технологии в области информационных технологий и биотехнологий.\n",
      "\n",
      "2. **Увеличение размера льгот:** Для ИП, работающих в указанных отраслях, размер налоговых льгот увеличен до 50% от суммы налога, что значительно облегчит финансовое бремя для предпринимателей.\n",
      "\n",
      "3. **Продление сроков действия льгот:** Период действия налоговых льгот продлен до конца 2025 года, что даст предпринимателям возможность более уверенно планировать свои инвестиции и развитие бизнеса.\n",
      "\n",
      "### Влияние на местную экономику:\n",
      "\n",
      "Эти меры поддержки оказывают положительное влияние на экономику региона, способствуя привлечению инвестиций и созданию новых рабочих мест. Развитие таких направлений, как экологически чистое сельское хозяйство и туризм, не только укрепляет экономику, но и способствует улучшению качества жизни населения.\n",
      "\n",
      "### Отзывы предпринимателей:\n",
      "\n",
      "Многие местные предприниматели положительно оценивают нововведения.\n",
      "\n",
      "--------------------------------------------------\n",
      "\n"
     ]
    },
    {
     "name": "stderr",
     "output_type": "stream",
     "text": [
      " 36%|█████████████████████████████████████                                                                  | 72/200 [23:32<41:52, 19.63s/it]"
     ]
    },
    {
     "name": "stdout",
     "output_type": "stream",
     "text": [
      "Title:\n",
      "Сумма претензий к туроператору \"Акрис\" составит 45 млн рублей\n",
      "Text:\n",
      "В последние месяцы в России разгорелся скандал, связанный с крупнейшим туроператором \"Акрис\", сумма претензий к которому достигла 45 миллионов рублей. Это событие вызвало широкий общественный резонанс и поставило под вопрос надежность туристических услуг в стране.\n",
      "\n",
      "### Причины возникновения претензий\n",
      "\n",
      "1. **Несоблюдение договорных обязательств**: Туроператор не выполнил условия договоров с туристами, что привело к значительным финансовым потерям клиентов. Среди основных нарушений — отмена или задержка рейсов, непредоставление обещанных услуг и низкое качество проживания.\n",
      "\n",
      "2. **Финансовые трудности компании**: Недавние экономические трудности и пандемия COVID-19 оказали серьезное влияние на финансовое состояние \"Акрис\". Компания столкнулась с необходимостью пересмотра своих бизнес-моделей и сокращением расходов, что, в свою очередь, повлияло на выполнение обязательств перед клиентами.\n",
      "\n",
      "3. **Отсутствие прозрачности**: Многие клиенты выражают недовольство из-за отсутствия прозрачности со стороны туроператора. Отсутствие своевременной информации о состоянии дел и планах по урегулированию ситуации только усугубляет недоверие к компании.\n",
      "\n",
      "### Последствия для туристов\n",
      "\n",
      "1. **Финансовые потери**: Туристы, купившие туры у \"Акрис\", столкнулись с потерей средств, так как компания не смогла выполнить свои обязательства. Это создает серьезные проблемы для семей, которые рассчитывали на отдых и дополнительные расходы.\n",
      "\n",
      "2.\n",
      "\n",
      "--------------------------------------------------\n",
      "\n"
     ]
    },
    {
     "name": "stderr",
     "output_type": "stream",
     "text": [
      " 36%|█████████████████████████████████████▌                                                                 | 73/200 [23:52<41:28, 19.60s/it]"
     ]
    },
    {
     "name": "stdout",
     "output_type": "stream",
     "text": [
      "Title:\n",
      "Жителя края, угрожавшего топором полицейскому, ждут суд\n",
      "Text:\n",
      "Вчера стало известно о том, что житель одного из регионов страны, угрожавший полицейскому топором во время конфликта, вскоре предстанет перед судом. Инцидент произошел на прошлой неделе и вызвал широкий общественный резонанс.\n",
      "\n",
      "**Обстоятельства инцидента:**\n",
      "\n",
      "По словам очевидцев, конфликт начался с обычного спора между местным жителем и сотрудником полиции. Однако ситуация быстро вышла из-под контроля, когда мужчина, находясь в состоянии аффекта, выхватил топор и направил его в сторону правоохранителя. Сотрудник полиции смог быстро отреагировать, и инцидент был предотвращен без серьезных последствий для здоровья участников.\n",
      "\n",
      "**Расследование и реакция властей:**\n",
      "\n",
      "После случившегося полиция начала тщательное расследование, собрав все необходимые доказательства и опросив свидетелей. В результате были установлены личности всех участников инцидента, и теперь дело находится на стадии судебного разбирательства.\n",
      "\n",
      "**Правовая оценка ситуации:**\n",
      "\n",
      "Юристы отмечают, что действия подозреваемого могут квалифицироваться как покушение на убийство, что влечет за собой серьезные юридические последствия. В зависимости от обстоятельств дела и показаний свидетелей, мужчине может грозить длительный срок лишения свободы.\n",
      "\n",
      "**Общественная реакция:**\n",
      "\n",
      "Инцидент вызвал бурную реакцию в социальных сетях, где пользователи активно обсуждают произошедшее, выражая обеспокоенность по поводу безопасности граждан и работы правоохранительных органов.\n",
      "\n",
      "--------------------------------------------------\n",
      "\n"
     ]
    },
    {
     "name": "stderr",
     "output_type": "stream",
     "text": [
      " 37%|██████████████████████████████████████                                                                 | 74/200 [24:11<41:11, 19.61s/it]"
     ]
    },
    {
     "name": "stdout",
     "output_type": "stream",
     "text": [
      "Title:\n",
      "В США снизился уровень безработицы\n",
      "Text:\n",
      "Согласно последним данным, опубликованным Бюро статистики труда США, уровень безработицы в стране продолжает снижаться, достигнув отметки 3,6% в мае 2023 года. Это самый низкий показатель с февраля 2020 года, когда началась пандемия COVID-19.\n",
      "\n",
      "**Экономические последствия:**\n",
      "\n",
      "Снижение уровня безработицы свидетельствует о восстановлении экономики после пандемии. Улучшение ситуации на рынке труда способствует увеличению потребительских расходов, что, в свою очередь, поддерживает рост бизнеса и инвестиции. Снижение безработицы также может привести к росту заработных плат, поскольку компании вынуждены конкурировать за ограниченное количество квалифицированных работников.\n",
      "\n",
      "**Социальные последствия:**\n",
      "\n",
      "Понижение уровня безработицы имеет положительные социальные последствия. Люди, вернувшиеся на работу, получают не только стабильный доход, но и возможность развития карьеры и повышения квалификации. Это, в свою очередь, способствует уменьшению социальной напряженности и улучшению качества жизни.\n",
      "\n",
      "**Анализ тенденций:**\n",
      "\n",
      "Однако, несмотря на положительные изменения, эксперты отмечают, что восстановление рынка труда не является равномерным. Некоторые отрасли, такие как гостиничный бизнес и туризм, до сих пор испытывают трудности из-за ограничений, связанных с пандемией. Кроме того, сохраняется проблема \"отсутствующих работников\", когда люди, ушедшие с работы во время кризиса, не возвращаются на рынок труда.\n",
      "\n",
      "--------------------------------------------------\n",
      "\n"
     ]
    },
    {
     "name": "stderr",
     "output_type": "stream",
     "text": [
      " 38%|██████████████████████████████████████▋                                                                | 75/200 [24:31<40:47, 19.58s/it]"
     ]
    },
    {
     "name": "stdout",
     "output_type": "stream",
     "text": [
      "Title:\n",
      "МИД ФРГ: наблюдателей от ОБСЕ необходимо направить на Украину максимально быстро\n",
      "Text:\n",
      "Министерство иностранных дел Германии выступило с заявлением, призывая к максимально быстрому развертыванию наблюдателей Организации по безопасности и сотрудничеству в Европе (ОБСЕ) на территории Украины. Это решение было принято в ответ на обострение ситуации на востоке страны и необходимость объективного мониторинга соблюдения прав человека и международных норм.\n",
      "\n",
      "По словам официального представителя МИД Германии, ситуация на Украине требует безотлагательных действий со стороны международного сообщества. \"Наблюдатели ОБСЕ должны быть отправлены на Украину как можно скорее, чтобы обеспечить прозрачность и подотчетность всех сторон конфликта\", — заявил он.\n",
      "\n",
      "В заявлении подчеркивается, что присутствие независимых наблюдателей является ключевым элементом для предотвращения эскалации напряженности и создания условий для мирного урегулирования конфликта. Германия поддерживает усилия ОБСЕ по обеспечению безопасности и стабильности в регионе и готова оказать всяческую помощь в этом процессе.\n",
      "\n",
      "Представители ОБСЕ уже начали подготовку к развертыванию своих наблюдателей, однако из-за сложной логистической ситуации и политических препятствий процесс затягивается. Германия призывает все заинтересованные стороны активизировать работу и устранить любые бюрократические барьеры, которые могут замедлить развертывание миссии.\n",
      "\n",
      "Кроме того, МИД Германии подчеркнул важность международного сотрудничества в решении украинского кризиса.\n",
      "\n",
      "--------------------------------------------------\n",
      "\n"
     ]
    },
    {
     "name": "stderr",
     "output_type": "stream",
     "text": [
      " 38%|███████████████████████████████████████▏                                                               | 76/200 [24:50<40:23, 19.55s/it]"
     ]
    },
    {
     "name": "stdout",
     "output_type": "stream",
     "text": [
      "Title:\n",
      "Сотрудники новосибирской нефтебазы украли топливо на 945 млн. рублей\n",
      "Text:\n",
      "В Новосибирске разразился крупнейший скандал, связанный с хищением топлива на сумму более 945 миллионов рублей. Сотрудники местной нефтебазы обвиняются в организации сложной схемы, позволявшей им незаметно выводить значительные объемы топлива из хранилищ.\n",
      "\n",
      "### Хронология событий\n",
      "\n",
      "1. **Обнаружение преступления**: Скандал начался с того, что руководство нефтебазы заметило несоответствие между фактическим запасом топлива и данными учетных систем. После проведения внутреннего аудита выяснилось, что недостача составила около 2000 тонн топлива.\n",
      "\n",
      "2. **Расследование**: Полиция начала расследование и выяснила, что хищение осуществлялось в течение нескольких лет. Преступная группа, состоящая из сотрудников нефтебазы, использовала поддельные документы и фальшивые счета для легализации украденного топлива.\n",
      "\n",
      "3. **Аресты и допросы**: В ходе оперативных мероприятий были задержаны несколько ключевых фигурантов дела. Допросы показали, что к хищениям причастны как работники, отвечающие за учет и контроль, так и те, кто занимался логистикой и продажами.\n",
      "\n",
      "### Последствия и меры по предотвращению\n",
      "\n",
      "1. **Финансовые потери**: Помимо значительных финансовых потерь для компании, инцидент повлек за собой репутационные риски. Инвесторы и партнеры выражают обеспокоенность в связи с безопасностью инвестиций.\n",
      "\n",
      "2.\n",
      "\n",
      "--------------------------------------------------\n",
      "\n"
     ]
    },
    {
     "name": "stderr",
     "output_type": "stream",
     "text": [
      " 38%|███████████████████████████████████████▋                                                               | 77/200 [25:10<40:04, 19.55s/it]"
     ]
    },
    {
     "name": "stdout",
     "output_type": "stream",
     "text": [
      "Title:\n",
      "Осенняя сдача ЕГЭ пройдет в конце сентября\n",
      "Text:\n",
      "В конце сентября страна столкнется с новыми вызовами в образовательной системе — осенняя сдача Единого государственного экзамена (ЕГЭ) будет проходить в необычное для традиционного графика время. В связи с этим, учащимся и их родителям необходимо заранее подготовиться к изменениям и понять, какие новые правила и требования ждут их в этом году.\n",
      "\n",
      "### Основные изменения в осеннем ЕГЭ\n",
      "\n",
      "1. **Дата проведения**: Осенний ЕГЭ запланирован на конец сентября, что отличается от стандартного графика, когда экзамены проходят в мае-июне. Это решение было принято с целью расширения возможностей для выпускников, которые могут нуждаться в дополнительном времени для подготовки или по личным причинам не смогли сдать экзамены в основной период.\n",
      "\n",
      "2. **Формат экзаменов**: Ожидается, что формат экзаменов останется прежним, но могут быть внесены небольшие коррективы в зависимости от текущих образовательных стандартов и требований. Участники должны быть готовы к стандартным предметам, таким как математика, русский язык, история и другие.\n",
      "\n",
      "3. **Подготовка и ресурсы**: Для успешной сдачи экзаменов важно начать подготовку заблаговременно. Рекомендуется использовать материалы прошлых лет, онлайн-курсы и обучающие платформы, чтобы ознакомиться с типами заданий и требованиями к ответам.\n",
      "\n",
      "4. **Психологическая готовность**: Смена графика экзаменов может повлиять на психологическое состояние выпускников. Важно поддерживать баланс между учебой и отдыхом, чтобы избежать стресса и сохранить мотивацию.\n",
      "\n",
      "5.\n",
      "\n",
      "--------------------------------------------------\n",
      "\n"
     ]
    },
    {
     "name": "stderr",
     "output_type": "stream",
     "text": [
      " 39%|████████████████████████████████████████▏                                                              | 78/200 [25:29<39:43, 19.53s/it]"
     ]
    },
    {
     "name": "stdout",
     "output_type": "stream",
     "text": [
      "Title:\n",
      "ДНР и ЛНР 9 января проведут переговоры\n",
      "Text:\n",
      "9 января в Донецке и Луганске пройдут долгожданные переговоры между представителями Донецкой и Луганской Народных Республик (ДНР и ЛНР) и украинскими властями. Эти встречи стали возможны благодаря усилиям посредников, включая Организацию по безопасности и сотрудничеству в Европе (ОБСЕ), и представляют собой важный шаг на пути к урегулированию конфликта на востоке Украины.\n",
      "\n",
      "**Контекст ситуации:**\n",
      "\n",
      "С момента начала вооруженного конфликта в 2014 году, Донбасс стал зоной постоянного напряжения. Ситуация осложняется не только военными действиями, но и экономическими и гуманитарными проблемами. Переговоры 9 января призваны обсудить вопросы прекращения огня, обмена пленными и восстановления инфраструктуры.\n",
      "\n",
      "**Цели переговоров:**\n",
      "\n",
      "Представители ДНР и ЛНР планируют обсудить ряд ключевых вопросов, включая:\n",
      "\n",
      "1. **Прекращение огня:** Участники переговоров намерены обсудить меры по полному и безоговорочному прекращению огня, что позволит снизить уровень насилия и обеспечить безопасность гражданского населения.\n",
      "   \n",
      "2. **Обмен пленными:** Важной темой станет обмен задержанными лицами, включая военнослужащих и гражданских, что может способствовать нормализации отношений между сторонами конфликта.\n",
      "\n",
      "3.\n",
      "\n",
      "--------------------------------------------------\n",
      "\n"
     ]
    },
    {
     "name": "stderr",
     "output_type": "stream",
     "text": [
      " 40%|████████████████████████████████████████▋                                                              | 79/200 [25:49<39:28, 19.58s/it]"
     ]
    },
    {
     "name": "stdout",
     "output_type": "stream",
     "text": [
      "Title:\n",
      "Квалификация Гран При США перенесена на воскресенье\n",
      "Text:\n",
      "В мире автоспорта произошло значительное изменение в расписании одного из самых престижных этапов сезона — Гран При США. Квалификационные сессии, которые традиционно проходили в пятницу, были перенесены на воскресенье. Это решение вызвало бурные обсуждения среди болельщиков и экспертов, которые пытаются понять его мотивы и возможные последствия.\n",
      "\n",
      "### Новые правила и их влияние\n",
      "\n",
      "Решение о переносе квалификации было принято организаторами в связи с необходимостью улучшить условия для зрителей и участников гонки. Основной причиной стало желание увеличить зрелищность и доступность соревнований. Воскресенье, как день проведения квалификации, позволяет болельщикам посетить как квалификацию, так и саму гонку в один день, что значительно повышает интерес к мероприятию.\n",
      "\n",
      "Однако это изменение вызвало и ряд вопросов. В частности, некоторые эксперты опасаются, что перенос квалификации может негативно сказаться на стратегии команд. Обычно квалификация проводится в начале дня, что дает командам достаточно времени для анализа результатов и корректировки тактики на гонку. Теперь же, когда квалификация и гонка будут проходить в один день, командам придется принимать решения гораздо быстрее.\n",
      "\n",
      "### Неожиданные последствия\n",
      "\n",
      "Перенос квалификации также может повлиять на логистику и подготовку пилотов. В условиях ограниченного времени на анализ и корректировку, пилотам придется полагаться на свои интуицию и опыт, что может привести к неожиданным результатам.\n",
      "\n",
      "--------------------------------------------------\n",
      "\n"
     ]
    },
    {
     "name": "stderr",
     "output_type": "stream",
     "text": [
      " 40%|█████████████████████████████████████████▏                                                             | 80/200 [26:08<39:07, 19.56s/it]"
     ]
    },
    {
     "name": "stdout",
     "output_type": "stream",
     "text": [
      "Title:\n",
      "Футболист Павел Погребняк прибыл в суд, который может лишить его прав за пьяную езду\n",
      "Text:\n",
      "Вчера в центральном районном суде города состоялось заседание по делу о пьяной езде футболиста Павла Погребняка. Этот инцидент вызвал широкий резонанс в обществе и спортивной среде, став предметом обсуждений и споров.\n",
      "\n",
      "**Контекст инцидента:**\n",
      "18 октября 2023 года Павел Погребняк был задержан сотрудниками ГИБДД за вождение автомобиля в состоянии алкогольного опьянения. Инцидент произошел в одном из престижных районов города, где футболист на момент происшествия находился с друзьями. По данным полиции, уровень алкоголя в крови спортсмена превышал допустимую норму.\n",
      "\n",
      "**Судебное разбирательство:**\n",
      "На заседании суда Погребняк заявил, что признает свою вину, но просит учесть его положительные заслуги перед обществом и спортом. Футболист подчеркнул, что этот случай стал для него серьезным уроком и обещает исправиться. Его адвокат настаивает на применении минимального наказания, ссылаясь на добровольное сотрудничество с правоохранительными органами и готовность компенсировать причиненный ущерб.\n",
      "\n",
      "**Потенциальные последствия:**\n",
      "Если суд признает вину Погребняка, ему грозит лишение водительских прав на срок от одного до полутора лет, а также штраф в размере 30 тысяч рублей. Кроме того, возможны дополнительные меры, такие как обязательные работы или ограничение свободы на определенный период.\n",
      "\n",
      "--------------------------------------------------\n",
      "\n"
     ]
    },
    {
     "name": "stderr",
     "output_type": "stream",
     "text": [
      " 40%|█████████████████████████████████████████▋                                                             | 81/200 [26:28<38:53, 19.61s/it]"
     ]
    },
    {
     "name": "stdout",
     "output_type": "stream",
     "text": [
      "Title:\n",
      "Затраты на проведение Евро-2012 в Украине составили 5 миллиардов долларов\n",
      "Text:\n",
      "Проведение чемпионата Европы по футболу 2012 года стало значительным событием для Украины, однако его финансовые последствия оказались весьма ощутимыми. Согласно официальным данным, общая стоимость подготовки к турниру составила около 5 миллиардов долларов. Этот проект, начавшийся с большими надеждами, привел к значительным изменениям в инфраструктуре страны, но также вызвал дискуссии о целесообразности таких затрат.\n",
      "\n",
      "### Инфраструктурные изменения\n",
      "\n",
      "Одним из ключевых элементов подготовки к Евро-2012 стали обновления спортивной инфраструктуры. В частности, были построены и реконструированы несколько стадионов, включая Киевский Олимпийский стадион и Днепропетровский стадион \"Днепр\". Эти объекты не только удовлетворили требования ФИФА, но и стали важными точками притяжения для туристов и местных жителей.\n",
      "\n",
      "### Экономические последствия\n",
      "\n",
      "Хотя проведение турнира принесло Украине значительную прибыль от туризма и рекламы, многие эксперты отмечают, что общая сумма затрат была чрезмерной. Критики указывают на то, что значительная часть средств могла бы быть использована более эффективно в других сферах, таких как здравоохранение или образование.\n",
      "\n",
      "### Социальные и экологические последствия\n",
      "\n",
      "Среди социальных последствий стоит отметить увеличение нагрузки на городскую инфраструктуру, особенно в крупных городах, где проходили матчи. Это вызвало необходимость улучшения транспортной системы и обеспечения комфорта для болельщиков.\n",
      "\n",
      "--------------------------------------------------\n",
      "\n"
     ]
    },
    {
     "name": "stderr",
     "output_type": "stream",
     "text": [
      " 41%|██████████████████████████████████████████▏                                                            | 82/200 [26:48<38:38, 19.65s/it]"
     ]
    },
    {
     "name": "stdout",
     "output_type": "stream",
     "text": [
      "Title:\n",
      "Алексей Власенко избран на пост главы Федерации водного поло России\n",
      "Text:\n",
      "Вчера на ежегодном собрании Федерации водного поло России состоялись выборы нового руководителя организации, и Алексей Власенко был единогласно избран на пост президента. Этот шаг стал значимым событием в мире российского водного поло, так как Власенко обладает богатым опытом в спорте и управленческой деятельности.\n",
      "\n",
      "**Биография Алексея Власенко:**\n",
      "\n",
      "Алексей Власенко начал свою карьеру в спорте как игрок, выступая за одну из ведущих команд страны. После завершения игровой карьеры он перешел на административную работу, занимая различные должности в федерации водного поло. Его профессионализм и понимание особенностей спорта сделали его одним из самых уважаемых специалистов в отрасли.\n",
      "\n",
      "**Планы на будущее:**\n",
      "\n",
      "На посту президента Власенко планирует сосредоточиться на нескольких ключевых направлениях. Первым из них станет развитие детско-юношеского спорта, чтобы обеспечить приток молодых талантов в команды высшей лиги. Второе направление — это международное сотрудничество, которое позволит России активнее участвовать в мировых соревнованиях и обмениваться опытом с зарубежными коллегами.\n",
      "\n",
      "**Изменения в структуре федерации:**\n",
      "\n",
      "Одним из первых шагов Власенко будет реформирование внутренней структуры федерации, чтобы сделать ее более эффективной и прозрачной. Это включает в себя оптимизацию процессов управления и внедрение современных технологий для повышения качества спортивных мероприятий.\n",
      "\n",
      "--------------------------------------------------\n",
      "\n"
     ]
    },
    {
     "name": "stderr",
     "output_type": "stream",
     "text": [
      " 42%|██████████████████████████████████████████▋                                                            | 83/200 [27:08<38:18, 19.64s/it]"
     ]
    },
    {
     "name": "stdout",
     "output_type": "stream",
     "text": [
      "Title:\n",
      "В Тольятти возможно ухудшение воздуха\n",
      "Text:\n",
      "В последнее время в Тольятти наблюдается тревожная тенденция — уровень загрязнения воздуха начинает достигать критических значений. Специалисты местного департамента экологии отмечают увеличение концентрации вредных веществ, таких как диоксид азота и твердые частицы, которые могут негативно сказаться на здоровье населения.\n",
      "\n",
      "### Причины ухудшения качества воздуха\n",
      "\n",
      "1. **Промышленные выбросы**: Основной вклад в загрязнение вносит автомобильная промышленность, особенно заводы «ГАЗ» и «АвтоВАЗ». Увеличение объемов производства в период подготовки к новому автосезону приводит к повышению выбросов.\n",
      "\n",
      "2. **Сельскохозяйственные факторы**: Весеннее сжигание сухой травы и соломы также способствует ухудшению качества воздуха, особенно в пригородных зонах.\n",
      "\n",
      "3. **Погодные условия**: Низкие температуры и отсутствие сильных ветров создают условия для накопления загрязняющих веществ в атмосфере.\n",
      "\n",
      "### Что делать жителям?\n",
      "\n",
      "- **Мониторинг состояния здоровья**: Людям с хроническими заболеваниями дыхательной системы рекомендуется внимательно следить за своим самочувствием и при необходимости обращаться за медицинской помощью.\n",
      "  \n",
      "- **Использование масок**: В периоды высокого уровня загрязнения рекомендуется использовать респираторы или маски, чтобы минимизировать воздействие вредных частиц.\n",
      "\n",
      "- **Ограничение активности на свежем воздухе**: Проведение времени на улице лучше ограничить, особенно в часы пикового загрязнения.\n",
      "\n",
      "--------------------------------------------------\n",
      "\n"
     ]
    },
    {
     "name": "stderr",
     "output_type": "stream",
     "text": [
      " 42%|███████████████████████████████████████████▎                                                           | 84/200 [27:27<37:57, 19.64s/it]"
     ]
    },
    {
     "name": "stdout",
     "output_type": "stream",
     "text": [
      "Title:\n",
      "На МКАД перевернулся грузовик\n",
      "Text:\n",
      "Сегодня утром на внешней стороне МКАД произошло серьезное ДТП: грузовик с 20 тоннами опасных химических веществ потерял управление и перевернулся. Инцидент произошел около 10:30 утра на участке дороги между развязками Калужского и Солнцевского шоссе.\n",
      "\n",
      "**Подробности происшествия:**\n",
      "Водитель, находившийся за рулем грузовика с грузом серной кислоты, сообщил, что потерял контроль над автомобилем из-за скользкой дороги и сильного ветра. В результате аварии машина перевернулась, и часть содержимого вылилось на обочину.\n",
      "\n",
      "**Последствия:**\n",
      "На месте происшествия была объявлена чрезвычайная ситуация. Пожарные и спасатели оперативно прибыли на место, чтобы предотвратить возможное загрязнение окружающей среды. Была организована эвакуация близлежащих жилых домов и предприятий. На данный момент известно о двух пострадавших — водителе грузовика и прохожем, который получил незначительные травмы.\n",
      "\n",
      "**Реакция властей:**\n",
      "Мэр Москвы и руководство ГИБДД уже заявили о необходимости проведения тщательного расследования причин аварии. Также было принято решение усилить контроль за перевозкой опасных грузов по городским трассам. Ожидается, что в ближайшие дни будет проведена проверка всех транспортных компаний, занимающихся перевозкой химических веществ.\n",
      "\n",
      "**Экологическая оценка:**\n",
      "Экологические службы проводят анализ образцов почвы и воды в районе происшествия.\n",
      "\n",
      "--------------------------------------------------\n",
      "\n"
     ]
    },
    {
     "name": "stderr",
     "output_type": "stream",
     "text": [
      " 42%|███████████████████████████████████████████▊                                                           | 85/200 [27:47<37:38, 19.64s/it]"
     ]
    },
    {
     "name": "stdout",
     "output_type": "stream",
     "text": [
      "Title:\n",
      "Авиакомпания Air Baltic не будет отменять рейсы в Тель-Авив из-за предупреждения ХАМАС\n",
      "Text:\n",
      "В условиях напряженной обстановки на Ближнем Востоке авиакомпания Air Baltic решила сохранить свои рейсы в Тель-Авив, несмотря на предупреждения со стороны ХАМАС о возможных атаках. Это решение вызвало широкий интерес и дискуссии среди экспертов и пассажиров.\n",
      "\n",
      "**Ситуация на Ближнем Востоке**\n",
      "\n",
      "Недавние события в регионе привели к значительному увеличению напряженности между Израилем и Палестиной. ХАМАС, контролирующий сектор Газа, выступил с рядом угроз в адрес Израиля, что привело к временной приостановке некоторых рейсов и вызвало опасения у многих авиаперевозчиков.\n",
      "\n",
      "**Решение Air Baltic**\n",
      "\n",
      "Air Baltic, один из крупнейших авиаперевозчиков в регионе, принял решение продолжать выполнение своих рейсов в Тель-Авив, подчеркивая тем самым свою приверженность безопасности и стабильности. Компания уверяет, что принимает все необходимые меры для обеспечения безопасности своих пассажиров и экипажа, включая усиление мер безопасности и тесное сотрудничество с местными властями.\n",
      "\n",
      "**Причины решения**\n",
      "\n",
      "1. **Стабильность и надежность**: Air Baltic стремится поддерживать стабильные маршруты и обеспечивать надежность своих услуг, что особенно важно для бизнес-пассажиров и туристов, которые зависят от регулярных рейсов.\n",
      "   \n",
      "2. **Международные обязательства**: Как компания, работающая на международном уровне, Air Baltic придерживается принципов соблюдения международных норм и стандартов безопасности, что позволяет ей продолжать выполнять свои обязательства перед клиентами.\n",
      "\n",
      "--------------------------------------------------\n",
      "\n"
     ]
    },
    {
     "name": "stderr",
     "output_type": "stream",
     "text": [
      " 43%|████████████████████████████████████████████▎                                                          | 86/200 [28:06<37:16, 19.62s/it]"
     ]
    },
    {
     "name": "stdout",
     "output_type": "stream",
     "text": [
      "Title:\n",
      "Очевидец: Гаишник на плакате на Большой Пушкарской «поменял валюту»\n",
      "Text:\n",
      "В центре Москвы, на одной из самых оживленных улиц – Большой Пушкарской, появился необычный плакат с изображением сотрудника ГИБДД, который вызвал бурную реакцию среди горожан и интернет-пользователей. На фото видно, как гаишник держит в руках купюры, словно меняет их, что вызвало множество вопросов и предположений.\n",
      "\n",
      "**Подробности инцидента:**\n",
      "\n",
      "Плакат, размещенный на одном из зданий, изображает сотрудника дорожной полиции, который стоит на фоне знакомых городских пейзажей. В руках у него несколько банкнот, что сразу привлекло внимание прохожих и стало поводом для обсуждения в социальных сетях. Некоторые пользователи предположили, что это может быть шутка или рекламная акция, в то время как другие увидели в этом намек на коррупцию или неправомерные действия со стороны правоохранительных органов.\n",
      "\n",
      "**Реакция общественности:**\n",
      "\n",
      "Сразу после появления плаката в социальных сетях началась активная дискуссия. Многие пользователи выразили обеспокоенность, задавая вопросы о том, почему именно такой образ был выбран для рекламы или информационного плаката. Некоторые предположили, что это может быть частью кампании по повышению осведомленности о проблемах коррупции в правоохранительных органах, в то время как другие просто нашли в этом повод для юмора.\n",
      "\n",
      "**Официальная позиция:**\n",
      "\n",
      "На данный момент представители ГИБДД и местных властей не комментируют ситуацию.\n",
      "\n",
      "--------------------------------------------------\n",
      "\n"
     ]
    },
    {
     "name": "stderr",
     "output_type": "stream",
     "text": [
      " 44%|████████████████████████████████████████████▊                                                          | 87/200 [28:26<36:58, 19.63s/it]"
     ]
    },
    {
     "name": "stdout",
     "output_type": "stream",
     "text": [
      "Title:\n",
      "Главком ВМФ будет жить на две столицы\n",
      "Text:\n",
      "**Главком ВМФ будет жить на две столицы: как это повлияет на развитие флота**\n",
      "\n",
      "В недавнем распоряжении правительства было объявлено о решении разместить главнокомандующего Военно-морским флотом (ВМФ) в двух крупнейших городах страны — Москве и Санкт-Петербурге. Это нововведение вызвало широкий резонанс среди военных экспертов и гражданских наблюдателей, которые пытаются понять, какие изменения оно принесет в структуру управления флотом и его стратегическое развитие.\n",
      "\n",
      "### Исторический контекст\n",
      "\n",
      "Санкт-Петербург традиционно считается \"морской столицей\" России, где находится база главного командования ВМФ. Москва же, будучи политическим центром, всегда играла важную роль в управлении всеми видами Вооруженных сил. Новое решение, по всей видимости, связано с необходимостью укрепления координации между двумя ключевыми городами и оптимизации управления флотом.\n",
      "\n",
      "### Как это работает?\n",
      "\n",
      "Главком ВМФ будет иметь постоянное пребывание в обоих городах, что позволит ему оперативно реагировать на изменения в стратегической обстановке и эффективнее координировать действия различных подразделений флота. Такая организация работы может повысить оперативность принятия решений и снизить время на передачу информации между различными уровнями управления.\n",
      "\n",
      "### Плюсы и минусы\n",
      "\n",
      "**Плюсы:**\n",
      "1. **Ускорение процессов принятия решений:** Близость к ключевым политическим и военным центрам обеспечит более быстрое реагирование на изменения.\n",
      "2. **Улучшение координации:** Возможность взаимодействия с различными службами и подразделениями в обоих городах поможет избежать дублирования усилий и повысить эффективность работы.\n",
      "\n",
      "**Минусы:**\n",
      "1.\n",
      "\n",
      "--------------------------------------------------\n",
      "\n"
     ]
    },
    {
     "name": "stderr",
     "output_type": "stream",
     "text": [
      " 44%|█████████████████████████████████████████████▎                                                         | 88/200 [28:46<36:41, 19.65s/it]"
     ]
    },
    {
     "name": "stdout",
     "output_type": "stream",
     "text": [
      "Title:\n",
      "На сборах по обучению поиску людей волонтеры нашли угнанный вездеход\n",
      "Text:\n",
      "В ходе интенсивных сборов, направленных на подготовку волонтеров к поисково-спасательным операциям, произошло неожиданное открытие. Группа добровольцев, занимающихся обучением по поиску людей, наткнулась на угнанный вездеход, скрытый в труднодоступном районе. Это событие не только продемонстрировало эффективность тренировок, но и подчеркнуло важность таких мероприятий для общественной безопасности.\n",
      "\n",
      "Сборы проходили в отдаленном лесном массиве, где участники учились работать в команде, использовать современные технологии для поиска и оказания помощи в экстремальных условиях. В один из дней, занимаясь отработкой поисковых маневров, волонтеры наткнулись на заброшенную дорогу, ведущую к скрытой поляне. Именно там они обнаружили вездеход, который был угнан несколько недель назад.\n",
      "\n",
      "По словам руководителя сборов, Александра Иванова, \"это была не просто находка, а настоящее испытание для нашей команды. Мы смогли применить все полученные знания и навыки, чтобы найти это транспортное средство\". Участники использовали навыки ориентирования на местности, радиосвязь и даже применили элементы тактики, изученные на тренировках.\n",
      "\n",
      "Полиция, вызванная на место происшествия, подтвердила, что найденный вездеход действительно является угнанным. Это открытие стало важным шагом в расследовании дела, так как теперь у следствия есть новые данные для анализа.\n",
      "\n",
      "--------------------------------------------------\n",
      "\n"
     ]
    },
    {
     "name": "stderr",
     "output_type": "stream",
     "text": [
      " 44%|█████████████████████████████████████████████▊                                                         | 89/200 [29:05<36:19, 19.63s/it]"
     ]
    },
    {
     "name": "stdout",
     "output_type": "stream",
     "text": [
      "Title:\n",
      "На Ямале две партии исключили из предвыборной гонки\n",
      "Text:\n",
      "В последние дни на Ямале произошло значительное событие в политической жизни региона — две партии были исключены из предвыборной гонки. Это решение вызвало широкий резонанс среди местных политиков, экспертов и общественности. В данной статье мы рассмотрим причины этого решения, его возможные последствия и влияние на политическую картину региона.\n",
      "\n",
      "**Причины исключения:**\n",
      "\n",
      "Согласно официальным данным, обе партии не смогли собрать необходимое количество подписей для регистрации кандидатов. Один из главных критериев, который не был выполнен, — это сбор подписей от избирателей, проживающих на территории Ямала. Это требование было введено для обеспечения легитимности выборов и повышения доверия к избирательному процессу.\n",
      "\n",
      "Одна из партий, которая столкнулась с трудностями, — это \"Новая партия\", известная своей активной позицией по экологическим вопросам. Ее лидер заявил, что несмотря на сложности, они продолжат бороться за свои идеи и будут искать другие пути для участия в политической жизни региона.\n",
      "\n",
      "Вторая исключенная партия — \"Голос народа\" — сосредоточена на социальных вопросах. Ее представители выразили недовольство решением, но подчеркнули, что будут анализировать ситуацию и рассматривать возможность обжалования.\n",
      "\n",
      "**Последствия для политической ситуации:**\n",
      "\n",
      "Исключение двух партий может привести к изменению баланса сил на предстоящих выборах. Среди политических наблюдателей возникли опасения, что это может укрепить позиции доминирующих партий, таких как \"Единая Россия\".\n",
      "\n",
      "--------------------------------------------------\n",
      "\n"
     ]
    },
    {
     "name": "stderr",
     "output_type": "stream",
     "text": [
      " 45%|██████████████████████████████████████████████▎                                                        | 90/200 [29:25<36:04, 19.68s/it]"
     ]
    },
    {
     "name": "stdout",
     "output_type": "stream",
     "text": [
      "Title:\n",
      "Лафазанис: Греция не исключает, что платеж МВФ отложат на полгода\n",
      "Text:\n",
      "В последнее время греческое правительство под руководством премьер-министра Александроса Лафазаниса активно ведет переговоры с Международным валютным фондом (МВФ) по вопросу возможной отсрочки очередного платежа. По словам самого Лафазаниса, Греция не исключает вариант отложить платеж на срок до шести месяцев.\n",
      "\n",
      "Эти переговоры стали особенно актуальными в свете текущих экономических трудностей, с которыми сталкивается страна. Несмотря на то что Греция добилась значительных успехов в снижении государственного долга и улучшении экономической ситуации, она продолжает испытывать финансовые ограничения, связанные с необходимостью соблюдения условий кредитных соглашений с международными финансовыми институтами.\n",
      "\n",
      "Согласно сообщениям, основной причиной для рассмотрения возможности отсрочки является необходимость перераспределения бюджетных средств для финансирования критически важных социальных программ и инфраструктурных проектов. В частности, это касается здравоохранения, образования и энергетики, где требуются немедленные инвестиции.\n",
      "\n",
      "Премьер-министр Лафазанис заявил, что его правительство готово к диалогу с МВФ и другими кредиторами, чтобы найти взаимоприемлемые решения. Однако он также отметил, что Греция не будет идти на компромиссы, которые могут негативно сказаться на благосостоянии граждан.\n",
      "\n",
      "Отсрочка платежа на полгода, если она будет одобрена, может дать Греции время для стабилизации внутренней экономики и укрепления доверия инвесторов. Однако этот шаг также может вызвать беспокойство у других кредиторов, которые уже выразили обеспокоенность по поводу долговой нагрузки страны.\n",
      "\n",
      "--------------------------------------------------\n",
      "\n"
     ]
    },
    {
     "name": "stderr",
     "output_type": "stream",
     "text": [
      " 46%|██████████████████████████████████████████████▊                                                        | 91/200 [29:45<35:47, 19.70s/it]"
     ]
    },
    {
     "name": "stdout",
     "output_type": "stream",
     "text": [
      "Title:\n",
      "Монохромные кроссовки из коллаборации Reebok и японского магазина Mita\n",
      "Text:\n",
      "В мире моды и обуви всегда есть место для инноваций и неожиданных коллабораций, которые могут изменить представление о привычных вещах. Одной из таких коллабораций стала недавняя лимитированная серия монохромных кроссовок от Reebok и японского магазина Mita. Эта совместная работа не только порадовала поклонников бренда, но и вызвала настоящий ажиотаж среди любителей моды по всему миру.\n",
      "\n",
      "### История коллаборации\n",
      "\n",
      "Reebok, известный своими спортивными и стильными кроссовками, давно сотрудничает с различными дизайнерами и брендами. Однако коллаборация с Mita — это особый случай. Японский магазин Mita, основанный в 1985 году, стал культовым местом для любителей уличной моды и обуви. Его владелец, Масааки Сугавара, известен своим уникальным подходом к дизайну и подбору коллекций.\n",
      "\n",
      "### Особенности коллекции\n",
      "\n",
      "Новая коллекция монохромных кроссовок представляет собой идеальное сочетание минимализма и функциональности. Всего два цвета — чёрный и белый — стали основой для создания нескольких моделей, каждая из которых имеет свои уникальные детали. Отсутствие ярких акцентов позволяет кроссовкам выглядеть элегантно и современно, что делает их подходящими как для повседневного использования, так и для особых случаев.\n",
      "\n",
      "### Дизайн и материалы\n",
      "\n",
      "Каждая пара кроссовок выполнена из высококачественных материалов, обеспечивающих долговечность и комфорт.\n",
      "\n",
      "--------------------------------------------------\n",
      "\n"
     ]
    },
    {
     "name": "stderr",
     "output_type": "stream",
     "text": [
      " 46%|███████████████████████████████████████████████▍                                                       | 92/200 [30:04<35:23, 19.66s/it]"
     ]
    },
    {
     "name": "stdout",
     "output_type": "stream",
     "text": [
      "Title:\n",
      "Телевидение массового поражения.  Эфир в 19:05\n",
      "Text:\n",
      "В истории медиа-индустрии не так много событий, которые могли бы сравниться с влиянием одного конкретного телевизионного эфира, состоявшегося в 19:05. Этот вечер стал переломным моментом, когда телевидение перестало быть просто средством развлечения и превратилось в мощный инструмент массового воздействия на общественное мнение.\n",
      "\n",
      "**Введение**\n",
      "\n",
      "В 1963 году, в самый разгар холодной войны, американское телевидение совершило революцию, показав миру реальные последствия ядерного взрыва. В эфире в 19:05 был показан документальный фильм \"Ядерная зима\", который вызвал шок у зрителей по всему миру. Этот фильм стал первым шагом к осознанию глобальной опасности, которую представляют ядерные технологии.\n",
      "\n",
      "**Основная часть**\n",
      "\n",
      "Фильм, созданный командой известных ученых и журналистов, использовал компьютерные модели и симуляции, чтобы продемонстрировать, как ядерный взрыв может привести к климатическим изменениям и глобальному кризису. Зрители увидели, как пепел от взрыва покрывает небо, как резко снижается температура, и как это приводит к гибели миллионов людей и разрушению экосистем.\n",
      "\n",
      "**Импакт и последствия**\n",
      "\n",
      "Этот эфир стал поворотным моментом в осознании общественностью угрозы ядерной войны. Он вызвал волну дискуссий о контроле над вооружениями и необходимости международного сотрудничества для предотвращения глобальной катастрофы.\n",
      "\n",
      "--------------------------------------------------\n",
      "\n"
     ]
    },
    {
     "name": "stderr",
     "output_type": "stream",
     "text": [
      " 46%|███████████████████████████████████████████████▉                                                       | 93/200 [30:24<34:58, 19.61s/it]"
     ]
    },
    {
     "name": "stdout",
     "output_type": "stream",
     "text": [
      "Title:\n",
      "ВС Татарстана подтвердил решение об аресте рабочего по делу ТЦ \"Адмирал\"\n",
      "Text:\n",
      "Верховный суд Республики Татарстан подтвердил решение о содержании под стражей рабочего, задержанного в рамках расследования дела о пожаре в торговом центре \"Адмирал\". Инцидент, произошедший 15 марта текущего года, привел к гибели нескольких человек и значительным разрушениям.\n",
      "\n",
      "По данным следствия, рабочий, имя которого не разглашается по причине продолжающегося расследования, был задержан 20 марта. Судебное заседание состоялось 30 апреля, и Верховный суд Татарстана принял решение о продлении срока содержания под стражей до 29 июня. Это решение было принято на основании представленных доказательств, которые, по мнению суда, свидетельствуют о возможности скрытия или уничтожения улик.\n",
      "\n",
      "Согласно официальной информации, рабочий мог иметь доступ к системам безопасности и электрическим сетям торгового центра, что, по версии следствия, стало причиной возгорания. Однако защита обвиняемого настаивает на невиновности своего клиента, утверждая, что все действия были выполнены в соответствии с инструкциями и что ответственность за пожар лежит на других лицах.\n",
      "\n",
      "В ходе предварительного следствия выяснилось, что торговый центр \"Адмирал\" не соответствовал нормам пожарной безопасности, что также может стать предметом отдельного судебного разбирательства. Власти Татарстана уже заявили о намерении провести полную проверку всех торговых центров региона для предотвращения подобных трагедий в будущем.\n",
      "\n",
      "--------------------------------------------------\n",
      "\n"
     ]
    },
    {
     "name": "stderr",
     "output_type": "stream",
     "text": [
      " 47%|████████████████████████████████████████████████▍                                                      | 94/200 [30:44<34:47, 19.69s/it]"
     ]
    },
    {
     "name": "stdout",
     "output_type": "stream",
     "text": [
      "Title:\n",
      "Московский ХК \"Динамо\" намерен предложить Горовикову новый контракт\n",
      "Text:\n",
      "В ближайшие недели московское хоккейное «Динамо» планирует предложить своему ключевому игроку, защитнику Алексею Горовикову, новый долгосрочный контракт. Этот шаг свидетельствует о стремлении клуба сохранить одного из лучших защитников лиги и укрепить свои позиции в преддверии нового сезона.\n",
      "\n",
      "Алексей Горовиков, 28-летний игрок, уже более десяти лет является неотъемлемой частью состава «Динамо». За это время он зарекомендовал себя как надежный лидер и мастер оборонительных действий. В текущем сезоне Горовиков продемонстрировал выдающиеся результаты, забив 15 голов и отдав 18 голевых передач, что сделало его одним из самых эффективных защитников лиги.\n",
      "\n",
      "Руководство клуба высоко оценивает вклад Горовикова в успех команды и видит в нем важную фигуру на ближайшие годы. Предлагаемый контракт предусматривает увеличение заработной платы и расширенные бонусные выплаты за достижения команды, что подчеркивает стремление «Динамо» создать конкурентоспособный коллектив.\n",
      "\n",
      "Однако, как сообщают источники, переговоры могут оказаться непростыми. Горовиков известен своей приверженностью к профессиональному росту и желанием играть в сильных командах, поэтому клуб должен будет предложить ему условия, которые будут соответствовать его амбициям и ожиданиям. \n",
      "\n",
      "«Мы понимаем, что Алексей — один из лучших защитников в лиге, и мы хотим, чтобы он оставался с нами как можно дольше», — заявил генеральный менеджер «Динамо» Сергей Иванов.\n",
      "\n",
      "--------------------------------------------------\n",
      "\n"
     ]
    },
    {
     "name": "stderr",
     "output_type": "stream",
     "text": [
      " 48%|████████████████████████████████████████████████▉                                                      | 95/200 [31:03<34:21, 19.63s/it]"
     ]
    },
    {
     "name": "stdout",
     "output_type": "stream",
     "text": [
      "Title:\n",
      "Уровень цианида в Тяньцзине превышает норму в 356 раз\n",
      "Text:\n",
      "В результате недавнего инцидента уровень цианида в водных источниках города Тяньцзинь, Китай, превысил допустимые нормы в 356 раз. Это событие вызвало серьёзную обеспокоенность как среди местного населения, так и на международном уровне, поскольку цианид является высокотоксичным веществом, способным нанести непоправимый ущерб здоровью людей и экосистемам.\n",
      "\n",
      "### Обстоятельства инцидента\n",
      "\n",
      "Согласно официальным данным, авария произошла на одном из химических предприятий, где хранились опасные химикаты. В результате неудачного технического обслуживания или человеческой ошибки произошел выброс значительного количества цианида в окружающую среду. Пока точная причина инцидента выясняется, власти активизировали усилия по локализации загрязнения и предотвращению его распространения.\n",
      "\n",
      "### Последствия для здоровья и экологии\n",
      "\n",
      "Высокая концентрация цианида представляет серьёзную угрозу для здоровья людей, особенно для тех, кто живёт вблизи пострадавших районов. Симптомы отравления могут включать тошноту, рвоту, головокружение, а в тяжелых случаях — потерю сознания и даже смерть. Экологические последствия также значительны: цианид может привести к гибели рыбы и других водных организмов, что нарушает баланс экосистемы.\n",
      "\n",
      "--------------------------------------------------\n",
      "\n"
     ]
    },
    {
     "name": "stderr",
     "output_type": "stream",
     "text": [
      " 48%|█████████████████████████████████████████████████▍                                                     | 96/200 [31:23<34:05, 19.66s/it]"
     ]
    },
    {
     "name": "stdout",
     "output_type": "stream",
     "text": [
      "Title:\n",
      "Поезда метро не останавливаются на “Площади Восстания” и “Маяковской”\n",
      "Text:\n",
      "В последнее время москвичи и гости столицы заметили, что поезда метро перестали останавливаться на двух из самых оживленных станций — «Площадь Восстания» и «Маяковская». Это решение вызвало волну вопросов и обсуждений среди пассажиров, которые теперь вынуждены совершать дополнительные пересадки или искать альтернативные маршруты.\n",
      "\n",
      "### Причины изменения маршрута\n",
      "\n",
      "1. **Ремонт инфраструктуры:** Главной причиной изменений стало проведение масштабного ремонта инфраструктуры на данных станциях. Работы включают замену путей, модернизацию систем безопасности и улучшение условий для пассажиров.\n",
      "\n",
      "2. **Увеличение пропускной способности:** Метро стремится повысить эффективность работы подземки, чтобы справляться с растущим пассажиропотоком. Остановка на этих станциях была признана неэффективной с точки зрения времени и ресурсов.\n",
      "\n",
      "3. **Безопасность:** После ряда инцидентов на данных станциях было принято решение временно ограничить их использование для обеспечения безопасности пассажиров.\n",
      "\n",
      "### Влияние на пассажиров\n",
      "\n",
      "Изменение маршрутов вызвало неудобства у многих пассажиров, особенно тех, кто часто использует эти станции для пересадок. Многие выражают недовольство увеличенными временами в пути и необходимостью делать дополнительные пересадки.\n",
      "\n",
      "--------------------------------------------------\n",
      "\n"
     ]
    },
    {
     "name": "stderr",
     "output_type": "stream",
     "text": [
      " 48%|█████████████████████████████████████████████████▉                                                     | 97/200 [31:43<33:44, 19.65s/it]"
     ]
    },
    {
     "name": "stdout",
     "output_type": "stream",
     "text": [
      "Title:\n",
      "Водителя самосвала, застрявшего в тоннеле, достали из кабины\n",
      "Text:\n",
      "**Захватывающая эпопея спасения: водителя самосвала, застрявшего в тоннеле, достали из кабины**\n",
      "\n",
      "В одном из самых напряженных и драматичных инцидентов последних дней водитель самосвала оказался в ловушке под землей, когда его грузовик застрял в узком тоннеле. События разворачивались на глазах у местных жителей и сотрудников экстренных служб, которые неустанно работали над спасением человека.\n",
      "\n",
      "**Начало трагедии**\n",
      "\n",
      "Сегодня утром водитель самосвала, имя которого пока не разглашается по соображениям конфиденциальности, отправился в рейс по маршруту, который он считал привычным. Однако, приближаясь к тоннелю, расположенному на одной из загруженных автомагистралей, он внезапно заметил, что его грузовик начал терять управление. Вскоре стало ясно, что машина застряла, и выбраться самостоятельно не представлялось возможным.\n",
      "\n",
      "**Экстренные меры**\n",
      "\n",
      "Ситуация быстро вышла из-под контроля, и первыми на место происшествия прибыли службы экстренного реагирования. Спасатели начали оценку обстановки, понимая, что время играет против них. Они осознали, что задержка может привести к серьезным последствиям как для водителя, так и для окружающих.\n",
      "\n",
      "**Многочасовая операция**\n",
      "\n",
      "Работа по спасению заняла более шести часов. Спасатели использовали специализированное оборудование для расширения пространства вокруг застрявшего самосвала, чтобы обеспечить доступ к кабине. Одновременно с этим были предприняты попытки связаться с водителем, чтобы успокоить его и поддержать морально.\n",
      "\n",
      "--------------------------------------------------\n",
      "\n"
     ]
    },
    {
     "name": "stderr",
     "output_type": "stream",
     "text": [
      " 49%|██████████████████████████████████████████████████▍                                                    | 98/200 [32:02<33:28, 19.69s/it]"
     ]
    },
    {
     "name": "stdout",
     "output_type": "stream",
     "text": [
      "Title:\n",
      "Опубликованы первые фото британской принцессы Шарлотты\n",
      "Text:\n",
      "Сегодня мир получил возможность увидеть первые официальные фотографии принцессы Шарлотты, дочери принца Уильяма и Кэтрин, герцогини Кембриджской. Эти снимки, сделанные во время недавнего семейного отдыха, стали настоящим откровением для поклонников британской королевской семьи.\n",
      "\n",
      "Фотографии были опубликованы в официальном аккаунте Кенсингтонского дворца в социальных сетях. На них можно увидеть маленькую принцессу в окружении родителей и старшего брата принца Джорджа. Внимание привлекает не только их милая улыбка, но и непосредственность, с которой дети взаимодействуют друг с другом.\n",
      "\n",
      "Шарлотта, которой сейчас два года, уже стала символом современной британской королевской семьи. Её образ — это сочетание традиций и современности, что делает её популярной среди молодых родителей по всему миру. Фотографии подчеркивают её любовь к природе и активному образу жизни, что отличается от более формального имиджа, который часто ассоциируется с членами королевской семьи.\n",
      "\n",
      "Однако, помимо очарования, эти снимки также вызывают интерес к вопросам воспитания детей в королевской семье. Как и многие родители, принц Уильям и Кэтрин стремятся предоставить своим детям максимально естественную и счастливую жизнь, избегая при этом чрезмерного внимания общественности. Это вызывает как восхищение, так и споры среди зрителей, которые задаются вопросом, насколько допустимым является такой подход.\n",
      "\n",
      "--------------------------------------------------\n",
      "\n"
     ]
    },
    {
     "name": "stderr",
     "output_type": "stream",
     "text": [
      " 50%|██████████████████████████████████████████████████▉                                                    | 99/200 [32:22<33:06, 19.66s/it]"
     ]
    },
    {
     "name": "stdout",
     "output_type": "stream",
     "text": [
      "Title:\n",
      "Израильские F-16 и Apache убили 8 и ранили 47 палестинцев в Газе\n",
      "Text:\n",
      "**Название: Израильские военные операции в Газе: последствия для мирного населения**\n",
      "\n",
      "**Введение**\n",
      "\n",
      "В ходе недавних военных действий, развернувшихся в секторе Газа, израильские самолеты F-16 и вертолеты Apache нанесли значительные удары по территории, в результате чего погибли восемь палестинцев и были ранены 47 человек. Эти события вызвали международное осуждение и обвинения в чрезмерном применении силы.\n",
      "\n",
      "**Ситуация на местах**\n",
      "\n",
      "Согласно официальным заявлениям израильских военных, операции проводились в ответ на ракетные обстрелы из Газы, которые привели к жертвам среди гражданского населения Израиля. Однако палестинские источники утверждают, что большинство атак было направлено на гражданские объекты, такие как школы и больницы, что вызывает серьезные вопросы о соблюдении принципов международного гуманитарного права.\n",
      "\n",
      "**Реакция международного сообщества**\n",
      "\n",
      "Международное сообщество выразило обеспокоенность по поводу ситуации в Газе. ООН призвала к немедленному прекращению огня и проведению независимого расследования инцидентов, связанных с применением силы. Европейские страны и США также выступили с осуждением, подчеркнув необходимость защиты гражданского населения.\n",
      "\n",
      "**Последствия для региона**\n",
      "\n",
      "Эти события могут иметь долгосрочные последствия для региональной стабильности. Палестинские лидеры призывают к международному вмешательству и усилению давления на Израиль с целью прекращения военных действий. В то же время, есть опасения, что конфликт может перерасти в более широкую войну, особенно если будет продолжаться эскалация напряженности.\n",
      "\n",
      "--------------------------------------------------\n",
      "\n"
     ]
    },
    {
     "name": "stderr",
     "output_type": "stream",
     "text": [
      " 50%|███████████████████████████████████████████████████                                                   | 100/200 [32:42<32:40, 19.60s/it]"
     ]
    },
    {
     "name": "stdout",
     "output_type": "stream",
     "text": [
      "Title:\n",
      "Еще 23 человека выздоровели от коронавируса в Казахстане \n",
      "Text:\n",
      "В последние дни в Казахстане продолжается положительная динамика в борьбе с коронавирусом. Согласно официальным данным, ещё 23 пациента полностью излечились от COVID-19 и были выписаны из больниц. Это поднимает общее количество выздоровевших до 200 547 человек.\n",
      "\n",
      "По состоянию на сегодняшний день, общее количество зарегистрированных случаев инфекции составляет 286 340. Из них 3 302 пациента находятся в тяжёлом состоянии и получают медицинскую помощь. В то же время, 1 055 пациентов остаются в критическом состоянии.\n",
      "\n",
      "Министерство здравоохранения Казахстана отмечает, что улучшение ситуации связано с комплексными мерами по профилактике и лечению COVID-19, включая вакцинацию населения. На данный момент более 10 миллионов казахстанцев уже получили первую дозу вакцины, а более 8 миллионов завершили полный курс вакцинации.\n",
      "\n",
      "Эксперты подчеркивают важность соблюдения мер предосторожности, таких как ношение масок, социальное дистанцирование и регулярное мытье рук, для предотвращения распространения вируса. Вместе с тем, они призывают граждан продолжать активно участвовать в кампании вакцинации.\n",
      "\n",
      "Кроме того, власти страны продолжают развивать инфраструктуру для лечения COVID-19, включая увеличение числа коек в специализированных госпиталях и модернизацию оборудования.\n",
      "\n",
      "--------------------------------------------------\n",
      "\n"
     ]
    },
    {
     "name": "stderr",
     "output_type": "stream",
     "text": [
      " 50%|███████████████████████████████████████████████████▌                                                  | 101/200 [33:01<32:16, 19.56s/it]"
     ]
    },
    {
     "name": "stdout",
     "output_type": "stream",
     "text": [
      "Title:\n",
      "Михаил Саакашвили сообщил об отказе от поста вице-премьера Украины\n",
      "Text:\n",
      "Сегодня, 15 сентября, бывший президент Грузии и бывший губернатор Одесской области Михаил Саакашвили сделал неожиданное заявление, сообщив о своем решении отказаться от должности вице-премьера Украины. Это событие вызвало значительные дискуссии как внутри страны, так и на международной арене.\n",
      "\n",
      "**Предыстория и контекст:**\n",
      "\n",
      "Михаил Саакашвили был назначен на пост вице-премьера Украины в марте 2023 года, после того как его пригласили в правительство президента Зеленского для помощи в реформировании судебной системы и борьбе с коррупцией. Однако уже через несколько месяцев стало очевидно, что сотрудничество между двумя политиками не складывается.\n",
      "\n",
      "**Анализ заявления:**\n",
      "\n",
      "В своем заявлении Саакашвили объяснил свой уход тем, что он считает необходимым сосредоточиться на работе над реформами в Одесской области, где он продолжает активно заниматься развитием инфраструктуры и поддержкой местных инициатив. Он также отметил, что его уход не связан с политическими разногласиями с правительством, а является личным решением, направленным на повышение эффективности своей работы.\n",
      "\n",
      "**Политические последствия:**\n",
      "\n",
      "Этот шаг может иметь серьезные последствия для политической ситуации в Украине. Отсутствие Саакашвили в правительстве может ослабить усилия по реформированию судебной системы, поскольку он был одним из ключевых сторонников этих изменений. Кроме того, его уход может привести к усилению напряженности между различными политическими фракциями в стране.\n",
      "\n",
      "--------------------------------------------------\n",
      "\n"
     ]
    },
    {
     "name": "stderr",
     "output_type": "stream",
     "text": [
      " 51%|████████████████████████████████████████████████████                                                  | 102/200 [33:21<32:00, 19.60s/it]"
     ]
    },
    {
     "name": "stdout",
     "output_type": "stream",
     "text": [
      "Title:\n",
      "Мирный не попал в полуфинал турнира в Делрей-Бич\n",
      "Text:\n",
      "**Название: Мирный упустил шанс на полуфинал в Делрей-Бич: анализ поражения и перспективы**\n",
      "\n",
      "Во время недавнего теннисного турнира в Делрей-Бич, российский игрок Андрей Мирный потерпел неожиданное поражение от своего соперника из Словении Аленки Костоларя, что помешало ему выйти в полуфинал. Эта неудача стала для Мирного не только личной неожиданностью, но и поводом для более глубокого анализа его текущего состояния и стратегии.\n",
      "\n",
      "### Подробности матча\n",
      "\n",
      "Встреча между Мирным и Костоларем продемонстрировала, что даже опытные игроки могут столкнуться с неожиданными трудностями. Несмотря на то, что Мирный считался фаворитом, словенский теннисист продемонстрировал высокую концентрацию и техническое мастерство, позволившее ему одержать победу со счетом 6-4, 6-3. Это поражение стало первым для Мирного в этом сезоне и подняло вопросы о его готовности к предстоящим матчам.\n",
      "\n",
      "### Анализ игры\n",
      "\n",
      "Анализируя игру Мирного, эксперты отметили несколько ключевых моментов, которые могли повлиять на исход матча. Во-первых, российский теннисист показал низкую эффективность в подаче, допустив несколько двойных ошибок, что дало преимущество сопернику. Во-вторых, Костоларя продемонстрировал отличную игру на задней линии, где он смог нейтрализовать атакующие приемы Мирного. Эти факторы, наряду с психологическим давлением, оказались решающими в исходе встречи.\n",
      "\n",
      "--------------------------------------------------\n",
      "\n"
     ]
    },
    {
     "name": "stderr",
     "output_type": "stream",
     "text": [
      " 52%|████████████████████████████████████████████████████▌                                                 | 103/200 [33:40<31:39, 19.58s/it]"
     ]
    },
    {
     "name": "stdout",
     "output_type": "stream",
     "text": [
      "Title:\n",
      "В Донецке соберутся поклонники Путина\n",
      "Text:\n",
      "В Донецке запланировано крупное мероприятие, на которое съедутся сторонники президента России Владимира Путина. Событие вызвало значительный интерес как у местных жителей, так и у международного сообщества. Организаторы обещают провести масштабную акцию под лозунгом \"Сила единства\", однако многие эксперты видят в этом шаге нечто большее, чем просто проявление поддержки.\n",
      "\n",
      "**Предыстория мероприятия:**\n",
      "\n",
      "Массовая встреча сторонников Путина в Донецке планируется на ближайшие выходные. Ожидается, что на ней соберутся тысячи людей из разных регионов Украины и даже из России. Организаторы мероприятия заявляют о его мирном характере и стремлении укрепить связи между сторонниками российского лидера. Однако, по мнению наблюдателей, это может стать попыткой усилить влияние Москвы на регион, который уже давно находится в центре политических противоречий.\n",
      "\n",
      "**Политический контекст:**\n",
      "\n",
      "Донецк, как один из ключевых городов Донбасса, имеет сложную историю отношений с Киевом и Москвой. После аннексии Крыма Россией в 2014 году и начала вооруженного конфликта на востоке Украины, Донецкая область стала ареной активной пропаганды и политического влияния со стороны России. В последние годы власти Украины предпринимают усилия для усиления контроля над регионом, что вызывает ответную реакцию со стороны российских сторонников.\n",
      "\n",
      "--------------------------------------------------\n",
      "\n"
     ]
    },
    {
     "name": "stderr",
     "output_type": "stream",
     "text": [
      " 52%|█████████████████████████████████████████████████████                                                 | 104/200 [34:00<31:17, 19.56s/it]"
     ]
    },
    {
     "name": "stdout",
     "output_type": "stream",
     "text": [
      "Title:\n",
      "СМИ: пилота в Амстердаме оштрафовали за нахождение в пьяном виде\n",
      "Text:\n",
      "**Пилота авиакомпании KLM оштрафовали в Амстердаме за нахождение в пьяном виде**\n",
      "\n",
      "Вчера в Амстердаме был вынесен приговор пилоту одной из крупнейших европейских авиакомпаний KLM, который был оштрафован за нахождение в пьяном виде. Инцидент произошел в центре города, где мужчина, находясь в состоянии алкогольного опьянения, вызвал беспокойство у прохожих и сотрудников полиции.\n",
      "\n",
      "**Обстоятельства инцидента**\n",
      "\n",
      "Согласно официальным данным, 35-летний пилот был замечен в общественном месте в состоянии сильного алкогольного опьянения около 22:00 по местному времени. Свидетели сообщили о его неадекватном поведении, что привлекло внимание полицейских, которые провели проверку и обнаружили у пилота содержание алкоголя в крови, превышающее допустимую норму.\n",
      "\n",
      "**Реакция авиакомпании и правовых органов**\n",
      "\n",
      "Авиакомпания KLM незамедлительно отреагировала на инцидент, заявив, что такое поведение недопустимо для ее сотрудников и может повлиять на безопасность полетов. В компании подчеркнули, что будут принимать все необходимые меры для предотвращения подобных случаев в будущем.\n",
      "\n",
      "Правовые органы Нидерландов также приняли строгие меры, назначив штраф в размере €10,000 (примерно $11,400) и запретив пилоту заниматься деятельностью, связанной с управлением воздушным транспортом, на срок одного года.\n",
      "\n",
      "--------------------------------------------------\n",
      "\n"
     ]
    },
    {
     "name": "stderr",
     "output_type": "stream",
     "text": [
      " 52%|█████████████████████████████████████████████████████▌                                                | 105/200 [34:20<31:05, 19.64s/it]"
     ]
    },
    {
     "name": "stdout",
     "output_type": "stream",
     "text": [
      "Title:\n",
      "Наоми Осака: В Instagram я сразу подписалась на Бейонсе, Рианну и Никки Минаж\n",
      "Text:\n",
      "**Наоми Осака: \"Музыка — моя вдохновляющая сила\"**\n",
      "\n",
      "Наоми Осака, одна из самых успешных теннисисток современности, открыла для себя мир музыки через социальные сети. В своем недавнем интервью она рассказала, что сразу же подписалась на аккаунты таких звезд, как Бейонсе, Рианна и Никки Минаж, после того как начала заниматься теннисом.\n",
      "\n",
      "**Роль музыки в жизни Наоми Осаки**\n",
      "\n",
      "С раннего детства Наоми была увлечена музыкой. Однако именно в подростковом возрасте, когда она начала серьезно заниматься теннисом, музыка стала для нее не только источником развлечения, но и мощным источником вдохновения. \"Когда я тренировалась, музыка помогала мне сосредоточиться и зарядиться энергией,\" — признается спортсменка.\n",
      "\n",
      "**Почему эти артисты?**\n",
      "\n",
      "Одной из первых, кого Наоми добавила в свой список подписчиков, была Бейонсе. \"Ее песни всегда поднимают настроение и наполняют меня силами,\" — делится она. Рианна, известная своим динамичным стилем и уникальным подходом к музыке, также нашла отклик в сердце Наоми. \"Она показывает, что можно быть собой и оставаться уверенной в себе,\" — говорит спортсменка.\n",
      "\n",
      "Никки Минаж, с ее эксцентричностью и ярким стилем, также стала для Наоми источником вдохновения. \"Ее энергия и смелость в самовыражении — это то, что я стараюсь перенять,\" — признается Осака.\n",
      "\n",
      "**Влияние на карьеру**\n",
      "\n",
      "Музыка и ее любимые исполнители оказали значительное влияние на личность Наоми и, как следствие, на ее спортивную карьеру.\n",
      "\n",
      "--------------------------------------------------\n",
      "\n"
     ]
    },
    {
     "name": "stderr",
     "output_type": "stream",
     "text": [
      " 53%|██████████████████████████████████████████████████████                                                | 106/200 [34:39<30:42, 19.60s/it]"
     ]
    },
    {
     "name": "stdout",
     "output_type": "stream",
     "text": [
      "Title:\n",
      "В Грозном предотвращен крупный теракт\n",
      "Text:\n",
      "В ночь на 15 сентября в Грозном удалось предотвратить крупномасштабный теракт, который мог бы привести к значительным человеческим жертвам и разрушениям. Силовые структуры России, действуя слаженно и оперативно, смогли нейтрализовать угрозу, которая была обнаружена в одном из центральных районов города.\n",
      "\n",
      "Согласно полученным данным, планировалось осуществление серии взрывов в общественных местах, включая торговый центр и транспортные узлы. Подозреваемые были задержаны в ходе спецоперации, в результате которой также было конфисковано значительное количество взрывчатых веществ и оружия.\n",
      "\n",
      "Главным подозреваемым в организации теракта является гражданин одной из соседних стран, который, по всей видимости, действовал в рамках международной террористической сети. В ходе обысков были найдены материалы, свидетельствующие о его связи с экстремистскими группировками, действующими в регионе.\n",
      "\n",
      "Операция по предотвращению теракта потребовала мобилизации значительных ресурсов правоохранительных органов. Были задействованы специальные подразделения ФСБ, МВД и других силовых структур, которые провели комплексную работу по сбору информации и выявлению участников заговора.\n",
      "\n",
      "В результате операции удалось не только предотвратить теракты, но и задержать нескольких человек, подозреваемых в подготовке к совершению преступления. Все задержанные находятся под стражей, их действия будут расследованы в соответствии с законодательством Российской Федерации.\n",
      "\n",
      "--------------------------------------------------\n",
      "\n"
     ]
    },
    {
     "name": "stderr",
     "output_type": "stream",
     "text": [
      " 54%|██████████████████████████████████████████████████████▌                                               | 107/200 [34:59<30:26, 19.64s/it]"
     ]
    },
    {
     "name": "stdout",
     "output_type": "stream",
     "text": [
      "Title:\n",
      "Широков предложил новичкам \"Зенита\" \"поиграть на огороде\"\n",
      "Text:\n",
      "В недавнем интервью главный тренер петербургского футбольного клуба \"Зенит\" Андрей Широков удивил болельщиков и журналистов, предложив своим новичкам нестандартное задание. Вместо привычных тренировок на поле Широков призвал игроков провести несколько дней на огороде.\n",
      "\n",
      "\"Я хочу, чтобы мои ребята поняли ценность труда и умения работать руками,\" — заявил Широков. \"Пусть они почувствуют себя частью команды не только на поле, но и в жизни.\"\n",
      "\n",
      "Экспериментальная инициатива вызвала широкий резонанс в спортивном сообществе. Некоторые считают, что такой подход поможет игрокам лучше узнать друг друга и укрепить командный дух. Другие же выражают сомнения в его эффективности, указывая на то, что футбол требует физической подготовки и концентрации, которых, возможно, не хватит после работы на огороде.\n",
      "\n",
      "Один из новых игроков \"Зенита\", 25-летний нападающий Иван Петров, поделился своими впечатлениями: \"Это было непривычно, но очень интересно. Мы действительно провели время вместе, вне поля, что помогло нам лучше понять друг друга. Надеюсь, это принесет пользу и на футбольном поле.\"\n",
      "\n",
      "Команда, которая традиционно славится своей дисциплиной и профессионализмом, сейчас сталкивается с необходимостью адаптироваться к новым методам тренировок. Вопрос о том, станет ли этот опыт полезным для \"Зенита\", пока остается открытым.\n",
      "\n",
      "--------------------------------------------------\n",
      "\n"
     ]
    },
    {
     "name": "stderr",
     "output_type": "stream",
     "text": [
      " 54%|███████████████████████████████████████████████████████                                               | 108/200 [35:19<30:13, 19.71s/it]"
     ]
    },
    {
     "name": "stdout",
     "output_type": "stream",
     "text": [
      "Title:\n",
      "ЦСКА проигрывает «Баварии» после первого тайма\n",
      "Text:\n",
      "Вчера, 10 сентября, на стадионе «Альянц Арена» состоялся долгожданный матч между московским ЦСКА и мюнхенской «Баварией». В первом тайме гости из России оказались в непростой ситуации, уступая сопернику по всем статьям. Несмотря на это, встреча обещает стать захватывающим противостоянием, которое покажет, как команды будут развивать игру во второй половине матча.\n",
      "\n",
      "**Начало встречи: атакующий пыл «Баварии»**\n",
      "\n",
      "Мюнхенская команда вышла на поле с явным намерением доминировать. С самого начала матча «Бавария» создала несколько опасных моментов, которые были лишь немного притушены оборонительными действиями ЦСКА. На 12-й минуте Хуммельс отправил мяч в сетку ворот, однако судья отменил гол из-за офсайда. Это стало первым серьёзным предупреждением для ЦСКА, который не смог адаптироваться к высокому темпу игры.\n",
      "\n",
      "**ЦСКА в ответе: попытки переломить ход событий**\n",
      "\n",
      "Во втором тайме первый удар нанесли именно армейцы. На 35-й минуте Алексей Березуцкий пробил по воротам, но его удар был отбит вратарём «Баварии». Однако уже через минуту ЦСКА получил шанс на равные условия благодаря пенальти, назначенному за фол в штрафной. Однако удар Александра Головина оказался неточным, и «Бавария» сохранила лидерство.\n",
      "\n",
      "--------------------------------------------------\n",
      "\n"
     ]
    },
    {
     "name": "stderr",
     "output_type": "stream",
     "text": [
      " 55%|███████████████████████████████████████████████████████▌                                              | 109/200 [35:38<29:50, 19.67s/it]"
     ]
    },
    {
     "name": "stdout",
     "output_type": "stream",
     "text": [
      "Title:\n",
      "Разбой в ювелирном магазине на Ветеранов встал в полмиллиона\n",
      "Text:\n",
      "Вчера вечером на улице Ветеранов произошел дерзкий разбой, в результате которого ювелирный магазин понес значительные финансовые потери. По предварительным данным, сумма ущерба составляет около полумиллиона рублей.\n",
      "\n",
      "Согласно свидетельствам очевидцев, трое неизвестных в масках вошли в магазин примерно в 21:00 и, угрожая оружием, потребовали передать им все ценные вещи. Потерпевшие, не успевшие среагировать, были вынуждены подчиниться требованиям грабителей. После чего злоумышленники скрылись с места преступления на автомобиле марки \"Lexus\", который был припаркован неподалеку.\n",
      "\n",
      "Полиция уже начала активные поиски подозреваемых. На месте происшествия работают следователи, которые изучают записи с камер видеонаблюдения и опрашивают сотрудников магазина и прохожих. В настоящий момент ведется проверка возможных связей между этим инцидентом и другими аналогичными преступлениями в городе.\n",
      "\n",
      "Ювелирный магазин, который специализируется на продаже драгоценных камней и украшений, уже обратился к страховщикам для оценки ущерба и начала процедуры страхового возмещения. Владелец магазина выразил надежду на скорейшее возвращение к нормальной работе и призвал общественность помочь в раскрытии этого преступления.\n",
      "\n",
      "Эксперты отмечают, что подобные случаи становятся все более частыми в крупных городах, где высокий уровень доходов населения привлекает внимание преступников.\n",
      "\n",
      "--------------------------------------------------\n",
      "\n"
     ]
    },
    {
     "name": "stderr",
     "output_type": "stream",
     "text": [
      " 55%|████████████████████████████████████████████████████████                                              | 110/200 [35:58<29:29, 19.66s/it]"
     ]
    },
    {
     "name": "stdout",
     "output_type": "stream",
     "text": [
      "Title:\n",
      "В подземных переходах Москвы установят видеокамеры\n",
      "Text:\n",
      "В рамках программы по повышению безопасности пешеходов и профилактике преступности в столице России, городские власти приняли решение о массовой установке видеокамер в подземных переходах Москвы. Проект, который планируется реализовать в ближайшие месяцы, предполагает оснащение более 100 объектов современными системами наблюдения.\n",
      "\n",
      "Согласно плану, камеры будут установлены как в новых, так и в уже существующих подземных переходах, что позволит значительно расширить зону покрытия системы видеонаблюдения. Ожидается, что это поможет не только повысить уровень безопасности граждан, но и улучшить работу правоохранительных органов, которые смогут быстрее реагировать на происшествия и пресекать правонарушения.\n",
      "\n",
      "**Цели и преимущества проекта:**\n",
      "\n",
      "1. **Повышение безопасности:** Установка камер позволит оперативно реагировать на чрезвычайные ситуации, такие как падения или дорожные аварии, а также предотвращать кражи и другие преступления.\n",
      "   \n",
      "2. **Улучшение работы правоохранительных органов:** Видеозаписи станут ценным инструментом для расследования происшествий и выявления виновных лиц.\n",
      "\n",
      "3. **Мониторинг дорожного движения:** Камеры помогут отслеживать интенсивность движения и выявлять зоны с высоким риском ДТП, что позволит оптимизировать дорожное движение и улучшить транспортную доступность.\n",
      "\n",
      "4. **Обеспечение общественного порядка:** Наличие видеонаблюдения может сдерживать потенциальных нарушителей, создавая атмосферу повышенной ответственности.\n",
      "\n",
      "--------------------------------------------------\n",
      "\n"
     ]
    },
    {
     "name": "stderr",
     "output_type": "stream",
     "text": [
      " 56%|████████████████████████████████████████████████████████▌                                             | 111/200 [36:17<29:07, 19.63s/it]"
     ]
    },
    {
     "name": "stdout",
     "output_type": "stream",
     "text": [
      "Title:\n",
      "В зал переговоров в Минске вернулся Порошенко\n",
      "Text:\n",
      "В минувшие дни внимание международного сообщества было приковано к Минску, где состоялась встреча высокопоставленных представителей Украины и России. В центр внимания вернулся бывший президент Украины Петр Порошенко, который вновь стал ключевой фигурой в попытках урегулирования конфликта на востоке страны.\n",
      "\n",
      "После длительного перерыва, вызванного политическими изменениями в Киеве, Порошенко вернулся в зал переговоров в Минске, чтобы обсудить с российскими представителями дальнейшие шаги по выполнению Минских соглашений. Эти соглашения, подписанные в 2015 году, остаются основой для мирного урегулирования конфликта, однако их выполнение осложняется рядом факторов, включая недоверие между сторонами и продолжающиеся боевые действия.\n",
      "\n",
      "На встрече в Минске обсуждались ключевые вопросы, такие как отвод вооружений, восстановление контроля украинских властей над границей и проведение местных выборов в Донецкой и Луганской областях. Порошенко подчеркнул необходимость соблюдения всех пунктов соглашений, отметив, что это является важнейшим шагом на пути к миру и стабильности на востоке Украины.\n",
      "\n",
      "Среди участников переговоров также присутствовали представители ОБСЕ, которые активно следят за выполнением Минских соглашений и готовы предоставить независимый мониторинг. Однако, несмотря на усилия, достигнутые договоренности остаются хрупкими, и любое нарушение может привести к эскалации конфликта.\n",
      "\n",
      "--------------------------------------------------\n",
      "\n"
     ]
    },
    {
     "name": "stderr",
     "output_type": "stream",
     "text": [
      " 56%|█████████████████████████████████████████████████████████                                             | 112/200 [36:37<28:49, 19.65s/it]"
     ]
    },
    {
     "name": "stdout",
     "output_type": "stream",
     "text": [
      "Title:\n",
      "Децл посмертно получил премию «МУЗ-ТВ»\n",
      "Text:\n",
      "Вчера состоялась долгожданная церемония вручения премии «МУЗ-ТВ», на которой один из самых ярких представителей отечественной рэп-сцены, Дмитрий Шепелев, известный под псевдонимом Децл, был удостоен посмертной награды. Эта новость стала настоящим шоком для поклонников и коллег музыканта, который скончался в 2019 году.\n",
      "\n",
      "Премия была присуждена в категории «Легенды российского рэпа». Ведущие церемонии отметили значительное влияние Децла на развитие жанра и его неизменную популярность среди молодежи. Несмотря на то что Дмитрий Шепелев ушел из жизни в возрасте 34 лет, его музыка продолжает вдохновлять новые поколения исполнителей и слушателей.\n",
      "\n",
      "На церемонии присутствовали близкие друзья и коллеги Децла, которые выразили глубокое уважение к его памяти. Среди них были такие известные рэперы, как Оксимирон и Баста, которые поделились своими воспоминаниями о совместных проектах и личных встречах с Дмитрием.\n",
      "\n",
      "«Децл был не просто музыкантом, он был частью нашей истории, — сказал Оксимирон. — Его энергия и страсть к музыке всегда вдохновляли нас на создание чего-то нового и значимого».\n",
      "\n",
      "Посмертная награда стала символом признания таланта и вклада Децла в развитие российской музыкальной культуры.\n",
      "\n",
      "--------------------------------------------------\n",
      "\n"
     ]
    },
    {
     "name": "stderr",
     "output_type": "stream",
     "text": [
      " 56%|█████████████████████████████████████████████████████████▋                                            | 113/200 [36:57<28:22, 19.57s/it]"
     ]
    },
    {
     "name": "stdout",
     "output_type": "stream",
     "text": [
      "Title:\n",
      "Жертвы киевского митинга: более 100 человек в больницах\n",
      "Text:\n",
      "Вчера в Киеве произошла трагическая ситуация во время массового митинга, в результате которой более 100 человек были госпитализированы с различными травмами. Инцидент вызвал широкий общественный резонанс и привлек внимание как внутри страны, так и за ее пределами.\n",
      "\n",
      "**Хронология событий:**\n",
      "Митинг, организованный оппозиционными силами, начался без особых инцидентов, однако около 15:00 ситуация резко обострилась. По неизвестным пока причинам часть участников начала агрессивные действия против правоохранительных органов, что привело к столкновениям и применению силы со стороны полиции.\n",
      "\n",
      "**Последствия:**\n",
      "На данный момент известно о более чем 100 пострадавших, из которых 20 находятся в критическом состоянии. Среди них есть как активисты, так и случайные прохожие. Многие получили ранения от гранат, слезоточивого газа и физических нападений.\n",
      "\n",
      "**Реакция властей:**\n",
      "Правоохранительные органы заявили, что действия полиции были необходимы для поддержания порядка и предотвращения возможных беспорядков. В то же время оппозиционные лидеры обвиняют власти в чрезмерном применении силы и призывают к независимому расследованию инцидента.\n",
      "\n",
      "**Социальные сети и общественное мнение:**\n",
      "Информация о митинге и его последствиях быстро распространилась в социальных сетях, вызвав бурную реакцию общественности.\n",
      "\n",
      "--------------------------------------------------\n",
      "\n"
     ]
    },
    {
     "name": "stderr",
     "output_type": "stream",
     "text": [
      " 57%|██████████████████████████████████████████████████████████▏                                           | 114/200 [37:16<28:01, 19.55s/it]"
     ]
    },
    {
     "name": "stdout",
     "output_type": "stream",
     "text": [
      "Title:\n",
      "Число жертв землетрясения в Непале превысило 4,2 тысячи человек\n",
      "Text:\n",
      "В результате мощного землетрясения, произошедшего в Непале 25 апреля 2015 года, число погибших превысило 4,2 тысячи человек. Катастрофа стала одной из самых разрушительных в истории страны, вызвав массовые разрушения инфраструктуры и оставив тысячи людей без крова.\n",
      "\n",
      "**Предыстория и масштабы бедствия**\n",
      "\n",
      "Землетрясение магнитудой 7,8 балла по шкале Рихтера поразило регион Гималаев, нанеся серьёзный ущерб городам и деревням в центральной части Непала. В результате обрушений зданий и лавин погибли более 4,2 тысячи человек, около 8,1 тысячи получили ранения различной степени тяжести. Тысячи семей остались без крова, что привело к гуманитарному кризису.\n",
      "\n",
      "**Разрушения и их последствия**\n",
      "\n",
      "Землетрясение вызвало обширные разрушения в исторических городах, таких как Лумбини и Покхара, где были повреждены древние храмы и памятники. Инфраструктурные объекты, включая дороги, мосты и водопроводные системы, также пострадали, что затруднило доступ к пострадавшим районам и оказание помощи.\n",
      "\n",
      "**Международная реакция и помощь**\n",
      "\n",
      "Мировое сообщество немедленно отреагировало на катастрофу, предоставив финансовую и гуманитарную помощь Непалу.\n",
      "\n",
      "--------------------------------------------------\n",
      "\n"
     ]
    },
    {
     "name": "stderr",
     "output_type": "stream",
     "text": [
      " 57%|██████████████████████████████████████████████████████████▋                                           | 115/200 [37:36<27:41, 19.55s/it]"
     ]
    },
    {
     "name": "stdout",
     "output_type": "stream",
     "text": [
      "Title:\n",
      "Уже 5-й день голодает адвокат семей Героев Небесной сотни\n",
      "Text:\n",
      "В течение уже пятого дня адвокат семьи, членов \"Небесной сотни\", продолжает голодовку, требуя от властей Украины расследования обстоятельств смерти его клиентов и признания их героизмом. Семья и ее представитель считают, что официальные власти не уделяют должного внимания делу, и это приводит к задержкам в расследовании.\n",
      "\n",
      "\"Небесная сотня\" — группа протестующих, погибших во время Евромайдана в 2014 году. Их жертвы стали символом борьбы за демократию и права человека на Украине. Однако, несмотря на значимость этого события, многие семьи погибших до сих пор не получили должной поддержки и признания со стороны государства.\n",
      "\n",
      "Адвокат, который решил использовать крайние меры для привлечения внимания общественности и властей, заявил, что голодовка будет продолжаться до тех пор, пока не будут выполнены следующие требования:\n",
      "\n",
      "1. **Полное расследование обстоятельств гибели \"Небесной сотни\".**\n",
      "2. **Признание их героизмом и установление соответствующих памятников и мемориалов.**\n",
      "3. **Обеспечение поддержки и компенсаций семьям погибших.**\n",
      "\n",
      "Семьи \"Небесной сотни\" надеются, что эта акция привлечет внимание к их проблемам и ускорит процесс расследования. Власти Украины, в свою очередь, пока не дали официального ответа на требования адвоката, но общественность активно обсуждает ситуацию, поддерживая как семью, так и самого адвоката.\n",
      "\n",
      "--------------------------------------------------\n",
      "\n"
     ]
    },
    {
     "name": "stderr",
     "output_type": "stream",
     "text": [
      " 58%|███████████████████████████████████████████████████████████▏                                          | 116/200 [37:55<27:22, 19.56s/it]"
     ]
    },
    {
     "name": "stdout",
     "output_type": "stream",
     "text": [
      "Title:\n",
      "Во Франции пострадали 17 человек при столкновении 11 автомобилей\n",
      "Text:\n",
      "На юге Франции произошло крупное дорожно-транспортное происшествие, в результате которого 11 автомобилей столкнулись друг с другом, оставив 17 человек ранеными. Инцидент случился около полудня в воскресенье на одной из загруженных автомагистралей региона.\n",
      "\n",
      "По предварительным данным, причиной аварии могло стать резкое снижение видимости из-за тумана, что привело к потере контроля над транспортными средствами. Многие водители были вынуждены экстренно затормозить, что вызвало цепную реакцию столкновений.\n",
      "\n",
      "На месте происшествия работали несколько экстренных служб, включая полицию и скорую помощь. Были задействованы как минимум три бригады скорой помощи для оказания медицинской помощи пострадавшим. Некоторые из них были доставлены в ближайшие больницы с различными травмами, от ушибов до переломов.\n",
      "\n",
      "Локальные власти уже начали расследование инцидента, чтобы установить точные причины и обстоятельства произошедшего. На месте происшествия работают специалисты по безопасности дорожного движения, которые собирают доказательства и опрашивают свидетелей.\n",
      "\n",
      "Это не первый подобный случай в регионе за последние месяцы. Летняя погода и частые изменения климатических условий, такие как туманы, создают дополнительные трудности для водителей. Власти призывают всех участников дорожного движения быть более внимательными и осторожными, особенно в условиях плохой видимости.\n",
      "\n",
      "--------------------------------------------------\n",
      "\n"
     ]
    },
    {
     "name": "stderr",
     "output_type": "stream",
     "text": [
      " 58%|███████████████████████████████████████████████████████████▋                                          | 117/200 [38:15<27:04, 19.57s/it]"
     ]
    },
    {
     "name": "stdout",
     "output_type": "stream",
     "text": [
      "Title:\n",
      "«Система» получит дополнительно 12,9 млрд рублей от «Урал-Инвеста»\n",
      "Text:\n",
      "В недавнем соглашении между компаниями «Система» и «Урал-Инвест» было объявлено о привлечении 12,9 миллиардов рублей в качестве инвестиций в развитие цифровой инфраструктуры. Это событие стало значимым шагом как для компаний, так и для всей отрасли, открывая новые горизонты для технологического прогресса.\n",
      "\n",
      "### Детали инвестиций\n",
      "\n",
      "Компания «Урал-Инвест», известная своими успешными проектами в области энергетики и телекоммуникаций, вложила значительную сумму в развитие цифровых решений «Системы». Эти средства будут направлены на модернизацию существующих систем и разработку новых технологий, которые повысят эффективность и конкурентоспособность компании.\n",
      "\n",
      "### Влияние на индустрию\n",
      "\n",
      "Эксперты отмечают, что такие инвестиции могут существенно ускорить внедрение инновационных решений в российской цифровой экономике. Увеличение финансирования позволит «Системе» расширить спектр предоставляемых услуг, включая облачные вычисления, интернет вещей (IoT) и искусственный интеллект, что, в свою очередь, будет способствовать росту цифровой грамотности и улучшению качества жизни граждан.\n",
      "\n",
      "### Польза для акционеров\n",
      "\n",
      "Для акционеров «Системы» данное соглашение может стать значительным фактором роста стоимости акций. Инвестиции от «Урал-Инвеста» не только укрепят финансовую базу компании, но и позволят ей более уверенно конкурировать с международными игроками на рынке.\n",
      "\n",
      "--------------------------------------------------\n",
      "\n"
     ]
    },
    {
     "name": "stderr",
     "output_type": "stream",
     "text": [
      " 59%|████████████████████████████████████████████████████████████▏                                         | 118/200 [38:34<26:43, 19.56s/it]"
     ]
    },
    {
     "name": "stdout",
     "output_type": "stream",
     "text": [
      "Title:\n",
      "Секретарь Союза журналистов России возглавил президентский Совет по правам человека\n",
      "Text:\n",
      "В недавнем решении Президента России было объявлено о назначении Сергея Михайлова, секретаря Союза журналистов России, на должность председателя президента Совета по правам человека (СПЧ). Это назначение вызвало широкий резонанс в медиа-сообществе и среди правозащитников, поскольку Михайлов обладает значительным опытом в области защиты свободы слова и прав журналистов.\n",
      "\n",
      "Сергей Михайлов, занимая пост секретаря Союза журналистов России с 2015 года, активно боролся за улучшение условий работы журналистов и защиту их прав. Он неоднократно выступал против цензуры и давления на СМИ, поддерживая коллег, столкнувшихся с преследованиями или угрозами. Его назначение на должность председателя СПЧ рассматривается как важный шаг в укреплении правовой защиты журналистов и продвижении принципов свободы слова в России.\n",
      "\n",
      "Президентский Совет по правам человека, созданный в 2001 году, играет ключевую роль в мониторинге соблюдения прав человека в стране. В его состав входят представители различных общественных организаций, эксперты и ученые, которые совместно работают над разработкой рекомендаций и программ для улучшения ситуации в этой сфере. С приходом Сергея Михайлова в качестве председателя, СПЧ получит нового лидера, который сможет эффективно использовать свой опыт для продвижения интересов журналистов и защиты их прав.\n",
      "\n",
      "--------------------------------------------------\n",
      "\n"
     ]
    },
    {
     "name": "stderr",
     "output_type": "stream",
     "text": [
      " 60%|████████████████████████████████████████████████████████████▋                                         | 119/200 [38:54<26:21, 19.52s/it]"
     ]
    },
    {
     "name": "stdout",
     "output_type": "stream",
     "text": [
      "Title:\n",
      "Минпромэнерго согласилось \"не тупить и не лопушить\"\n",
      "Text:\n",
      "В последние месяцы Министерство промышленности и энергетики столкнулось с критикой за медлительность и нерешительность в реализации ключевых проектов. Однако, недавно министерство объявило о кардинальных изменениях в своей стратегии, пообещав перейти от пустых обещаний к конкретным действиям.\n",
      "\n",
      "На пресс-конференции, организованной министром промышленности и энергетики, было подтверждено, что ведомство готово \"не тупить и не лопушить\", как выразился глава министерства. Это заявление стало ответом на многочисленные жалобы бизнеса и общественности о неэффективности работы ведомства.\n",
      "\n",
      "Согласно планам Минпромэнерго, в ближайшие месяцы будет разработана комплексная программа мер, направленных на ускорение реализации важнейших инфраструктурных и технологических проектов. В частности, планируется:\n",
      "\n",
      "1. **Увеличение числа рабочих групп** для оперативного решения возникающих проблем.\n",
      "2. **Внедрение новых технологий управления проектами**, чтобы минимизировать задержки и повысить прозрачность процессов.\n",
      "3. **Проведение регулярных встреч с представителями бизнеса** для получения обратной связи и корректировки стратегии в соответствии с потребностями рынка.\n",
      "4. **Разработка механизмов мониторинга и отчетности**, чтобы гарантировать выполнение всех обязательств перед государством и частными партнерами.\n",
      "\n",
      "Эти шаги, по мнению министерства, позволят не только улучшить текущую ситуацию, но и создать условия для устойчивого развития отраслей, входящих в компетенцию Минпромэнерго.\n",
      "\n",
      "--------------------------------------------------\n",
      "\n"
     ]
    },
    {
     "name": "stderr",
     "output_type": "stream",
     "text": [
      " 60%|█████████████████████████████████████████████████████████████▏                                        | 120/200 [39:13<26:03, 19.55s/it]"
     ]
    },
    {
     "name": "stdout",
     "output_type": "stream",
     "text": [
      "Title:\n",
      "Городской голова Калуги умер от инфаркта\n",
      "Text:\n",
      "Вчера, 15 сентября, город Калуга пережил тяжелую утрату — скончался городской голова, Александр Иванович Смирнов. Причиной смерти стала сердечная недостаточность, вызванная инфарктом миокарда. Эта новость потрясла не только жителей города, но и всех, кто знал Александра Ивановича как преданного своему делу лидера и человека.\n",
      "\n",
      "Александр Иванович Смирнов занимал должность городского головы Калуги с 2018 года. За это время он сумел реализовать множество важных проектов, направленных на улучшение жизни горожан. Среди них — модернизация инфраструктуры, развитие социальной сферы и поддержка малого бизнеса. Его инициативы получили широкое признание как среди жителей, так и среди экспертов.\n",
      "\n",
      "Информация о состоянии здоровья Смирнова появилась несколько дней назад, когда стало известно о его госпитализации. Однако даже близкие друзья и коллеги не ожидали такого быстрого развития событий. В последние дни Александр Иванович активно работал над завершением ряда крупных проектов, что, возможно, сказалось на его здоровье.\n",
      "\n",
      "После смерти Смирнова в городе объявлена трехдневная траурная пауза. Мэр Калуги выступил с официальным заявлением, выразив соболезнования горожанам и отметив, что Александр Иванович оставил после себя богатое наследие, которое будет продолжено его преемниками.\n",
      "\n",
      "Сегодня в Калуге проходят панихиды и поминальные службы, на которых жители города выражают свои чувства скорби и благодарности за вклад Смирнова в развитие их родного города.\n",
      "\n",
      "--------------------------------------------------\n",
      "\n"
     ]
    },
    {
     "name": "stderr",
     "output_type": "stream",
     "text": [
      " 60%|█████████████████████████████████████████████████████████████▋                                        | 121/200 [39:33<25:43, 19.54s/it]"
     ]
    },
    {
     "name": "stdout",
     "output_type": "stream",
     "text": [
      "Title:\n",
      "Продуктами с меламином, по данным специалистов, отравились 25% пекинских детей\n",
      "Text:\n",
      "В последние недели Пекин столкнулся с серьёзным кризисом здоровья, связанным с массовым отравлением детей продуктами, содержащими меламин. Согласно последним данным специалистов, около 25% детей в столице Китая оказались под угрозой из-за потребления заражённых товаров. Это событие вызвало широкий общественный резонанс и привело к усиленным проверкам на государственном уровне.\n",
      "\n",
      "### Причины и последствия\n",
      "\n",
      "Меламин — это химическое соединение, которое часто добавляют в пищевые продукты для повышения показателей белка в лабораторных тестах. Однако он крайне токсичен для человека и может вызвать серьёзные проблемы со здоровьем, включая почечную недостаточность и даже летальный исход. В Пекине выявлены случаи отравления среди детей, что вызывает беспокойство у родителей и властей.\n",
      "\n",
      "### Расследование и меры реагирования\n",
      "\n",
      "Правительство Китая немедленно инициировало масштабное расследование, чтобы выявить источники загрязнения и наказать виновных. Были проведены проверки на предприятиях, производящих детское питание и другие продукты питания, а также в торговых сетях. На данный момент уже задержаны несколько руководителей компаний, причастных к распространению заражённых продуктов.\n",
      "\n",
      "### Общественная реакция и меры предосторожности\n",
      "\n",
      "Родители активно обсуждают проблему в социальных сетях, требуя более строгого контроля качества продуктов питания. Местные власти призывают граждан быть осторожными и внимательно проверять состав продуктов перед покупкой.\n",
      "\n",
      "--------------------------------------------------\n",
      "\n"
     ]
    },
    {
     "name": "stderr",
     "output_type": "stream",
     "text": [
      " 61%|██████████████████████████████████████████████████████████████▏                                       | 122/200 [39:52<25:23, 19.53s/it]"
     ]
    },
    {
     "name": "stdout",
     "output_type": "stream",
     "text": [
      "Title:\n",
      "В мурмашинскую колонию прислали в овсянке запрещенные дрожжи\n",
      "Text:\n",
      "В Мурманской области произошел необычный инцидент, связанный с поставкой продуктов питания в одну из местных колоний. Согласно информации, полученной от источников в правоохранительных органах, в овсянку, предназначенную для заключенных, были добавлены запрещенные дрожжи. Это открытие вызвало широкий резонанс и стало предметом тщательного расследования.\n",
      "\n",
      "Сотрудники колонии обнаружили подозрительные добавки в одном из пайков, после чего немедленно сообщили об этом руководству учреждения. Проверка показала, что в составе овсянки действительно присутствуют дрожжи, которые не должны находиться в пище, предоставляемой заключенным. Эти дрожжи могут использоваться для изготовления алкогольных напитков, что представляет серьезную угрозу для безопасности в исправительном учреждении.\n",
      "\n",
      "Руководство колонии сразу же связалось с местными правоохранительными органами, которые начали расследование происшествия. По предварительным данным, продукты могли быть подменены на складе или во время транспортировки. Полиция проводит проверку всех возможных каналов поставки и обращается к общественности с призывом помочь в установлении виновных.\n",
      "\n",
      "Эксперты в области уголовно-исполнительного права отмечают, что подобные случаи могут иметь серьезные последствия, как для заключенных, так и для персонала колонии. Добавление таких веществ может спровоцировать беспорядки и попытки побега. В связи с этим, власти принимают все необходимые меры для предотвращения подобных инцидентов в будущем.\n",
      "\n",
      "--------------------------------------------------\n",
      "\n"
     ]
    },
    {
     "name": "stderr",
     "output_type": "stream",
     "text": [
      " 62%|██████████████████████████████████████████████████████████████▋                                       | 123/200 [40:12<25:01, 19.51s/it]"
     ]
    },
    {
     "name": "stdout",
     "output_type": "stream",
     "text": [
      "Title:\n",
      "Сдерот: юноша украл автомобиль и задавил полицейского\n",
      "Text:\n",
      "В ночь на понедельник в городе Сдерот произошел трагический инцидент, который потряс местное сообщество. Местный житель, 18-летний юноша, был арестован после того, как украл автомобиль и, по неизвестным пока причинам, направился в сторону полицейского участка, где, к сожалению, задавил патрульного офицера.\n",
      "\n",
      "**Детали инцидента:**\n",
      "\n",
      "Инцидент начался около полуночи, когда юноша, находясь в состоянии алкогольного опьянения, угнал автомобиль. Полиция была оперативно предупреждена о происшествии, и вскоре на место прибыли несколько патрульных машин. Юноша, вместо того чтобы остановиться, направил автомобиль прямо на полицейский участок, где находился один из патрульных офицеров.\n",
      "\n",
      "**Последствия и реакция:**\n",
      "\n",
      "Полицейский, пытаясь избежать столкновения, отступил назад, но, к сожалению, не смог избежать удара автомобиля. В результате аварии офицер скончался на месте. Инцидент вызвал шок в обществе, и власти города начали расследование, чтобы выяснить мотивы действий юноши и установить всех свидетелей.\n",
      "\n",
      "**Реакция общественности и властей:**\n",
      "\n",
      "Местные жители выражают глубокое потрясение и скорбь по поводу случившегося. Правоохранительные органы объявили о начале масштабного расследования, направленного на выявление обстоятельств инцидента и привлечение виновных к ответственности.\n",
      "\n",
      "--------------------------------------------------\n",
      "\n"
     ]
    },
    {
     "name": "stderr",
     "output_type": "stream",
     "text": [
      " 62%|███████████████████████████████████████████████████████████████▏                                      | 124/200 [40:31<24:43, 19.52s/it]"
     ]
    },
    {
     "name": "stdout",
     "output_type": "stream",
     "text": [
      "Title:\n",
      "Матвиенко: кризис в Ливии надо урегулировать путем общенационального инклюзивного диалога\n",
      "Text:\n",
      "Сегодня в ходе своего выступления на международной конференции по вопросам региональной безопасности председатель Совета Федерации РФ Валентина Матвиенко подчеркнула необходимость немедленного начала общенационального инклюзивного диалога для урегулирования кризиса в Ливии. По её мнению, только через конструктивное взаимодействие всех заинтересованных сторон можно достичь долгосрочного мира и стабильности в стране.\n",
      "\n",
      "Кризис в Ливии, который длится уже более десяти лет, стал причиной множества гуманитарных проблем и политической нестабильности в регионе. Валентина Матвиенко отметила, что текущая ситуация требует комплексного подхода, включающего участие всех ключевых игроков — от правительственных сил до оппозиционных групп и международных организаций.\n",
      "\n",
      "«Ливия нуждается в сильном и едином правительстве, способном обеспечить безопасность и развитие своей территории», — заявила Матвиенко. Она подчеркнула важность создания платформы, где представители различных фракций смогут обсудить свои интересы и найти компромиссы, которые приведут к созданию устойчивого политического порядка.\n",
      "\n",
      "По словам Матвиенко, одним из главных препятствий на пути к миру является отсутствие доверия между различными группами. Поэтому она предложила начать с малого — проведение серии встреч на уровне лидеров общественных организаций и местных сообществ, чтобы постепенно расширять круг участников диалога.\n",
      "\n",
      "Международное сообщество также должно сыграть свою роль в этом процессе.\n",
      "\n",
      "--------------------------------------------------\n",
      "\n"
     ]
    },
    {
     "name": "stderr",
     "output_type": "stream",
     "text": [
      " 62%|███████████████████████████████████████████████████████████████▊                                      | 125/200 [40:51<24:22, 19.50s/it]"
     ]
    },
    {
     "name": "stdout",
     "output_type": "stream",
     "text": [
      "Title:\n",
      "Не все члены НДР хотят сливаться с \"Единством\"\n",
      "Text:\n",
      "В последние недели в политическом ландшафте России разгорелся новый конфликт, связанный с возможным слиянием Народно-демократической партии (НДР) с партией \"Единство\". Однако не все члены НДР поддерживают это решение, что привело к серьезным разногласиям внутри партии.\n",
      "\n",
      "Согласно последним опросам, значительная часть членов НДР выражает опасения по поводу потери своей идентичности и уникальных программных положений при объединении с \"Единством\". Главной причиной недовольства является риск утраты независимости и самостоятельности, которые были ключевыми принципами НДР на протяжении многих лет.\n",
      "\n",
      "Представители НДР утверждают, что слияние может привести к размыванию их идеологических позиций и ослаблению влияния на политическую арену. Они подчеркивают, что \"Единство\", хотя и является крупной партией, имеет свои собственные интересы и может использовать НДР как инструмент для достижения своих целей.\n",
      "\n",
      "С другой стороны, сторонники слияния считают, что объединение позволит НДР получить больше ресурсов и увеличить свою электоральную базу. Они также указывают на то, что в условиях текущей политической ситуации важно объединять усилия для противостояния другим партиям и сохранения влияния в парламенте.\n",
      "\n",
      "Однако внутри НДР продолжаются дебаты, и многие члены партии выступают за проведение всенародного голосования или съезда, чтобы решить вопрос о будущем партии. В случае принятия решения о слиянии, это может привести к расколу внутри НДР и изменению ее политического курса.\n",
      "\n",
      "--------------------------------------------------\n",
      "\n"
     ]
    },
    {
     "name": "stderr",
     "output_type": "stream",
     "text": [
      " 63%|████████████████████████████████████████████████████████████████▎                                     | 126/200 [41:10<24:05, 19.54s/it]"
     ]
    },
    {
     "name": "stdout",
     "output_type": "stream",
     "text": [
      "Title:\n",
      "В Мурманской области продолжит идти снег\n",
      "Text:\n",
      "Мурманская область вновь оказывается под воздействием суровых погодных условий. В регионе продолжается затяжной снегопад, который может продлиться еще несколько дней. Метеорологи предупреждают о возможных перебоях в работе транспорта и коммунальных служб из-за обильного снега и гололеда.\n",
      "\n",
      "С начала недели регион испытывает на себе мощное влияние циклона, приносящего с собой холодный воздух и обильные осадки. Снегопады уже привели к образованию значительных сугробов, что создает трудности для жителей и местных властей. По прогнозам, в ближайшие дни количество осадков не уменьшится, а температура воздуха останется ниже нуля.\n",
      "\n",
      "Особое внимание уделяется безопасности дорожного движения. Автомобильные дороги и трассы находятся под постоянным наблюдением, однако в условиях обильных снегопадов возможны задержки и отмены рейсов. Местные власти рекомендуют жителям избегать ненужных поездок и следить за обновлениями информации о состоянии дорог.\n",
      "\n",
      "Коммунальные службы работают в усиленном режиме, очищая улицы и тротуары от снега. Однако, учитывая масштабы осадков, процесс уборки занимает значительное время. Жители региона просят проявлять терпение и понимание в этот период.\n",
      "\n",
      "Помимо этого, метеорологи предупреждают о возможности возникновения лавинной опасности в горных районах.\n",
      "\n",
      "--------------------------------------------------\n",
      "\n"
     ]
    },
    {
     "name": "stderr",
     "output_type": "stream",
     "text": [
      " 64%|████████████████████████████████████████████████████████████████▊                                     | 127/200 [41:30<23:46, 19.53s/it]"
     ]
    },
    {
     "name": "stdout",
     "output_type": "stream",
     "text": [
      "Title:\n",
      "Россельхознадзор запретил поставки мяса с еще одного комбината Белоруссии\n",
      "Text:\n",
      "В последние дни Россельхознадзор объявил о новом запрете на поставки мясной продукции с одного из крупнейших белорусских производителей — комбината \"Агро-Продукт\". Это решение было принято после выявления несоответствий в качестве и безопасности продукции, что вызвало обеспокоенность у российских властей и потребителей.\n",
      "\n",
      "### Основные моменты:\n",
      "\n",
      "1. **Причины запрета:**  \n",
      "   Согласно информации от Россельхознадзора, продукция комбината \"Агро-Продукт\" была признана не соответствующей российским стандартам качества и безопасности. В частности, были выявлены проблемы с соблюдением санитарных норм и правил производства.\n",
      "\n",
      "2. **Влияние на рынок:**  \n",
      "   Запрет может оказать значительное влияние на рынок мясной продукции в России. Комбинат \"Агро-Продукт\" является одним из крупнейших экспортеров мяса в Россию, поэтому его отсутствие на рынке может привести к дефициту некоторых видов продукции и, как следствие, к росту цен.\n",
      "\n",
      "3. **Ответные меры со стороны Белоруссии:**  \n",
      "   В ответ на запрет Белоруссия заявила о готовности провести дополнительные проверки и улучшить контроль за качеством продукции на своих предприятиях. Также рассматривается возможность поиска новых партнеров для экспорта продукции, чтобы минимизировать потери.\n",
      "\n",
      "4. **Экспертное мнение:**  \n",
      "   Эксперты отмечают, что подобные решения Россельхознадзора направлены на защиту внутреннего рынка и потребителей от некачественной продукции.\n",
      "\n",
      "--------------------------------------------------\n",
      "\n"
     ]
    },
    {
     "name": "stderr",
     "output_type": "stream",
     "text": [
      " 64%|█████████████████████████████████████████████████████████████████▎                                    | 128/200 [41:49<23:24, 19.51s/it]"
     ]
    },
    {
     "name": "stdout",
     "output_type": "stream",
     "text": [
      "Title:\n",
      "Уголовное дело возбуждено по факту массовой драки в Купчино\n",
      "Text:\n",
      "Вчера вечером в районе Купчино произошла массовая драка, которая привлекла внимание не только местных жителей, но и правоохранительных органов. По предварительным данным, инцидент начался с конфликта между группами молодых людей, который быстро перерос в беспорядки, охватившие несколько кварталов.\n",
      "\n",
      "**Хронология событий:**\n",
      "Согласно свидетельствам очевидцев, первые столкновения начались около 20:00 на одной из улиц Купчино. Напряжение нарастало, и вскоре драка переросла в массовые беспорядки, которые продолжались более двух часов. Полиция была вызвана на место происшествия примерно через 30 минут после начала беспорядков.\n",
      "\n",
      "**Реакция властей:**\n",
      "Полицейские силы были вынуждены использовать специальные средства для разгона толпы, что вызвало дополнительные волнения среди местных жителей. В результате операции было задержано более 50 человек, подозреваемых в участии в беспорядках. Местные власти уже заявили о необходимости проведения расследования и принятия мер для предотвращения подобных инцидентов в будущем.\n",
      "\n",
      "**Уголовное дело:**\n",
      "По факту произошедшего следственные органы возбудили уголовное дело по статьям \"Участие в массовых беспорядках\" и \"Хулиганство\". В настоящее время проводятся допросы свидетелей и задержанных, а также собираются вещественные доказательства для установления всех обстоятельств случившегося.\n",
      "\n",
      "--------------------------------------------------\n",
      "\n"
     ]
    },
    {
     "name": "stderr",
     "output_type": "stream",
     "text": [
      " 64%|█████████████████████████████████████████████████████████████████▊                                    | 129/200 [42:09<23:05, 19.52s/it]"
     ]
    },
    {
     "name": "stdout",
     "output_type": "stream",
     "text": [
      "Title:\n",
      "Десятки человек погибли в результате наводнения на востоке Афганистана \n",
      "Text:\n",
      "На востоке Афганистана разразилась катастрофа, унесшая жизни десятков людей и оставившая тысячи без крова. Наводнение, вызванное проливными дождями, обрушилось на регион, вызвав масштабные разрушения и хаос.\n",
      "\n",
      "**Предыстория и причины:**\n",
      "\n",
      "В последние дни восточная часть Афганистана оказалась под ударом сильнейших ливней, которые продолжались несколько дней. Эти осадки стали результатом изменения климатических условий и увеличения частоты экстремальных погодных явлений в регионе. Местные жители и власти были застигнуты врасплох, так как прогнозы погоды не предупреждали о такой интенсивности дождей.\n",
      "\n",
      "**Разрушения и последствия:**\n",
      "\n",
      "Наводнение затронуло более 10 провинций, включая Газни, Нангархар и Пактию. Вода затопила дома, дороги и инфраструктуру, что привело к значительным разрушениям. По данным местных властей, число погибших достигло 50 человек, а сотни получили ранения. Более 20 000 человек остались без крова, и многие из них вынуждены были эвакуироваться в близлежащие города и деревни.\n",
      "\n",
      "**Социальные и экономические последствия:**\n",
      "\n",
      "Экономические потери от наводнения огромны. Многие фермеры потеряли свои посевы, а предприятия, особенно те, что связаны с сельским хозяйством, понесли серьезные убытки.\n",
      "\n",
      "--------------------------------------------------\n",
      "\n"
     ]
    },
    {
     "name": "stderr",
     "output_type": "stream",
     "text": [
      " 65%|██████████████████████████████████████████████████████████████████▎                                   | 130/200 [42:28<22:46, 19.51s/it]"
     ]
    },
    {
     "name": "stdout",
     "output_type": "stream",
     "text": [
      "Title:\n",
      "Европейский банк отказался обслуживать счета Ротенберга из-за санкций\n",
      "Text:\n",
      "В последние дни международное сообщество столкнулось с новым эпизодом в отношении российского бизнесмена Игоря Ротенберга и его финансовых операций. Европейский банк, известный своей строгой политикой в отношении соблюдения санкционных списков, официально заявил о прекращении обслуживания счетов, принадлежащих Ротенбергу.\n",
      "\n",
      "Игорь Ротенберг, сын известного российского миллиардера Сергея Ротенберга, долгое время был связан с крупными строительными проектами в России и за рубежом. Однако его бизнес сталкивался с международными санкциями после вмешательства России в конфликт на Украине. Недавно европейские банки начали более активно применять санкции против российских граждан и компаний, связанных с режимом Путина.\n",
      "\n",
      "Согласно заявлению банка, решение было принято в соответствии с требованиями Европейского Союза по соблюдению санкций. В частности, Ротенберг входит в список лиц, подверженных ограничениям, которые были введены в ответ на действия России на международной арене. Банк подчеркнул, что не будет участвовать в финансовых операциях, которые могут способствовать обходу этих санкций.\n",
      "\n",
      "Этот шаг вызвал значительные разногласия среди экспертов, которые спорят о том, как такие меры влияют на личные финансы и бизнес-интересы Ротенберга. С одной стороны, это может привести к значительным финансовым потерям для бизнесмена, так как многие его активы и сделки зависят от международных финансовых потоков.\n",
      "\n",
      "--------------------------------------------------\n",
      "\n"
     ]
    },
    {
     "name": "stderr",
     "output_type": "stream",
     "text": [
      " 66%|██████████████████████████████████████████████████████████████████▊                                   | 131/200 [42:48<22:26, 19.52s/it]"
     ]
    },
    {
     "name": "stdout",
     "output_type": "stream",
     "text": [
      "Title:\n",
      "Колокольцев предложил Центробанку облегчить доступ полиции к банковской тайне\n",
      "Text:\n",
      "В последнее время в российском правовом пространстве разгораются дебаты вокруг предложений Михаила Колокольцева, бывшего главы МВД, касающихся упрощения доступа полиции к банковской информации. В своем недавнем выступлении Колокольцев обратился к руководству Центрального банка с предложением облегчить процедуры получения данных о финансовых операциях граждан.\n",
      "\n",
      "### Контекст инициативы\n",
      "\n",
      "Идея Колокольцева вызвала неоднозначную реакцию среди экспертов и общественности. С одной стороны, сторонники этой меры указывают на необходимость усиления правоохранительных органов в борьбе с преступностью, особенно в сфере экономических преступлений и отмывания денег. Они считают, что улучшенный доступ к банковской информации может помочь более эффективно выявлять и пресекать противоправные действия.\n",
      "\n",
      "С другой стороны, критики инициативы подчеркивают важность защиты личной и финансовой информации граждан. Они опасаются, что расширение полномочий полиции может привести к злоупотреблениям и нарушению конфиденциальности.\n",
      "\n",
      "### Подробности предложения\n",
      "\n",
      "Колокольцев предложил внести изменения в действующее законодательство, чтобы ускорить процесс получения полицией данных о финансовых операциях. Это может включать в себя упрощение процедур запроса информации, сокращение сроков рассмотрения таких запросов и усиление координации между правоохранительными органами и финансовыми учреждениями.\n",
      "\n",
      "### Ответ Центробанка\n",
      "\n",
      "На данный момент Центральный банк России официально не комментировал предложение Колокольцева.\n",
      "\n",
      "--------------------------------------------------\n",
      "\n"
     ]
    },
    {
     "name": "stderr",
     "output_type": "stream",
     "text": [
      " 66%|███████████████████████████████████████████████████████████████████▎                                  | 132/200 [43:08<22:12, 19.60s/it]"
     ]
    },
    {
     "name": "stdout",
     "output_type": "stream",
     "text": [
      "Title:\n",
      "ЧМ по хоккею: чехи всухую обыграли сборную Австрии\n",
      "Text:\n",
      "На прошедших выходных на чемпионате мира по хоккею произошло одно из самых впечатляющих событий турнира — чешская сборная одержала убедительную победу над австрийцами со счетом 5:0. Эта победа стала не только очередным шагом к завоеванию титула, но и ярким примером доминирования чешской команды на льду.\n",
      "\n",
      "**Анализ игры:**\n",
      "\n",
      "С первых минут матча чехи продемонстрировали высокий уровень подготовки и командной игры. Их атакующая линия, возглавляемая звездой Национальной хоккейной лиги (НХЛ) Павлом Францоузом, была непроницаема для обороны австрийцев. В течение всего первого периода чехи создали несколько опасных моментов, которые реализовали в голах.\n",
      "\n",
      "Первый гол забил Ян Лашо, который воспользовался ошибкой защитника противника. Второй мяч в ворота австрийцев забил Мартин Клапайда, который продемонстрировал отличную скорость и точность. Третий гол был забит уже во втором периоде, когда чехи усилили давление на ворота соперника, и форвард Мартин Шпорилер завершил комбинацию точным броском.\n",
      "\n",
      "**Ключевые моменты:**\n",
      "\n",
      "В третьем периоде чешская команда продолжила доминировать на льду, не оставив шансов австрийцам. Четвертый гол забил Якуб Врана, который в последние годы стал одним из лидеров чешской сборной.\n",
      "\n",
      "--------------------------------------------------\n",
      "\n"
     ]
    },
    {
     "name": "stderr",
     "output_type": "stream",
     "text": [
      " 66%|███████████████████████████████████████████████████████████████████▊                                  | 133/200 [43:27<21:54, 19.61s/it]"
     ]
    },
    {
     "name": "stdout",
     "output_type": "stream",
     "text": [
      "Title:\n",
      "Российский футбольный союз снял с \"Ростова\" запрет на регистрацию новых игроков \n",
      "Text:\n",
      "Во вторник, 15 ноября, Российский футбольный союз (РФС) официально объявил о снятии запрета на регистрацию новых игроков для футбольного клуба \"Ростов\". Этот шаг стал результатом успешных переговоров между руководством клуба и РФС, которые продолжались в течение последних нескольких недель.\n",
      "\n",
      "\"Ростов\", один из ведущих клубов Российской премьер-лиги (РПЛ), столкнулся с серьёзными финансовыми трудностями в начале этого года, что привело к временному ограничению на регистрацию новых игроков. Это решение было принято для предотвращения возможных нарушений финансового fair play и поддержания стабильности в лиге.\n",
      "\n",
      "Однако, благодаря активным действиям владельцев клуба и их готовности к сотрудничеству с РФС, удалось найти компромиссное решение. В результате, \"Ростов\" теперь имеет возможность укрепить свою команду новыми талантами, что может существенно повлиять на его выступления в предстоящем сезоне.\n",
      "\n",
      "\"Мы рады, что смогли разрешить эту ситуацию и дать возможность 'Ростову' развиваться дальше,\" — заявил представитель РФС. \"Это важный шаг для клуба, который поможет ему не только восстановить свои позиции, но и укрепить состав для будущих успехов.\"\n",
      "\n",
      "По словам президента \"Ростова\", снятие запрета станет значительным стимулом для команды. \"Мы благодарны РФС за понимание и поддержку. Теперь у нас есть шанс усилить состав и бороться за высокие места в таблице РПЛ,\" — отметил он.\n",
      "\n",
      "Среди потенциальных новичков \"Ростова\" уже называют несколько интересных имен, однако окончательные решения по подписанию контрактов ещё не приняты.\n",
      "\n",
      "--------------------------------------------------\n",
      "\n"
     ]
    },
    {
     "name": "stderr",
     "output_type": "stream",
     "text": [
      " 67%|████████████████████████████████████████████████████████████████████▎                                 | 134/200 [43:47<21:32, 19.58s/it]"
     ]
    },
    {
     "name": "stdout",
     "output_type": "stream",
     "text": [
      "Title:\n",
      "Украина: силовики не соблюдают \"режим тишины\"\n",
      "Text:\n",
      "В последние месяцы ситуация на востоке Украины остается напряженной, несмотря на многочисленные попытки мирного урегулирования конфликта. Одним из ключевых элементов этих усилий является \"режим тишины\", который призван снизить уровень насилия и создать условия для переговоров. Однако, как показывают свежие данные, украинские силы обороны продолжают нарушать этот режим, что вызывает серьезную обеспокоенность международного сообщества.\n",
      "\n",
      "### Нарушения \"режима тишины\"\n",
      "\n",
      "Согласно отчетам наблюдательных миссий ООН и других независимых организаций, в последние недели фиксируется значительное количество инцидентов, связанных с применением оружия в зоне конфликта. Эти инциденты происходят как на линии разграничения, так и вблизи нее, что свидетельствует о продолжающемся напряжении и недоверии между сторонами.\n",
      "\n",
      "### Причины нарушений\n",
      "\n",
      "1. **Отсутствие доверия**: Обе стороны конфликта выражают недоверие друг к другу, что затрудняет соблюдение соглашений. Украинская сторона утверждает, что противник использует \"режим тишины\" как предлог для проведения разведывательных операций и подготовки к новым атакам.\n",
      "\n",
      "2. **Политические мотивы**: Некоторые эксперты считают, что нарушения могут быть частью более широкой стратегии, направленной на поддержание высокого уровня напряженности и давления на оппонента.\n",
      "\n",
      "3.\n",
      "\n",
      "--------------------------------------------------\n",
      "\n"
     ]
    },
    {
     "name": "stderr",
     "output_type": "stream",
     "text": [
      " 68%|████████████████████████████████████████████████████████████████████▊                                 | 135/200 [44:06<21:09, 19.54s/it]"
     ]
    },
    {
     "name": "stdout",
     "output_type": "stream",
     "text": [
      "Title:\n",
      "Прокурор попросил для соратника Навального три года условно\n",
      "Text:\n",
      "В ходе судебного заседания по делу о мошенничестве, связанном с деятельностью ближайшего соратника Алексея Навального, прокурор запросил для обвиняемого три года условного лишения свободы. Обвиняемый, имя которого не разглашается из соображений конфиденциальности, был задержан в рамках масштабной операции, проведенной правоохранительными органами.\n",
      "\n",
      "Согласно обвинению, соратник Навального якобы участвовал в схеме, направленной на получение незаконной прибыли от недвижимости, принадлежащей политической организации. Судебное разбирательство продолжалось несколько месяцев и включало в себя представление множества доказательств, свидетельских показаний и экспертных заключений.\n",
      "\n",
      "Защита обвиняемого настаивает на его невиновности, утверждая, что все обвинения основаны на ошибочном толковании фактов и отсутствии веских доказательств. Адвокаты подчеркивают, что их клиент является ключевой фигурой в политическом движении и его арест может иметь серьезные последствия для всей оппозиционной деятельности.\n",
      "\n",
      "Судья, рассматривая дело, выразил готовность выслушать доводы обеих сторон перед вынесением решения. В случае одобрения условного наказания, это станет первым значительным шагом к восстановлению репутации обвиняемого и его возвращению в политическую жизнь. Однако, если суд примет решение о более строгом наказании, это может оказать серьезное влияние на всю оппозиционную среду в России.\n",
      "\n",
      "--------------------------------------------------\n",
      "\n"
     ]
    },
    {
     "name": "stderr",
     "output_type": "stream",
     "text": [
      " 68%|█████████████████████████████████████████████████████████████████████▎                                | 136/200 [44:26<20:50, 19.54s/it]"
     ]
    },
    {
     "name": "stdout",
     "output_type": "stream",
     "text": [
      "Title:\n",
      "В Невском районе задержали наркоторговца\n",
      "Text:\n",
      "В Невском районе Санкт-Петербурга проведена масштабная операция по задержанию крупного наркоторговца, который долгое время контролировал распространение запрещенных веществ в этом районе. В ходе спецоперации полиция задержала подозреваемого, а также изъяла значительное количество наркотиков и оборудования для их производства.\n",
      "\n",
      "**Подготовка к операции:**\n",
      "Операция была тщательно спланирована и подготовлена силами нескольких подразделений полиции. Специалисты провели длительную разведку, чтобы собрать доказательства и определить ключевые места распространения наркотиков. Благодаря слаженной работе правоохранительных органов удалось минимизировать риск для общественности и обеспечить безопасность проведения операции.\n",
      "\n",
      "**Ход операции:**\n",
      "Задержание произошло в одном из жилых домов на улице Ленина, где подозреваемый хранил значительные запасы наркотиков и вел активную торговлю. В ходе обыска были обнаружены и изъяты более 10 кг различных видов наркотиков, включая героин и синтетические аналоги. Кроме того, полиция нашла оборудование для производства наркотиков и финансовые документы, которые помогут установить масштабы его незаконной деятельности.\n",
      "\n",
      "**Последствия для сообщества:**\n",
      "Задержание наркоторговца вызвало положительную реакцию среди местных жителей, которые давно страдали от проблем, связанных с наркотиками. Многие выразили надежду на улучшение безопасности и снижение уровня преступности в районе.\n",
      "\n",
      "--------------------------------------------------\n",
      "\n"
     ]
    },
    {
     "name": "stderr",
     "output_type": "stream",
     "text": [
      " 68%|█████████████████████████████████████████████████████████████████████▊                                | 137/200 [44:46<20:34, 19.60s/it]"
     ]
    },
    {
     "name": "stdout",
     "output_type": "stream",
     "text": [
      "Title:\n",
      "Полузащитник ЦСКА Дзагоев занимает 87-ю строчку в списке самых дорогих футболистов мира\n",
      "Text:\n",
      "Футбольный рынок постоянно меняется, и новые имена появляются на вершинах рейтингов самых дорогих игроков. На сегодняшний день полузащитник московского ЦСКА и сборной России Хабиб Дзагоев занимает 87-е место в списке самых дорогих футболистов мира. Это достижение стало результатом его выдающихся выступлений как на клубном, так и на международном уровне.\n",
      "\n",
      "Хабиб Дзагоев начал свой профессиональный путь в \"Анжи\", где быстро зарекомендовал себя как перспективный игрок. В 2010 году он перешел в \"Баварию\", что стало важным шагом в его карьере. Однако из-за травм и изменений в составе \"Баварии\" Дзагоев не смог полностью раскрыть свой потенциал в немецком клубе. В 2013 году он вернулся в Россию, подписав контракт с ЦСКА, где стал одним из ключевых игроков команды.\n",
      "\n",
      "За время своего пребывания в ЦСКА Дзагоев продемонстрировал высокий уровень мастерства и стабильность, что позволило ему войти в число самых дорогих футболистов мира. Его технические навыки, умение контролировать темп игры и точные передачи сделали его ценным активом для любой команды.\n",
      "\n",
      "В последние годы Дзагоев также активно участвует в международных турнирах, представляя сборную России. Его участие в чемпионатах Европы и Кубках Конфедераций способствовало росту его популярности и стоимости на рынке трансферов.\n",
      "\n",
      "--------------------------------------------------\n",
      "\n"
     ]
    },
    {
     "name": "stderr",
     "output_type": "stream",
     "text": [
      " 69%|██████████████████████████████████████████████████████████████████████▍                               | 138/200 [45:05<20:13, 19.57s/it]"
     ]
    },
    {
     "name": "stdout",
     "output_type": "stream",
     "text": [
      "Title:\n",
      "Косово воздержится от односторонних действий на севере края\n",
      "Text:\n",
      "В последние дни международное сообщество активно обсуждает позицию Косово по вопросу о возможных односторонних действиях в отношении северного региона края, который контролируется Сербией. В ответ на обеспокоенности со стороны международных партнеров и соседних государств, правительство Косово официально заявило о своем намерении воздержаться от любых односторонних шагов.\n",
      "\n",
      "**Предыстория ситуации**\n",
      "\n",
      "Северный регион Косово, также известный как \"Северный Косово\", является спорной территорией, которая с момента провозглашения независимости Косово в 2008 году остается под контролем сербских властей. Этот регион имеет значительное сербское население и отличается от остальной части Косово по культурным и политическим аспектам.\n",
      "\n",
      "**Решение Косово**\n",
      "\n",
      "В заявлении, опубликованном правительством Косово, подчеркивается необходимость соблюдения международного права и уважения суверенитета Сербии. \"Мы признаем важность сотрудничества с международным сообществом для разрешения всех спорных вопросов мирным путем,\" — заявил премьер-министр Косово Албин Курти. Он также добавил, что Косово готово к диалогу с Сербией и международными посредниками для достижения долгосрочного решения.\n",
      "\n",
      "**Международная реакция**\n",
      "\n",
      "Этот шаг был встречен с облегчением со стороны Европейского Союза и США, которые опасались эскалации напряженности в регионе.\n",
      "\n",
      "--------------------------------------------------\n",
      "\n"
     ]
    },
    {
     "name": "stderr",
     "output_type": "stream",
     "text": [
      " 70%|██████████████████████████████████████████████████████████████████████▉                               | 139/200 [45:25<19:52, 19.55s/it]"
     ]
    },
    {
     "name": "stdout",
     "output_type": "stream",
     "text": [
      "Title:\n",
      "Яценюк: в Мариуполь и Бердянск возобновились поставки газа\n",
      "Text:\n",
      "В последнее время ситуация с энергоснабжением в регионах, затронутых конфликтом на востоке Украины, вызывала серьёзную обеспокоенность. Однако сегодня правительство Украины сделало важный шаг, который может существенно улучшить ситуацию в Мариуполе и Бердянске. Согласно заявлению Владимира Яценюка, главы украинского правительства, поставки газа в эти города возобновлены.\n",
      "\n",
      "Поставки газа в Мариуполь и Бердянск были приостановлены из-за сложных логистических и политических обстоятельств. Однако благодаря усилиям украинских властей и международных партнёров удалось найти решение, которое позволит восстановить нормальное энергоснабжение в этих регионах.\n",
      "\n",
      "Владимир Яценюк отметил, что это решение стало возможным благодаря тесному сотрудничеству с Европейским Союзом и другими международными организациями. Он подчеркнул, что стабильное энергоснабжение является ключевым фактором для восстановления экономики и социальной инфраструктуры в этих городах.\n",
      "\n",
      "«Мы понимаем, какую важную роль играет доступ к энергии для обеспечения безопасности и благополучия жителей Мариуполя и Бердянска», — заявил Яценюк. «Этот шаг — не только победа над трудностями, но и символ нашей решимости восстановить мир и стабильность на всей территории Украины».\n",
      "\n",
      "По словам представителей местных властей, возобновление поставок газа уже положительно сказалось на жизни горожан.\n",
      "\n",
      "--------------------------------------------------\n",
      "\n"
     ]
    },
    {
     "name": "stderr",
     "output_type": "stream",
     "text": [
      " 70%|███████████████████████████████████████████████████████████████████████▍                              | 140/200 [45:44<19:32, 19.55s/it]"
     ]
    },
    {
     "name": "stdout",
     "output_type": "stream",
     "text": [
      "Title:\n",
      "Генконсульство Польши во Львове забросали бутылками с краской\n",
      "Text:\n",
      "**Название: Генконсульство Польши во Львове подверглось акции протеста: что стоит за забрасыванием бутылками с краской**\n",
      "\n",
      "Во Львове произошел инцидент, который вызвал широкий резонанс в международных СМИ и социальных сетях. 15 июня генеральное консульство Польши было заброшено бутылками с краской, что стало неожиданным проявлением недовольства среди местного населения. Эта акция протеста оставила множество вопросов без ответов и привлекла внимание к сложным политическим и историческим отношениям между Украиной и Польшей.\n",
      "\n",
      "**Контекст инцидента**\n",
      "\n",
      "События развернулись на фоне напряженности в отношениях между двумя странами, которые имеют богатую и сложную историю взаимоотношений. В последние годы обе стороны обвиняют друг друга в нарушении прав человека и исторической памяти. Недавние споры вокруг памятников и исторических нарративов стали катализатором для недовольства, вылившегося в акцию протеста против польского консульства.\n",
      "\n",
      "**Реакция властей**\n",
      "\n",
      "После инцидента власти Украины и Польши выразили осуждение в адрес тех, кто организовал и участвовал в акции. Министерство иностранных дел Украины заявило, что такие действия недопустимы и противоречат принципам мирного сосуществования. В свою очередь, польская сторона также осудила этот инцидент, подчеркнув важность диалога и взаимного уважения.\n",
      "\n",
      "**Мнения экспертов**\n",
      "\n",
      "Историки и политологи предлагают различные интерпретации причин и последствий этого события.\n",
      "\n",
      "--------------------------------------------------\n",
      "\n"
     ]
    },
    {
     "name": "stderr",
     "output_type": "stream",
     "text": [
      " 70%|███████████████████████████████████████████████████████████████████████▉                              | 141/200 [46:04<19:13, 19.54s/it]"
     ]
    },
    {
     "name": "stdout",
     "output_type": "stream",
     "text": [
      "Title:\n",
      "Украина понесла тяжелую потерю на Донбассе: трагическая новость с фронта\n",
      "Text:\n",
      "В последние дни на востоке Украины произошло событие, которое потрясло весь мир и вызвало глубокое огорчение среди украинцев. На Донбассе, в районе города Северодонецк, произошла трагическая потеря, которая стала серьёзным ударом по оборонительным позициям Украины.\n",
      "\n",
      "Согласно последним данным, под контролем российских войск оказался стратегически важный опорный пункт — город Северодонецк. Это событие стало не только военной неудачей для Украины, но и символом утраты контроля над территорией, которая была ключевой для обороны региона. Северодонецк, расположенный на берегу реки Северский Донец, играл важную роль в снабжении и логистике, а также служил важным пунктом для развертывания военных сил.\n",
      "\n",
      "Местные жители и военные свидетельствуют о том, что бой был ожесточённым. По предварительным данным, в ходе операции погибли более 100 украинских военнослужащих, а также множество мирных жителей, оказавшихся в эпицентре конфликта. Потери среди гражданского населения остаются подтверждаемыми, и власти продолжают проверку данных.\n",
      "\n",
      "Эта потеря имеет не только военное, но и психологическое значение. Для украинского общества это ещё один удар по моральному духу, особенно в условиях длительного конфликта и экономических трудностей. Однако, как отмечают военные эксперты, несмотря на тяжёлые потери, украинские войска продолжают сопротивление и готовы защищать каждую пядь земли.\n",
      "\n",
      "--------------------------------------------------\n",
      "\n"
     ]
    },
    {
     "name": "stderr",
     "output_type": "stream",
     "text": [
      " 71%|████████████████████████████████████████████████████████████████████████▍                             | 142/200 [46:23<18:55, 19.58s/it]"
     ]
    },
    {
     "name": "stdout",
     "output_type": "stream",
     "text": [
      "Title:\n",
      "Российский аналог «Википедии» (за два миллиарда) пообещали запустить в 2022 году\n",
      "Text:\n",
      "В 2022 году в России планируют запустить собственную версию всемирно известной энциклопедии «Википедия», которая будет полностью соответствовать требованиям российского законодательства и станет важной частью цифровой инфраструктуры страны. Проект, получивший название «Русская Википедия», оценивается в два миллиарда рублей.\n",
      "\n",
      "### Цели и задачи проекта\n",
      "\n",
      "Основная цель создания «Русской Википедии» — обеспечить доступ к достоверной информации на русском языке, соответствующей российским стандартам и законодательству. Это особенно актуально в условиях изменяющегося информационного ландшафта и необходимости защиты национальных интересов в интернете. Проект также направлен на развитие отечественного IT-сектора и поддержку местных разработчиков.\n",
      "\n",
      "### Финансирование и реализация\n",
      "\n",
      "Финансирование проекта осуществляется за счет государственных средств, выделенных в рамках программы цифровизации России. Ожидается, что значительная часть бюджета пойдет на разработку программного обеспечения, создание серверной инфраструктуры и привлечение специалистов для работы над контентом. Планируется привлечение как отечественных, так и международных экспертов для обеспечения качества и надежности энциклопедии.\n",
      "\n",
      "### Особенности и преимущества\n",
      "\n",
      "Одним из ключевых преимуществ «Русской Википедии» является ее соответствие российскому законодательству, что позволяет избежать юридических споров и блокировок, которые часто возникают у международной версии. Кроме того, проект предполагает активное участие гражданского общества и образовательных учреждений в создании и развитии контента.\n",
      "\n",
      "--------------------------------------------------\n",
      "\n"
     ]
    },
    {
     "name": "stderr",
     "output_type": "stream",
     "text": [
      " 72%|████████████████████████████████████████████████████████████████████████▉                             | 143/200 [46:43<18:39, 19.64s/it]"
     ]
    },
    {
     "name": "stdout",
     "output_type": "stream",
     "text": [
      "Title:\n",
      "За первый час в день распродаж Alibaba заработала $13 млрд\n",
      "Text:\n",
      "В первый час проведения ежегодного мероприятия \"Сингл-Дэй\", Alibaba, китайский гигант электронной коммерции, достигла впечатляющего финансового результата — $13 миллиардов выручки. Это не только новый рекорд для самого события, но и подтверждение доминирующего положения компании на мировом рынке онлайн-торговли.\n",
      "\n",
      "\"Сингл-Дэй\", или \"День холостяков\", был запущен Alibaba в 2009 году как способ продвижения товаров в период после Дня Святого Валентина, когда многие пользователи интернета ищут подарки для себя или друзей. Однако со временем мероприятие превратилось в одну из крупнейших в мире онлайн-распродаж, с участием миллионов покупателей по всему миру.\n",
      "\n",
      "В этом году Alibaba предложила широкий ассортимент товаров — от электроники и одежды до косметики и продуктов питания. Особое внимание было уделено экологически чистым продуктам и товарам, соответствующим принципам устойчивого развития, что стало важной частью стратегии компании на будущее.\n",
      "\n",
      "Одним из ключевых факторов успеха стала интеграция технологий искусственного интеллекта (ИИ) и машинного обучения. Системы ИИ помогали персонализировать предложения для каждого покупателя, что значительно повысило эффективность маркетинговых кампаний и удовлетворенность клиентов.\n",
      "\n",
      "Кроме того, Alibaba продолжает развивать свою логистическую инфраструктуру, чтобы обеспечить быструю доставку товаров. Несмотря на пандемию COVID-19, которая вызвала задержки в поставках, компания смогла минимизировать их влияние благодаря оптимизации цепочек поставок и использованию передовых технологий.\n",
      "\n",
      "--------------------------------------------------\n",
      "\n"
     ]
    },
    {
     "name": "stderr",
     "output_type": "stream",
     "text": [
      " 72%|█████████████████████████████████████████████████████████████████████████▍                            | 144/200 [47:03<18:17, 19.61s/it]"
     ]
    },
    {
     "name": "stdout",
     "output_type": "stream",
     "text": [
      "Title:\n",
      "Баканов с надбавками и премиями получил 57 тыс. гривен, но его оклад все еще неизвестен\n",
      "Text:\n",
      "В последние дни в украинских СМИ активно обсуждается вопрос о доходах министра инфраструктуры Владимира Баканова. Недавно стало известно, что за месяц он получил 57 тысяч гривен, включая надбавки и премии. Однако точная сумма его основного оклада остается неизвестной.\n",
      "\n",
      "**Детали доходов:**\n",
      "\n",
      "По данным Министерства финансов, доходы Баканова состоят из нескольких составляющих: основной оклад, надбавки за квалификацию и премии за выполнение служебных обязанностей. Согласно информации, опубликованной на официальном сайте министерства, общая сумма его дохода за октябрь составила 57 000 гривен.\n",
      "\n",
      "**Непрозрачность оклада:**\n",
      "\n",
      "Однако, несмотря на детальное раскрытие составляющих доходов, точная сумма основного оклада министра остается закрытой информацией. Это вызывает вопросы у общественности и экспертов, которые отмечают необходимость большей прозрачности в вопросах доходов государственных служащих.\n",
      "\n",
      "**Обсуждение и реакция:**\n",
      "\n",
      "Эксперты в области государственной службы считают, что такая ситуация подрывает доверие граждан к системе управления. \"Прозрачность доходов чиновников — это важный шаг к повышению доверия общества к власти,\" — заявил Александр Коваленко, эксперт по государственной политике. Он также отметил, что отсутствие информации о размере оклада может свидетельствовать о недостаточной эффективности системы контроля за расходами государственных средств.\n",
      "\n",
      "**Позиция министра:**\n",
      "\n",
      "На данный момент Владимир Баканов не предоставил комментариев относительно своих доходов и причин непрозрачности информации об окладе.\n",
      "\n",
      "--------------------------------------------------\n",
      "\n"
     ]
    },
    {
     "name": "stderr",
     "output_type": "stream",
     "text": [
      " 72%|█████████████████████████████████████████████████████████████████████████▉                            | 145/200 [47:22<17:56, 19.57s/it]"
     ]
    },
    {
     "name": "stdout",
     "output_type": "stream",
     "text": [
      "Title:\n",
      "В Приднестровье объявили мобилизацию\n",
      "Text:\n",
      "В последние дни Приднестровье стало центром внимания международного сообщества после объявления о мобилизации. Этот шаг, предпринятый правительством региона, вызвал бурные обсуждения как внутри страны, так и за ее пределами. Рассмотрим детали этого события и его возможные последствия.\n",
      "\n",
      "**Предыстория и контекст**\n",
      "\n",
      "Приднестровье, непризнанная республика, расположенная на территории Молдовы, имеет сложную историю отношений с Кишиневом. Споры о статусе региона, экономические разногласия и этнические напряженности создают почву для политической нестабильности. В последние годы регион сталкивается с рядом вызовов, включая экономические санкции и давление со стороны международных организаций.\n",
      "\n",
      "**Объявление о мобилизации**\n",
      "\n",
      "15 октября правительство Приднестровья объявило о начале всеобщей мобилизации. Официальные заявления указывают на необходимость укрепления обороноспособности региона в условиях возрастающих внешних угроз. Однако многие эксперты видят в этом шаге попытку укрепить внутреннюю поддержку режима и отвлечь внимание от внутренних проблем.\n",
      "\n",
      "**Политические и социальные последствия**\n",
      "\n",
      "Объявление о мобилизации вызвало неоднозначную реакцию среди населения Приднестровья. С одной стороны, часть жителей поддерживает этот шаг, видя в нем гарантию безопасности. С другой стороны, есть опасения, что это может привести к дальнейшей изоляции региона и ухудшению экономической ситуации.\n",
      "\n",
      "--------------------------------------------------\n",
      "\n"
     ]
    },
    {
     "name": "stderr",
     "output_type": "stream",
     "text": [
      " 73%|██████████████████████████████████████████████████████████████████████████▍                           | 146/200 [47:42<17:35, 19.55s/it]"
     ]
    },
    {
     "name": "stdout",
     "output_type": "stream",
     "text": [
      "Title:\n",
      "На западе Украины совершено нападение на церковь Московского патриархата\n",
      "Text:\n",
      "В ночь на 15 июня в западной части Украины произошло нападение на православную церковь Московского патриархата, что вызвало широкий резонанс как внутри страны, так и за ее пределами. Инцидент произошел в небольшом городке Подгорье, где группа неизвестных напала на здание церкви, повредив его и оставив вандализированными внутренние помещения.\n",
      "\n",
      "### Обстоятельства инцидента\n",
      "\n",
      "По словам священника местного прихода, нападение началось около полуночи. Нападавшие, численностью около десяти человек, ворвались в церковь, разбили окна и повредили мебель. Они также осквернили иконы и другие предметы религиозного культа. Священник сообщил, что после инцидента никто из верующих не пострадал, однако психологическая травма, которую пережили прихожане, очевидна.\n",
      "\n",
      "### Реакция властей и общества\n",
      "\n",
      "Правоохранительные органы начали расследование инцидента, однако пока не сообщают о задержании подозреваемых. Местные жители выразили возмущение и опасения по поводу безопасности в регионе. В социальных сетях активно обсуждается происшествие, многие пользователи призывают к усилению мер безопасности для религиозных учреждений.\n",
      "\n",
      "Президент Украины Владимир Зеленский осудил нападение, назвав его актом вандализма и проявлением нетерпимости. Он поручил правоохранительным органам провести тщательное расследование и привлечь виновных к ответственности.\n",
      "\n",
      "--------------------------------------------------\n",
      "\n"
     ]
    },
    {
     "name": "stderr",
     "output_type": "stream",
     "text": [
      " 74%|██████████████████████████████████████████████████████████████████████████▉                           | 147/200 [48:01<17:15, 19.54s/it]"
     ]
    },
    {
     "name": "stdout",
     "output_type": "stream",
     "text": [
      "Title:\n",
      "Рябков: продвижения в вопросе реконструкции реактора в Араке пока нет\n",
      "Text:\n",
      "В последние месяцы внимание международного сообщества привлекли переговоры по реконструкции ядерного реактора в Араке, Иран. Однако, как заявил заместитель министра иностранных дел России Сергей Рябков, значительных успехов в этом направлении пока не наблюдается.\n",
      "\n",
      "**Ситуация вокруг реактора в Араке**\n",
      "\n",
      "Реактор в Араке, строительство которого началось в 1990-х годах, изначально планировался как исследовательский объект. Однако впоследствии он стал предметом международных споров, поскольку вызывал опасения по поводу возможного использования его для производства оружейного плутония. В 2015 году в рамках Совместного всеобъемлющего плана действий (СВПД) Иран обязался ограничить свою ядерную программу, включая работу над этим реактором.\n",
      "\n",
      "**Переговоры и текущее состояние**\n",
      "\n",
      "Несмотря на многочисленные попытки урегулировать ситуацию, переговоры по реконструкции реактора в Араке продолжают оставаться безрезультатными. По словам Сергея Рябкова, основная проблема заключается в отсутствии четкого плана действий со стороны Ирана. Россия, являющаяся ключевым игроком в переговорах, призывает к конструктивному диалогу и предложению конкретных шагов по модернизации и безопасной эксплуатации реактора.\n",
      "\n",
      "**Позиция международного сообщества**\n",
      "\n",
      "Международное сообщество также проявляет интерес к разрешению этого вопроса. США и Европейский Союз выражают обеспокоенность по поводу потенциальной угрозы безопасности, связанной с существующим состоянием реактора.\n",
      "\n",
      "--------------------------------------------------\n",
      "\n"
     ]
    },
    {
     "name": "stderr",
     "output_type": "stream",
     "text": [
      " 74%|███████████████████████████████████████████████████████████████████████████▍                          | 148/200 [48:21<16:56, 19.54s/it]"
     ]
    },
    {
     "name": "stdout",
     "output_type": "stream",
     "text": [
      "Title:\n",
      "Украина начала проверку гуманитарного груза из России\n",
      "Text:\n",
      "В последние дни внимание мировой общественности привлекло начало проверки гуманитарного груза, поступившего из России в Украину. Это событие вызвало широкие дискуссии и вопросы о его значении для текущих политических отношений между двумя странами.\n",
      "\n",
      "**Предыстория:**\n",
      "Гуманитарная помощь, отправленная Россией, включает в себя различные товары, такие как медикаменты, продовольствие и строительные материалы, которые должны помочь облегчить ситуацию в зоне военных действий на востоке Украины. Однако эта инициатива была встречена с недоверием со стороны украинских властей и международных наблюдателей.\n",
      "\n",
      "**Цели проверки:**\n",
      "Украинские власти заявили, что проверка направлена на обеспечение прозрачности и безопасности поставок. Они подчеркнули, что важны не только гуманитарные цели, но и соблюдение международных норм и правил, чтобы исключить возможность передачи оружия или других материалов, которые могут использоваться в военных целях.\n",
      "\n",
      "**Реакция международного сообщества:**\n",
      "Многие страны и международные организации выразили свою поддержку усилиям Украины по обеспечению безопасности гуманитарных поставок. Некоторые эксперты считают, что этот шаг может стать первым шагом к улучшению отношений между Украиной и Россией, если он будет проведен честно и открыто.\n",
      "\n",
      "**Политические последствия:**\n",
      "Ситуация вокруг проверки гуманитарного груза стала еще одним тестом для отношений между Украиной и Россией. С одной стороны, это может быть шансом для диалога и снижения напряженности.\n",
      "\n",
      "--------------------------------------------------\n",
      "\n"
     ]
    },
    {
     "name": "stderr",
     "output_type": "stream",
     "text": [
      " 74%|███████████████████████████████████████████████████████████████████████████▉                          | 149/200 [48:40<16:36, 19.55s/it]"
     ]
    },
    {
     "name": "stdout",
     "output_type": "stream",
     "text": [
      "Title:\n",
      "Пересдачи автомобильных экзаменов станут платными\n",
      "Text:\n",
      "В ближайшем будущем пересдача автомобильных экзаменов в России может стать платной процедурой. Это решение, принятое Министерством транспорта, вызвало неоднозначную реакцию среди будущих водителей и общественности. Давайте разберемся, какие изменения ждут тех, кто стремится получить водительское удостоверение.\n",
      "\n",
      "### Платная пересдача: что это значит?\n",
      "\n",
      "Согласно новому регламенту, стоимость пересдачи теоретического экзамена составит 1000 рублей, а практического — 2000 рублей. Эти суммы будут взиматься с каждого кандидата, который не сдал экзамен в первый раз. В случае успешной пересдачи, оплата не потребуется.\n",
      "\n",
      "### Причины введения платы\n",
      "\n",
      "Министерство транспорта объясняет необходимость введения платы за пересдачу экзаменов стремлением повысить качество подготовки будущих водителей. Согласно официальным данным, значительное количество кандидатов не справляется с первыми попытками сдачи экзаменов, что может свидетельствовать о недостаточной подготовке. Введение платы, по мнению чиновников, должно мотивировать кандидатов более серьезно подойти к изучению правил дорожного движения и тренировке навыков вождения.\n",
      "\n",
      "### Как это повлияет на будущих водителей?\n",
      "\n",
      "Для многих будущих водителей новая система может стать дополнительным финансовым бременем. Стоимость пересдачи может существенно увеличиться, особенно если придется несколько раз повторять экзамены. Однако сторонники реформы утверждают, что это поможет улучшить общую культуру вождения и снизить количество аварий на дорогах.\n",
      "\n",
      "--------------------------------------------------\n",
      "\n"
     ]
    },
    {
     "name": "stderr",
     "output_type": "stream",
     "text": [
      " 75%|████████████████████████████████████████████████████████████████████████████▌                         | 150/200 [49:00<16:19, 19.59s/it]"
     ]
    },
    {
     "name": "stdout",
     "output_type": "stream",
     "text": [
      "Title:\n",
      "Безбородов: бригада судей сработала безошибочно в матче за Суперкубок России по футболу\n",
      "Text:\n",
      "В минувшую субботу на стадионе \"Санкт-Петербург\" состоялся долгожданный матч за Суперкубок России по футболу, в котором встретились московский \"Спартак\" и петербургский \"Зенит\". Матч, который привлек внимание болельщиков со всей страны, прошел под строгим контролем бригады судей во главе с Сергеем Лапочкиным. По итогам встречи главный арбитр встречи, Валерий Безбородов, оценил работу судейской бригады как безупречную.\n",
      "\n",
      "**Оценка работы судейской бригады**\n",
      "\n",
      "Валерий Безбородов, президент Российской футбольной федерации (РФС), выступил с комментариями после матча, отметив высокий уровень профессионализма судейской бригады. \"Мне приятно отметить, что сегодня бригада судей сработала безошибочно. Все решения были приняты в соответствии с правилами игры, и это позволило командам сосредоточиться на игре, а не на спорах вокруг судейства\", — заявил Безбородов.\n",
      "\n",
      "**Ключевые моменты матча**\n",
      "\n",
      "Несмотря на напряженность и интенсивность борьбы, судьи смогли сохранить контроль над ходом игры. Важные эпизоды, такие как пенальти и удаления, были рассмотрены тщательно и справедливо. Судьи также продемонстрировали умение быстро реагировать на изменения в ходе игры, обеспечивая ее бесперебойное течение.\n",
      "\n",
      "**Обратная связь от команд**\n",
      "\n",
      "Представители обеих команд также выразили удовлетворение работой судейской бригады.\n",
      "\n",
      "--------------------------------------------------\n",
      "\n"
     ]
    },
    {
     "name": "stderr",
     "output_type": "stream",
     "text": [
      " 76%|█████████████████████████████████████████████████████████████████████████████                         | 151/200 [49:20<16:02, 19.63s/it]"
     ]
    },
    {
     "name": "stdout",
     "output_type": "stream",
     "text": [
      "Title:\n",
      "Найджел де Йонг не поможет сборной Нидерландов в матче с латвийцами\n",
      "Text:\n",
      "В преддверии ключевого матча отборочного турнира чемпионата Европы 2024 между сборными Нидерландов и Латвии стало известно, что капитан команды Найджел де Йонг не сможет принять участие в игре. Причиной тому стала серьёзная травма, полученная игроком во время тренировки.\n",
      "\n",
      "Де Йонг, который является одним из лидеров команды и ключевым игроком в обороне, получил разрыв связок колена. Врачи оценивают его восстановление как минимум в три недели, что делает участие в предстоящем матче маловероятным.\n",
      "\n",
      "Эта новость стала настоящим ударом для национальной команды, так как де Йонг играет важную роль не только в защите, но и в организации игры команды в целом. Его отсутствие может повлиять на тактику тренера и распределение ролей среди других защитников.\n",
      "\n",
      "Тренерский штаб сборной Нидерландов уже начал активно искать замену для своего лидера. Среди кандидатов рассматриваются несколько опытных защитников, которые смогут занять место де Йонга в основе команды. Среди них — Клас-Ян Хунтелаар и Джорджиньо Вейналдум, хотя последний предпочитает играть на позиции полузащитника.\n",
      "\n",
      "Помимо поиска замены, команда также сосредоточена на поддержании морального духа игроков. Тренеры проводят дополнительные психологические тренинги, чтобы помочь команде справиться с потерей одного из ключевых игроков.\n",
      "\n",
      "--------------------------------------------------\n",
      "\n"
     ]
    },
    {
     "name": "stderr",
     "output_type": "stream",
     "text": [
      " 76%|█████████████████████████████████████████████████████████████████████████████▌                        | 152/200 [49:40<15:44, 19.68s/it]"
     ]
    },
    {
     "name": "stdout",
     "output_type": "stream",
     "text": [
      "Title:\n",
      "В Уфе в основном торгуют продуктами из своего региона\n",
      "Text:\n",
      "В Уфе наблюдается удивительная тенденция: в последние годы основную долю на местных рынках занимают продукты, произведенные в регионе. Эта смена акцентов в торговле не только поддерживает местных производителей, но и оказывает значительное влияние на развитие экономики региона.\n",
      "\n",
      "**1. Местные корни успеха**\n",
      "\n",
      "Сегодня на уфимских прилавках можно найти разнообразные товары: от свежих овощей и фруктов до мясных и молочных продуктов, которые производятся непосредственно в Башкортостане. Это стало возможным благодаря активному развитию сельского хозяйства и поддержке со стороны местных властей.\n",
      "\n",
      "**2. Поддержка местного производства**\n",
      "\n",
      "Государственные программы, направленные на развитие агропромышленного комплекса, сыграли ключевую роль в этом процессе. Благодаря субсидиям и льготным кредитам местные фермеры получили возможность модернизировать производство и расширять ассортимент продукции. В результате, сегодня уфимцы могут гордиться тем, что большая часть их ежедневных покупок – это продукты, выращенные и произведенные в их собственном регионе.\n",
      "\n",
      "**3. Влияние на потребителей**\n",
      "\n",
      "Потребители, в свою очередь, отмечают не только доступность и разнообразие местной продукции, но и ее высокое качество. Многие уфимцы предпочитают покупать продукты, произведенные в регионе, потому что они уверены в их натуральности и экологичности. Кроме того, поддержка местных производителей способствует укреплению чувства патриотизма и привязанности к родному краю.\n",
      "\n",
      "**4.\n",
      "\n",
      "--------------------------------------------------\n",
      "\n"
     ]
    },
    {
     "name": "stderr",
     "output_type": "stream",
     "text": [
      " 76%|██████████████████████████████████████████████████████████████████████████████                        | 153/200 [49:59<15:26, 19.70s/it]"
     ]
    },
    {
     "name": "stdout",
     "output_type": "stream",
     "text": [
      "Title:\n",
      "\"Манчестер Юнайтед\" объявил о продлении контракта с Ибрагимовичем на год\n",
      "Text:\n",
      "\"Манчестер Юнайтед\" официально объявил о продлении контракта с легендарным шведским нападающим Златаном Ибрагимовичем на один год. Это решение вызвало бурю эмоций среди болельщиков и экспертов, которые пытаются разобраться в стратегии клуба и влиянии этого шага на будущее команды.\n",
      "\n",
      "### Влияние на команду\n",
      "\n",
      "Продление контракта с Ибрагимовичем — это не только признание его мастерства и вклада в успех команды, но и стратегическое решение. Шведский форвард стал ключевым игроком в последние сезоны, демонстрируя высокий уровень игры и способность забивать голы в критические моменты матчей. Его опыт и лидерские качества также оказывают положительное влияние на молодых игроков, помогая им развиваться и расти в профессиональном плане.\n",
      "\n",
      "### Ожидания от нового сезона\n",
      "\n",
      "Срок продления контракта дает \"Манчестер Юнайтед\" возможность продолжать использовать Ибрагимовича в качестве важного элемента в атакующей линии команды. Болельщики надеются, что он сможет помочь команде улучшить свои результаты и вернуться в число лидеров английского футбола. Однако, как и в любом долгосрочном решении, есть и потенциальные риски. Возраст Ибрагимовича (36 лет) может повлиять на его физическую форму и игровую эффективность, что потребует от тренера гибкости в тактике и подборе состава.\n",
      "\n",
      "--------------------------------------------------\n",
      "\n"
     ]
    },
    {
     "name": "stderr",
     "output_type": "stream",
     "text": [
      " 77%|██████████████████████████████████████████████████████████████████████████████▌                       | 154/200 [50:19<15:04, 19.66s/it]"
     ]
    },
    {
     "name": "stdout",
     "output_type": "stream",
     "text": [
      "Title:\n",
      "На месте крушения A-321 в Египте обнаружены тела 150 погибших\n",
      "Text:\n",
      "В результате тщательного расследования на месте крушения Airbus A-321, произошедшего в Египте, были обнаружены останки 150 погибших. Эта трагическая авария, произошедшая 19 октября 2015 года, стала одной из самых разрушительных катастроф в истории гражданской авиации.\n",
      "\n",
      "### Детали катастрофы\n",
      "\n",
      "Самолет Airbus A-321 компании Germanwings выполнял рейс из Шарм-эш-Шейха в Дюссельдорф, когда внезапно исчез с радаров. Позднее было установлено, что причиной катастрофы стал преднамеренный сброс самолета с высоты более 10 тысяч метров. Пилот-пассажир, 27-летний Лоран Марк, был объявлен главным подозреваемым в этом преступлении.\n",
      "\n",
      "### Расследование и поиск тел\n",
      "\n",
      "После катастрофы началось масштабное расследование, в ходе которого были задействованы специалисты из различных стран. Поисковые работы на месте происшествия продолжались несколько месяцев. Благодаря современным технологиям и усилиям международных команд удалось идентифицировать останки 150 человек из 224, находившихся на борту.\n",
      "\n",
      "### Последствия для авиации\n",
      "\n",
      "Катастрофа вызвала широкий резонанс в мировом сообществе и привела к ужесточению мер безопасности в авиации. Были проведены изменения в процедурах проверки и обучения пилотов, а также усилен контроль за психическим состоянием летного персонала.\n",
      "\n",
      "--------------------------------------------------\n",
      "\n"
     ]
    },
    {
     "name": "stderr",
     "output_type": "stream",
     "text": [
      " 78%|███████████████████████████████████████████████████████████████████████████████                       | 155/200 [50:39<14:45, 19.69s/it]"
     ]
    },
    {
     "name": "stdout",
     "output_type": "stream",
     "text": [
      "Title:\n",
      "Экспорт трубного газа по группе \"Газпром\" в дальнее зарубежье за 9 месяцев вырос на 14,4%\n",
      "Text:\n",
      "В течение первых девяти месяцев текущего года экспорт трубного газа компанией \"Газпром\" в страны дальнего зарубежья увеличился на 14,4%. Это значительное повышение свидетельствует о продолжающемся укреплении позиций российского газового гиганта на международных рынках.\n",
      "\n",
      "Согласно последним данным, объемы поставок достигли 132,5 миллиарда кубометров, что на 17,5 миллиарда кубометров больше, чем за аналогичный период прошлого года. Такой рост обусловлен несколькими факторами, включая стабильные цены на газ на мировом рынке и увеличение спроса со стороны ключевых партнеров.\n",
      "\n",
      "Основными направлениями экспорта стали Европа и Азия. В Европе \"Газпром\" продолжает удерживать свои позиции крупнейшего поставщика газа, несмотря на конкуренцию со стороны других стран-экспортеров. В Азии наблюдается особенно быстрый рост интереса к российскому газу, что связано с развитием инфраструктуры и растущим спросом на энергоносители в Китае и Индии.\n",
      "\n",
      "Увеличение экспорта также связано с успешной реализацией ряда крупных проектов, таких как \"Северный поток — 2\", который уже обеспечивает дополнительные возможности для транспортировки газа в Европу. Кроме того, компания активно развивает сотрудничество с азиатскими странами через строительство новых газопроводов и расширение существующих маршрутов.\n",
      "\n",
      "--------------------------------------------------\n",
      "\n"
     ]
    },
    {
     "name": "stderr",
     "output_type": "stream",
     "text": [
      " 78%|███████████████████████████████████████████████████████████████████████████████▌                      | 156/200 [50:58<14:24, 19.65s/it]"
     ]
    },
    {
     "name": "stdout",
     "output_type": "stream",
     "text": [
      "Title:\n",
      "НБУ изменил стоимость гривны: официальный курс валют после выходных\n",
      "Text:\n",
      "**НБУ изменил стоимость гривны: официальный курс валют после выходных**\n",
      "\n",
      "В понедельник, 10 октября, Национальный банк Украины (НБУ) объявил об очередном изменении официального курса гривны к основным мировым валютам. Это событие вызвало интерес как у экономистов, так и у широкой общественности, поскольку оно может повлиять на различные сферы жизни украинцев.\n",
      "\n",
      "**Изменения в курсе валют**\n",
      "\n",
      "Согласно последним данным НБУ, курс доллара США повысился на 20 копеек и составил 28,50 гривен за один доллар. Евро также подорожал на 30 копеек и теперь стоит 34,20 гривен. Российский рубль, несмотря на снижение стоимости нефти, остался относительно стабильным и составляет около 0,45 гривен за один рубль.\n",
      "\n",
      "**Причины изменения курса**\n",
      "\n",
      "Экономисты отмечают несколько факторов, которые могли повлиять на изменения курса валют. Среди них:\n",
      "\n",
      "1. **Геополитическая ситуация**: Напряженность на границах с Россией продолжает оказывать давление на курс гривны.\n",
      "   \n",
      "2. **Нефтяные цены**: Падение цен на нефть на международных рынках влияет на курс российского рубля, что, в свою очередь, сказывается на курсе гривны.\n",
      "\n",
      "3. **Макроэкономические показатели**: Уровень инфляции и процентные ставки остаются ключевыми факторами, влияющими на курс национальной валюты.\n",
      "\n",
      "4. **Динамика торгов**: Активность на валютном рынке и спрос на иностранную валюту со стороны бизнеса и населения также играют важную роль.\n",
      "\n",
      "**Влияние на население и бизнес**\n",
      "\n",
      "Укрепление доллара и евро может привести к увеличению стоимости импорта товаров и услуг, что, в свою очередь, может повлиять на цены для потребителей.\n",
      "\n",
      "--------------------------------------------------\n",
      "\n"
     ]
    },
    {
     "name": "stderr",
     "output_type": "stream",
     "text": [
      " 78%|████████████████████████████████████████████████████████████████████████████████                      | 157/200 [51:18<14:04, 19.63s/it]"
     ]
    },
    {
     "name": "stdout",
     "output_type": "stream",
     "text": [
      "Title:\n",
      "Москвичи получают прибавку к зарплате реже остальных россиян\n",
      "Text:\n",
      "В последнее время москвичи стали замечать, что прибавки к зарплате становятся все менее частыми событиями в их жизни. Согласно данным последнего исследования, проведенного Национальным исследовательским центром труда, жители Москвы получают повышение зарплаты реже, чем их коллеги из других регионов России.\n",
      "\n",
      "### Анализ данных\n",
      "\n",
      "Исследование показало, что средний москвич получает прибавку к зарплате раз в 2-3 года, тогда как в регионах эта цифра может достигать раза в год или даже чаще. Основные причины такой тенденции связаны с высокой конкуренцией на рынке труда в столице и более строгими требованиями к квалификации сотрудников.\n",
      "\n",
      "### Экономические факторы\n",
      "\n",
      "Экономическая нестабильность и снижение доходов многих компаний также играют важную роль. В условиях экономического давления компании вынуждены оптимизировать расходы, и прибавки к зарплате часто откладываются или сокращаются.\n",
      "\n",
      "### Социальные аспекты\n",
      "\n",
      "Социальные аспекты также оказывают влияние на ситуацию. Высокий уровень жизни в Москве требует соответствующих доходов, и многие работники ожидают регулярных повышений, чтобы поддерживать свой уровень жизни. Однако это создает дополнительное давление на работодателей, которые сталкиваются с необходимостью балансировать между потребностями сотрудников и финансовыми возможностями.\n",
      "\n",
      "### Решения и перспективы\n",
      "\n",
      "Для решения этой проблемы эксперты рекомендуют компаниям внедрять гибкие системы оплаты труда, которые учитывают индивидуальные достижения и вклад каждого сотрудника.\n",
      "\n",
      "--------------------------------------------------\n",
      "\n"
     ]
    },
    {
     "name": "stderr",
     "output_type": "stream",
     "text": [
      " 79%|████████████████████████████████████████████████████████████████████████████████▌                     | 158/200 [51:37<13:43, 19.62s/it]"
     ]
    },
    {
     "name": "stdout",
     "output_type": "stream",
     "text": [
      "Title:\n",
      "Матвиенко сообщила о возможном экстренном созыве Совфеда\n",
      "Text:\n",
      "Вчера спикер Совета Федерации Валентина Матвиенко сделала заявление о возможности экстренного созыва верхней палаты парламента. Это событие вызвало широкий резонанс и привлекло внимание как внутри страны, так и за её пределами. Давайте разберёмся, что именно подразумевается под этой инициативой и какие последствия она может иметь.\n",
      "\n",
      "**Предпосылки для экстренного созыва**\n",
      "\n",
      "Согласно Конституции Российской Федерации, Совет Федерации может быть созван на экстренное заседание по решению его председателя или большинства членов палаты. Такое решение может быть принято в случае возникновения чрезвычайных ситуаций или необходимости оперативного обсуждения важных вопросов государственной политики.\n",
      "\n",
      "**Контекст текущих событий**\n",
      "\n",
      "Недавние международные события и внутренние политические процессы создали почву для возможного экстренного созыва. Среди них можно выделить усиление геополитической напряжённости, экономические санкции и необходимость принятия быстрых решений в ответ на изменения внешнеполитической обстановки.\n",
      "\n",
      "**Потенциальные направления обсуждения**\n",
      "\n",
      "Экстренное заседание Совета Федерации может затронуть ряд ключевых тем. Среди них:\n",
      "\n",
      "1. **Государственная безопасность**: Обсуждение мер по укреплению обороноспособности и обеспечению национальной безопасности.\n",
      "2. **Экономическая политика**: Рассмотрение мер по поддержке бизнеса и населения в условиях экономических ограничений.\n",
      "3. **Внутренняя политика**: Принятие решений по вопросам, касающимся управления регионами и социальной сферы.\n",
      "\n",
      "--------------------------------------------------\n",
      "\n"
     ]
    },
    {
     "name": "stderr",
     "output_type": "stream",
     "text": [
      " 80%|█████████████████████████████████████████████████████████████████████████████████                     | 159/200 [51:57<13:23, 19.59s/it]"
     ]
    },
    {
     "name": "stdout",
     "output_type": "stream",
     "text": [
      "Title:\n",
      "Моше Кацав отказался уйти в отставку\n",
      "Text:\n",
      "**Моше Кацав отказался уйти в отставку: политический кризис продолжается**\n",
      "\n",
      "В Израиле разгорелся новый политический кризис, связанный с отказом бывшего президента Моше Кацава подать в отставку. Несмотря на обвинения в сексуальных домогательствах и приговор суда, Кацав решительно заявил о своей непричастности и намерении продолжать борьбу.\n",
      "\n",
      "**Предыстория конфликта**\n",
      "\n",
      "Моше Кацав, занимавший пост президента Израиля с 2000 по 2001 год, был в центре скандала, который начался еще в 2004 году. В ходе судебного разбирательства ему были предъявлены обвинения в сексуальных домогательствах и мошенничестве. В 2005 году он был осужден и приговорен к трем годам тюремного заключения. Однако в 2007 году Верховный суд Израиля отменил его приговор, и Кацав был полностью оправдан.\n",
      "\n",
      "Несмотря на это, общественное мнение остается разделенным. Многие израильтяне считают, что Кацав несет ответственность за свои действия и должен уйти в отставку, чтобы восстановить доверие к институту президентства. Однако сам Кацав утверждает, что его репутация была испорчена из-за политических махинаций и стремления оппонентов унизить его.\n",
      "\n",
      "**Развитие событий**\n",
      "\n",
      "В последние недели Кацав активно выступает в защиту своей позиции, утверждая, что его обвинения являются частью политической интриги. Он продолжает участвовать в общественной жизни, выступая на митингах и давая интервью. Его сторонники организуют акции в его поддержку, призывая правительство пересмотреть решение о его отставке.\n",
      "\n",
      "--------------------------------------------------\n",
      "\n"
     ]
    },
    {
     "name": "stderr",
     "output_type": "stream",
     "text": [
      " 80%|█████████████████████████████████████████████████████████████████████████████████▌                    | 160/200 [52:16<13:02, 19.57s/it]"
     ]
    },
    {
     "name": "stdout",
     "output_type": "stream",
     "text": [
      "Title:\n",
      "Из психбольницы в Прикамье сбежал мужчина. «Его подозревают в особо тяжком преступлении». ФОТО\n",
      "Text:\n",
      "В ночь на среду, 15 марта, из психиатрической больницы в Пермском крае сбежал пациент, подозреваемый в совершении особо тяжкого преступления. Инцидент вызвал обеспокоенность местных властей и правоохранительных органов.\n",
      "\n",
      "**Обстоятельства побега:**\n",
      "По данным следствия, 42-летний мужчина, находившийся на лечении в психиатрической клинике, воспользовался отсутствием надзора и скрылся. Пациент был помещён в учреждение после того, как его признали виновным в совершении серьёзного правонарушения, однако точные детали дела пока не разглашаются.\n",
      "\n",
      "**Разыскиваемый:**\n",
      "Мужчина описан как рост 180 см, среднего телосложения, с бородой и характерными татуировками на руках. Следственные органы призывают всех, кто обладает информацией о его местонахождении, незамедлительно сообщить в полицию.\n",
      "\n",
      "**Потенциальная опасность:**\n",
      "Специалисты отмечают, что, несмотря на то что пациент находится на лечении, его поведение может быть непредсказуемым. В связи с этим правоохранительные органы усилили меры безопасности в окрестностях психиатрической больницы и проводят активные поиски.\n",
      "\n",
      "**Предыстория:**\n",
      "До попадания в больницу мужчина уже имел судимость за аналогичное преступление. Это вызывает опасения у общественности относительно эффективности системы контроля за лицами, нуждающимися в психиатрической помощи.\n",
      "\n",
      "--------------------------------------------------\n",
      "\n"
     ]
    },
    {
     "name": "stderr",
     "output_type": "stream",
     "text": [
      " 80%|██████████████████████████████████████████████████████████████████████████████████                    | 161/200 [52:36<12:43, 19.57s/it]"
     ]
    },
    {
     "name": "stdout",
     "output_type": "stream",
     "text": [
      "Title:\n",
      "Сервис отправки SMS с сайта \"МегаФона\" заработал после двухнедельного перерыва\n",
      "Text:\n",
      "После двухнедельного перерыва, вызванного техническими неполадками, сервис отправки SMS от оператора \"МегаФон\" вновь стал доступен для пользователей. Инцидент произошел из-за сбоя в системе, который затронул тысячи клиентов, испытавших неудобства при попытке отправить текстовые сообщения.\n",
      "\n",
      "**Детали инцидента:**\n",
      "\n",
      "Сбой в работе сервиса был обнаружен 15 марта и привел к значительным неудобствам для пользователей, которые зависели от SMS для различных целей, таких как подтверждение транзакций, получение уведомлений и взаимодействие с различными онлайн-сервисами. В течение следующих двух недель \"МегаФон\" активно работал над устранением проблемы, привлекая специалистов для анализа и восстановления системы.\n",
      "\n",
      "**Решение проблемы:**\n",
      "\n",
      "Компания \"МегаФон\" сообщила, что причиной сбоя стала ошибка в программном обеспечении, которая была быстро выявлена и устранена. Для минимизации влияния на пользователей, оператор внедрил временные меры, такие как увеличение резервных мощностей и оптимизация процессов обработки SMS. После проведения всех необходимых проверок и тестирования система была успешно восстановлена.\n",
      "\n",
      "**Влияние на пользователей:**\n",
      "\n",
      "За время перерыва многие пользователи столкнулись с трудностями в выполнении повседневных задач, требующих отправки SMS. Это включало в себя подтверждение заказов, оплату счетов и другие операции, зависящие от мобильной связи.\n",
      "\n",
      "--------------------------------------------------\n",
      "\n"
     ]
    },
    {
     "name": "stderr",
     "output_type": "stream",
     "text": [
      " 81%|██████████████████████████████████████████████████████████████████████████████████▌                   | 162/200 [52:56<12:25, 19.61s/it]"
     ]
    },
    {
     "name": "stdout",
     "output_type": "stream",
     "text": [
      "Title:\n",
      "Житель Пензенской области вошел в Экспертный совет при правительстве\n",
      "Text:\n",
      "В Пензенской области произошло значимое событие: местный житель, Иван Петров, был избран членом Экспертного совета при правительстве. Это назначение стало результатом его многолетней работы в сфере экономики и социального развития, а также активного участия в общественной жизни региона.\n",
      "\n",
      "Иван Петров, выпускник местного университета, начал свою карьеру в качестве экономиста в одной из крупных промышленных компаний региона. За годы работы он накопил обширный опыт в управлении проектами, финансовом анализе и стратегическом планировании. Его профессионализм и умение находить нестандартные решения позволили ему занять руководящие позиции в компании.\n",
      "\n",
      "После нескольких лет успешной работы в частном секторе, Иван Петров перешел на государственную службу, где продолжил развивать свои навыки в области социальной политики и экономического развития. Его участие в разработке региональных программ по поддержке малого и среднего бизнеса и внедрению инновационных технологий в образовательную систему принесло заметные результаты.\n",
      "\n",
      "Назначение в Экспертный совет при правительстве стало для Ивана важным шагом в его карьере. Теперь он будет участвовать в разработке стратегических решений, касающихся экономического и социального развития всей страны. В частности, его внимание будет сосредоточено на вопросах, связанных с устойчивым развитием регионов, повышением качества жизни населения и поддержкой молодежного предпринимательства.\n",
      "\n",
      "По словам Ивана Петрова, его главная цель — использовать свой опыт и знания для того, чтобы сделать жизнь в Пензенской области более комфортной и благоприятной для всех ее жителей.\n",
      "\n",
      "--------------------------------------------------\n",
      "\n"
     ]
    },
    {
     "name": "stderr",
     "output_type": "stream",
     "text": [
      " 82%|███████████████████████████████████████████████████████████████████████████████████▏                  | 163/200 [53:15<12:05, 19.62s/it]"
     ]
    },
    {
     "name": "stdout",
     "output_type": "stream",
     "text": [
      "Title:\n",
      "Баскетболиста \"Миннесоты\" Шабазза Мухаммада выгнали из лагеря новичков из-за женщины \n",
      "Text:\n",
      "В центре внимания спортивного мира оказался Шабазз Мухаммад, баскетболист команды \"Миннесота Тимбервулвз\", который был вынужден покинуть лагерь новичков из-за инцидента с участием женщины. Этот случай вызвал широкий резонанс и стал предметом обсуждений как в профессиональном сообществе, так и среди болельщиков.\n",
      "\n",
      "**Предыстория инцидента:**\n",
      "\n",
      "Инцидент произошел во время тренировочного лагеря, где молодые игроки готовились к предстоящему сезону. По имеющимся данным, Мухаммад был замешан в конфликте с женщиной, который перерос в физическое столкновение. Свидетели описывают ситуацию как крайне напряженную и эмоционально заряженную, что стало причиной быстрого вмешательства руководства команды.\n",
      "\n",
      "**Реакция команды и спортивных органов:**\n",
      "\n",
      "\"Миннесота Тимбервулвз\" немедленно отреагировала на инцидент, заявив, что безопасность и благополучие всех участников тренировочного процесса являются приоритетом. Команда приняла решение временно отстранить Мухаммада от тренировок и участия в мероприятиях до завершения расследования. Руководство клуба подчеркнуло важность соблюдения высоких стандартов поведения и дисциплины для всех членов команды.\n",
      "\n",
      "--------------------------------------------------\n",
      "\n"
     ]
    },
    {
     "name": "stderr",
     "output_type": "stream",
     "text": [
      " 82%|███████████████████████████████████████████████████████████████████████████████████▋                  | 164/200 [53:35<11:45, 19.60s/it]"
     ]
    },
    {
     "name": "stdout",
     "output_type": "stream",
     "text": [
      "Title:\n",
      "Мобильные телефоны москвичей прослушивать перестали\n",
      "Text:\n",
      "**Мобильные телефоны москвичей: как перестали слушать и что это значит для граждан?**\n",
      "\n",
      "В последние месяцы жители Москвы заметили значительное улучшение в области конфиденциальности своих мобильных телефонов. Специалисты отмечают, что системы массовой прослушки, которые активно использовались ранее, были отключены или значительно ограничены. Это изменение вызвало множество вопросов о том, кто и почему решил прекратить подобную практику, а также какие последствия это может иметь для безопасности и приватности граждан.\n",
      "\n",
      "### Почему произошло прекращение прослушивания?\n",
      "\n",
      "1. **Изменения в законодательстве**: В 2023 году в России был принят ряд новых законов, направленных на защиту данных граждан. Эти законы включают более строгие требования к хранению и обработке личных данных, что сделало массовую прослушку незаконной.\n",
      "\n",
      "2. **Общественное давление**: После серии скандалов, связанных с нарушением прав граждан, общественные организации и правозащитники активизировались, требуя прекращения подобной практики. Это привело к усилению контроля со стороны государства.\n",
      "\n",
      "3. **Технологические изменения**: Современные технологии позволяют обеспечить более надежную защиту данных, что делает массовую прослушку менее эффективной и необходимой.\n",
      "\n",
      "### Что это значит для москвичей?\n",
      "\n",
      "1. **Увеличение доверия к технологиям**: Жители Москвы могут теперь чувствовать себя более уверенно, зная, что их личные данные защищены от несанкционированного доступа.\n",
      "\n",
      "2. **Повышение уровня безопасности**: Отключение систем массовой прослушки снижает риск утечки информации, что особенно важно для защиты личных и финансовых данных.\n",
      "\n",
      "3. **Развитие технологий шифрования**: В ответ на новые требования и вызовы, компании, работающие в сфере информационных технологий, продолжают развивать более безопасные методы шифрования данных.\n",
      "\n",
      "--------------------------------------------------\n",
      "\n"
     ]
    },
    {
     "name": "stderr",
     "output_type": "stream",
     "text": [
      " 82%|████████████████████████████████████████████████████████████████████████████████████▏                 | 165/200 [53:54<11:25, 19.57s/it]"
     ]
    },
    {
     "name": "stdout",
     "output_type": "stream",
     "text": [
      "Title:\n",
      "Американские военнослужащие освободили заложников-египтян\n",
      "Text:\n",
      "В ходе сложной и опасной операции, проведенной американскими военными, удалось успешно освободить группу египетских граждан, которые находились в плену у террористических группировок в Сирии. Действия американской армии продемонстрировали высокий уровень профессионализма и решимости в борьбе с международным терроризмом.\n",
      "\n",
      "Операция началась с разведывательных действий, в ходе которых были собраны данные о местонахождении заложников и их условиях содержания. После тщательного планирования и координации с местными союзниками, американские спецподразделения приступили к выполнению миссии. Операция проходила в условиях повышенной секретности, чтобы минимизировать риск для заложников и предотвратить возможные контрмеры со стороны террористов.\n",
      "\n",
      "Согласно источникам, заложники были захвачены несколькими месяцами ранее, когда они оказались в зоне боевых действий. Египетские граждане работали в гуманитарной миссии, оказывая помощь населению, пострадавшему от конфликта. Их захват стал частью более широкой тактики террористических группировок, направленной на запугивание и шантаж международного сообщества.\n",
      "\n",
      "После проведения операции американские военные подтвердили, что все заложники были найдены в безопасности и без серьезных травм. Они были переданы египетским властям, которые выразили глубокую благодарность за спасение своих граждан.\n",
      "\n",
      "--------------------------------------------------\n",
      "\n"
     ]
    },
    {
     "name": "stderr",
     "output_type": "stream",
     "text": [
      " 83%|████████████████████████████████████████████████████████████████████████████████████▋                 | 166/200 [54:14<11:05, 19.58s/it]"
     ]
    },
    {
     "name": "stdout",
     "output_type": "stream",
     "text": [
      "Title:\n",
      "Оренбургский наркодилер хранил марихуану в собачьей будке\n",
      "Text:\n",
      "В Оренбурге произошло необычное событие, которое привлекло внимание местных жителей и правоохранительных органов. В ходе очередной операции по борьбе с незаконным оборотом наркотиков был задержан местный наркодилер, который хранил значительное количество марихуаны в собачьей будке на своем участке.\n",
      "\n",
      "По данным следствия, 35-летний мужчина использовал эту неожиданную локацию для сокрытия запрещенного вещества. Будка, расположенная в глубине двора, была оборудована так, чтобы избежать обнаружения: она была замаскирована под обычную конструкцию для животных, что делало её практически незаметной для посторонних глаз.\n",
      "\n",
      "При обыске на территории дома и прилегающего участка полицейские обнаружили более 20 килограммов марихуаны, спрятанных в нескольких мешках. Кроме того, у наркодилера были найдены весы, упаковочные материалы и другие принадлежности, необходимые для продажи и распространения наркотиков.\n",
      "\n",
      "Этот случай стал ярким примером того, насколько изобретательными могут быть преступники в попытках скрыть свою незаконную деятельность. Однако, как показывает практика, даже самые неожиданные места для хранения запрещенных веществ рано или поздно становятся известны правоохранительным органам.\n",
      "\n",
      "Задержанный уже дал признательные показания и находится под стражей. Следствие продолжается, и в ближайшее время будет решен вопрос о его предъявлении обвинений.\n",
      "\n",
      "--------------------------------------------------\n",
      "\n"
     ]
    },
    {
     "name": "stderr",
     "output_type": "stream",
     "text": [
      " 84%|█████████████████████████████████████████████████████████████████████████████████████▏                | 167/200 [54:34<10:46, 19.59s/it]"
     ]
    },
    {
     "name": "stdout",
     "output_type": "stream",
     "text": [
      "Title:\n",
      "ЗакС поддержал инициативу главы города по организации местных историко-культурных заповедников\n",
      "Text:\n",
      "Вчера Законодательное собрание (ЗакС) Санкт-Петербурга единогласно поддержало инициативу главы города о создании сети местных историко-культурных заповедников. Это решение стало важным шагом в сохранении культурного наследия региона и привлечении внимания к уникальным историческим объектам.\n",
      "\n",
      "Инициатором проекта выступил губернатор Санкт-Петербурга, который предложил создать сеть заповедников, охватывающих как крупные музеи и памятники, так и менее известные, но не менее значимые места. Согласно планам, новые заповедники будут включать в себя не только здания и сооружения, но и прилегающие территории, что позволит сохранить целостность исторического контекста.\n",
      "\n",
      "Главной целью создания таких заповедников является не только сохранение культурного наследия, но и развитие туризма в регионе. По словам губернатора, это позволит привлечь больше туристов, которые смогут познакомиться с богатой историей и культурой Санкт-Петербурга, а также способствовать развитию местных сообществ.\n",
      "\n",
      "Законодатели подчеркнули, что для успешной реализации проекта необходимо будет разработать детальные планы по управлению заповедниками, включая меры по их охране и использованию. В частности, было предложено создать рабочую группу, которая займется разработкой стратегии развития заповедников и обеспечением их финансирования.\n",
      "\n",
      "Одним из ключевых моментов инициативы является привлечение общественности к процессу сохранения культурного наследия.\n",
      "\n",
      "--------------------------------------------------\n",
      "\n"
     ]
    },
    {
     "name": "stderr",
     "output_type": "stream",
     "text": [
      " 84%|█████████████████████████████████████████████████████████████████████████████████████▋                | 168/200 [54:53<10:27, 19.60s/it]"
     ]
    },
    {
     "name": "stdout",
     "output_type": "stream",
     "text": [
      "Title:\n",
      "В Бразилии разбился пассажирский самолет: 24 человека погибли\n",
      "Text:\n",
      "Сегодняшняя трагедия потрясла всю Бразилию и весь мир: пассажирский самолет, выполнявший рейс из Рио-де-Жанейро в Сан-Паулу, потерпел крушение на территории штата Минас-Жерайс. На борту находились 100 человек, из которых 24 погибли, а 76 получили ранения различной степени тяжести.\n",
      "\n",
      "**Обстоятельства катастрофы**\n",
      "\n",
      "Самолет Airbus A320 компании Gol Linhas Aéreas, один из самых распространенных типов коммерческих самолетов, вылетел из международного аэропорта Гарри Гольдберга в Рио-де-Жанейро в 15:30 по местному времени. Через несколько минут после взлета он потерял связь с диспетчерской службой и исчез с радаров.\n",
      "\n",
      "Спустя час после предполагаемого момента катастрофы, обломки самолета были найдены в густых лесах штата Минас-Жерайс. Спасательные службы немедленно начали операцию по поиску выживших и оказанию помощи пострадавшим.\n",
      "\n",
      "**Расследование причин аварии**\n",
      "\n",
      "Правительство Бразилии уже инициировало официальное расследование причин катастрофы. Предварительные данные свидетельствуют о возможных технических неполадках или ошибках пилотирования, однако окончательные выводы будут сделаны только после завершения всех экспертиз.\n",
      "\n",
      "**Эмоциональное воздействие на общество**\n",
      "\n",
      "Катастрофа стала тяжелым ударом для семей погибших и выживших пассажиров.\n",
      "\n",
      "--------------------------------------------------\n",
      "\n"
     ]
    },
    {
     "name": "stderr",
     "output_type": "stream",
     "text": [
      " 84%|██████████████████████████████████████████████████████████████████████████████████████▏               | 169/200 [55:13<10:08, 19.62s/it]"
     ]
    },
    {
     "name": "stdout",
     "output_type": "stream",
     "text": [
      "Title:\n",
      "Пенни 1793 года продан с торгов за 2,35 млн долларов\n",
      "Text:\n",
      "В истории мировых аукционов появился новый рекорд: пенни 1793 года, выпущенный в первые годы существования США, был продан на аукционе за 2,35 миллиона долларов. Эта монета, представляющая собой одну из самых ранних и редких в серии американских центов, привлекла внимание коллекционеров и инвесторов со всего мира.\n",
      "\n",
      "**История монеты:**\n",
      "\n",
      "Монета была отчеканена в 1793 году, когда только начиналось формирование денежной системы молодой страны. Из-за сложностей в производстве и ограниченного количества чеканщиков, эти монеты стали настоящими раритетами. Пенни 1793 года выпускался в небольшом количестве, что делает каждую из них уникальной и ценной для коллекционеров.\n",
      "\n",
      "**Кто стал победителем?**\n",
      "\n",
      "На аукционе, организованном одним из ведущих мировых аукционных домов, борьба за редкую монету развернулась между несколькими коллекционерами. В итоге, победителем стала частная коллекция из Азии, которая решила приобрести эту историческую ценность для своего собрания.\n",
      "\n",
      "**Экономическое значение:**\n",
      "\n",
      "Продажа такой редкой монеты за рекордную сумму не только подчеркивает её историческую ценность, но и демонстрирует интерес инвесторов к антиквариату как к надежному способу вложения средств. Монеты, особенно такие редкие, могут значительно увеличивать свою стоимость с течением времени, становясь объектом инвестиций с высоким потенциалом доходности.\n",
      "\n",
      "--------------------------------------------------\n",
      "\n"
     ]
    },
    {
     "name": "stderr",
     "output_type": "stream",
     "text": [
      " 85%|██████████████████████████████████████████████████████████████████████████████████████▋               | 170/200 [55:32<09:48, 19.61s/it]"
     ]
    },
    {
     "name": "stdout",
     "output_type": "stream",
     "text": [
      "Title:\n",
      "Ученые считают проект строительства российской орбитальной станции растратой средств\n",
      "Text:\n",
      "В последние месяцы в научных кругах России разгорелся ожесточенный спор вокруг планов по строительству новой орбитальной станции. Многие ученые выражают серьезные сомнения относительно целесообразности и эффективности данного проекта, называя его потенциальной растратой значительных финансовых и временных ресурсов.\n",
      "\n",
      "### Основные аргументы противников проекта:\n",
      "\n",
      "1. **Высокая стоимость**: Строительство орбитальной станции потребует огромных финансовых вложений. По оценкам экспертов, проект может обойтись государству в сумму, превышающую несколько миллиардов долларов. Эти средства могли бы быть использованы для развития других, более актуальных направлений космической программы.\n",
      "\n",
      "2. **Необходимость в инновациях**: Вместо строительства новой станции, многие ученые предлагают сосредоточиться на развитии существующих технологий и создании более современных и функциональных модулей для Международной космической станции (МКС).\n",
      "\n",
      "3. **Риски и неопределенность**: Проект сопряжен с рядом технических и логистических рисков. Недостаток опыта в создании подобных объектов в России может привести к задержкам и увеличению стоимости проекта.\n",
      "\n",
      "4. **Альтернативные приоритеты**: Существуют более насущные проблемы, требующие внимания, такие как развитие космического туризма или исследование Марса. Строительство новой станции может отвлечь ресурсы от этих перспективных направлений.\n",
      "\n",
      "5.\n",
      "\n",
      "--------------------------------------------------\n",
      "\n"
     ]
    },
    {
     "name": "stderr",
     "output_type": "stream",
     "text": [
      " 86%|███████████████████████████████████████████████████████████████████████████████████████▏              | 171/200 [55:52<09:28, 19.62s/it]"
     ]
    },
    {
     "name": "stdout",
     "output_type": "stream",
     "text": [
      "Title:\n",
      "Меркель не исключила дружбы ЕС с Россией\n",
      "Text:\n",
      "В ходе недавнего интервью канцлер Германии Ангела Меркель выразила надежду на возможность восстановления и укрепления отношений между Европейским союзом (ЕС) и Россией. Это заявление стало неожиданностью для многих, поскольку последние годы были отмечены напряженностью в отношениях между двумя блоками.\n",
      "\n",
      "Меркель подчеркнула, что, несмотря на текущие разногласия, важно сохранять диалог и стремиться к взаимопониманию. Она отметила, что дружба между ЕС и Россией может быть выгодна обеим сторонам, особенно в контексте глобальных вызовов, таких как изменение климата и экономическая нестабильность.\n",
      "\n",
      "**Основные моменты заявления:**\n",
      "\n",
      "1. **Открытость для диалога:** Меркель призвала к более активному взаимодействию между ЕС и Россией, подчеркивая важность конструктивного диалога для решения текущих проблем.\n",
      "\n",
      "2. **Фокус на общих интересах:** Канцлер отметила, что многие вопросы, такие как энергетика и торговля, требуют совместных усилий, чтобы достичь взаимовыгодных решений.\n",
      "\n",
      "3. **Необходимость преодоления недоверия:** Меркель признала, что недоверие между ЕС и Россией является серьезным препятствием для сотрудничества, но выразила уверенность, что это можно преодолеть через постепенное улучшение отношений.\n",
      "\n",
      "4. **Готовность к компромиссам:** Она также указала, что для достижения прогресса необходимы готовность к компромиссам и гибкость с обеих сторон.\n",
      "\n",
      "5.\n",
      "\n",
      "--------------------------------------------------\n",
      "\n"
     ]
    },
    {
     "name": "stderr",
     "output_type": "stream",
     "text": [
      " 86%|███████████████████████████████████████████████████████████████████████████████████████▋              | 172/200 [56:12<09:09, 19.61s/it]"
     ]
    },
    {
     "name": "stdout",
     "output_type": "stream",
     "text": [
      "Title:\n",
      "Шахтеры освистали Демчишина во время его выступления\n",
      "Text:\n",
      "Вчера, 15 марта, на ежегодном собрании работников одной из крупнейших угольных шахт Украины произошел неожиданный инцидент. Во время выступления министра энергетики и угольной промышленности страны Юрия Демчишина, шахтеры в зале начали освистывать оратора. Этот инцидент стал ярким символом нарастающего недовольства среди рабочих, чьи интересы, по их мнению, игнорируются.\n",
      "\n",
      "**Предыстория и контекст**\n",
      "\n",
      "Угольная промышленность Украины переживает непростые времена. Снижение спроса на уголь на мировом рынке, а также внутренние экономические трудности привели к сокращению числа работающих шахт и ухудшению условий труда для оставшихся шахтеров. В последние годы правительство предпринимает попытки модернизировать отрасль, однако многие рабочие считают, что эти меры не решают их основные проблемы.\n",
      "\n",
      "**Выступление Демчишина и реакция шахтеров**\n",
      "\n",
      "На собрании Демчишин представил планы по реформированию угольной промышленности, которые, по его словам, должны обеспечить устойчивое развитие отрасли и создать новые рабочие места. Однако его слова были встречены скептически. Шахтеры выразили недовольство тем, что их голоса не слышны, а обещания правительства остаются на бумаге. Освистывание стало выражением этого недовольства.\n",
      "\n",
      "**Последствия и возможные решения**\n",
      "\n",
      "Этот инцидент подчеркнул необходимость диалога между правительством и работниками угольной промышленности.\n",
      "\n",
      "--------------------------------------------------\n",
      "\n"
     ]
    },
    {
     "name": "stderr",
     "output_type": "stream",
     "text": [
      " 86%|████████████████████████████████████████████████████████████████████████████████████████▏             | 173/200 [56:31<08:49, 19.59s/it]"
     ]
    },
    {
     "name": "stdout",
     "output_type": "stream",
     "text": [
      "Title:\n",
      "Правящая партия победила на парламентских выборах в Азербайджане\n",
      "Text:\n",
      "На прошедших 10 октября парламентских выборах в Азербайджане правящая Национальная демократическая партия \"Милли Меджлис\" одержала убедительную победу, получив большинство мест в Национальном собрании страны. По предварительным данным Центральной избирательной комиссии, партия набрала более 60% голосов, что позволило ей сформировать стабильное правительство.\n",
      "\n",
      "**Анализ результатов:**\n",
      "\n",
      "1. **Политическая стабильность и поддержка:**  \n",
      "   Победа \"Милли Меджлис\" свидетельствует о высокой степени доверия граждан к текущему политическому курсу, который, по мнению властей, способствовал экономическому росту и укреплению национальной безопасности. Однако критики указывают на ограничение политических свобод и необходимость проведения реформ для обеспечения долгосрочной стабильности.\n",
      "\n",
      "2. **Влияние международного сообщества:**  \n",
      "   Международные наблюдатели отмечают, что выборы прошли в условиях ограниченной свободы слова и доступа к информации, что вызывает обеспокоенность у западных стран и организаций по правам человека. Несмотря на это, некоторые государства, такие как Россия и Китай, выразили поддержку результатам выборов, подчеркнув важность стабильности в регионе.\n",
      "\n",
      "3. **Экономические показатели и социальные изменения:**  \n",
      "   Экономический рост Азербайджана за последние годы стал одной из ключевых причин успеха правящей партии. Страна активно развивает нефтегазовый сектор, что привело к увеличению доходов населения и улучшению инфраструктуры.\n",
      "\n",
      "--------------------------------------------------\n",
      "\n"
     ]
    },
    {
     "name": "stderr",
     "output_type": "stream",
     "text": [
      " 87%|████████████████████████████████████████████████████████████████████████████████████████▋             | 174/200 [56:51<08:28, 19.57s/it]"
     ]
    },
    {
     "name": "stdout",
     "output_type": "stream",
     "text": [
      "Title:\n",
      "Страховая часть пенсии может быть увеличена\n",
      "Text:\n",
      "**Заголовок: Страховая часть пенсии может быть увеличена: как это повлияет на будущее пенсионеров**\n",
      "\n",
      "---\n",
      "\n",
      "В последние годы вопрос о пенсионной системе становится все более актуальным, и одна из ключевых тем — возможность увеличения страховой части пенсии. Недавние изменения в законодательстве и экономическая ситуация в стране создают предпосылки для значительных изменений в пенсионной системе. В этой статье мы рассмотрим возможные последствия увеличения страховой части пенсии и как это может повлиять на будущее пенсионеров.\n",
      "\n",
      "### Понимание текущей системы\n",
      "\n",
      "Для начала важно разобраться в том, что такое страховая часть пенсии. Это та часть пенсии, которая зависит от суммы страховых взносов, уплаченных за период трудовой деятельности. В настоящее время размер страховой части определяется по формуле, учитывающей заработную плату и стаж работы.\n",
      "\n",
      "### Возможные изменения\n",
      "\n",
      "Согласно недавним предложениям, страховая часть пенсии может быть увеличена за счет нескольких факторов:\n",
      "\n",
      "1. **Повышение размера минимального взноса**: Это позволит увеличить базу для расчета пенсии, что, в свою очередь, приведет к росту страховой части.\n",
      "   \n",
      "2. **Расширение базы для расчета пенсии**: Включение дополнительных доходов, таких как доходы от инвестирования или другие виды доходов, может повысить общий уровень пенсии.\n",
      "\n",
      "3. **Увеличение стажа, необходимого для получения полной пенсии**: Это может стимулировать людей работать дольше, что также положительно скажется на размере страховой части.\n",
      "\n",
      "### Влияние на пенсионеров\n",
      "\n",
      "Увеличение страховой части пенсии может иметь несколько важных последствий для будущих пенсионеров:\n",
      "\n",
      "- **Улучшение уровня жизни**: Более высокая пенсия позволит пенсионерам жить более комфортно, особенно в условиях растущей инфляции.\n",
      "\n",
      "--------------------------------------------------\n",
      "\n"
     ]
    },
    {
     "name": "stderr",
     "output_type": "stream",
     "text": [
      " 88%|█████████████████████████████████████████████████████████████████████████████████████████▎            | 175/200 [57:10<08:09, 19.59s/it]"
     ]
    },
    {
     "name": "stdout",
     "output_type": "stream",
     "text": [
      "Title:\n",
      "Восьмой гуманитарный конвой полностью вернулся из Донбасса в Россию\n",
      "Text:\n",
      "Восьмой гуманитарный конвой, доставивший необходимые грузы в регионы Донбасса, успешно завершил свою миссию и вернулся в Россию. Это событие стало значимым этапом в продолжающемся гуманитарном кризисе на востоке Украины. В данной статье мы рассмотрим детали этого возвращения, а также проанализируем текущую ситуацию и возможные последствия.\n",
      "\n",
      "**Детали возвращения конвоя:**\n",
      "\n",
      "1. **Состав конвоя:** Конвой состоял из более чем 200 автомобилей, включая грузовики с продуктами питания, медикаментами, одеждой и другими необходимыми товарами для населения Донбасса.\n",
      "\n",
      "2. **Продолжительность поездки:** Путь от пункта отправления до Донбасса и обратно занял около двух недель. За это время конвой преодолел сложные погодные условия и политические вызовы.\n",
      "\n",
      "3. **Проверка и контроль:** На протяжении всего маршрута конвой подвергался проверкам со стороны украинских и российских властей, что стало частью усилий по обеспечению безопасности грузов.\n",
      "\n",
      "4. **Реакция местного населения:** По прибытии в Россию многие жители Донбасса выразили благодарность за помощь, отметив важность гуманитарных конвоев в условиях продолжающегося кризиса.\n",
      "\n",
      "**Анализ ситуации:**\n",
      "\n",
      "1. **Гуманитарная ситуация:** Несмотря на усилия гуманитарных организаций, в Донбассе сохраняется серьезная нехватка продовольствия и медикаментов.\n",
      "\n",
      "--------------------------------------------------\n",
      "\n"
     ]
    },
    {
     "name": "stderr",
     "output_type": "stream",
     "text": [
      " 88%|█████████████████████████████████████████████████████████████████████████████████████████▊            | 176/200 [57:30<07:49, 19.57s/it]"
     ]
    },
    {
     "name": "stdout",
     "output_type": "stream",
     "text": [
      "Title:\n",
      "Президент \"Генчлербирлиги\" намерен штрафовать футболистов за бороды\n",
      "Text:\n",
      "В последнее время в мире спорта все чаще обсуждаются вопросы, связанные с внешним видом спортсменов, и турецкий футбольный клуб \"Генчлербирлиги\" решил внести свою лепту в эту дискуссию. Президент клуба объявил о планах ввести штрафы для футболистов, которые носят бороды. Это решение вызвало неоднозначную реакцию как среди болельщиков, так и среди профессионалов.\n",
      "\n",
      "**Предыстория:**\n",
      "\n",
      "Недавно руководство \"Генчлербирлиги\" выразило обеспокоенность тем, что бороды могут негативно сказаться на имидже клуба и создать проблемы с безопасностью на поле. По словам президента клуба, бороды могут затруднять распознавание игроков судьями и другими участниками игры, что может привести к ошибкам и недопониманиям.\n",
      "\n",
      "**Реакция общественности:**\n",
      "\n",
      "Это решение вызвало бурные обсуждения в социальных сетях и среди болельщиков. Многие считают, что подобные меры являются дискриминационными и нарушают права игроков. Они утверждают, что борода — это личный выбор каждого человека и не должна становиться причиной для штрафов или дискриминации.\n",
      "\n",
      "**Аргументы в защиту решения:**\n",
      "\n",
      "С другой стороны, сторонники штрафов указывают на то, что бороды могут создавать дополнительные трудности для тренерского штаба при планировании тактики игры. Кроме того, они отмечают, что некоторые болельщики могут испытывать дискомфорт из-за внешнего вида игроков с бородами, что может повлиять на их эмоциональное состояние во время матчей.\n",
      "\n",
      "--------------------------------------------------\n",
      "\n"
     ]
    },
    {
     "name": "stderr",
     "output_type": "stream",
     "text": [
      " 88%|██████████████████████████████████████████████████████████████████████████████████████████▎           | 177/200 [57:50<07:31, 19.63s/it]"
     ]
    },
    {
     "name": "stdout",
     "output_type": "stream",
     "text": [
      "Title:\n",
      "Президент клуба НБА \"Миннесота\" Флип Сондерс займет пост главного тренера команды\n",
      "Text:\n",
      "**Захватывающее изменение в мире баскетбола: Флип Сондерс станет главным тренером \"Миннесоты\"**\n",
      "\n",
      "В мире профессионального баскетбола произошло событие, которое, несомненно, вызовет волну обсуждений и ожиданий — президент клуба НБА \"Миннесота Тимбервулвз\" Флип Сондерс официально объявил о своем переходе на должность главного тренера команды. Это решение стало неожиданностью для многих болельщиков и экспертов, однако оно открывает новые перспективы для развития \"Тимбервулвз\".\n",
      "\n",
      "Флип Сондерс, известный своей стратегической проницательностью и умением развивать таланты, проработал в клубе на посту президента более десяти лет. За это время он сумел создать прочную основу для успеха команды, которая теперь готова к новым вызовам.\n",
      "\n",
      "### Почему это решение важно?\n",
      "\n",
      "1. **Опыт и знания**: Сондерс обладает богатым опытом в управлении спортивными организациями и глубоким пониманием баскетбольных тактик. Его опыт позволит ему быстро адаптироваться к новой роли и эффективно руководить командой.\n",
      "\n",
      "2. **Изменение культуры**: Переход от административной работы к тренерской может привести к изменениям в культуре команды. Сондерс будет иметь возможность внедрять свои идеи и подходы, что может способствовать улучшению результатов на площадке.\n",
      "\n",
      "3. **Укрепление связей с болельщиками**: В качестве главного тренера Сондерс сможет напрямую взаимодействовать с болельщиками, что укрепит связи между командой и фанатами, создавая более тесную и поддерживающую атмосферу.\n",
      "\n",
      "--------------------------------------------------\n",
      "\n"
     ]
    },
    {
     "name": "stderr",
     "output_type": "stream",
     "text": [
      " 89%|██████████████████████████████████████████████████████████████████████████████████████████▊           | 178/200 [58:09<07:11, 19.62s/it]"
     ]
    },
    {
     "name": "stdout",
     "output_type": "stream",
     "text": [
      "Title:\n",
      "В Петербурге риелтор лишилась колец с бриллиантами и ключей от иномарки\n",
      "Text:\n",
      "В Санкт-Петербурге произошел необычайно дерзкий и масштабный инцидент, в результате которого известная местная риелтор потеряла ценные украшения и ключи от дорогого автомобиля. Согласно первым данным, кража была совершена в ночь с пятницы на субботу, когда женщина оставила свою квартиру без присмотра.\n",
      "\n",
      "По словам потерпевшей, она заметила пропажу около 10 часов утра в субботу, когда вернулась домой после рабочего дня. В ее квартире исчезли три кольца с бриллиантами общей стоимостью более 5 миллионов рублей, а также ключи от роскошного внедорожника, который она приобрела всего несколько месяцев назад.\n",
      "\n",
      "На место происшествия были вызваны полицейские, которые начали оперативное расследование. В ходе осмотра квартиры специалисты выявили следы взлома, однако пока не удалось установить точный способ проникновения злоумышленников внутрь помещения. По предварительным данным, кража могла быть организована группой лиц, так как для такого масштабного ограбления требовалась слаженная работа нескольких человек.\n",
      "\n",
      "Риелтор заявила, что все драгоценности были застрахованы, но сумма страхового возмещения может оказаться недостаточной для покрытия всех потерь. Она также выразила надежду, что полиция сможет быстро найти виновных и вернуть украденное имущество.\n",
      "\n",
      "Местные жители и коллеги риелтора выражают обеспокоенность по поводу безопасности в районе, где произошло ограбление.\n",
      "\n",
      "--------------------------------------------------\n",
      "\n"
     ]
    },
    {
     "name": "stderr",
     "output_type": "stream",
     "text": [
      " 90%|███████████████████████████████████████████████████████████████████████████████████████████▎          | 179/200 [58:29<06:53, 19.67s/it]"
     ]
    },
    {
     "name": "stdout",
     "output_type": "stream",
     "text": [
      "Title:\n",
      "Пара фигуристов Мишина/Мирзоев победила в финале юниорской серии Гран-при\n",
      "Text:\n",
      "В минувшие выходные в Милане состоялся финал юниорской серии Гран-при, где пара российских фигуристов Елизавета Мишина и Иван Мирзоев завоевали золотые медали. Эта победа стала не только триумфом для молодых спортсменов, но и ярким свидетельством их таланта и упорства.\n",
      "\n",
      "**История успеха:**\n",
      "Елизавета Мишина и Иван Мирзоев начали свое сотрудничество сравнительно недавно, но уже успели произвести фурор в фигурном катании. Оба фигуриста демонстрируют выдающиеся результаты, которые привлекли внимание специалистов и болельщиков со всего мира. Их дебют в юниорской серии Гран-при стал настоящим прорывом, а победа в финале — подтверждением их мастерства и потенциала.\n",
      "\n",
      "**Техника и стиль:**\n",
      "Одним из ключевых факторов успеха пары является их техническая подготовка и уникальный стиль исполнения. Мишина и Мирзоев показывают сложные и элегантные программы, которые сочетают в себе элементы классического и современного стилей. Их выступления отличаются высокой точностью и грацией, что позволяет им оставаться на пике популярности среди зрителей.\n",
      "\n",
      "**Поддержка тренеров и команды:**\n",
      "Успех пары во многом обусловлен поддержкой их тренерского штаба и команды.\n",
      "\n",
      "--------------------------------------------------\n",
      "\n"
     ]
    },
    {
     "name": "stderr",
     "output_type": "stream",
     "text": [
      " 90%|███████████████████████████████████████████████████████████████████████████████████████████▊          | 180/200 [58:49<06:34, 19.71s/it]"
     ]
    },
    {
     "name": "stdout",
     "output_type": "stream",
     "text": [
      "Title:\n",
      "В квалификационных заездах Гран-при Канады Квят показал 8-й результат\n",
      "Text:\n",
      "На фоне ожесточенной борьбы за место на стартовой решетке Гран-при Канады российский гонщик Даниил Квят продемонстрировал выдающуюся скорость и мастерство, заняв 8-е место в квалификационных заездах. Этот результат стал значительным шагом вперед для Квята, который продолжает укреплять свои позиции в команде AlphaTauri.\n",
      "\n",
      "Квалификация в Монреале была особенно сложной: погодные условия и технические проблемы создавали дополнительные трудности для всех участников. Однако Квят сумел преодолеть все препятствия и показать один из лучших своих результатов за последние сезоны. Его быстрый круг, выполненный на последнем сегменте квалификации, стал настоящим подарком для болельщиков и команды.\n",
      "\n",
      "«Это был отличный день для меня и команды», — сказал Квят после завершения квалификации. «Мы работали над оптимизацией настроек машины, и это принесло свои плоды. Я доволен тем, как мы справились с погодными условиями, и надеюсь, что сможем поддерживать этот уровень в гонке».\n",
      "\n",
      "Команда AlphaTauri также отметила вклад Квята, подчеркнув его профессионализм и способность адаптироваться к изменяющимся условиям. «Даниил показал, что он готов бороться за высокие места, и мы уверены, что он сможет поддерживать этот уровень на протяжении всей гонки», — заявилtechnical director команды.\n",
      "\n",
      "Гран-при Канады всегда славится своими уникальными трассами и непредсказуемыми погодными условиями, которые делают каждую гонку особенной.\n",
      "\n",
      "--------------------------------------------------\n",
      "\n"
     ]
    },
    {
     "name": "stderr",
     "output_type": "stream",
     "text": [
      " 90%|████████████████████████████████████████████████████████████████████████████████████████████▎         | 181/200 [59:08<06:13, 19.66s/it]"
     ]
    },
    {
     "name": "stdout",
     "output_type": "stream",
     "text": [
      "Title:\n",
      "Венгрии пригрозили исключением из ЕС\n",
      "Text:\n",
      "В последние недели Венгрия оказалась в центре внимания международного сообщества из-за угрозы исключения из Европейского Союза. Этот шаг, предпринятый некоторыми странами-членами ЕС, вызвал бурные дебаты и вызвал обеспокоенность по поводу будущего отношений между Венгрией и остальной Европой.\n",
      "\n",
      "### Предпосылки к конфликту\n",
      "\n",
      "Угроза исключения Венгрии из ЕС связана с рядом внутренних политических решений, которые вызвали серьёзную озабоченность у других государств-членов. В частности, это касается законодательства, критикующегося как нарушающее демократические принципы и права человека. Среди таких мер — законы, ограничивающие независимость судебной системы, а также законодательство, которое, по мнению некоторых экспертов, может привести к усилению влияния правительства на медиа.\n",
      "\n",
      "### Реакция ЕС\n",
      "\n",
      "Европейский Союз уже давно выражает обеспокоенность по поводу развития событий в Венгрии. В ответ на действия правительства Венгрии, ряд стран, включая Германию, Францию и Польшу, выступили с инициативой о возможном исключении Венгрии из ЕС. Они считают, что такие меры необходимы для защиты основных ценностей ЕС и предотвращения дальнейшего размывания демократических стандартов.\n",
      "\n",
      "### Последствия для Венгрии\n",
      "\n",
      "Для Венгрии исключение из ЕС может иметь серьёзные последствия. Это не только ударит по её экономическому положению, но и подорвет международный авторитет страны.\n",
      "\n",
      "--------------------------------------------------\n",
      "\n"
     ]
    },
    {
     "name": "stderr",
     "output_type": "stream",
     "text": [
      " 91%|████████████████████████████████████████████████████████████████████████████████████████████▊         | 182/200 [59:28<05:53, 19.62s/it]"
     ]
    },
    {
     "name": "stdout",
     "output_type": "stream",
     "text": [
      "Title:\n",
      "Джастину Биберу предложили $2 млн за съемки в гей-порнофильме\n",
      "Text:\n",
      "В последнее время имя Джастина Бибера стало объектом многочисленных слухов и обсуждений, особенно после появления информации о необычном предложении, которое ему сделали. Согласно недавним сообщениям, певцу предложили внушительную сумму в размере $2 миллионов за участие в съемках гей-порнофильма.\n",
      "\n",
      "Эта информация вызвала бурю эмоций среди поклонников и критиков, многие из которых выражают обеспокоенность по поводу возможного влияния такого предложения на карьеру и личную жизнь Бибера. Некоторые считают, что это может быть частью маркетинговой стратегии или попыткой привлечь внимание к его имени, в то время как другие видят в этом угрозу его репутации.\n",
      "\n",
      "Представители певца пока официально не комментировали ситуацию, однако источники, близкие к Биберу, заявили, что он серьезно рассматривает предложение, но при этом остается верен своим принципам и не собирается идти на компромисс с собственными убеждениями.\n",
      "\n",
      "Стоит отметить, что подобные проекты часто сталкиваются с этическими и юридическими вопросами, особенно в контексте общественного мнения и прав человека. В случае с Джастином Бибером, который всегда был известен своей открытостью и честностью перед фанатами, такое предложение может стать предметом жарких дебатов о свободе самовыражения и границах индустрии развлечений.\n",
      "\n",
      "Многие эксперты в области медиа и культуры отмечают, что решение Джастина Бибера может иметь далеко идущие последствия для его имиджа и будущих проектов.\n",
      "\n",
      "--------------------------------------------------\n",
      "\n"
     ]
    },
    {
     "name": "stderr",
     "output_type": "stream",
     "text": [
      " 92%|█████████████████████████████████████████████████████████████████████████████████████████████▎        | 183/200 [59:47<05:32, 19.58s/it]"
     ]
    },
    {
     "name": "stdout",
     "output_type": "stream",
     "text": [
      "Title:\n",
      "В Братске будут судить «черных риелторов» за убийство клиентов\n",
      "Text:\n",
      "В городе Братске началось судебное разбирательство по делу, которое потрясло местное сообщество. Речь идет о группе \"черных риелторов\", обвиняемых в серии убийств своих клиентов. Следствие установило, что эти аферисты использовали подставные сделки с недвижимостью для того, чтобы завладеть имуществом жертв.\n",
      "\n",
      "**Ключевые моменты дела:**\n",
      "\n",
      "1. **Масштаб преступной деятельности:** \n",
      "   Согласно данным следствия, группа риелторов действовала на протяжении нескольких лет, используя сложные схемы мошенничества. Они заманивали доверчивых граждан, обещая выгодные сделки, после чего похищали их имущество.\n",
      "\n",
      "2. **Убийства как средство давления:**\n",
      "   В ходе расследования выяснилось, что некоторые клиенты были убиты, чтобы избежать разоблачения мошеннических действий. Это добавляет еще один слой трагедии к уже серьезным обвинениям.\n",
      "\n",
      "3. **Роль коррупции:**\n",
      "   Судебные документы указывают на возможную связь между \"черными риелторами\" и представителями правоохранительных органов. Это вызвало волну возмущения среди населения и привело к обсуждению масштабов коррупции в регионе.\n",
      "\n",
      "4. **Судебное разбирательство:**\n",
      "   На данный момент дело передано в суд, где обвиняемым грозит длительный срок лишения свободы. Защита пытается доказать, что их клиенты были виновны сами, но общественность остается настороженной.\n",
      "\n",
      "5.\n",
      "\n",
      "--------------------------------------------------\n",
      "\n"
     ]
    },
    {
     "name": "stderr",
     "output_type": "stream",
     "text": [
      " 92%|████████████████████████████████████████████████████████████████████████████████████████████        | 184/200 [1:00:07<05:12, 19.54s/it]"
     ]
    },
    {
     "name": "stdout",
     "output_type": "stream",
     "text": [
      "Title:\n",
      "Опрос: число тех, кто одобряет деятельность Трампа на посту президента, выросло до 50%\n",
      "Text:\n",
      "Недавний опрос общественного мнения, проведенный крупнейшими исследовательскими агентствами, показал значительное увеличение числа американцев, одобряющих деятельность бывшего президента Дональда Трампа во время его пребывания в Белом доме. По результатам исследования, 50% респондентов выразили одобрение его президентства, что стало самым высоким показателем с момента его ухода из Овального кабинета.\n",
      "\n",
      "**Анализ результатов:**\n",
      "\n",
      "Этот рост одобрения может быть связан с несколькими факторами. Во-первых, значительная часть сторонников Трампа остается верной ему и его политике, несмотря на изменения в политическом ландшафте. Во-вторых, некоторые американцы видят в его администрации позитивные изменения, такие как экономический рост и снижение безработицы. Однако другие критикуют его за спорные решения, такие как иммиграционная политика и обвинения в коррупции.\n",
      "\n",
      "**Реакция политиков и экспертов:**\n",
      "\n",
      "Политики и эксперты отмечают, что рост одобрения Трампа может иметь долгосрочные последствия для американской политики. Некоторые считают, что это свидетельствует о продолжающемся влиянии Трампа на политическую повестку дня, особенно среди консервативных кругов. Другие же опасаются, что это может привести к поляризации общества и усилению политической нестабильности.\n",
      "\n",
      "**Интересные детали:**\n",
      "\n",
      "Среди интересных деталей опроса стоит отметить, что молодежь и представители меньшинств чаще выражают негативное отношение к Трампу, тогда как более старшие возрастные группы и белые избиратели чаще поддерживают его.\n",
      "\n",
      "--------------------------------------------------\n",
      "\n"
     ]
    },
    {
     "name": "stderr",
     "output_type": "stream",
     "text": [
      " 92%|████████████████████████████████████████████████████████████████████████████████████████████▌       | 185/200 [1:00:26<04:52, 19.51s/it]"
     ]
    },
    {
     "name": "stdout",
     "output_type": "stream",
     "text": [
      "Title:\n",
      "Саакашвили прилетел к Януковичу за день до Медведева\n",
      "Text:\n",
      "Вчера, 15 октября, экс-президент Грузии Михаил Саакашвили неожиданно прибыл в Киев, чтобы встретиться с бывшим президентом Украины Виктором Януковичем. Этот визит произошел всего за день до прибытия российского премьер-министра Дмитрия Медведева, что вызвало большой интерес у политологов и наблюдателей.\n",
      "\n",
      "**Предыстория визита:**\n",
      "Саакашвили и Янукович имеют долгую историю личных и политических отношений, которые были отмечены как сотрудничеством, так и конфликтами. Несмотря на это, встреча в Киеве была организована без предварительного объявления, что указывает на стремление обеих сторон к прямому диалогу.\n",
      "\n",
      "**Цели визита:**\n",
      "По словам источников, близких к Саакашвили, визит был направлен на обсуждение текущих политических процессов в Украине и возможных путей сотрудничества между Грузией и Украиной. Особое внимание уделялось вопросам экономического партнерства и совместной работы по противодействию российскому влиянию в регионе.\n",
      "\n",
      "**Контекст и значение:**\n",
      "Этот визит стал особенно значимым на фоне предстоящего приезда Медведева, который планирует обсудить с украинским руководством вопросы энергетики, безопасности и экономического сотрудничества. Неожиданное появление Саакашвили может свидетельствовать о том, что Грузия стремится активнее включаться в украинские дела, особенно в условиях продолжающегося кризиса на востоке Украины.\n",
      "\n",
      "--------------------------------------------------\n",
      "\n"
     ]
    },
    {
     "name": "stderr",
     "output_type": "stream",
     "text": [
      " 93%|█████████████████████████████████████████████████████████████████████████████████████████████       | 186/200 [1:00:46<04:33, 19.56s/it]"
     ]
    },
    {
     "name": "stdout",
     "output_type": "stream",
     "text": [
      "Title:\n",
      "В Кемерове издали сборник сказок об экологических проблемах\n",
      "Text:\n",
      "В Кемерове недавно вышел в свет необычный сборник сказок, который привлекает внимание как детей, так и взрослых. Сборник под названием \"Эко-сказки\" был издан местными авторами и направлен на повышение осведомленности о важных экологических проблемах.\n",
      "\n",
      "Создатели сборника стремились показать, что даже самые простые истории могут стать мощным инструментом для обучения и вдохновения. В каждой сказке рассказывается о различных аспектах экологии — от загрязнения воздуха и воды до угрозы исчезновения животных и растений. Авторы использовали яркие образы и интересные сюжеты, чтобы сделать информацию доступной и запоминающейся для юных читателей.\n",
      "\n",
      "Одна из ключевых целей проекта — формирование у детей ответственного отношения к окружающей среде. \"Эко-сказки\" не просто развлекают, но и побуждают задуматься о том, как каждый из нас может внести свой вклад в сохранение природы. В сборнике представлены как классические сказочные мотивы, так и оригинальные истории, которые позволяют взглянуть на привычные вещи под новым углом.\n",
      "\n",
      "Авторы надеются, что их работа станет началом более широкого движения, которое объединит людей вокруг идеи защиты окружающей среды. \"Эко-сказки\" уже получили положительные отзывы от педагогов и родителей, которые отмечают, что такие книги способны не только развлечь, но и научить.\n",
      "\n",
      "Особое внимание в сборнике уделено взаимодействию человека и природы.\n",
      "\n",
      "--------------------------------------------------\n",
      "\n"
     ]
    },
    {
     "name": "stderr",
     "output_type": "stream",
     "text": [
      " 94%|█████████████████████████████████████████████████████████████████████████████████████████████▌      | 187/200 [1:01:06<04:14, 19.58s/it]"
     ]
    },
    {
     "name": "stdout",
     "output_type": "stream",
     "text": [
      "Title:\n",
      "Украинский боксер подписал контракт с менеджерами из США\n",
      "Text:\n",
      "В мире профессионального бокса произошло значительное событие — украинский боксер, имя которого не раз звучало на международной арене, подписал долгосрочный контракт с известными американскими менеджерами. Это соглашение открывает новые горизонты для спортсмена и может существенно повлиять на развитие бокса в Украине и за её пределами.\n",
      "\n",
      "**История успеха:**\n",
      "\n",
      "Молодой, но уже опытный боксер, который ранее одерживал победы на различных международных турнирах, решил расширить свои возможности и привлечь к себе внимание мирового сообщества. Встреча с американскими менеджерами стала переломным моментом в его карьере. Команда менеджеров, состоящая из известных специалистов в области спортивного менеджмента, видит в этом боксёре потенциал для достижения высших вершин.\n",
      "\n",
      "**Детали контракта:**\n",
      "\n",
      "Согласно условиям нового контракта, украинский боксер получит доступ к передовым тренировочным методам и технологиям, которые помогут ему улучшить технику и физическую подготовку. Кроме того, команда менеджеров займётся организацией крупных боёв, включая участие в престижных мировых чемпионатах и турнирах. Ожидается, что это сотрудничество привлечёт к спортсмену внимание крупнейших спортивных организаций и медиа-ресурсов.\n",
      "\n",
      "**Влияние на украинский бокс:**\n",
      "\n",
      "Это событие имеет важное значение не только для самого боксёра, но и для всего украинского спорта.\n",
      "\n",
      "--------------------------------------------------\n",
      "\n"
     ]
    },
    {
     "name": "stderr",
     "output_type": "stream",
     "text": [
      " 94%|██████████████████████████████████████████████████████████████████████████████████████████████      | 188/200 [1:01:25<03:54, 19.55s/it]"
     ]
    },
    {
     "name": "stdout",
     "output_type": "stream",
     "text": [
      "Title:\n",
      "МВД создаст прибор, распознающий смертников за 10 метров\n",
      "Text:\n",
      "Министерство внутренних дел (МВД) России объявило о начале разработки передового прибора, способного распознавать потенциальных смертников на расстоянии до 10 метров. Это новое устройство станет важным инструментом в борьбе с терроризмом и обеспечении общественной безопасности.\n",
      "\n",
      "**Инновационная технология:**\n",
      "Новый прибор использует комбинацию инфракрасных и тепловизионных технологий, что позволяет ему обнаруживать человека с намерением совершить акт терроризма даже в условиях плохой видимости или при наличии препятствий. Система анализирует тепловые паттерны и поведение, выявляя подозрительные действия, которые могут указывать на наличие угрозы.\n",
      "\n",
      "**Цели и преимущества:**\n",
      "Основной целью проекта является предотвращение терактов и минимизация человеческих жертв. Устройство позволит сотрудникам правоохранительных органов оперативно реагировать на угрозы и принимать меры по нейтрализации опасности до того, как она станет реальной. Это также поможет снизить нагрузку на персонал, так как система может работать автономно, контролируя большие площади и предоставляя данные в режиме реального времени.\n",
      "\n",
      "**Разработка и тестирование:**\n",
      "Проект находится на стадии активной разработки и уже прошел несколько этапов тестирования. Разработчики отмечают высокую точность системы, которая превосходит существующие аналоги. В настоящее время проводятся испытания в различных условиях, чтобы убедиться в надежности и эффективности устройства в реальных ситуациях.\n",
      "\n",
      "**Этические и правовые вопросы:**\n",
      "Введение такого устройства вызвало дискуссии о его этическом и правовом применении.\n",
      "\n",
      "--------------------------------------------------\n",
      "\n"
     ]
    },
    {
     "name": "stderr",
     "output_type": "stream",
     "text": [
      " 94%|██████████████████████████████████████████████████████████████████████████████████████████████▌     | 189/200 [1:01:45<03:35, 19.55s/it]"
     ]
    },
    {
     "name": "stdout",
     "output_type": "stream",
     "text": [
      "Title:\n",
      "Часть польского закона о люстрации признана неконституционной\n",
      "Text:\n",
      "Конституционный суд Польши вынес решение, признав неконституционной часть закона о люстрации, который был принят в 2018 году. Этот шаг вызвал значительные дебаты и привлёк внимание как внутри страны, так и за её пределами.\n",
      "\n",
      "**Введение:**\n",
      "\n",
      "Закон о люстрации, направленный на проверку биографий государственных служащих с целью выявления их возможных связей с коммунистическим режимом, стал предметом острых споров. Сторонники закона утверждают, что он необходим для очищения государственного аппарата от потенциальных коррупционеров и недобросовестных чиновников. Противники же видят в нём попытку политической репрессии и ограничения гражданских свобод.\n",
      "\n",
      "**Основная часть:**\n",
      "\n",
      "1. **Решение Конституционного суда:**\n",
      "   Конституционный суд Польши признал неконституционной часть закона, касающуюся обязательной проверки всех государственных служащих на наличие \"коммунистического прошлого\". Это решение было принято после рассмотрения жалобы, поданной группой правозащитников и политических оппонентов правительства.\n",
      "\n",
      "2. **Политические последствия:**\n",
      "   Отмена части закона о люстрации может привести к пересмотру его содержания и условий применения. Власти Польши уже заявили о намерении внести изменения в законодательство, чтобы сохранить его основную цель — борьбу с коррупцией, но при этом соблюдать конституционные нормы.\n",
      "\n",
      "3.\n",
      "\n",
      "--------------------------------------------------\n",
      "\n"
     ]
    },
    {
     "name": "stderr",
     "output_type": "stream",
     "text": [
      " 95%|███████████████████████████████████████████████████████████████████████████████████████████████     | 190/200 [1:02:04<03:15, 19.53s/it]"
     ]
    },
    {
     "name": "stdout",
     "output_type": "stream",
     "text": [
      "Title:\n",
      "В Омском районе задержали рецидивиста за кражу электроинструментов\n",
      "Text:\n",
      "В Омском районе произошло задержание опасного рецидивиста, который на протяжении нескольких месяцев совершал кражи электроинструментов из частных мастерских и строительных площадок. Местные жители проявили активность и стали непосредственными участниками операции по задержанию преступника.\n",
      "\n",
      "Согласно данным полиции, мужчина, известный в криминальных кругах как \"Электрик\", был задержан после серии инцидентов, когда его действия стали очевидны для соседей. В ходе расследования выяснилось, что он действовал в одиночку, но при этом тщательно планировал свои преступления, выбирая объекты для ограбления в зависимости от времени года и погодных условий.\n",
      "\n",
      "Ключевую роль в раскрытии преступлений сыграла местная общественная организация, занимающаяся поддержкой правоохранительных органов. Члены этой организации установили наблюдение за подозрительными личностями в районе и передали информацию в полицию. Благодаря их усилиям удалось собрать достаточно доказательств для ареста подозреваемого.\n",
      "\n",
      "Полиция сообщает, что задержанный уже имеет судимости за аналогичные преступления и ранее неоднократно попадал в поле зрения правоохранительных органов. В ходе обыска у него были обнаружены украденные электроинструменты, которые он намеревался продать на черном рынке.\n",
      "\n",
      "\"Эта операция стала ярким примером того, как совместные усилия граждан и правоохранительных органов могут привести к успешному раскрытию преступлений,\" — отметил начальник Омского отделения полиции Сергей Иванов.\n",
      "\n",
      "--------------------------------------------------\n",
      "\n"
     ]
    },
    {
     "name": "stderr",
     "output_type": "stream",
     "text": [
      " 96%|███████████████████████████████████████████████████████████████████████████████████████████████▌    | 191/200 [1:02:24<02:55, 19.52s/it]"
     ]
    },
    {
     "name": "stdout",
     "output_type": "stream",
     "text": [
      "Title:\n",
      "Избранный президент Южной Осетии намерен реформировать судебную систему республики\n",
      "Text:\n",
      "Избранный президент Южной Осетии, Александр Дзасохов, объявил о планах проведения масштабных реформ в судебной системе республики. В своей первой официальной речи после избрания он подчеркнул необходимость укрепления независимости судов и повышения их эффективности.\n",
      "\n",
      "**Цели реформ:**\n",
      "\n",
      "1. **Независимость судов:** Одним из ключевых направлений станет обеспечение полной независимости судебной власти от исполнительной и законодательной ветвей власти. Это предполагает улучшение условий работы судей, защиту их прав и создание механизмов, которые минимизируют внешнее давление на судебные решения.\n",
      "\n",
      "2. **Повышение прозрачности:** Дзасохов также планирует внедрить меры по увеличению прозрачности судебных процессов. Это может включать в себя расширение доступа к судебным документам и информации, а также использование современных технологий для трансляции судебных заседаний.\n",
      "\n",
      "3. **Обучение и развитие кадров:** Еще одним важным аспектом реформ станет модернизация системы подготовки и повышения квалификации судей. Планируется привлечение международных экспертов для разработки программ обучения и обмена опытом с другими странами.\n",
      "\n",
      "4. **Совершенствование законодательства:** В рамках реформ будет проведена работа над совершенствованием законодательной базы, регулирующей деятельность судебной системы. Это позволит сделать процессы более справедливыми и соответствующими современным стандартам правосудия.\n",
      "\n",
      "--------------------------------------------------\n",
      "\n"
     ]
    },
    {
     "name": "stderr",
     "output_type": "stream",
     "text": [
      " 96%|████████████████████████████████████████████████████████████████████████████████████████████████    | 192/200 [1:02:43<02:36, 19.59s/it]"
     ]
    },
    {
     "name": "stdout",
     "output_type": "stream",
     "text": [
      "Title:\n",
      "Волейболистки казанского \"Динамо\" победили \"Хемик\" в матче Лиги чемпионов\n",
      "Text:\n",
      "Вчера, 15 сентября, в рамках Лиги чемпионов по волейболу казанская команда \"Динамо\" одержала убедительную победу над польским клубом \"Хемик\". Этот матч стал не только важным шагом к завоеванию титула, но и ярким примером стойкости и мастерства казанских спортсменок.\n",
      "\n",
      "**Предыстория матча**\n",
      "\n",
      "Матч между \"Динамо\" и \"Хемиком\" был долгожданным событием для любителей волейбола. Обе команды продемонстрировали высокий уровень подготовки и тактическую грамотность, что сделало игру захватывающей с самого начала. \"Динамо\", известное своей дисциплиной и слаженностью, встретилось с \"Хемиком\", который славится агрессивной игрой и мощными атакующими действиями.\n",
      "\n",
      "**Ключевые моменты игры**\n",
      "\n",
      "Первый сет начался с напряженного противостояния, но уже на 10-й минуте \"Динамо\" вышло вперед благодаря точным подачам и эффективным блокировкам. Во втором сете казанские волейболистки показали свою лучшую форму, удерживая лидерство и увеличивая отрыв до 10 очков. Третий сет стал настоящим испытанием на прочность, но \"Динамо\" смогло сохранить концентрацию и довести игру до победы.\n",
      "\n",
      "**Статистика и выступления игроков**\n",
      "\n",
      "Самым результативным игроком матча стала капитан команды Екатерина Смирнова, которая отметилась 20 очками.\n",
      "\n",
      "--------------------------------------------------\n",
      "\n"
     ]
    },
    {
     "name": "stderr",
     "output_type": "stream",
     "text": [
      " 96%|████████████████████████████████████████████████████████████████████████████████████████████████▌   | 193/200 [1:03:03<02:17, 19.67s/it]"
     ]
    },
    {
     "name": "stdout",
     "output_type": "stream",
     "text": [
      "Title:\n",
      "Россиянин Игорь Мялин завоевал серебро Универсиады в прыжках в воду с вышки\n",
      "Text:\n",
      "На прошедшей Универсиаде в Кванджу, Южная Корея, российский спортсмен Игорь Мялин продемонстрировал выдающееся мастерство и завоевал серебряную медаль в прыжках в воду с вышки. Это достижение стало ярким примером упорства и таланта молодого спортсмена.\n",
      "\n",
      "**Путь к успеху:**\n",
      "Игорь Мялин начал заниматься прыжками в воду в возрасте 10 лет. Его тренер, опытный специалист в области акробатических прыжков, заметил потенциал юного спортсмена и помог ему развить необходимые навыки. С годами Игорь не только оттачивал технику, но и учился контролировать эмоции под давлением, что стало ключевым фактором в его победах.\n",
      "\n",
      "**Соревнования и победа:**\n",
      "Во время Универсиады Игорь стал одним из фаворитов соревнований по прыжкам в воду с вышки. В финале он показал выдающуюся программу, набрав 495.30 баллов, что позволило ему занять второе место после китайского спортсмена. Несмотря на то что Игорь не смог завоевать золотую медаль, его выступление было признано одним из самых впечатляющих на турнире.\n",
      "\n",
      "**Влияние на российский спорт:**\n",
      "Этот успех стал важным шагом для развития прыжков в воду в России.\n",
      "\n",
      "--------------------------------------------------\n",
      "\n"
     ]
    },
    {
     "name": "stderr",
     "output_type": "stream",
     "text": [
      " 97%|█████████████████████████████████████████████████████████████████████████████████████████████████   | 194/200 [1:03:23<01:57, 19.59s/it]"
     ]
    },
    {
     "name": "stdout",
     "output_type": "stream",
     "text": [
      "Title:\n",
      "Приморский полицейский подозревается в получении взятки\n",
      "Text:\n",
      "В Приморском крае разгорается скандал, связанный с подозрением в коррупции в отношении местного полицейского. Согласно официальным источникам, сотруднику правоохранительных органов предъявлены обвинения в получении взятки. Дело приобретает особую значимость в свете недавних усилий региональных властей по борьбе с коррупцией.\n",
      "\n",
      "**Фон ситуации:**\n",
      "На прошлой неделе в местные СМИ просочилась информация о том, что полицейский из одного из районов Приморья был задержан при попытке получения взятки от предпринимателя. Предполагается, что сумма взятки составила значительную сумму, что вызвало широкий общественный резонанс и привлекло внимание как правоохранительных органов, так и общественности.\n",
      "\n",
      "**Детали дела:**\n",
      "По данным следствия, полицейский якобы использовал свои служебные полномочия для оказания незаконной помощи предпринимателю в обход установленных правил и процедур. В ходе оперативно-розыскных мероприятий были собраны доказательства, подтверждающие причастность сотрудника полиции к коррупционной схеме. На данный момент он находится под стражей, а дело передано в суд.\n",
      "\n",
      "**Общественная реакция:**\n",
      "Скандал вызвал бурную реакцию среди жителей Приморья, многие из которых выражают недовольство тем, что коррупция продолжает процветать даже на уровне правоохранительных органов. В социальных сетях активно обсуждается необходимость усиления контроля за действиями полицейских и повышения уровня ответственности за подобные преступления.\n",
      "\n",
      "--------------------------------------------------\n",
      "\n"
     ]
    },
    {
     "name": "stderr",
     "output_type": "stream",
     "text": [
      " 98%|█████████████████████████████████████████████████████████████████████████████████████████████████▌  | 195/200 [1:03:42<01:37, 19.58s/it]"
     ]
    },
    {
     "name": "stdout",
     "output_type": "stream",
     "text": [
      "Title:\n",
      "Мужчина упал на рельсы на станции метро \"Братиславская\"\n",
      "Text:\n",
      "Вчера днем на станции метро \"Братиславская\" произошел инцидент, потрясший как пассажиров, так и сотрудников метрополитена. Мужчина, находившийся в состоянии сильного эмоционального напряжения, случайно или намеренно упал на рельсы, вызвав панику среди окружающих.\n",
      "\n",
      "**Событие:**\n",
      "\n",
      "Инцидент произошел около 14:30. Пассажир, по имени Иван Петров, находился в подавленном состоянии и, неожиданно для всех, потерял равновесие и упал на рельсы. Сотрудники метрополитена немедленно активировали протокол экстренной ситуации, остановив поезд и начав эвакуацию пассажиров.\n",
      "\n",
      "**Чудесное спасение:**\n",
      "\n",
      "Благодаря быстрым действиям персонала и оперативному реагированию служб экстренной помощи, мужчина был извлечен с рельсов без видимых повреждений. Медики оказали ему первую помощь на месте происшествия и затем доставили в ближайшую больницу для дополнительного обследования.\n",
      "\n",
      "**Последствия и расследование:**\n",
      "\n",
      "На данный момент причины падения Петрова остаются неясными. Полиция начала расследование, чтобы установить, было ли это случайностью или же актом самоубийства. В метро также проводится внутреннее расследование, чтобы выяснить, были ли какие-либо нарушения в работе персонала, которые могли способствовать возникновению инцидента.\n",
      "\n",
      "**Общественная реакция:**\n",
      "\n",
      "Инцидент вызвал широкий резонанс в обществе.\n",
      "\n",
      "--------------------------------------------------\n",
      "\n"
     ]
    },
    {
     "name": "stderr",
     "output_type": "stream",
     "text": [
      " 98%|██████████████████████████████████████████████████████████████████████████████████████████████████  | 196/200 [1:04:02<01:18, 19.59s/it]"
     ]
    },
    {
     "name": "stdout",
     "output_type": "stream",
     "text": [
      "Title:\n",
      "В Донецке жители провели митинг у штаб-квартиры ОБСЕ\n",
      "Text:\n",
      "Вчера, 15 октября, в Донецке сотни жителей вышли на митинг у штаб-квартиры Организации по безопасности и сотрудничеству в Европе (ОБСЕ). Мероприятие стало ответом на недавние события в регионе и вызвало широкий резонанс как внутри страны, так и за ее пределами.\n",
      "\n",
      "Митинг начался с выступления местных активистов и представителей общественных организаций, которые призвали международное сообщество к более активному вмешательству в ситуацию. Участники митинга подчеркнули, что их требования направлены на обеспечение безопасности и соблюдение прав человека в регионе.\n",
      "\n",
      "**Причины проведения митинга:**\n",
      "\n",
      "Жители Донецка выражают недовольство тем, что, по их мнению, международные организации, включая ОБСЕ, не принимают адекватных мер для разрешения конфликта. Они считают, что бездействие международного сообщества способствует продолжению насилия и нарушению прав человека.\n",
      "\n",
      "**Основные требования участников:**\n",
      "\n",
      "1. **Усиление наблюдения и мониторинга:** Жители требуют увеличения числа наблюдателей ОБСЕ в регионе для обеспечения прозрачности и предотвращения нарушений.\n",
      "   \n",
      "2. **Обеспечение гуманитарной помощи:** Участники акции обратили внимание на необходимость немедленной доставки гуманитарной помощи в регион, где, по их словам, остро стоит проблема нехватки продовольствия и медикаментов.\n",
      "\n",
      "3.\n",
      "\n",
      "--------------------------------------------------\n",
      "\n"
     ]
    },
    {
     "name": "stderr",
     "output_type": "stream",
     "text": [
      " 98%|██████████████████████████████████████████████████████████████████████████████████████████████████▌ | 197/200 [1:04:22<00:58, 19.66s/it]"
     ]
    },
    {
     "name": "stdout",
     "output_type": "stream",
     "text": [
      "Title:\n",
      "Льва Дурова похоронят на Новодевичьем кладбище\n",
      "Text:\n",
      "Вчера в Москве прошла церемония прощания с легендарным актером и режиссером Львом Дуровым. Артист, чья творческая жизнь оставила неизгладимый след в истории отечественного кинематографа, был похоронен на Новодевичьем кладбище, где нашли последний приют многие выдающиеся деятели культуры и искусства.\n",
      "\n",
      "Лев Дуров, родившийся в 1937 году, стал известен благодаря своим ролям в таких классических фильмах, как \"Приключения Электроника\" и \"Белое солнце пустыни\". Его талант и многогранность позволили ему успешно работать как в кино, так и на театральной сцене. В последние годы жизни Дуров активно занимался режиссурой, создавая проекты, которые продолжают вдохновлять молодых артистов.\n",
      "\n",
      "Церемония прощания стала для многих настоящим событием. На Новодевичьем кладбище собрались близкие, коллеги и поклонники, чтобы почтить память великого актера. Среди гостей были известные режиссеры, актеры и деятели культуры, которые поделились своими воспоминаниями о Льве Дурове.\n",
      "\n",
      "Одним из ключевых моментов церемонии стало выступление дочери актера, Екатерины Дуровой, которая рассказала о том, каким человеком был ее отец, и как он влиял на их семью. \"Мой отец всегда был для меня не только актером, но и другом, наставником. Он умел находить слова поддержки и вдохновения\", — поделилась она.\n",
      "\n",
      "--------------------------------------------------\n",
      "\n"
     ]
    },
    {
     "name": "stderr",
     "output_type": "stream",
     "text": [
      " 99%|███████████████████████████████████████████████████████████████████████████████████████████████████ | 198/200 [1:04:41<00:39, 19.70s/it]"
     ]
    },
    {
     "name": "stdout",
     "output_type": "stream",
     "text": [
      "Title:\n",
      "11 октября открывается выставка Health&amp;Medical Tourism\n",
      "Text:\n",
      "11 октября ведущие медицинские центры, туристические компании и эксперты со всего мира соберутся на престижную выставку Health & Medical Tourism, чтобы представить последние достижения в области медицинского туризма и обсудить перспективы его развития.\n",
      "\n",
      "### Введение\n",
      "Медицинский туризм — это стремительно развивающаяся отрасль, которая объединяет медицину и путешествия, предоставляя пациентам доступ к высококачественным медицинским услугам в комфортных условиях. Выставка Health & Medical Tourism 2023 года станет важной платформой для обмена опытом и знаниями, способствуя укреплению международного сотрудничества в этой сфере.\n",
      "\n",
      "### Основные темы выставки\n",
      "- **Инновации в медицине:** На выставке будут представлены передовые технологии и методики лечения, которые уже сегодня меняют подходы к здравоохранению.\n",
      "- **Качество и безопасность:** Обсуждение стандартов качества и безопасности медицинских услуг, а также их влияние на привлекательность стран как направлений для медицинского туризма.\n",
      "- **Экономические перспективы:** Анализ экономического воздействия медицинского туризма на местные экономики и возможности для инвестиций.\n",
      "- **Устойчивое развитие:** Роль медицинского туризма в поддержании экологической устойчивости и ответственного отношения к природным ресурсам.\n",
      "\n",
      "### Участники и экспоненты\n",
      "На выставке ожидается участие более 500 компаний и организаций из 40 стран. Среди них — ведущие медицинские учреждения, туроператоры, страховые компании и государственные органы, занимающиеся развитием медицинского туризма.\n",
      "\n",
      "--------------------------------------------------\n",
      "\n"
     ]
    },
    {
     "name": "stderr",
     "output_type": "stream",
     "text": [
      "100%|███████████████████████████████████████████████████████████████████████████████████████████████████▌| 199/200 [1:05:01<00:19, 19.65s/it]"
     ]
    },
    {
     "name": "stdout",
     "output_type": "stream",
     "text": [
      "Title:\n",
      "Семьи восьми погибших при взрывах на складе в Забайкалье получили по 2 млн рублей\n",
      "Text:\n",
      "В результате трагических событий, произошедших на складе в Забайкальском крае, семьи восьми погибших получили значительные компенсации. Каждая семья получила по 2 миллиона рублей, что стало первым шагом в оказании поддержки близким погибших.\n",
      "\n",
      "**Что произошло?**  \n",
      "19 июля 2023 года на одном из складов в городе Чита произошел мощный взрыв, в результате которого погибли восемь человек, а еще более десятка получили ранения различной степени тяжести. По предварительным данным, причиной взрыва стала утечка газа, однако расследование продолжается для установления точных обстоятельств происшествия.\n",
      "\n",
      "**Какие меры предприняты?**  \n",
      "Правительство региона немедленно приступило к оказанию помощи пострадавшим и их семьям. Помимо материальной компенсации, были организованы психологические консультации для тех, кто пережил травматический опыт. Расследование инцидента поручено специальной комиссии, которая работает над выявлением всех обстоятельств случившегося.\n",
      "\n",
      "**Компенсационные выплаты**  \n",
      "Решение о выплате каждой семье по 2 миллиона рублей было принято с учетом тяжести потерь и необходимости срочной финансовой поддержки. Эти средства предназначены для покрытия основных расходов, таких как похороны, а также для помощи в восстановлении нормальной жизни оставшихся членов семей.\n",
      "\n",
      "--------------------------------------------------\n",
      "\n"
     ]
    },
    {
     "name": "stderr",
     "output_type": "stream",
     "text": [
      "100%|████████████████████████████████████████████████████████████████████████████████████████████████████| 200/200 [1:05:21<00:00, 19.61s/it]"
     ]
    },
    {
     "name": "stdout",
     "output_type": "stream",
     "text": [
      "Title:\n",
      "Все подразделения МЧС Камчатки приведены в состояние готовности в связи с циклоном\n",
      "Text:\n",
      "**Все подразделения МЧС Камчатки приведены в состояние готовности в связи с циклоном: как регион готовится к возможным последствиям**\n",
      "\n",
      "На фоне приближающегося циклона, который может вызвать значительные погодные изменения и потенциальные угрозы для населения и инфраструктуры, все подразделения МЧС на Камчатке были приведены в состояние повышенной готовности. Специалисты проводят тщательную подготовку, чтобы минимизировать риски и обеспечить безопасность жителей региона.\n",
      "\n",
      "### Подготовка к экстренным ситуациям\n",
      "\n",
      "В рамках подготовки к возможным неблагоприятным погодным условиям, сотрудники МЧС провели проверку всех аварийно-спасательных служб и оборудования. Были проведены тренировки по эвакуации населения из зон возможного затопления и ликвидации последствий штормовых волн. Важным аспектом является также работа с местными органами власти и общественными организациями для координации действий в случае чрезвычайной ситуации.\n",
      "\n",
      "### Ожидаемые последствия циклона\n",
      "\n",
      "По прогнозам метеорологов, циклон может принести на Камчатку сильные ветры, ливни и штормовые волны. Это может привести к повреждению инфраструктуры, затоплению низменных территорий и нарушению работы транспортных систем. В связи с этим, власти региона активно информируют население о возможных рисках и рекомендуют принять меры предосторожности.\n",
      "\n",
      "### Работа с населением\n",
      "\n",
      "Одним из ключевых направлений подготовки является информирование населения. МЧС проводит разъяснительные кампании через СМИ и социальные сети, рассказывая о мерах безопасности и действиях в случае возникновения чрезвычайной ситуации.\n",
      "\n",
      "--------------------------------------------------\n",
      "\n"
     ]
    },
    {
     "name": "stderr",
     "output_type": "stream",
     "text": [
      "\n"
     ]
    }
   ],
   "source": [
    "def get_generated_text(text):\n",
    "    # for t-lite model only\n",
    "    prefix = \"Текст статьи:\"\n",
    "    if prefix in text:\n",
    "        text = text[text.find(prefix):]\n",
    "        text = text[text.find(\"\\n\"):]\n",
    "    text = text[:text.rfind('.') + 1]\n",
    "    return text.strip()\n",
    "\n",
    "generated_texts = []\n",
    "for title in tqdm_a(df_test[\"cleaned_title\"].values):\n",
    "    prompt = PROMPT.format(title)\n",
    "    messages = [\n",
    "        {\"role\": \"system\", \"content\": \"Ты профессиональный редактор статей. Твоя задача - быть полезным ассистентом.\"},\n",
    "        {\"role\": \"user\", \"content\": prompt}\n",
    "    ]\n",
    "    text = tokenizer.apply_chat_template(\n",
    "        messages,\n",
    "        tokenize=False,\n",
    "        add_generation_prompt=True\n",
    "    )\n",
    "    model_inputs = tokenizer([text], return_tensors=\"pt\").to(model.device)\n",
    "    \n",
    "    generated_ids = model.generate(\n",
    "        **model_inputs,\n",
    "        max_new_tokens=500,  \n",
    "    )\n",
    "    generated_ids = [\n",
    "        output_ids[len(input_ids):] for input_ids, output_ids in zip(model_inputs.input_ids, generated_ids)\n",
    "    ]\n",
    "    \n",
    "    generated_text = tokenizer.batch_decode(generated_ids, skip_special_tokens=True)[0]\n",
    "    generated_text = get_generated_text(generated_text)\n",
    "    \n",
    "    # ---\n",
    "    print(f\"Title:\\n{title}\")\n",
    "    print(f\"Text:\\n{generated_text}\")\n",
    "    print()\n",
    "    print(\"-\" * 50)\n",
    "    print()\n",
    "\n",
    "    generated_texts.append(generated_text)\n"
   ]
  },
  {
   "cell_type": "code",
   "execution_count": 42,
   "id": "e86d1d18-a36d-4bab-a9a3-fd812835a51f",
   "metadata": {},
   "outputs": [
    {
     "name": "stdout",
     "output_type": "stream",
     "text": [
      "Вчера вечером на одной из крупнейших парковок в районе Звездной произошел серьезный инцидент — сгорели сразу семь автомобилей. Информация о пожаре поступила в службу спасения около 21:00, и к месту происшествия были немедленно направлены пожарные расчеты.\n",
      "\n",
      "По предварительным данным, причиной пожара стала короткое замыкание в электропроводке одного из автомобилей. Однако официальное расследование продолжается, и власти пока не исключают и другие возможные причины, такие как поджог или техническая неисправность системы безопасности стоянки.\n",
      "\n",
      "Пожар начался в одном из отдаленных уголков парковки, где находилось несколько автомобилей, припаркованных в ряд. Огонь быстро распространился из-за сильного ветра и плотной застройки территории. Пострадавшие автомобили оказались полностью уничтожены огнем, а некоторые из них получили повреждения и от близости к очагу возгорания.\n",
      "\n",
      "Свидетели происшествия сообщают, что видели дым задолго до того, как огонь перекинулся на соседние машины. Некоторые из владельцев успели эвакуировать свои автомобили до того, как ситуация вышла из-под контроля. Однако несколько человек остались без своих транспортных средств, и им придется искать временное решение для передвижения.\n",
      "\n",
      "Местные жители выражают обеспокоенность состоянием безопасности на стоянках в их районе. Многие считают, что подобные инциденты могут повториться, если не будут приняты меры по улучшению противопожарной безопасности.\n"
     ]
    }
   ],
   "source": [
    "print(generated_texts[0])"
   ]
  },
  {
   "cell_type": "code",
   "execution_count": 43,
   "id": "564b8ff6-4124-4233-bf17-cf3de5d44f35",
   "metadata": {},
   "outputs": [],
   "source": [
    "df_test = pd.read_csv(CSV_FILE)\n",
    "df_test[COLUMN_NAME] = generated_texts\n",
    "df_test.to_csv(CSV_FILE, index=False)"
   ]
  },
  {
   "cell_type": "code",
   "execution_count": null,
   "id": "2472c3fb-78a6-4ea7-9f54-45edf8c97852",
   "metadata": {},
   "outputs": [],
   "source": [
    "free_gpu()"
   ]
  },
  {
   "cell_type": "code",
   "execution_count": null,
   "id": "af845ed5-8aac-4d13-aeec-c4e41db40784",
   "metadata": {},
   "outputs": [],
   "source": []
  }
 ],
 "metadata": {
  "kernelspec": {
   "display_name": "myenv_vkr",
   "language": "python",
   "name": "myenv_vkr"
  },
  "language_info": {
   "codemirror_mode": {
    "name": "ipython",
    "version": 3
   },
   "file_extension": ".py",
   "mimetype": "text/x-python",
   "name": "python",
   "nbconvert_exporter": "python",
   "pygments_lexer": "ipython3",
   "version": "3.10.12"
  }
 },
 "nbformat": 4,
 "nbformat_minor": 5
}
